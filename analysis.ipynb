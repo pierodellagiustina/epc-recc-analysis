{
 "cells": [
  {
   "cell_type": "markdown",
   "id": "1280090c-a99e-4cbd-bd96-a33fc0ed5e79",
   "metadata": {},
   "source": [
    "## Setup"
   ]
  },
  {
   "cell_type": "code",
   "execution_count": 607,
   "id": "6f35c1b1-41f1-4af5-ac43-b938fe7d03ca",
   "metadata": {},
   "outputs": [],
   "source": [
    "import pandas as pd\n",
    "pd.set_option('display.max_columns', None)\n",
    "pd.set_option('display.float_format', lambda x: '%.3f' % x)\n",
    "import os\n",
    "import numpy as np\n",
    "import matplotlib.pyplot as plt\n",
    "import math\n",
    "from sklearn.preprocessing import MinMaxScaler, MultiLabelBinarizer\n",
    "from sklearn.model_selection import train_test_split\n",
    "from sklearn.multioutput import MultiOutputClassifier\n",
    "from sklearn.ensemble import RandomForestClassifier\n",
    "from sklearn.metrics import PrecisionRecallDisplay, average_precision_score\n",
    "import xgboost as xgb\n",
    "import random\n",
    "import importlib\n"
   ]
  },
  {
   "cell_type": "code",
   "execution_count": 610,
   "id": "da65f790-0d13-4253-a37e-38cef7a08e06",
   "metadata": {},
   "outputs": [
    {
     "data": {
      "text/plain": [
       "<module 'cleansing' from 'C:\\\\Users\\\\Joanna\\\\Documents\\\\GitHub\\\\epc-recc-analysis\\\\cleansing.py'>"
      ]
     },
     "execution_count": 610,
     "metadata": {},
     "output_type": "execute_result"
    }
   ],
   "source": [
    "\n",
    "importlib.reload(cleansing)"
   ]
  },
  {
   "cell_type": "code",
   "execution_count": 5,
   "id": "46f596e1-fbd0-4624-9965-797293a58b3f",
   "metadata": {
    "tags": []
   },
   "outputs": [],
   "source": [
    "# %conda install sklearn"
   ]
  },
  {
   "cell_type": "markdown",
   "id": "b77be99a-809c-4860-b59f-45dec875e41c",
   "metadata": {},
   "source": [
    "## Data import"
   ]
  },
  {
   "cell_type": "code",
   "execution_count": 587,
   "id": "35001889-2d1f-4513-8fa8-315e93614733",
   "metadata": {},
   "outputs": [],
   "source": [
    "# choose to load example files or all files\n",
    "example_files = False \n",
    "how_many_files = 12 #there are still files missing"
   ]
  },
  {
   "cell_type": "code",
   "execution_count": 588,
   "id": "ec45f998-f04e-42a6-ac36-de2d4462a000",
   "metadata": {},
   "outputs": [
    {
     "name": "stdout",
     "output_type": "stream",
     "text": [
      "Processing domestic-E07000039-South-Derbyshire\n",
      "Length certificates: 37863, Length recommendations: 157730\n",
      "Processing domestic-E09000018-Hounslow\n",
      "Length certificates: 128638, Length recommendations: 450669\n",
      "Processing domestic-E09000008-Croydon\n",
      "Length certificates: 272018, Length recommendations: 960339\n",
      "Processing domestic-E06000017-Rutland\n",
      "Length certificates: 286418, Length recommendations: 1025240\n",
      "Processing domestic-E07000235-Malvern-Hills\n",
      "Length certificates: 317274, Length recommendations: 1165443\n",
      "Processing domestic-E07000199-Tamworth\n",
      "Length certificates: 342892, Length recommendations: 1275834\n",
      "Processing domestic-E09000010-Enfield\n",
      "Length certificates: 460410, Length recommendations: 1738850\n",
      "Processing domestic-E07000144-Broadland\n",
      "Length certificates: 505480, Length recommendations: 1948704\n",
      "Processing domestic-E08000034-Kirklees\n",
      "Length certificates: 659641, Length recommendations: 2617487\n",
      "Processing domestic-E07000141-South-Kesteven\n",
      "Length certificates: 720075, Length recommendations: 2885102\n",
      "Processing domestic-E07000219-Nuneaton-and-Bedworth\n",
      "Length certificates: 766453, Length recommendations: 3091220\n",
      "Processing domestic-E06000019-Herefordshire-County-of\n",
      "Length certificates: 838574, Length recommendations: 3434376\n"
     ]
    }
   ],
   "source": [
    "#RUN\n",
    "# read all sample files into memory\n",
    "try: \n",
    "    del(df_cert)\n",
    "    del(df_rec)\n",
    "except:\n",
    "    pass\n",
    "\n",
    "files_counter = 0\n",
    "\n",
    "if example_files:\n",
    "    path = 'data_samples'\n",
    "else:\n",
    "    path = 'data_full'\n",
    "    \n",
    "\n",
    "for f in random.sample(os.listdir(path),how_many_files):\n",
    "    \n",
    "    print(f'Processing {f}')\n",
    "    \n",
    "    # Certificates files\n",
    "    df_cert_temp = pd.read_csv(\n",
    "        f'{path}/{f}/certificates.csv', \n",
    "        dtype = {'INSPECTION_DATE':'str','LODGEMENT_DATE':'str'},\n",
    "        parse_dates=['INSPECTION_DATE','LODGEMENT_DATE'],\n",
    "        low_memory=False\n",
    "    )\n",
    "    try:\n",
    "        df_cert = pd.concat([df_cert, df_cert_temp])\n",
    "    except:\n",
    "         df_cert = df_cert_temp.copy()\n",
    "        \n",
    "    # Recommendations files\n",
    "    df_rec_temp = pd.read_csv(f'{path}/{f}/recommendations.csv', low_memory=False)\n",
    "    try:\n",
    "        df_rec = pd.concat([df_rec, df_rec_temp])\n",
    "    except:\n",
    "        df_rec = df_rec_temp.copy()\n",
    "        \n",
    "    print(f'Length certificates: {len(df_cert)}, Length recommendations: {len(df_rec)}')\n",
    "    \n",
    "    files_counter += 1\n",
    "    \n",
    "df_cert.reset_index(inplace=True)\n",
    "df_rec.reset_index(inplace=True)"
   ]
  },
  {
   "cell_type": "code",
   "execution_count": 591,
   "id": "75090220-dbd1-44a8-93a4-2b89ad383b4c",
   "metadata": {},
   "outputs": [],
   "source": [
    "#RUN\n",
    "# create copy\n",
    "cert = df_cert.copy() \n",
    "\n",
    "#lower case all col headers to speed up typing\n",
    "cert.columns = [col.lower() for col in cert.columns]"
   ]
  },
  {
   "cell_type": "markdown",
   "id": "c07514f3-4669-4b50-a0dd-e0e52c1fa720",
   "metadata": {},
   "source": [
    "## Cleansing NaNs\n",
    "\n",
    "Quick cleanse to replace dubious labels with Nan.\n",
    "Will do proper categories cleanse later."
   ]
  },
  {
   "cell_type": "code",
   "execution_count": null,
   "id": "28996cce-cc95-4482-9609-4f219d4a2ab9",
   "metadata": {},
   "outputs": [],
   "source": [
    "cert = cleansing.cleanse_nas(cert)"
   ]
  },
  {
   "cell_type": "markdown",
   "id": "0c3be5e3-6cc7-4153-b84f-bf1240360844",
   "metadata": {},
   "source": [
    "## Initial clean up of categorical variables\n",
    "\n",
    "Quick clean up - will do a more thorough job further down "
   ]
  },
  {
   "cell_type": "markdown",
   "id": "375499e4-ff9c-46da-9bab-fa0c9a026e0b",
   "metadata": {},
   "source": [
    "#### PROPERTY_TYPE"
   ]
  },
  {
   "cell_type": "code",
   "execution_count": null,
   "id": "5b26825d-b1ae-409c-9864-b56bdf366c00",
   "metadata": {},
   "outputs": [],
   "source": [
    "#RUN\n",
    "#just drop the Park Homes\n",
    "cert = cert.drop(cert[cert.property_type=='Park home'].index)\n",
    "cert.property_type.isna().sum()"
   ]
  },
  {
   "cell_type": "markdown",
   "id": "102d44ea-be98-4e31-b479-0d6a7bc39c75",
   "metadata": {},
   "source": [
    "#### BUILT_FORM"
   ]
  },
  {
   "cell_type": "code",
   "execution_count": null,
   "id": "79d3f00f-7ee4-47ea-9d08-c55e0da47099",
   "metadata": {},
   "outputs": [],
   "source": [
    "#RUN\n",
    "#remove 'enclosed' from the terraced properties \n",
    "\n",
    "cert.built_form = cert.built_form.map({\n",
    "    'Enclosed End-Terrace':'End-Terrace',\n",
    "    'Enclosed Mid-Terrace':'Mid-Terrace',\n",
    "    'Mid-Terrace':'Mid-Terrace',\n",
    "    'Semi-Detached':'Semi-Detached',\n",
    "    'End-Terrace':'End-Terrace',\n",
    "    'Detached':'Detached'\n",
    "})\n",
    "\n",
    "cert.built_form.value_counts()"
   ]
  },
  {
   "cell_type": "markdown",
   "id": "dfa58b60-f2d7-4dd0-a3de-e53a92f1770e",
   "metadata": {},
   "source": [
    "#### ENERGY_TARIFF"
   ]
  },
  {
   "cell_type": "code",
   "execution_count": null,
   "id": "19acbfa1-3dd5-4306-bd67-c1d24fcf7f78",
   "metadata": {},
   "outputs": [],
   "source": [
    "#RUN\n",
    "#replace the unknowns with actual NAs\n",
    "\n",
    "cert['energy_tariff'] = cert.energy_tariff.replace('Unknown',np.nan)\n",
    "\n",
    "cert.energy_tariff.value_counts()"
   ]
  },
  {
   "cell_type": "markdown",
   "id": "00c29e26-dca2-4fcf-acef-fd71782a6fe1",
   "metadata": {},
   "source": [
    "#### GLAZED_TYPE"
   ]
  },
  {
   "cell_type": "code",
   "execution_count": null,
   "id": "b5b42a30-0a8f-4cbc-bba2-3e6613d645fc",
   "metadata": {},
   "outputs": [],
   "source": [
    "#RUN\n",
    "#remap these messy categories \n",
    "cert.glazed_type = cert.glazed_type.replace(\n",
    "    ['double, known data','secondary glazing'],'double glazing, unknown install date')\n",
    "cert.glazed_type = cert.glazed_type.replace('triple, known data','triple glazing')\n",
    "\n",
    "cert.glazed_type = cert.glazed_type.replace(['INVALID!','not defined'],np.nan)\n",
    "\n",
    "cert.glazed_type.value_counts()"
   ]
  },
  {
   "cell_type": "markdown",
   "id": "ae9f5ade-0c3a-4a9e-b1b0-e9b5c13e207f",
   "metadata": {},
   "source": [
    "#### TENURE"
   ]
  },
  {
   "cell_type": "code",
   "execution_count": null,
   "id": "a275be9b-457a-4b36-b2f7-4d19600cb67d",
   "metadata": {},
   "outputs": [],
   "source": [
    "#RUN\n",
    "cert.tenure = cert.tenure.replace('unknown',np.nan)\n",
    "cert.tenure = cert.tenure.replace('Not defined.*',np.nan,regex=True)\n",
    "cert.tenure = cert.tenure.replace('Rented (social)','rental (social)')\n",
    "cert.tenure = cert.tenure.replace('Rented (private)','rental (private)')\n",
    "cert.tenure = cert.tenure.replace('Owner-occupied','owner-occupied')\n",
    "\n",
    "cert.tenure.value_counts()"
   ]
  },
  {
   "cell_type": "markdown",
   "id": "09a547cb-a4bd-49d1-bcde-86897730db63",
   "metadata": {},
   "source": [
    "## Impute w/in same building \n",
    "Fill in NaNs if there is more than one certificate w/in the same building, where the attribute was populated at least once. Assumes attribute is time-invariant.\n",
    "\n",
    "TODO: add flag for inputation to be used in the model?"
   ]
  },
  {
   "cell_type": "code",
   "execution_count": null,
   "id": "2eb7b082-ab90-4a85-b663-5cc9ceaaa350",
   "metadata": {},
   "outputs": [],
   "source": [
    "fill_columns = ['built_form',\n",
    " 'mains_gas_flag',\n",
    " 'floor_level',\n",
    " 'number_habitable_rooms',\n",
    " 'roof_description',\n",
    " 'heat_loss_corridor',\n",
    " 'floor_height']"
   ]
  },
  {
   "cell_type": "code",
   "execution_count": null,
   "id": "2b9b29cc-459a-4af3-a2c6-509beb8d455c",
   "metadata": {},
   "outputs": [],
   "source": [
    "for col in fill_columns:\n",
    "    \n",
    "    print(f'Filling {col}')\n",
    "    \n",
    "    temp = cert[['building_reference_number','lmk_key',col]].groupby('building_reference_number').count()\n",
    "    temp = temp[\n",
    "        (temp.lmk_key>1)& #more than one certificate on the same building\n",
    "        (temp[col]>0)& #at least one certificate with attribute populated\n",
    "        (temp[col]<temp.lmk_key) #at least one certificate where attribute missing  \n",
    "    ]\n",
    "    \n",
    "    print(f'Filling in missing values for {len(temp)} properties')\n",
    "    if len(temp)==0: continue\n",
    "    \n",
    "    # Get filler values\n",
    "    temp_lookup = cert[cert.building_reference_number.isin(temp.index)].groupby('building_reference_number')[col].agg(\n",
    "        lambda x: pd.Series.mode(x)[0]) #just get the most frequent\n",
    "    \n",
    "    #join original table to the lookup table to get the filler values\n",
    "    temp_filler = cert.loc[cert.building_reference_number.isin(temp.index) & cert[col].isna()].merge(\n",
    "        temp_lookup, how='left',left_on='building_reference_number',right_index=True)[col+'_y']\n",
    "\n",
    "    # fill in original table \n",
    "    cert.loc[cert.building_reference_number.isin(temp.index) & cert[col].isna(),col\n",
    "            ] = temp_filler\n",
    "    "
   ]
  },
  {
   "cell_type": "markdown",
   "id": "08ad5935-d8db-4455-bbbd-288bc23e97c5",
   "metadata": {},
   "source": [
    "## Dedupe on same date\n",
    "TODO: didn't do anything with this for now. Consider later.\n",
    "Quite high % of duplicates (but they could be different apartments? we do not get the apartment number)."
   ]
  },
  {
   "cell_type": "code",
   "execution_count": null,
   "id": "2499d1bc-cb06-4d1d-8663-bb7710f76ccc",
   "metadata": {},
   "outputs": [],
   "source": [
    "len(cert[cert.duplicated(subset=['building_reference_number','inspection_date'])]) / len(cert)"
   ]
  },
  {
   "cell_type": "code",
   "execution_count": null,
   "id": "a344062c-c3e9-4361-9b45-c41acdd2e509",
   "metadata": {},
   "outputs": [],
   "source": [
    "len(cert[cert.duplicated(subset=['uprn','inspection_date'])]) / len(cert)"
   ]
  },
  {
   "cell_type": "markdown",
   "id": "0488366e-3650-484f-8e90-c6e547454dd3",
   "metadata": {},
   "source": [
    "## Dropping cols that are mostly empty\n",
    "\n",
    "TODO: Check if worth replicating this.\n",
    "\n",
    "Not doing it for now because will treat fields differently later on."
   ]
  },
  {
   "cell_type": "markdown",
   "id": "8e24ec83-c4af-4f86-a3b8-1244770557f2",
   "metadata": {},
   "source": [
    "## Clipping values\n",
    "\n",
    "TODO: review all of these thresholds - done using analysis from DSCampus"
   ]
  },
  {
   "cell_type": "code",
   "execution_count": null,
   "id": "ff138d08-9d54-412d-a1c1-57bbda4490d5",
   "metadata": {},
   "outputs": [],
   "source": [
    "def call_clip(df):\n",
    "    \n",
    "    ''' \n",
    "    Clips the variables of the EPC data between 0 and a specified upper amount\n",
    "    '''\n",
    "    \n",
    "    df['current_energy_efficiency'].clip(lower = 0.0, upper = 100, inplace = True)\n",
    "    df['energy_consumption_current'].clip(lower = 0.0, upper = 600, inplace = True)\n",
    "    df['co2_emissions_current'].clip(lower = 0.0, upper = 20, inplace = True)\n",
    "    df['co2_emiss_curr_per_floor_area'].clip(lower = 0.0, upper = 100, inplace = True)\n",
    "    df['lighting_cost_current'].clip(lower = 0.0, upper = 150, inplace = True)\n",
    "    df['heating_cost_current'].clip(lower = 0.0, upper = 1750, inplace = True)\n",
    "    df['hot_water_cost_current'].clip(lower = 0.0, upper = 350, inplace = True)\n",
    "    df['total_floor_area'].clip(lower = 10.0, upper = 175, inplace = True)\n",
    "    df['multi_glaze_proportion'].clip(lower = 0.0, upper = 100, inplace = True)\n",
    "    df['extension_count'].clip(lower = 0.0, upper = 4, inplace = True)\n",
    "    df['number_habitable_rooms'].clip(lower = 0.0, upper = 10, inplace = True)\n",
    "    df['number_heated_rooms'].clip(lower = 0.0, upper = 9, inplace = True)\n",
    "    df['low_energy_lighting'].clip(lower = 0.0, upper = 100, inplace = True)\n",
    "    df['number_open_fireplaces'].clip(lower = 0.0, upper = 4, inplace = True)\n",
    "    df['floor_height'].clip(lower = 0.0, upper = 3, inplace = True)\n",
    "    return(df)\n",
    "\n",
    "call_clip = call_clip(cert)\n"
   ]
  },
  {
   "cell_type": "markdown",
   "id": "afe107b7-95c0-4eed-bf97-41c684958412",
   "metadata": {
    "tags": []
   },
   "source": [
    "## Strings cleanup \n",
    "\n",
    "A lot of string manipulation to clean up fields (taken mostly from DSCampus analysis).\n",
    "\n",
    "Might not be necessary if we do not end up using the relevant variables."
   ]
  },
  {
   "cell_type": "markdown",
   "id": "9a107b3c-3b4c-47bc-8674-0476ab117f1e",
   "metadata": {
    "tags": []
   },
   "source": [
    "#### Remove bi-lingual sentences"
   ]
  },
  {
   "cell_type": "code",
   "execution_count": null,
   "id": "a924d231-1ee7-406a-b836-00ed8ae9caaa",
   "metadata": {},
   "outputs": [],
   "source": [
    "descriptive_columns = ['floor_description',\n",
    " 'lighting_description',\n",
    " 'roof_description',\n",
    " 'walls_description',\n",
    " 'windows_description',\n",
    " 'hotwater_description',\n",
    " 'main_heating_controls']\n",
    "\n",
    "for col in descriptive_columns:\n",
    "    cert[col] = cert[col].str.replace(r\"\\|(.*)\",\"\",regex=True)"
   ]
  },
  {
   "cell_type": "markdown",
   "id": "7e282a0b-eadb-45d0-8619-ab3d53960a6b",
   "metadata": {},
   "source": [
    "#### Cleaning up units for average thermal transmittance"
   ]
  },
  {
   "cell_type": "code",
   "execution_count": null,
   "id": "993dbe0c-8532-4c59-ba98-109ab3223ec8",
   "metadata": {},
   "outputs": [],
   "source": [
    "def thermal_cleanup(df):\n",
    "    \n",
    "    ''' \n",
    "    standardising the wording in the variables containing average thermal transmittance. Specifically, \n",
    "    removing bi-lingual versions, removing =, translating welsh version, and standardising units\n",
    "    '''\n",
    "    \n",
    "    for c in ['floor_description','walls_description','roof_description']:\n",
    "        df[c] = df[c].str.replace('  ',' ')\n",
    "        df[c] = df[c].str.replace('Average thermal transmittance 1 ','Average thermal transmittance 1.00 ')\n",
    "        df[c] = df[c].str.replace('Average thermal transmittance =','Average thermal transmittance')\n",
    "        df[c] = df[c].str.replace('Trawsyriannedd thermol cyfartalog','Average thermal transmittance')\n",
    "        # standardising the unit used\n",
    "        df[c] = df[c].str.replace(r\"W(.*?)K\",'W/m²K',regex=True)\n",
    "        \n",
    "    return df\n",
    "\n",
    "cert = thermal_cleanup(cert)"
   ]
  },
  {
   "cell_type": "markdown",
   "id": "ce8443e9-dabf-42c7-a0d5-0f4ba47c4286",
   "metadata": {},
   "source": [
    "#### Floor description"
   ]
  },
  {
   "cell_type": "code",
   "execution_count": null,
   "id": "75882c8b-ad53-4f37-9599-cd1ab0c4957a",
   "metadata": {},
   "outputs": [],
   "source": [
    "def thermal_floor(df):\n",
    "    \n",
    "    ''' \n",
    "    rounds the average thermal transmittance figure which is within a str field to 1 decimal place\n",
    "    '''\n",
    "    \n",
    "    # finds the decimal number\n",
    "    df['floors_average_thermal_transmittance'] = df['floor_description'].str.findall(r'\\d.\\d*')\n",
    "    # rounds the number to 1 decimal place\n",
    "    df['floors_average_thermal_transmittance'] = round(df['floors_average_thermal_transmittance'].str[0].astype(float),1)\n",
    "    # \n",
    "    df['floor_description'] = df.apply(lambda row: 'average thermal transmittance %.1f W/m²K' % (row['floors_average_thermal_transmittance']) if 'Average' in str(row['floor_description']) else row['floor_description'],axis=1)\n",
    "    \n",
    "    return df\n",
    "\n",
    "cert = thermal_floor(cert)"
   ]
  },
  {
   "cell_type": "code",
   "execution_count": null,
   "id": "78b9ca20-f3ce-47ea-b1e7-b3d7f2741cd5",
   "metadata": {},
   "outputs": [],
   "source": [
    "def floor_cleanup(df):\n",
    "    \n",
    "    ''' \n",
    "    cleans-up the floor_description feature from the EPC dataset\n",
    "    '''\n",
    "    \n",
    "    df['floor_description'] = df['floor_description'].str.lower()\n",
    "\n",
    "    # translating welsh sentences\n",
    "    df['floor_description'] = df['floor_description'].str.replace(r\"anheddiad arall islaw\",'another dwelling below') \n",
    "    df['floor_description'] = df['floor_description'].str.replace(\"\\(eiddo arall islaw\\)\",'other premises below') \n",
    "    df['floor_description'] = df['floor_description'].str.replace(r\"wedi(.*?)i inswleiddio\",\"insulated\")\n",
    "    df['floor_description'] = df['floor_description'].str.replace(\"dim inswleiddio\",\"no insulation\")\n",
    "    df['floor_description'] = df['floor_description'].str.replace(\"(rhagdybiaeth)\",\"assumed\")\n",
    "    df['floor_description'] = df['floor_description'].str.replace(\"crog\",\"suspended\")\n",
    "    df['floor_description'] = df['floor_description'].str.replace(\"heb ei inswleiddio\",\"no insulation\")\n",
    "    df['floor_description'] = df['floor_description'].str.replace(\"i ofod heb ei wresogi\",\"to unheated space\")\n",
    "    df['floor_description'] = df['floor_description'].str.replace(\"solet\",\"solid\")\n",
    "    df['floor_description'] = df['floor_description'].str.replace(\"inswleiddio cyfyngedig\",\"limited insulation\")\n",
    "\n",
    "    # removing assumed\n",
    "    df['floor_description'] = df['floor_description'].str.replace(\"\\(assumed\\)\",\"\")\n",
    "\n",
    "    # standardising language\n",
    "    df['floor_description'] = df['floor_description'].str.replace(\"\\(another dwelling below\\)\",'other premises below') \n",
    "    df['floor_description'] = df['floor_description'].str.replace(\"\\(other premises below\\)\",'other premises below')\n",
    "    df['floor_description'] = df['floor_description'].str.replace(\"solid.\",'solid,') \n",
    "    df['floor_description'] = df['floor_description'].str.replace(\"uninsulated\",'no insulation,') \n",
    "    df['floor_description'] = df['floor_description'].str.replace(\"insulation=100mm\",'100 mm insulation') \n",
    "    df['floor_description'] = df['floor_description'].str.replace(\", \\(assumed\\)\",' (assumed)')\n",
    "    df['floor_description'] = df['floor_description'].str.replace(\"insulation=25mm\",'25 mm insulation')\n",
    "    df['floor_description'] = df['floor_description'].str.replace(\"insulation=75mm\",'75 mm insulation')\n",
    "    df['floor_description'] = df['floor_description'].str.replace(\"limited insulated\",'limited insulation')\n",
    "    # cleanup\n",
    "    df['floor_description'] = df['floor_description'].str.replace(\"[ \\t]+$\",\"\")\n",
    "    df['floor_description'] = df['floor_description'].str.replace(r'\\,$','')\n",
    "    df['floor_description'] = df['floor_description'].str.replace(r'^, ','')\n",
    "    df['floor_description'] = df['floor_description'].str.replace(r'\\?','')\n",
    "    \n",
    "    return df\n",
    "\n",
    "cert = floor_cleanup(cert)"
   ]
  },
  {
   "cell_type": "markdown",
   "id": "e6665e27-729f-481e-8b56-29b2906286a7",
   "metadata": {},
   "source": [
    "#### Lighting description"
   ]
  },
  {
   "cell_type": "code",
   "execution_count": null,
   "id": "dce0d6b8-ff9a-4403-b59d-67c5ac5beb27",
   "metadata": {},
   "outputs": [],
   "source": [
    "# lighting and second heat descriptions have some entries the wrong way around\n",
    "cert['secondheat_description1'] = cert.apply(\n",
    "    lambda row: row['lighting_description'] if 'lighting' in str(row['secondheat_description']) else row['secondheat_description'],axis = 1)\n",
    "cert['lighting_description1'] = cert.apply(\n",
    "    lambda row: row['secondheat_description'] if 'lighting' in str(row['secondheat_description']) else row['lighting_description'],axis = 1)\n",
    "\n",
    "cert.drop(columns= ['secondheat_description','lighting_description'],axis=1,inplace=True)\n",
    "cert.rename(columns={'secondheat_description1':'secondheat_description','lighting_description1':'lighting_description'},inplace=True)"
   ]
  },
  {
   "cell_type": "code",
   "execution_count": null,
   "id": "0fbebe1b-063b-4c97-80ab-01f22d46be0f",
   "metadata": {},
   "outputs": [],
   "source": [
    "def lighting_cleanup(df):\n",
    "    \n",
    "    ''' \n",
    "    cleans-up the lighting_description feature from the EPC dataset\n",
    "    '''\n",
    "    \n",
    "    df['lighting_description'] = df['lighting_description'].str.lower()\n",
    "    # combining ways of saying all lights are low energy\n",
    "    df['lighting_description'] = df['lighting_description'].str.replace(r'goleuadau ynni-isel ym mhob un o.r mannau gosod','low energy lighting in all fixed outlets')\n",
    "    df['lighting_description'] = df['lighting_description'].str.replace(r'low energy lighting in 120% of fixed outlets','low energy lighting in all fixed outlets')\n",
    "    df['lighting_description'] = df['lighting_description'].str.replace(r'low energy lighting 100% of fixed outlets','low energy lighting in all fixed outlets')\n",
    "    # translating welsh sentences\n",
    "    df['lighting_description'] = df['lighting_description'].str.replace(r\"\\|goleuadau(.*)\",'') \n",
    "    df['lighting_description'] = df['lighting_description'].str.replace(r\"o.r mannau gosod\",'of fixed outlets')\n",
    "    df['lighting_description'] = df['lighting_description'].str.replace('% fixed','% of fixed')\n",
    "    df['lighting_description'] = df['lighting_description'].str.replace('goleuadau ynni-isel mewn','low energy lighting in')\n",
    "    df['lighting_description'] = df['lighting_description'].str.replace(r\"\\.\\d*\",'')\n",
    "    df['lighting_description'] = df['lighting_description'].str.replace(\"dim goleuadau ynni-isel\",'no low energy lighting')\n",
    "    # clean up\n",
    "    df['lighting_description'] = df['lighting_description'].str.replace(\"eneregy\",'energy')\n",
    "    \n",
    "    return df\n",
    "\n",
    "cert = lighting_cleanup(cert)\n",
    "\n"
   ]
  },
  {
   "cell_type": "code",
   "execution_count": null,
   "id": "741fe761-36c9-4975-b36f-350848413165",
   "metadata": {},
   "outputs": [],
   "source": [
    "def lighting_perc_cleanup(df):\n",
    "    \n",
    "    ''' \n",
    "    rounds the low energy lighting percentage figure which is within a str field\n",
    "    '''\n",
    "    \n",
    "    df['low_energy_lighting_perc'] = df['lighting_description'].str.findall(r'(\\d*)\\%')\n",
    "    df['low_energy_lighting_perc'] = round(df['low_energy_lighting_perc'].str[0].astype(float),-1)\n",
    "    df['lighting_description'] = df.apply(lambda row: 'low energy lighting %d%% of fixed outlets' % (int(row['low_energy_lighting_perc'])) if '%' in str(row['lighting_description']) else row['lighting_description'],axis=1)\n",
    "\n",
    "    return df\n",
    "\n",
    "cert = lighting_perc_cleanup(cert)"
   ]
  },
  {
   "cell_type": "markdown",
   "id": "eb998170-e44a-4ca8-9892-2db3e1252fc0",
   "metadata": {},
   "source": [
    "#### Roof description"
   ]
  },
  {
   "cell_type": "code",
   "execution_count": null,
   "id": "f0ce2f5c-0bbe-43cc-82c3-0525dd052bb1",
   "metadata": {},
   "outputs": [],
   "source": [
    "def roof_cleanup(df):\n",
    "    \n",
    "    ''' \n",
    "    cleans-up the roof_description feature from the EPC dataset\n",
    "    Parameters\n",
    "      df: a dataframe containing a variable called 'roof_description'\n",
    "    Returns a dataframe \n",
    "    '''\n",
    "    \n",
    "    # standardising units\n",
    "    df['roof_description'] = df['roof_description'].str.replace(\" mm\",'mm')\n",
    "    df['roof_description'] = df['roof_description'].str.replace(\">= 300mm\",\">=300mm\")\n",
    "    df['roof_description'] = df['roof_description'].str.replace(\">=300mm\",\"300+mm\")\n",
    "    # translating welsh sentences\n",
    "    df['roof_description'] = df['roof_description'].str.replace(\"\\|\\(eiddo arall uwchben\\)\",\"\")\n",
    "    df['roof_description'] = df['roof_description'].str.replace(\"Ar oleddf\",\"Pitched\")\n",
    "    df['roof_description'] = df['roof_description'].str.replace(\"dim inswleiddio\",\"no insulation\")\n",
    "    df['roof_description'] = df['roof_description'].str.replace(r\"wedi(.*?)i inswleiddio\",\"insulated\")\n",
    "    df['roof_description'] = df['roof_description'].str.replace(\"(rhagdybiaeth)\",\"assumed\")\n",
    "    df['roof_description'] = df['roof_description'].str.replace(r\"lo inswleiddio yn y llof.*\",\"loft insulation\")\n",
    "    df['roof_description'] = df['roof_description'].str.replace(r\"o inswleiddio yn y llof.*\",\"loft insulation\")\n",
    "    df['roof_description'] = df['roof_description'].str.replace(\"Ystafell\\(oedd\\) to\",\"Roof room(s)\")\n",
    "    df['roof_description'] = df['roof_description'].str.replace(r\"wedi(.*?)i hinswleiddio\",\"insulated\")\n",
    "    df['roof_description'] = df['roof_description'].str.replace(\"nenfwd\",\"ceiling\")\n",
    "    df['roof_description'] = df['roof_description'].str.replace(\"wrth y trawstia(.*?)\",\"at rafters\")\n",
    "    df['roof_description'] = df['roof_description'].str.replace(\"inswleiddio cyfyngedig\",\"limited insulation\")\n",
    "    df['roof_description'] = df['roof_description'].str.replace(\"To gwellt, gydag inswleiddio ychwanegol\",\"Thatched, with additional insulation\")\n",
    "    df['roof_description'] = df['roof_description'].str.replace(\"Yn wastad\",\"Always\")\n",
    "    # standardising descriptions\n",
    "    df['roof_description'] = df['roof_description'].str.replace(\"Roof room,\",\"Roof room(s),\")\n",
    "    df['roof_description'] = df['roof_description'].str.replace(\"annedd arall uwchben\",\"other premises above\")\n",
    "    df['roof_description'] = df['roof_description'].str.replace(\"another dwelling above\",\"other premises above\")\n",
    "    df['roof_description'] = df['roof_description'].str.replace(\"Dwelling Above\",\"(other premises above)\")\n",
    "    df['roof_description'] = df['roof_description'].str.replace(r\"0 W/m²K\",r\" W/m²K\")\n",
    "    df['roof_description'] = df['roof_description'].str.replace(\"  W/m²K\",\" 0.0 W/m²K\")\n",
    "    df['roof_description'] = df['roof_description'].str.replace(\"Roof room\\(s\\), no insulation\\(assumed\\)\",\"Roof room(s), no insulation (assumed)\")\n",
    "    df['roof_description'] = df['roof_description'].str.replace(\"Other premises above\",\"(other premises above)\")\n",
    "    df['roof_description'] = df['roof_description'].str.replace(\"\\(assumed\\)\",\"\")\n",
    "    # cleanup\n",
    "    df['roof_description'] = df['roof_description'].str.replace(r'\\.$','')\n",
    "    df['roof_description'] = df['roof_description'].str.replace(r'\\,$','')\n",
    "    df['roof_description'] = df['roof_description'].str.replace(\"  \\+\",\" +\")\n",
    "    df['roof_description'] = df['roof_description'].str.replace(\"[ \\t]+$\",\"\")\n",
    "    df['roof_description'] = df['roof_description'].str.replace(\"mmmm\",\"mm\")\n",
    "    df['roof_description'] = df['roof_description'].str.replace(\"Thatchedinsulated\",\"Thatched, insulated\")\n",
    "    df['roof_description'] = df['roof_description'].str.replace(\"\\*\\*\\* INVALID INPUT Code \\: 57 \\*\\*\\*\",\"\")\n",
    "    \n",
    "    return df\n",
    "\n",
    "cert = roof_cleanup(cert)"
   ]
  },
  {
   "cell_type": "code",
   "execution_count": null,
   "id": "58bfcc39-b7a3-44d1-9b50-bc49c4b02f82",
   "metadata": {},
   "outputs": [],
   "source": [
    "def thermal_roof(df):\n",
    "    \n",
    "    ''' \n",
    "    rounds the average thermal transmittance figure which is within a str field\n",
    "    '''\n",
    "    \n",
    "    df['roof_average_thermal_transmittance'] = df['roof_description'].str.findall(r'(\\d.\\d*) W/m²K')\n",
    "    df['roof_average_thermal_transmittance'] = round(df['roof_average_thermal_transmittance'].str[0].astype(float),1)\n",
    "    df['roof_description'] = df.apply(lambda row: 'average thermal transmittance %.1f w/m²k' % (row['roof_average_thermal_transmittance']) if 'Average' in str(row['roof_description']) else row['roof_description'],axis=1)\n",
    "    \n",
    "    return df\n",
    "\n",
    "cert = thermal_roof(cert)"
   ]
  },
  {
   "cell_type": "markdown",
   "id": "7db2a37d-b236-42e5-8fdf-4c4c33caf0ca",
   "metadata": {},
   "source": [
    "#### Walls description"
   ]
  },
  {
   "cell_type": "code",
   "execution_count": 437,
   "id": "37b93993-604b-4a06-86be-32f28a70519b",
   "metadata": {},
   "outputs": [
    {
     "name": "stderr",
     "output_type": "stream",
     "text": [
      "C:\\Users\\Joanna\\AppData\\Local\\Temp\\ipykernel_13112\\2908878170.py:12: FutureWarning: The default value of regex will change from True to False in a future version.\n",
      "  df['walls_description'] = df['walls_description'].str.replace(r\"fel y(.*?)u hadeiladwyd, \",\"\")\n",
      "C:\\Users\\Joanna\\AppData\\Local\\Temp\\ipykernel_13112\\2908878170.py:14: FutureWarning: The default value of regex will change from True to False in a future version.\n",
      "  df['walls_description'] = df['walls_description'].str.replace(\"cavity\\.\",\"cavity wall,\")\n",
      "C:\\Users\\Joanna\\AppData\\Local\\Temp\\ipykernel_13112\\2908878170.py:15: FutureWarning: The default value of regex will change from True to False in a future version.\n",
      "  df['walls_description'] = df['walls_description'].str.replace(\"\\(rhagdybiaeth\\)\",\"(assumed)\")\n",
      "C:\\Users\\Joanna\\AppData\\Local\\Temp\\ipykernel_13112\\2908878170.py:16: FutureWarning: The default value of regex will change from True to False in a future version.\n",
      "  df['walls_description'] = df['walls_description'].str.replace(\"\\(assumed\\)\",\"\")\n",
      "C:\\Users\\Joanna\\AppData\\Local\\Temp\\ipykernel_13112\\2908878170.py:21: FutureWarning: The default value of regex will change from True to False in a future version.\n",
      "  df['walls_description'] = df['walls_description'].str.replace(\"ceudod wedi(.*?)i lenwi\",\"filled cavity\")\n",
      "C:\\Users\\Joanna\\AppData\\Local\\Temp\\ipykernel_13112\\2908878170.py:22: FutureWarning: The default value of regex will change from True to False in a future version.\n",
      "  df['walls_description'] = df['walls_description'].str.replace(r\"wedi(.*?)u hinswleiddio\",\"insulated\")\n",
      "C:\\Users\\Joanna\\AppData\\Local\\Temp\\ipykernel_13112\\2908878170.py:23: FutureWarning: The default value of regex will change from True to False in a future version.\n",
      "  df['walls_description'] = df['walls_description'].str.replace(r\"ffr(.*?)m bren\",\"timber frame\")\n",
      "C:\\Users\\Joanna\\AppData\\Local\\Temp\\ipykernel_13112\\2908878170.py:25: FutureWarning: The default value of regex will change from True to False in a future version.\n",
      "  df['walls_description'] = df['walls_description'].str.replace(\"wedi(.*?)u hadeiladu yn (.*?)l system\",\"system built\")\n",
      "C:\\Users\\Joanna\\AppData\\Local\\Temp\\ipykernel_13112\\2908878170.py:31: FutureWarning: The default value of regex will change from True to False in a future version.\n",
      "  df['walls_description'] = df['walls_description'].str.replace(\"solid brick\\.\",\"solid brick,\")\n",
      "C:\\Users\\Joanna\\AppData\\Local\\Temp\\ipykernel_13112\\2908878170.py:34: FutureWarning: The default value of regex will change from True to False in a future version.\n",
      "  df['walls_description'] = df['walls_description'].str.replace(\"stone \\(granite or whin\\)\\.\",\"granite or whinstone,\")\n",
      "C:\\Users\\Joanna\\AppData\\Local\\Temp\\ipykernel_13112\\2908878170.py:40: FutureWarning: The default value of regex will change from True to False in a future version.\n",
      "  df['walls_description'] = df['walls_description'].str.replace(r'\\.$','')\n",
      "C:\\Users\\Joanna\\AppData\\Local\\Temp\\ipykernel_13112\\2908878170.py:41: FutureWarning: The default value of regex will change from True to False in a future version.\n",
      "  df['walls_description'] = df['walls_description'].str.replace('\\+ chr\\(13\\) \\+','+')\n",
      "C:\\Users\\Joanna\\AppData\\Local\\Temp\\ipykernel_13112\\2908878170.py:42: FutureWarning: The default value of regex will change from True to False in a future version.\n",
      "  df['walls_description'] = df['walls_description'].str.replace(\"  \\+\",\" +\")\n",
      "C:\\Users\\Joanna\\AppData\\Local\\Temp\\ipykernel_13112\\2908878170.py:43: FutureWarning: The default value of regex will change from True to False in a future version.\n",
      "  df['walls_description'] = df['walls_description'].str.replace(\"[ \\t]+$\",\"\")\n",
      "C:\\Users\\Joanna\\AppData\\Local\\Temp\\ipykernel_13112\\2908878170.py:44: FutureWarning: The default value of regex will change from True to False in a future version.\n",
      "  df['walls_description'] = df['walls_description'].str.replace('timber frame\\.','timber frame,')\n",
      "C:\\Users\\Joanna\\AppData\\Local\\Temp\\ipykernel_13112\\2908878170.py:45: FutureWarning: The default value of regex will change from True to False in a future version.\n",
      "  df['walls_description'] = df['walls_description'].str.replace('\\?','')\n",
      "C:\\Users\\Joanna\\AppData\\Local\\Temp\\ipykernel_13112\\2908878170.py:46: FutureWarning: The default value of regex will change from True to False in a future version.\n",
      "  df['walls_description'] = df['walls_description'].str.replace('system built\\.','system built,')\n"
     ]
    }
   ],
   "source": [
    "def walls_cleanup(df): \n",
    "    \n",
    "    ''' \n",
    "    cleans-up the walls_description feature from the EPC dataset\n",
    "    Parameters\n",
    "      df: a dataframe containing a variable called 'walls_description'\n",
    "    Returns a dataframe \n",
    "    '''\n",
    "    \n",
    "    # removing phrases like as built which aren't adding anything\n",
    "    df['walls_description'] = df['walls_description'].str.lower()\n",
    "    df['walls_description'] = df['walls_description'].str.replace(r\"fel y(.*?)u hadeiladwyd, \",\"\")\n",
    "    df['walls_description'] = df['walls_description'].str.replace(\"as built, \",\"\")\n",
    "    df['walls_description'] = df['walls_description'].str.replace(\"cavity\\.\",\"cavity wall,\")\n",
    "    df['walls_description'] = df['walls_description'].str.replace(\"\\(rhagdybiaeth\\)\",\"(assumed)\")\n",
    "    df['walls_description'] = df['walls_description'].str.replace(\"\\(assumed\\)\",\"\")\n",
    "    # translating welsh sentences\n",
    "    df['walls_description'] = df['walls_description'].str.replace(\"waliau ceudod\",\"cavity wall\")\n",
    "    df['walls_description'] = df['walls_description'].str.replace(\"dim inswleiddio\",\"no insulation\")\n",
    "    df['walls_description'] = df['walls_description'].str.replace(\"tywodfaen\",\"sandstone\")\n",
    "    df['walls_description'] = df['walls_description'].str.replace(\"ceudod wedi(.*?)i lenwi\",\"filled cavity\")\n",
    "    df['walls_description'] = df['walls_description'].str.replace(r\"wedi(.*?)u hinswleiddio\",\"insulated\")\n",
    "    df['walls_description'] = df['walls_description'].str.replace(r\"ffr(.*?)m bren\",\"timber frame\")\n",
    "    df['walls_description'] = df['walls_description'].str.replace(\"briciau solet\",\"solid brick\")\n",
    "    df['walls_description'] = df['walls_description'].str.replace(\"wedi(.*?)u hadeiladu yn (.*?)l system\",\"system built\")\n",
    "    df['walls_description'] = df['walls_description'].str.replace(\"inswleiddio rhannol\",\"partial insulation\")\n",
    "    df['walls_description'] = df['walls_description'].str.replace(\"gydag inswleiddio allanol\",\"with external insulation\")\n",
    "    df['walls_description'] = df['walls_description'].str.replace(\"gwenithfaen neu risgraig\",\"granite or whinstone\")\n",
    "    df['walls_description'] = df['walls_description'].str.replace(\"gydag inswleiddio mewnol\",\"with internal insulation\")\n",
    "    # standardising punctuation\n",
    "    df['walls_description'] = df['walls_description'].str.replace(\"solid brick\\.\",\"solid brick,\")\n",
    "    # standardising language\n",
    "    df['walls_description'] = df['walls_description'].str.replace(\"granite or whin,\",\"granite or whinstone,\")\n",
    "    df['walls_description'] = df['walls_description'].str.replace(\"stone \\(granite or whin\\)\\.\",\"granite or whinstone,\")\n",
    "    df['walls_description'] = df['walls_description'].str.replace(\"with external insulation\",\"insulated\")\n",
    "    df['walls_description'] = df['walls_description'].str.replace(\"with internal insulation\",\"insulated\")\n",
    "    df['walls_description'] = df['walls_description'].str.replace(\"with additional insulation\",\"insulated\")\n",
    "    df['walls_description'] = df['walls_description'].str.replace(\"with insulation\",\"insulated\")\n",
    "    # clean up\n",
    "    df['walls_description'] = df['walls_description'].str.replace(r'\\.$','')\n",
    "    df['walls_description'] = df['walls_description'].str.replace('\\+ chr\\(13\\) \\+','+')\n",
    "    df['walls_description'] = df['walls_description'].str.replace(\"  \\+\",\" +\")\n",
    "    df['walls_description'] = df['walls_description'].str.replace(\"[ \\t]+$\",\"\")\n",
    "    df['walls_description'] = df['walls_description'].str.replace('timber frame\\.','timber frame,')\n",
    "    df['walls_description'] = df['walls_description'].str.replace('\\?','')\n",
    "    df['walls_description'] = df['walls_description'].str.replace('system built\\.','system built,')\n",
    "    \n",
    "    return df\n",
    "\n",
    "cert = walls_cleanup(cert)"
   ]
  },
  {
   "cell_type": "code",
   "execution_count": 438,
   "id": "46e967d5-bc6b-4eb8-a6f1-9772f43d941e",
   "metadata": {},
   "outputs": [],
   "source": [
    "def thermal_walls(df):\n",
    "    \n",
    "    ''' \n",
    "    rounds the average thermal transmittance figure which is within a str field\n",
    "    '''\n",
    "    \n",
    "    df['walls_average_thermal_transmittance'] = df['walls_description'].str.findall(r'\\d.\\d\\d')\n",
    "    df['walls_average_thermal_transmittance'] = round(df['walls_average_thermal_transmittance'].str[0].astype(float),1)\n",
    "    df['walls_description'] = df.apply(lambda row: 'average thermal transmittance %.1f w/m²k' % (row['walls_average_thermal_transmittance']) if 'average' in str(row['walls_description']) else row['walls_description'],axis=1)\n",
    "    \n",
    "    return df\n",
    "\n",
    "cert = thermal_walls(cert)"
   ]
  },
  {
   "cell_type": "markdown",
   "id": "f2fff934-28e8-4d71-81ef-ffbb813a3d84",
   "metadata": {},
   "source": [
    "#### Windows description"
   ]
  },
  {
   "cell_type": "code",
   "execution_count": 439,
   "id": "f067408a-dfcd-4752-955c-ed6128c9d878",
   "metadata": {},
   "outputs": [
    {
     "name": "stderr",
     "output_type": "stream",
     "text": [
      "C:\\Users\\Joanna\\AppData\\Local\\Temp\\ipykernel_13112\\3119369361.py:28: FutureWarning: The default value of regex will change from True to False in a future version.\n",
      "  df['windows_description'] = df['windows_description'].str.replace(\"[ \\t]+$\",\"\")\n"
     ]
    }
   ],
   "source": [
    "def windows_cleanup(df): \n",
    "    \n",
    "    ''' \n",
    "    cleans-up the windows_description feature from the EPC dataset\n",
    "    Parameters\n",
    "      df: a dataframe containing a variable called 'windows_description'\n",
    "    Returns a dataframe \n",
    "    '''\n",
    "    \n",
    "    df['windows_description'] = df['windows_description'].str.lower()\n",
    "    # translating welsh sentences\n",
    "    df['windows_description'] = df['windows_description'].str.replace(\"ffenestri perfformiad uchel\",\"high performance glazing\")\n",
    "    df['windows_description'] = df['windows_description'].str.replace(\"gwydrau dwbl gan mwyaf\",\"mostly double glazing\")\n",
    "    df['windows_description'] = df['windows_description'].str.replace(\"rhai gwydrau dwbl\",\"partial double glazing\")\n",
    "    df['windows_description'] = df['windows_description'].str.replace(\"gwydrau sengl\",\"single glazing\")\n",
    "    df['windows_description'] = df['windows_description'].str.replace(\"gwydrau dwbl rhannol\",\"partial double glazing\")\n",
    "    df['windows_description'] = df['windows_description'].str.replace(\"gwydrau dwbl llawn\",\"fully double glazing\")\n",
    "    df['windows_description'] = df['windows_description'].str.replace(\"gwydrau lluosog ym mhobman\",\"multiple glazing throughout\")\n",
    "    df['windows_description'] = df['windows_description'].str.replace(\"gwydrau eilaidd llawn\",\"full secondary glazing\")\n",
    "    # standardising language\n",
    "    df['windows_description'] = df['windows_description'].str.replace(\"glazed\",\"glazing\")\n",
    "    df['windows_description'] = df['windows_description'].str.replace(\"fully\",\"full\")\n",
    "    df['windows_description'] = df['windows_description'].str.replace(\"fully\",\"full\")\n",
    "    # cleanup\n",
    "    df['windows_description'] = df['windows_description'].str.replace(\"single glazingsingle glazing\",\"single glazing\")\n",
    "    df['windows_description'] = df['windows_description'].str.replace(\"single glazingdouble glazing\",\"single glazing and double glazing\")\n",
    "    df['windows_description'] = df['windows_description'].str.replace(\"single glazingsecondary glazing\",\"single glazing and secondary glazing\")\n",
    "    df['windows_description'] = df['windows_description'].str.replace(\"[ \\t]+$\",\"\")\n",
    "    df['windows_description'] = df['windows_description'].str.replace(\"  \",\" \")\n",
    "    \n",
    "    return df\n",
    "\n",
    "cert = windows_cleanup(cert)"
   ]
  },
  {
   "cell_type": "markdown",
   "id": "17f863b0-efce-4fe8-9ed1-c74c1e5cf4a3",
   "metadata": {},
   "source": [
    "#### Hotwater description"
   ]
  },
  {
   "cell_type": "code",
   "execution_count": 440,
   "id": "16d2eeed-7c02-469e-833e-d5b50b786d5e",
   "metadata": {},
   "outputs": [
    {
     "name": "stderr",
     "output_type": "stream",
     "text": [
      "C:\\Users\\Joanna\\AppData\\Local\\Temp\\ipykernel_13112\\3908772556.py:11: FutureWarning: The default value of regex will change from True to False in a future version.\n",
      "  df['hotwater_description'] = df['hotwater_description'].str.replace(\"[ \\t]+$\",\"\")\n",
      "C:\\Users\\Joanna\\AppData\\Local\\Temp\\ipykernel_13112\\3908772556.py:14: FutureWarning: The default value of regex will change from True to False in a future version.\n",
      "  df['hotwater_description'] = df['hotwater_description'].str.replace(r\"O(.*?)r brif system\",\"From main system\")\n",
      "C:\\Users\\Joanna\\AppData\\Local\\Temp\\ipykernel_13112\\3908772556.py:23: FutureWarning: The default value of regex will change from True to False in a future version.\n",
      "  df['hotwater_description'] = df['hotwater_description'].str.replace(r\"gydag ynni(.*?)r haul\",\"plus solar\")\n",
      "C:\\Users\\Joanna\\AppData\\Local\\Temp\\ipykernel_13112\\3908772556.py:45: FutureWarning: The default value of regex will change from True to False in a future version.\n",
      "  df['hotwater_description'] = df['hotwater_description'].str.replace(\"No system present\\?electric immersion assumed\",\"No system present: electric immersion assumed\")\n"
     ]
    }
   ],
   "source": [
    "def hotwater_cleanup(df):\n",
    "    \n",
    "    ''' \n",
    "    cleans-up the hotwater_description feature from the EPC dataset\n",
    "    Parameters\n",
    "      df: a dataframe containing a variable called 'hotwater_description'\n",
    "    Returns a dataframe \n",
    "    '''\n",
    "    \n",
    "    # removing spaces at the end\n",
    "    df['hotwater_description'] = df['hotwater_description'].str.replace(\"[ \\t]+$\",\"\")\n",
    "\n",
    "    # translating welsh sentences\n",
    "    df['hotwater_description'] = df['hotwater_description'].str.replace(r\"O(.*?)r brif system\",\"From main system\")\n",
    "    df['hotwater_description'] = df['hotwater_description'].str.replace(r\"Trochi trydan\",\"Electric immersion\")\n",
    "    df['hotwater_description'] = df['hotwater_description'].str.replace(r\"an-frig\",\"off-peak\")\n",
    "    df['hotwater_description'] = df['hotwater_description'].str.replace(r\"O system eilaidd\",\"From secondary system\")\n",
    "    df['hotwater_description'] = df['hotwater_description'].str.replace(r\"Nwy wrth fwy nag un pwynt\",\"Gas multipoint\")\n",
    "    df['hotwater_description'] = df['hotwater_description'].str.replace(r\"Popty estynedig olew\",\"Oil range cooker\")\n",
    "    df['hotwater_description'] = df['hotwater_description'].str.replace(r\"tarriff safonol\",\"standard tariff\")\n",
    "    df['hotwater_description'] = df['hotwater_description'].str.replace(r\"Dim system ar gael\",\"No system present\")\n",
    "    df['hotwater_description'] = df['hotwater_description'].str.replace(r\"adfer gwres nwyon ffliw\",\"flue gas heat recovery\")\n",
    "    df['hotwater_description'] = df['hotwater_description'].str.replace(r\"gydag ynni(.*?)r haul\",\"plus solar\")\n",
    "    df['hotwater_description'] = df['hotwater_description'].str.replace(r\"dim thermostat ar y silindr\",\"no cylinderstat\")\n",
    "    df['hotwater_description'] = df['hotwater_description'].str.replace(r\"rhagdybir bod twymwr tanddwr trydan\",\"electric immersion assumed\")\n",
    "    df['hotwater_description'] = df['hotwater_description'].str.replace(r\"an-frig\",\"off peak\")\n",
    "    df['hotwater_description'] = df['hotwater_description'].str.replace(r\"Twymwr tanddwr\",\"underfloor heating\")\n",
    "\n",
    "    # standardising language\n",
    "    df['hotwater_description'] = df['hotwater_description'].str.replace(\"cylinder thermostat\",\"cylinderstat\")\n",
    "    df['hotwater_description'] = df['hotwater_description'].str.replace(\"No system present :\",\"No system present:\")\n",
    "    df['hotwater_description'] = df['hotwater_description'].str.replace(\"No hot water system present -\",\"No system present:\")\n",
    "    df['hotwater_description'] = df['hotwater_description'].str.replace(\"From community scheme\",\"Community scheme\")\n",
    "    df['hotwater_description'] = df['hotwater_description'].str.replace(\"Community heat pump\",\"Community scheme with CHP\")\n",
    "    df['hotwater_description'] = df['hotwater_description'].str.replace(\"From secondary heater\",\"From secondary system\")\n",
    "    df['hotwater_description'] = df['hotwater_description'].str.replace(\"SAP05:Hot-Water\",\"SAP:Hot-Water\")\n",
    "    df['hotwater_description'] = df['hotwater_description'].str.replace(\"community scheme\",\"Community scheme\")\n",
    "    df['hotwater_description'] = df['hotwater_description'].str.replace(\"plus solar, no cylinderstat\",\"no cylinderstat, plus solar\")\n",
    "    df['hotwater_description'] = df['hotwater_description'].str.replace(\"From second main heating system\",\"From secondary system\")\n",
    "    df['hotwater_description'] = df['hotwater_description'].str.replace(\"none\",\"No system present: electric immersion assumed\")\n",
    "    df['hotwater_description'] = df['hotwater_description'].str.replace(\"plus solar, flue gas heat recovery\",\"flue gas heat recovery, plus solar\")\n",
    "    df['hotwater_description'] = df['hotwater_description'].str.replace(\"no cylinderstat, no cylinderstat\",\"no cylinderstat\")\n",
    "\n",
    "    # cleanup\n",
    "    df['hotwater_description'] = df['hotwater_description'].str.replace(\"No system present\\?electric immersion assumed\",\"No system present: electric immersion assumed\")\n",
    "    df['hotwater_description'] = df['hotwater_description'].replace(\"***SAMPLE***\",np.nan)\n",
    "\n",
    "    return df\n",
    "\n",
    "cert = hotwater_cleanup(cert)"
   ]
  },
  {
   "cell_type": "markdown",
   "id": "71f9af96-a246-433c-962c-c223667978bf",
   "metadata": {},
   "source": [
    "#### Main heating controls"
   ]
  },
  {
   "cell_type": "code",
   "execution_count": 441,
   "id": "ba41e273-3f6e-4bed-8ecd-7e783530cf96",
   "metadata": {},
   "outputs": [
    {
     "name": "stderr",
     "output_type": "stream",
     "text": [
      "C:\\Users\\Joanna\\AppData\\Local\\Temp\\ipykernel_13112\\2782498958.py:13: FutureWarning: The default value of regex will change from True to False in a future version.\n",
      "  df['main_heating_controls'] = df['main_heating_controls'].str.replace(r\"rheoli.r t.l . llaw\",\"manual charge control\")\n",
      "C:\\Users\\Joanna\\AppData\\Local\\Temp\\ipykernel_13112\\2782498958.py:27: FutureWarning: The default value of regex will change from True to False in a future version.\n",
      "  df['main_heating_controls'] = df['main_heating_controls'].str.replace(\"t(.*?)l un gyfradd\",\"flat rate charging\")\n",
      "C:\\Users\\Joanna\\AppData\\Local\\Temp\\ipykernel_13112\\2782498958.py:33: FutureWarning: The default value of regex will change from True to False in a future version.\n",
      "  df['main_heating_controls'] = df['main_heating_controls'].str.replace(\"flat rate charging\\*\",\"flat rate charging\")\n",
      "C:\\Users\\Joanna\\AppData\\Local\\Temp\\ipykernel_13112\\2782498958.py:34: FutureWarning: The default value of regex will change from True to False in a future version.\n",
      "  df['main_heating_controls'] = df['main_heating_controls'].str.replace(\"\\+\",\"and\")\n",
      "C:\\Users\\Joanna\\AppData\\Local\\Temp\\ipykernel_13112\\2782498958.py:35: FutureWarning: The default value of regex will change from True to False in a future version.\n",
      "  df['main_heating_controls'] = df['main_heating_controls'].str.replace(\"\\&\",\"and\")\n",
      "C:\\Users\\Joanna\\AppData\\Local\\Temp\\ipykernel_13112\\2782498958.py:36: FutureWarning: The default value of regex will change from True to False in a future version.\n",
      "  df['main_heating_controls'] = df['main_heating_controls'].str.replace(\"trv.s\",\"trvs\")\n",
      "C:\\Users\\Joanna\\AppData\\Local\\Temp\\ipykernel_13112\\2782498958.py:54: FutureWarning: The default value of regex will change from True to False in a future version.\n",
      "  df['main_heating_controls'] = df['main_heating_controls'].str.replace(\"temp+$\",\"temperature\")\n",
      "C:\\Users\\Joanna\\AppData\\Local\\Temp\\ipykernel_13112\\2782498958.py:59: FutureWarning: The default value of regex will change from True to False in a future version.\n",
      "  df['main_heating_controls'] = df['main_heating_controls'].str.replace(\"programmer\\?and\",\"programmer and\")\n"
     ]
    }
   ],
   "source": [
    "def heat_control_cleanup(df):\n",
    "    \n",
    "    ''' \n",
    "    cleans-up the main_heating_controls feature from the EPC dataset\n",
    "    Parameters\n",
    "      df: a dataframe containing a variable called 'main_heating_controls'\n",
    "    Returns a dataframe \n",
    "    '''\n",
    "    \n",
    "    df['main_heating_controls'] = df['main_heating_controls'].str.lower()\n",
    "\n",
    "    # translating welsh sentences\n",
    "    df['main_heating_controls'] = df['main_heating_controls'].str.replace(r\"rheoli.r t.l . llaw\",\"manual charge control\")\n",
    "    df['main_heating_controls'] = df['main_heating_controls'].str.replace(\"rhaglennydd, dim thermostat ystafell\",\"programmer, no room thermostat\")\n",
    "    df['main_heating_controls'] = df['main_heating_controls'].str.replace(\"rheolaeth amser a rheolaeth parthau tymheredd\",\"time and temperature zone control\")\n",
    "    df['main_heating_controls'] = df['main_heating_controls'].str.replace(\"rhaglennydd a thermostat ystafell\",\"programmer and room thermostat\")\n",
    "    df['main_heating_controls'] = df['main_heating_controls'].str.replace(\"rhaglennydd a thermostatau ar y cyfarpar\",\"programmer and appliance thermostats\")\n",
    "    df['main_heating_controls'] = df['main_heating_controls'].str.replace(\"rhaglennydd ac o leiaf ddau thermostat ystafell\",\"programmer and at least two room thermostats\")\n",
    "    df['main_heating_controls'] = df['main_heating_controls'].str.replace(\"thermostat ystafell yn unig\",\"room thermostat only\")\n",
    "    df['main_heating_controls'] = df['main_heating_controls'].str.replace(\"dim rheolaeth thermostatig ar dymheredd yr ystafell\",\"no thermostatic control of room temperature\")\n",
    "    df['main_heating_controls'] = df['main_heating_controls'].str.replace(\"rheoli gwefr drydanol yn awtomatig\",\"automatic charge control\")\n",
    "    df['main_heating_controls'] = df['main_heating_controls'].str.replace(\"dim rheolaeth amser na rheolaeth thermostatig ar dymheredd yr ystafell\",\"no time or thermostatic control of room temperature\")\n",
    "    df['main_heating_controls'] = df['main_heating_controls'].str.replace(\"trvs a falf osgoi\",\"trvs and bypass\")\n",
    "    df['main_heating_controls'] = df['main_heating_controls'].str.replace(\"rhaglennydd\",\"programmer\")\n",
    "    df['main_heating_controls'] = df['main_heating_controls'].str.replace(\"tal un gyfradd, thermostat ystafell yn unig\",\"flat rate charging, room thermostat only\")\n",
    "    df['main_heating_controls'] = df['main_heating_controls'].str.replace(\"thermostat ystafell a trvs\",\"room thermostat and trvs\")\n",
    "    df['main_heating_controls'] = df['main_heating_controls'].str.replace(\"t(.*?)l un gyfradd\",\"flat rate charging\")\n",
    "    df['main_heating_controls'] = df['main_heating_controls'].str.replace(\"thermostatau ar y cyfarpar\",\"appliance thermostat\")\n",
    "    df['main_heating_controls'] = df['main_heating_controls'].str.replace(\"dim\",\"none\")\n",
    "\n",
    "    # standardising language\n",
    "    df['main_heating_controls'] = df['main_heating_controls'].str.replace(\"programmer, no thermostat\",\"programmer, no room thermostat\")\n",
    "    df['main_heating_controls'] = df['main_heating_controls'].str.replace(\"flat rate charging\\*\",\"flat rate charging\")\n",
    "    df['main_heating_controls'] = df['main_heating_controls'].str.replace(\"\\+\",\"and\")\n",
    "    df['main_heating_controls'] = df['main_heating_controls'].str.replace(\"\\&\",\"and\")\n",
    "    df['main_heating_controls'] = df['main_heating_controls'].str.replace(\"trv.s\",\"trvs\")\n",
    "    df['main_heating_controls'] = df['main_heating_controls'].str.replace(\"thermostats\",\"thermostat\")\n",
    "    df['main_heating_controls'] = df['main_heating_controls'].str.replace(\"communit \",\"community \")\n",
    "    df['main_heating_controls'] = df['main_heating_controls'].str.replace(\"to the use of community heating\",\"to use of community heating\")\n",
    "    df['main_heating_controls'] = df['main_heating_controls'].str.replace(\" stat\",\" thermostat\")\n",
    "    df['main_heating_controls'] = df['main_heating_controls'].str.replace(\"controls\",\"control\")\n",
    "    df['main_heating_controls'] = df['main_heating_controls'].str.replace(\"prog \",\"programmer \")\n",
    "    df['main_heating_controls'] = df['main_heating_controls'].str.replace(\"program \",\"programmer \")\n",
    "    df['main_heating_controls'] = df['main_heating_controls'].str.replace(\"programmerand\",\"programmer and\")\n",
    "    df['main_heating_controls'] = df['main_heating_controls'].str.replace(\"delayed start thermostat and program and trvs\",\"delayed start thermostat, program and trvs\")\n",
    "    df['main_heating_controls'] = df['main_heating_controls'].str.replace(\"thermostatic\",\"thermostat\")\n",
    "    df['main_heating_controls'] = df['main_heating_controls'].str.replace(\"flat rate charging, programmer no room thermostat\",\"flat rate charging, programmer, no room thermostat\")\n",
    "    df['main_heating_controls'] = df['main_heating_controls'].str.replace(\" 2 \",\" two \")\n",
    "    df['main_heating_controls'] = df['main_heating_controls'].str.replace(\"roomstat\",\"room thermostat\")\n",
    "    df['main_heating_controls'] = df['main_heating_controls'].str.replace(\"programmer and room thermostat and trvs\",\"programmer, room thermostat and trvs\")\n",
    "    df['main_heating_controls'] = df['main_heating_controls'].str.replace(\"programmer and trvs and boiler energy manager\",\"programmer, trvs and boiler energy manager\")\n",
    "    df['main_heating_controls'] = df['main_heating_controls'].str.replace(\"programmer and trvs and bypass\",\"programmer, trvs and bypass\")\n",
    "    df['main_heating_controls'] = df['main_heating_controls'].str.replace(\"programmer and trvs and flow switch\",\"programmer, trvs and flow switch\")\n",
    "    df['main_heating_controls'] = df['main_heating_controls'].str.replace(\"temp+$\",\"temperature\")\n",
    "    df['main_heating_controls'] = df['main_heating_controls'].str.replace(\"no thermostat control of room temperature\",\"no thermostat control\")\n",
    "    df['main_heating_controls'] = df['main_heating_controls'].str.replace(\"appliance thermostat and programmer\",\"programmer and appliance thermostat\")\n",
    "    df['main_heating_controls'] = df['main_heating_controls'].str.replace(\"delayed start thermostat and programmer and trvs\",\"delayed start thermostat, programmer and trvs\")\n",
    "    df['main_heating_controls'] = df['main_heating_controls'].str.replace(\"no time or thermostat control of temperature\",\"no time or thermostat control of room temperature\")\n",
    "    df['main_heating_controls'] = df['main_heating_controls'].str.replace(\"programmer\\?and\",\"programmer and\")\n",
    "  \n",
    "    \n",
    "    return df\n",
    "\n",
    "cert = heat_control_cleanup(cert)"
   ]
  },
  {
   "cell_type": "code",
   "execution_count": 442,
   "id": "ed94b195-ff87-4382-acb6-2332813e194f",
   "metadata": {},
   "outputs": [],
   "source": [
    "# this might have been dealt with already \n",
    "cert['transaction_type'] = cert['transaction_type'].str.replace(\" - this is for backwards compatibility only and should not be used\",\"\")\n",
    "cert['glazed_type'] = cert['glazed_type'].replace('INVALID!',np.nan)"
   ]
  },
  {
   "cell_type": "markdown",
   "id": "15579f1e-b352-4ca4-ad3b-04eab4255def",
   "metadata": {},
   "source": [
    "## Proper clean up on categorical and numeric variables\n",
    "\n",
    "This is still largely incomplete - only focussed on variables that are likely to be known by a user."
   ]
  },
  {
   "cell_type": "markdown",
   "id": "a238fd87-e799-45f0-9560-dee311ff7a81",
   "metadata": {},
   "source": [
    "#### Floor level\n",
    "Will create 2 variables - a variable with the floor number (where available), and another one with some rough classes (bottom, mid, top floors)"
   ]
  },
  {
   "cell_type": "code",
   "execution_count": 443,
   "id": "32149b95-8fd5-4e1a-8015-3bbc77676e51",
   "metadata": {},
   "outputs": [],
   "source": [
    "#TODO: check these\n",
    "# cert.floor_level.value_counts()"
   ]
  },
  {
   "cell_type": "code",
   "execution_count": 444,
   "id": "ac0d568d-b4b7-4e7e-9ed7-bba50537c036",
   "metadata": {},
   "outputs": [],
   "source": [
    "# np.savetxt(\"floor_level_mapper.csv\", cert.floor_level.unique(), delimiter=\",\", fmt='%s')"
   ]
  },
  {
   "cell_type": "code",
   "execution_count": 445,
   "id": "4854f9c7-8e21-477e-b51a-58dbfd1dc868",
   "metadata": {},
   "outputs": [],
   "source": [
    "#prepare the mapper\n",
    "floor_level_mapper = pd.read_csv('floor_level_mapper.csv')\n",
    "\n",
    "keys = floor_level_mapper.iloc[:,0].values.tolist()\n",
    "values1 = floor_level_mapper.iloc[:,1].values.tolist()\n",
    "# values2 = floor_level_mapper.iloc[:,2].values.tolist()\n",
    "\n",
    "floor_level_numeric_mapper = {k:v for (k,v) in zip(keys,values1)}\n",
    "# floor_level_classes_mapper = {k:v for (k,v) in zip(keys,values2)}"
   ]
  },
  {
   "cell_type": "code",
   "execution_count": 446,
   "id": "f4f8bcba-774b-4bbf-a68b-f39044484fdd",
   "metadata": {},
   "outputs": [
    {
     "name": "stdout",
     "output_type": "stream",
     "text": [
      "322984 314693\n"
     ]
    },
    {
     "data": {
      "text/plain": [
       "1.000     36140\n",
       "0.000     33892\n",
       "2.000     17804\n",
       "3.000      6077\n",
       "4.000      1737\n",
       "-1.000     1355\n",
       "5.000       847\n",
       "6.000       387\n",
       "7.000       292\n",
       "10.000      215\n",
       "8.000       213\n",
       "9.000       187\n",
       "11.000      149\n",
       "12.000      125\n",
       "14.000      111\n",
       "13.000       98\n",
       "15.000       49\n",
       "16.000       40\n",
       "17.000       13\n",
       "21.000        2\n",
       "Name: floor_level_numeric, dtype: int64"
      ]
     },
     "execution_count": 446,
     "metadata": {},
     "output_type": "execute_result"
    }
   ],
   "source": [
    "# Map numeric\n",
    "cert['floor_level_numeric'] = cert.floor_level.map(floor_level_numeric_mapper)\n",
    "print(cert.floor_level_numeric.isna().sum(), cert.floor_level.isna().sum())\n",
    "cert.floor_level_numeric.value_counts()"
   ]
  },
  {
   "cell_type": "code",
   "execution_count": 536,
   "id": "a2e1fc19-59f3-4256-9236-6bdee3facc0c",
   "metadata": {},
   "outputs": [],
   "source": [
    "# cert.floor_level.isna().sum(), cert.floor_level_numeric.isna().sum()"
   ]
  },
  {
   "cell_type": "code",
   "execution_count": 447,
   "id": "1e11ea0e-cc83-4d1a-954c-f62dd3de6c4d",
   "metadata": {},
   "outputs": [
    {
     "name": "stdout",
     "output_type": "stream",
     "text": [
      "315143\n"
     ]
    },
    {
     "data": {
      "text/plain": [
       "low floors      61557\n",
       "ground floor    35256\n",
       "mid floors       6520\n",
       "top floors       4241\n",
       "Name: floor_level_classes, dtype: int64"
      ]
     },
     "execution_count": 447,
     "metadata": {},
     "output_type": "execute_result"
    }
   ],
   "source": [
    "# review these when dataset is complete\n",
    "floor_level_dict = dict.fromkeys(['Ground','ground floor','Basement',],'ground floor')\n",
    "floor_level_dict1 = dict.fromkeys(['1st','2nd','3rd','4th'],'low floors')\n",
    "floor_level_dict2 = dict.fromkeys(['mid floor','5th','6th','7th','8th','9th','10th','11th'],'mid floors')\n",
    "floor_level_dict3 = dict.fromkeys(['top floor','12th','13th','14th','15th','16th','17th','18th','19th','20th',\n",
    "                                   '21st or above'],'top floors')\n",
    "floor_level_dict4 = {\n",
    "    '1st':'low floors',\n",
    "    'Ground':'ground floor',\n",
    "    '2nd':'low floors',\n",
    "    '01':'low floors',\n",
    "    '00':'ground floor',\n",
    "    '3rd':'low floors',\n",
    "    '02':'low floors',\n",
    "    'ground floor':'ground floor',\n",
    "    '1.0':'low floors',\n",
    "    '0.0':'ground floor',\n",
    "    '2.0':'low floors',\n",
    "    '4th':'low floors',\n",
    "    '03':'low floors',\n",
    "    '3':'low floors',\n",
    "    '1':'low floors',\n",
    "    '2':'low floors',\n",
    "    '0':'ground floor',\n",
    "    '-1':'ground floor',\n",
    "    'Basement':'ground floor'\n",
    "}\n",
    "\n",
    "floor_level_dict.update(floor_level_dict1)\n",
    "floor_level_dict.update(floor_level_dict2)\n",
    "floor_level_dict.update(floor_level_dict3)\n",
    "floor_level_dict.update(floor_level_dict4)\n",
    "\n",
    "cert['floor_level_classes'] = cert.floor_level.map(floor_level_dict)\n",
    "\n",
    "print(cert.floor_level_classes.isna().sum())\n",
    "cert.floor_level_classes.value_counts()\n",
    "\n"
   ]
  },
  {
   "cell_type": "markdown",
   "id": "e4458752-a891-43c2-aaca-912659cf74b1",
   "metadata": {},
   "source": [
    "#### Main Heating Controls\n",
    "\n",
    "TODO: check this - the DSCampus analysis does use this, but does not seem to be the same field"
   ]
  },
  {
   "cell_type": "code",
   "execution_count": 538,
   "id": "34a263c8-94c8-47d8-ae9e-d0331e44474a",
   "metadata": {},
   "outputs": [
    {
     "data": {
      "text/plain": [
       "2106    79897\n",
       "2104    32194\n",
       "2107    21445\n",
       "2401    10981\n",
       "2102     6364\n",
       "2402     2347\n",
       "2601     2164\n",
       "2602     2164\n",
       "2103     1920\n",
       "2101     1743\n",
       "2603     1723\n",
       "2111     1557\n",
       "2307      987\n",
       "2699      907\n",
       "2105      748\n",
       "2110      619\n",
       "2504      458\n",
       "2404      418\n",
       "2305      367\n",
       "2109      309\n",
       "Name: main_heating_controls, dtype: int64"
      ]
     },
     "execution_count": 538,
     "metadata": {},
     "output_type": "execute_result"
    }
   ],
   "source": [
    "cert.main_heating_controls.value_counts()[:20]"
   ]
  },
  {
   "cell_type": "markdown",
   "id": "46a91115-dea5-4085-b590-283eeeb28be5",
   "metadata": {},
   "source": [
    "#### Hot Water Description\n",
    "\n",
    "Taken from DSCampus analysis"
   ]
  },
  {
   "cell_type": "code",
   "execution_count": 449,
   "id": "26e8f019-62e6-4919-a0c4-635a2977587f",
   "metadata": {},
   "outputs": [],
   "source": [
    "def hotwater_types(df):\n",
    "\n",
    "    df['hotwater_mains'] = df.apply(lambda row: 1 if 'from main system' in str(row['hotwater_description']).lower() else 0,axis = 1)\n",
    "    df['hotwater_immersion'] = df.apply(lambda row: 1 if 'immersion' in str(row['hotwater_description']).lower() else 0,axis = 1)\n",
    "    df['hotwater_commmunity'] = df.apply(lambda row: 1 if 'community' in str(row['hotwater_description']).lower() else 0,axis = 1)\n",
    "    df['hotwater_solar'] = df.apply(lambda row: 1 if 'solar' in str(row['hotwater_description']).lower() else 0,axis = 1)\n",
    "    df['hotwater_gas'] = df.apply(lambda row: 1 if 'gas' in str(row['hotwater_description']).lower() else 0,axis = 1)\n",
    "    df['hotwater_recovery'] = df.apply(lambda row: 1 if 'recovery' in str(row['hotwater_description']).lower() else 0,axis = 1)\n",
    "\n",
    "    return df\n",
    "\n",
    "cert = hotwater_types(cert)"
   ]
  },
  {
   "cell_type": "markdown",
   "id": "53649bd5-9d14-41ed-be5e-69bc7986f91f",
   "metadata": {},
   "source": [
    "#### Windows description\n",
    "\n",
    "3 fields: 'windows_description', 'windows_energy_eff', 'windows_env_eff'\n",
    "\n",
    "Will only use the description for now - and it seems pretty much the same as 'glazed_type'"
   ]
  },
  {
   "cell_type": "code",
   "execution_count": 450,
   "id": "a20b8cad-9fff-4227-b6b0-0ce5c70d5a1d",
   "metadata": {},
   "outputs": [
    {
     "data": {
      "text/plain": [
       "full double glazing          323137\n",
       "high performance glazing      32316\n",
       "single glazing                21082\n",
       "partial double glazing        18543\n",
       "mostly double glazing         15816\n",
       "some double glazing            5935\n",
       "other                          1874\n",
       "partial secondary glazing      1353\n",
       "full secondary glazing         1345\n",
       "full triple glazing             574\n",
       "Name: windows_description, dtype: int64"
      ]
     },
     "execution_count": 450,
     "metadata": {},
     "output_type": "execute_result"
    }
   ],
   "source": [
    "# Mark rare labels as 'other'\n",
    "# todo: review this on the overall file\n",
    "wd_counts = cert.windows_description.value_counts()\n",
    "wd_rare = wd_counts[wd_counts <= 500].index\n",
    "cert['windows_description'] = cert.windows_description.replace(wd_rare,'other')\n",
    "cert.windows_description.value_counts()"
   ]
  },
  {
   "cell_type": "markdown",
   "id": "d9bc7a0e-b7b1-4383-b0de-d1199d84be76",
   "metadata": {},
   "source": [
    "#### Roof type\n",
    "\n",
    "Will derive 2 0-1 features capturing if roof is pitched or flat"
   ]
  },
  {
   "cell_type": "code",
   "execution_count": 451,
   "id": "43827512-33c1-48eb-b9e3-3e78acc06464",
   "metadata": {},
   "outputs": [],
   "source": [
    "def roof_types(df):\n",
    "\n",
    "    df['pitched_roof'] = df.apply(lambda row: 1 if 'pitched' in str(row['roof_description']).lower() else 0,axis = 1)\n",
    "    df['flat_roof'] = df.apply(lambda row: 1 if 'flat' in str(row['roof_description']).lower() else 0,axis = 1)\n",
    "\n",
    "    return df\n",
    "\n",
    "cert = roof_types(cert)"
   ]
  },
  {
   "cell_type": "markdown",
   "id": "80b1820d-6af7-48ef-b097-89b6ecf6f71f",
   "metadata": {},
   "source": [
    "#### Main heat\n",
    "\n",
    "Will get rid of rare labels and use the rest as categories"
   ]
  },
  {
   "cell_type": "code",
   "execution_count": 452,
   "id": "5c800240-05aa-4946-b81f-a99a2e102fb3",
   "metadata": {},
   "outputs": [
    {
     "data": {
      "text/plain": [
       "Boiler and radiators, mains gas                                                 332253\n",
       "Electric storage heaters                                                         28857\n",
       "Boiler and radiators, oil                                                        15726\n",
       "Room heaters, electric                                                           12498\n",
       "Community scheme                                                                  8283\n",
       "Boiler and radiators, LPG                                                         3824\n",
       "Boiler and underfloor heating, mains gas                                          2297\n",
       "Boiler and radiators, electric                                                    2225\n",
       "No system present: electric heaters assumed                                       1837\n",
       "other                                                                             1816\n",
       "Room heaters, mains gas                                                           1685\n",
       "Air source heat pump, radiators, electric                                         1613\n",
       "Warm air, mains gas                                                               1542\n",
       "Electric underfloor heating                                                        662\n",
       "Boiler and radiators, coal                                                         631\n",
       "Boiler and radiators, dual fuel (mineral and wood)                                 611\n",
       "Air source heat pump, underfloor, electric                                         606\n",
       "Boiler and underfloor heating, oil                                                 601\n",
       "Portable electric heaters assumed for most rooms                                   559\n",
       "Boiler & underfloor, mains gas                                                     502\n",
       "Room heaters, dual fuel (mineral and wood)                                         397\n",
       "Community scheme, mains gas                                                        298\n",
       "Boiler and radiators, wood logs                                                    295\n",
       "Room heaters, wood logs                                                            262\n",
       "Ground source heat pump, underfloor, electric                                      261\n",
       "Boiler and radiators, bottled LPG                                                  196\n",
       "Boiler and underfloor heating, electric                                            191\n",
       "Room heaters, coal                                                                 182\n",
       "Boiler and radiators, |Bwyler a rheiddiaduron, |mains gas|nwy prif gyflenwad       162\n",
       "Air source heat pump, electric                                                     162\n",
       "Boiler and radiators, anthracite                                                   158\n",
       "Boiler and underfloor heating, LPG                                                 145\n",
       "Boiler and radiators, wood pellets                                                 143\n",
       "Ground source heat pump, radiators, electric                                       136\n",
       "Boiler and radiators, smokeless fuel                                               113\n",
       "Name: mainheat_description, dtype: int64"
      ]
     },
     "execution_count": 452,
     "metadata": {},
     "output_type": "execute_result"
    }
   ],
   "source": [
    "# Mark rare labels as 'other'\n",
    "# todo: review this on the overall file\n",
    "mh_counts = cert.mainheat_description.value_counts()\n",
    "mh_rare = mh_counts[mh_counts <= 100].index\n",
    "cert['mainheat_description'] = cert.mainheat_description.replace(mh_rare,'other')\n",
    "cert.mainheat_description.value_counts()"
   ]
  },
  {
   "cell_type": "markdown",
   "id": "ad27d89f-5e8b-4a17-b284-5e6d86bd7aa0",
   "metadata": {},
   "source": [
    "#### Main heating controls\n",
    "\n",
    "Replace rare labels"
   ]
  },
  {
   "cell_type": "code",
   "execution_count": 453,
   "id": "455b8cd5-457d-4a5f-a815-a862c35fcc51",
   "metadata": {},
   "outputs": [
    {
     "data": {
      "text/plain": [
       "Programmer, room thermostat and TRVs                                       199610\n",
       "Programmer and room thermostat                                              73818\n",
       "Programmer, TRVs and bypass                                                 42337\n",
       "Time and temperature zone control                                           25565\n",
       "Manual charge control                                                       22737\n",
       "Programmer, no room thermostat                                              12532\n",
       "Programmer and appliance thermostats                                         5845\n",
       "Automatic charge control                                                     5274\n",
       "Appliance thermostats                                                        4593\n",
       "No thermostatic control of room temperature                                  4235\n",
       "Room thermostat only                                                         3906\n",
       "No time or thermostatic control of room temperature                          3088\n",
       "Flat rate charging, TRVs                                                     2783\n",
       "TRVs and bypass                                                              2633\n",
       "Flat rate charging, programmer and TRVs                                      2191\n",
       "Programmer and at least two room thermostats                                 1983\n",
       "None                                                                         1851\n",
       "Charging system linked to use of community heating, programmer and TRVs      1107\n",
       "other                                                                        1024\n",
       "Controls for high heat retention storage heaters                              934\n",
       "Programmer and room thermostats                                               675\n",
       "Programmer, TRVs and boiler energy manager                                    672\n",
       "Flat rate charging, programmer and room thermostat                            637\n",
       "Flat rate charging, room thermostat only                                      550\n",
       "Flat rate charging, no thermostatic control of room temperature               535\n",
       "Flat rate charging, no stat control of room temperature                       264\n",
       "Flat rate charging, programmer, no room thermostat                            235\n",
       "Room thermostats only                                                         115\n",
       "Name: mainheatcont_description, dtype: int64"
      ]
     },
     "execution_count": 453,
     "metadata": {},
     "output_type": "execute_result"
    }
   ],
   "source": [
    "# todo: review this on the overall file\n",
    "mhc_counts = cert.mainheatcont_description.value_counts()\n",
    "mhc_rare = mhc_counts[mhc_counts <= 100].index\n",
    "cert['mainheatcont_description'] = cert.mainheatcont_description.replace(mhc_rare,'other')\n",
    "cert.mainheatcont_description.value_counts()"
   ]
  },
  {
   "cell_type": "markdown",
   "id": "88af6eff-d65f-4bcb-a96d-2bb67a8a45d1",
   "metadata": {},
   "source": [
    "#### Main fuel\n",
    "\n",
    "Created a manual mapper. TODO: review this when we have the full dataset"
   ]
  },
  {
   "cell_type": "code",
   "execution_count": 454,
   "id": "ba5f84eb-cebc-4d99-84ab-ed1910d555cd",
   "metadata": {},
   "outputs": [],
   "source": [
    "main_fuel_mapper = {\n",
    "    'mains gas (not community)':'mains gas',\n",
    "    'mains gas - this is for backwards compatibility only and should not be used':'mains gas',\n",
    "    'electricity (not community)':'electricity',\n",
    "    'electricity - this is for backwards compatibility only and should not be used':'electricity',\n",
    "    'mains gas (community)':'mains gas (community)',\n",
    "    'Gas: mains gas':'mains gas',\n",
    "    'To be used only when there is no heating/hot-water system':'no heating/hot-water system',\n",
    "    'oil (not community)':'oil', \n",
    "    'Electricity: electricity, unspecified tariff':'electricity',\n",
    "    'LPG (not community)':'LPG', \n",
    "    'dual fuel - mineral + wood':'dual fuel - mineral + wood',\n",
    "    'oil - this is for backwards compatibility only and should not be used':'oil',\n",
    "    'house coal (not community)':'coal',\n",
    "    'To be used only when there is no heating/hot-water system or data is from a community network':'no heating/hot-water system',\n",
    "    'smokeless coal':'coal', \n",
    "    'wood logs':'wood',\n",
    "    'LPG - this is for backwards compatibility only and should not be used':'LPG',\n",
    "    'bottled LPG':'LPG', \n",
    "    'INVALID!':np.nan, \n",
    "    'bulk wood pellets':'pellets', \n",
    "    'electricity (community)':'electricity (community)'\n",
    "}\n",
    "\n",
    "cert['main_fuel'] = cert.main_fuel.map(main_fuel_mapper)\n"
   ]
  },
  {
   "cell_type": "markdown",
   "id": "9cd56ac4-2ce5-4cf8-b431-55408ff29f4d",
   "metadata": {},
   "source": [
    "#### Wind turbine flag"
   ]
  },
  {
   "cell_type": "code",
   "execution_count": 455,
   "id": "e0c9e58f-c3a4-4951-b547-593d99c464a0",
   "metadata": {},
   "outputs": [],
   "source": [
    "cert['wind_turbine_flag'] = (cert.wind_turbine_count >= 1).astype(int)"
   ]
  },
  {
   "cell_type": "markdown",
   "id": "f9aa10b4-0763-4ae5-924b-562de07e1d51",
   "metadata": {},
   "source": [
    "#### Construction age band\n",
    "\n",
    "This could be very important. Make sure it is properly mapped."
   ]
  },
  {
   "cell_type": "code",
   "execution_count": 583,
   "id": "6bb398e6-a1f1-44db-bd3b-5320cb7a8478",
   "metadata": {},
   "outputs": [],
   "source": [
    "# # TODO: change this. Create 2 vars, one with the actual band and the other one as numeric (year of contruction)\n",
    "# cert['construction_age_band'] = cert.construction_age_band.replace('INVALID!',np.nan)\n",
    "# cert.construction_age_band.value_counts()"
   ]
  },
  {
   "cell_type": "code",
   "execution_count": 584,
   "id": "64a2993f-c874-4451-9a00-fc80b3cd8ab4",
   "metadata": {},
   "outputs": [
    {
     "data": {
      "text/plain": [
       "England and Wales: 1950-1966      72106\n",
       "England and Wales: 1967-1975      52865\n",
       "England and Wales: before 1900    38210\n",
       "England and Wales: 1900-1929      33775\n",
       "England and Wales: 1930-1949      33382\n",
       "Name: construction_age_band, dtype: int64"
      ]
     },
     "execution_count": 584,
     "metadata": {},
     "output_type": "execute_result"
    }
   ],
   "source": [
    "cert['construction_age_band'] = cert.apply(\n",
    "    lambda r: r['construction_age_band'] \n",
    "    if 'England' in str(r['construction_age_band']) \n",
    "    else np.nan, axis=1)\n",
    "\n",
    "cert.construction_age_band.value_counts().head(5)"
   ]
  },
  {
   "cell_type": "code",
   "execution_count": 585,
   "id": "a8f41a0e-6696-4527-9d22-8a7e0d8ec04f",
   "metadata": {},
   "outputs": [
    {
     "data": {
      "text/plain": [
       "Series([], Name: construction_age_numeric, dtype: int64)"
      ]
     },
     "execution_count": 585,
     "metadata": {},
     "output_type": "execute_result"
    }
   ],
   "source": [
    "#create numeric\n",
    "cert['construction_age_numeric'] = cert.apply(lambda row: int(row['construction_age_band'])\n",
    "                                            if str(row['construction_age_band']).isdigit() \n",
    "                                            else np.nan,axis = 1)\n",
    "\n",
    "cert.construction_age_numeric.value_counts().head(5)"
   ]
  },
  {
   "cell_type": "markdown",
   "id": "c8213897-b972-4157-a3f8-47df7b739715",
   "metadata": {
    "tags": []
   },
   "source": [
    "## Recommendations file clean-up\n",
    "\n",
    "Easier to cleanse, only a couple of steps"
   ]
  },
  {
   "cell_type": "code",
   "execution_count": 457,
   "id": "1e2e41ab-46dd-49f4-b869-5d426472ad6a",
   "metadata": {},
   "outputs": [],
   "source": [
    "#copy\n",
    "rec = df_rec.copy()"
   ]
  },
  {
   "cell_type": "code",
   "execution_count": 458,
   "id": "8126c877-c19b-45f6-ac48-107c626b10c6",
   "metadata": {},
   "outputs": [],
   "source": [
    "# lower case headers\n",
    "rec.columns = [c.lower() for c in rec.columns]"
   ]
  },
  {
   "cell_type": "code",
   "execution_count": 459,
   "id": "ef7cbc23-3290-4a16-9ff1-dfce040a8259",
   "metadata": {},
   "outputs": [
    {
     "data": {
      "text/plain": [
       "(1811920, 174245, 174245)"
      ]
     },
     "execution_count": 459,
     "metadata": {},
     "output_type": "execute_result"
    }
   ],
   "source": [
    "len(df_rec), df_rec.IMPROVEMENT_ID.isna().sum(), df_rec.IMPROVEMENT_ID_TEXT.isna().sum()"
   ]
  },
  {
   "cell_type": "markdown",
   "id": "fafc96e7-ef21-4fd7-a6e4-90ce9d6a2d43",
   "metadata": {},
   "source": [
    "#### Improvement id text\n",
    "\n",
    "`improvement_summary_text` sometimes contains the label that should go into `improvement_id_text`, therefore will copy it over and assign the corresponding `improvement_id`"
   ]
  },
  {
   "cell_type": "code",
   "execution_count": 460,
   "id": "3669e390-6309-4a77-a4a4-be4f7aa4f5b1",
   "metadata": {},
   "outputs": [
    {
     "data": {
      "text/plain": [
       "378        Low energy lighting for all fixed outlets\n",
       "379                              Solar water heating\n",
       "380                Solar photovoltaic panels, 2.5kWp\n",
       "5304       Low energy lighting for all fixed outlets\n",
       "11134      Low energy lighting for all fixed outlets\n",
       "                             ...                    \n",
       "1781545           Solar photovoltaic panels, 2.5 kWp\n",
       "1785390                          Solar water heating\n",
       "1785391           Solar photovoltaic panels, 2.5 kWp\n",
       "1790953                          Solar water heating\n",
       "1790954           Solar photovoltaic panels, 2.5 kWp\n",
       "Name: improvement_summary_text, Length: 1181, dtype: object"
      ]
     },
     "execution_count": 460,
     "metadata": {},
     "output_type": "execute_result"
    }
   ],
   "source": [
    "improv_descr_toreplace = rec.improvement_summary_text.loc[~rec.improvement_summary_text.isna()]\n",
    "improv_descr_toreplace"
   ]
  },
  {
   "cell_type": "code",
   "execution_count": 461,
   "id": "4611b4ff-c4c6-4556-a4ec-9555182d9f46",
   "metadata": {},
   "outputs": [],
   "source": [
    "# run assignment\n",
    "rec.loc[~rec.improvement_summary_text.isna(),'improvement_id_text'] = improv_descr_toreplace"
   ]
  },
  {
   "cell_type": "code",
   "execution_count": 462,
   "id": "a22225b6-3026-4938-9f9c-6c58b18417cf",
   "metadata": {},
   "outputs": [],
   "source": [
    "# fix some spelling issue\n",
    "rec.improvement_id_text = rec.improvement_id_text.replace(\n",
    "    'Solar photovoltaic panels, 2.5kWp','Solar photovoltaic panels, 2.5 kWp',regex=False)"
   ]
  },
  {
   "cell_type": "code",
   "execution_count": 463,
   "id": "bdbf3766-7f20-4694-bfc6-4d5908387f2e",
   "metadata": {},
   "outputs": [],
   "source": [
    "# now these cols will have taxt but not corresponding id\n",
    "# fix that\n",
    "text_to_assign = rec.loc[rec.improvement_id.isna() & ~rec.improvement_id_text.isna()].improvement_id_text.unique()\n",
    "text_reassignment_mapper = rec.loc[\n",
    "    rec.improvement_id_text.isin(text_to_assign)].groupby('improvement_id_text')['improvement_id'].max()\n",
    "\n",
    "text_reassignment_mapper = pd.DataFrame(text_reassignment_mapper)\n",
    "\n",
    "ids_to_replace = rec.loc[rec.improvement_id.isna() & ~rec.improvement_id_text.isna()].merge(\n",
    "    text_reassignment_mapper,left_on='improvement_id_text',right_index=True).improvement_id_y\n",
    "\n",
    "rec.loc[rec.improvement_id.isna() & ~rec.improvement_id_text.isna(), 'improvement_id'] = ids_to_replace"
   ]
  },
  {
   "cell_type": "code",
   "execution_count": 464,
   "id": "91b630d6-5038-473e-8d5c-9af65675ba2e",
   "metadata": {},
   "outputs": [],
   "source": [
    "#fix some more spelling issues\n",
    "rec.improvement_id_text = rec.improvement_id_text.replace({\n",
    "    'Upgrading heating controls':'Upgrade heating controls',\n",
    "    'Replace heating unit with mains gas condensing unit':'Replace heating unit with condensing unit'},\n",
    "    regex=False)\n"
   ]
  },
  {
   "cell_type": "markdown",
   "id": "84c2a7ff-9f60-4074-9ceb-56112e2565cd",
   "metadata": {},
   "source": [
    "#### Improvement ids\n",
    "\n",
    "Some ids have the same text. That means they represent the same type of improvement. As such they should be treated as the same class.\n",
    "\n",
    "TODO: more work can be done to infer improvement id from `improvement_descr_text`"
   ]
  },
  {
   "cell_type": "code",
   "execution_count": 465,
   "id": "148b028e-fb52-4bd2-aab1-78291f6f84f8",
   "metadata": {},
   "outputs": [
    {
     "data": {
      "text/plain": [
       "improvement_id_text                                              improvement_id\n",
       "50 mm internal or external wall insulation                       7.000              75054\n",
       "Add additional 80 mm jacket to hot water cylinder                3.000              17020\n",
       "Cavity wall insulation                                           6.000              87054\n",
       "Change heating to gas condensing boiler                          27.000              2009\n",
       "                                                                 29.000              2606\n",
       "                                                                 32.000                98\n",
       "Change room heaters to condensing boiler                         40.000              1621\n",
       "                                                                 41.000                92\n",
       "Condensing oil boiler with radiators                             28.000                15\n",
       "                                                                 43.000                12\n",
       "Draughtproof single-glazed windows                               10.000             18285\n",
       "Fan assisted storage heaters                                     25.000              4232\n",
       "Fan assisted storage heaters and dual immersion cylinder         24.000              3079\n",
       "                                                                 30.000              1289\n",
       "Fan-assisted storage heaters                                     31.000              1125\n",
       "Flat roof insulation                                             45.000             12955\n",
       "Floor insulation                                                 47.000             66794\n",
       "Flue gas heat recovery device in conjunction with boiler         50.000              6904\n",
       "Heat recovery system for mixer showers                           49.000              4289\n",
       "High heat retention storage heaters                              60.000              5808\n",
       "                                                                 62.000              3253\n",
       "High heat retention storage heaters and dual immersion cylinder  59.000              4200\n",
       "                                                                 61.000              3310\n",
       "High performance external doors                                  48.000              7291\n",
       "Hot water cylinder thermostat                                    4.000              16981\n",
       "Increase hot water cylinder insulation                           2.000              22215\n",
       "Increase loft insulation to 270 mm                               5.000              67962\n",
       "Install condensing boiler                                        37.000               913\n",
       "                                                                 38.000                 4\n",
       "Insulate hot water cylinder with 80 mm jacket                    1.000               2425\n",
       "Low energy lighting for all fixed outlets                        35.000            220661\n",
       "Party wall insulation                                            63.000              5414\n",
       "Replace boiler with biomass boiler                               22.000               104\n",
       "Replace boiler with new condensing boiler                        20.000            110841\n",
       "                                                                 21.000              8648\n",
       "Replace heating unit with condensing unit                        36.000               484\n",
       "Replace single glazed windows with low-E double glazing          8.000              33130\n",
       "Replacement glazing units                                        56.000             12789\n",
       "Replacement warm air unit                                        26.000              1010\n",
       "Room-in-roof insulation                                          46.000              9410\n",
       "Secondary glazing to single glazed windows                       9.000                738\n",
       "Solar photovoltaic panels, 2.5 kWp                               34.000            279731\n",
       "Solar water heating                                              19.000            262161\n",
       "Solid floor insulation                                           58.000             93598\n",
       "Suspended floor insulation                                       57.000             38254\n",
       "Time and temperature zone control                                16.000              1688\n",
       "Upgrade heating controls                                         11.000              2711\n",
       "                                                                 12.000             10739\n",
       "                                                                 13.000             40292\n",
       "                                                                 14.000             31354\n",
       "                                                                 15.000              2001\n",
       "                                                                 17.000                12\n",
       "                                                                 18.000                21\n",
       "Wind turbine                                                     44.000             33904\n",
       "Wood pellet stove with boiler and radiators                      23.000               151\n",
       "                                                                 39.000               115\n",
       "Name: lmk_key, dtype: int64"
      ]
     },
     "execution_count": 465,
     "metadata": {},
     "output_type": "execute_result"
    }
   ],
   "source": [
    "rec.groupby(['improvement_id_text','improvement_id'])['lmk_key'].count()"
   ]
  },
  {
   "cell_type": "code",
   "execution_count": 466,
   "id": "65d45b06-3067-4912-ae4c-c10614f75d97",
   "metadata": {},
   "outputs": [],
   "source": [
    "#when multiple IDs are assigned to the same text description, just choose one of them \n",
    "#for all (so we reduce the number of classes)\n",
    "\n",
    "text_to_id_mapper = rec.groupby('improvement_id_text')['improvement_id'].min()\n",
    "text_to_id_mapper = pd.DataFrame(text_to_id_mapper)\n",
    "\n",
    "improvement_id_toreplace = rec.merge(\n",
    "    text_to_id_mapper,how='left',left_on='improvement_id_text', right_index=True).improvement_id_y\n",
    "\n",
    "rec.improvement_id = improvement_id_toreplace"
   ]
  },
  {
   "cell_type": "code",
   "execution_count": 467,
   "id": "0d4a7570-27f2-4269-9089-d82b5cdee2ca",
   "metadata": {},
   "outputs": [],
   "source": [
    "# still many cases where id is null, for now will just drop those\n",
    "\n",
    "rec.drop(rec.loc[rec.improvement_id.isna()].index,inplace=True)"
   ]
  },
  {
   "cell_type": "markdown",
   "id": "05830b15-b85d-41e1-83a6-d037a2ac88f3",
   "metadata": {},
   "source": [
    "## Final checks on cert and rec sets"
   ]
  },
  {
   "cell_type": "code",
   "execution_count": 468,
   "id": "bd4be427-fdb4-47bd-97bf-192eca14ff90",
   "metadata": {},
   "outputs": [
    {
     "data": {
      "text/plain": [
       "True"
      ]
     },
     "execution_count": 468,
     "metadata": {},
     "output_type": "execute_result"
    }
   ],
   "source": [
    "# check that lmk key is unique \n",
    "cert.lmk_key.nunique() == len(cert)"
   ]
  },
  {
   "cell_type": "code",
   "execution_count": 469,
   "id": "763c138a-0288-4ac8-a397-4259bd363f46",
   "metadata": {},
   "outputs": [
    {
     "data": {
      "text/plain": [
       "(422717, 361514)"
      ]
     },
     "execution_count": 469,
     "metadata": {},
     "output_type": "execute_result"
    }
   ],
   "source": [
    "# there are some certificates in cert that do not have any corresponding records in rec\n",
    "len(cert), cert.lmk_key.isin(rec.lmk_key).sum()"
   ]
  },
  {
   "cell_type": "code",
   "execution_count": 470,
   "id": "9d131660-5a31-40df-9e38-3f9fd3b4add3",
   "metadata": {},
   "outputs": [],
   "source": [
    "# get rid of certificates that do not have corresponding recommendations\n",
    "cert.drop(cert[~cert.lmk_key.isin(rec.lmk_key)].index, inplace=True)\n"
   ]
  },
  {
   "cell_type": "code",
   "execution_count": 471,
   "id": "5e7ec2d0-dddc-4252-88ec-f03c977c71fc",
   "metadata": {},
   "outputs": [
    {
     "data": {
      "text/plain": [
       "(1638856, 1638004)"
      ]
     },
     "execution_count": 471,
     "metadata": {},
     "output_type": "execute_result"
    }
   ],
   "source": [
    "# also get rid of recommendations that do not have a corresponding certificate\n",
    "len(rec), rec.lmk_key.isin(cert.lmk_key).sum()"
   ]
  },
  {
   "cell_type": "code",
   "execution_count": 472,
   "id": "2706a089-2047-4dbf-830d-6a2690424809",
   "metadata": {},
   "outputs": [],
   "source": [
    "rec.drop(rec[~rec.lmk_key.isin(cert.lmk_key)].index, inplace=True)"
   ]
  },
  {
   "cell_type": "code",
   "execution_count": 473,
   "id": "8afb2bbb-4a07-488f-92e1-230980bf574d",
   "metadata": {},
   "outputs": [],
   "source": [
    "# merge the sets\n",
    "merged = cert.merge(rec, how='left', left_on='lmk_key', right_on='lmk_key')\n"
   ]
  },
  {
   "cell_type": "code",
   "execution_count": 474,
   "id": "d99e3e57-597a-49b9-b526-450d357a0de8",
   "metadata": {},
   "outputs": [
    {
     "data": {
      "text/plain": [
       "4    0.173\n",
       "5    0.164\n",
       "3    0.146\n",
       "6    0.133\n",
       "2    0.133\n",
       "7    0.085\n",
       "1    0.070\n",
       "8    0.052\n",
       "9    0.023\n",
       "10   0.013\n",
       "11   0.004\n",
       "12   0.003\n",
       "14   0.001\n",
       "16   0.000\n",
       "13   0.000\n",
       "18   0.000\n",
       "20   0.000\n",
       "22   0.000\n",
       "24   0.000\n",
       "15   0.000\n",
       "Name: improvement_id, dtype: float64"
      ]
     },
     "execution_count": 474,
     "metadata": {},
     "output_type": "execute_result"
    }
   ],
   "source": [
    "# get an idea of how many recommendations per certificate\n",
    "merged.groupby('lmk_key')['improvement_id'].count().value_counts() / len(cert)"
   ]
  },
  {
   "cell_type": "code",
   "execution_count": 475,
   "id": "ec110a60-99c1-4b14-bfa9-957be8e4c5b4",
   "metadata": {},
   "outputs": [
    {
     "data": {
      "text/plain": [
       "(1638004, 1638004, 361514, 361514, 361514)"
      ]
     },
     "execution_count": 475,
     "metadata": {},
     "output_type": "execute_result"
    }
   ],
   "source": [
    "# final check\n",
    "len(merged), len(rec), merged.lmk_key.nunique(), cert.lmk_key.nunique(), rec.lmk_key.nunique()"
   ]
  },
  {
   "cell_type": "code",
   "execution_count": 476,
   "id": "f6a3332b-d2a7-42cd-bb60-f0decc393a87",
   "metadata": {},
   "outputs": [
    {
     "data": {
      "text/plain": [
       "improvement_id\n",
       "1.000        Insulate hot water cylinder with 80 mm jacket\n",
       "2.000               Increase hot water cylinder insulation\n",
       "3.000    Add additional 80 mm jacket to hot water cylinder\n",
       "4.000                        Hot water cylinder thermostat\n",
       "5.000                   Increase loft insulation to 270 mm\n",
       "Name: improvement_id_text, dtype: object"
      ]
     },
     "execution_count": 476,
     "metadata": {},
     "output_type": "execute_result"
    }
   ],
   "source": [
    "# get id to text mapper\n",
    "id_to_text_mapper = rec.groupby('improvement_id').improvement_id_text.max()\n",
    "id_to_text_mapper.head(5)"
   ]
  },
  {
   "cell_type": "code",
   "execution_count": 477,
   "id": "3fcc17fe-3479-4561-bc79-5e92f2059622",
   "metadata": {},
   "outputs": [
    {
     "data": {
      "text/html": [
       "<div>\n",
       "<style scoped>\n",
       "    .dataframe tbody tr th:only-of-type {\n",
       "        vertical-align: middle;\n",
       "    }\n",
       "\n",
       "    .dataframe tbody tr th {\n",
       "        vertical-align: top;\n",
       "    }\n",
       "\n",
       "    .dataframe thead th {\n",
       "        text-align: right;\n",
       "    }\n",
       "</style>\n",
       "<table border=\"1\" class=\"dataframe\">\n",
       "  <thead>\n",
       "    <tr style=\"text-align: right;\">\n",
       "      <th></th>\n",
       "      <th>vol</th>\n",
       "      <th>perc</th>\n",
       "      <th>text</th>\n",
       "    </tr>\n",
       "    <tr>\n",
       "      <th>improvement_id</th>\n",
       "      <th></th>\n",
       "      <th></th>\n",
       "      <th></th>\n",
       "    </tr>\n",
       "  </thead>\n",
       "  <tbody>\n",
       "    <tr>\n",
       "      <th>1.000</th>\n",
       "      <td>2424</td>\n",
       "      <td>0.671</td>\n",
       "      <td>Insulate hot water cylinder with 80 mm jacket</td>\n",
       "    </tr>\n",
       "    <tr>\n",
       "      <th>2.000</th>\n",
       "      <td>22212</td>\n",
       "      <td>6.144</td>\n",
       "      <td>Increase hot water cylinder insulation</td>\n",
       "    </tr>\n",
       "    <tr>\n",
       "      <th>3.000</th>\n",
       "      <td>17008</td>\n",
       "      <td>4.705</td>\n",
       "      <td>Add additional 80 mm jacket to hot water cylinder</td>\n",
       "    </tr>\n",
       "    <tr>\n",
       "      <th>4.000</th>\n",
       "      <td>16978</td>\n",
       "      <td>4.696</td>\n",
       "      <td>Hot water cylinder thermostat</td>\n",
       "    </tr>\n",
       "    <tr>\n",
       "      <th>5.000</th>\n",
       "      <td>67938</td>\n",
       "      <td>18.793</td>\n",
       "      <td>Increase loft insulation to 270 mm</td>\n",
       "    </tr>\n",
       "    <tr>\n",
       "      <th>6.000</th>\n",
       "      <td>87054</td>\n",
       "      <td>24.080</td>\n",
       "      <td>Cavity wall insulation</td>\n",
       "    </tr>\n",
       "    <tr>\n",
       "      <th>7.000</th>\n",
       "      <td>74887</td>\n",
       "      <td>20.715</td>\n",
       "      <td>50 mm internal or external wall insulation</td>\n",
       "    </tr>\n",
       "    <tr>\n",
       "      <th>8.000</th>\n",
       "      <td>33125</td>\n",
       "      <td>9.163</td>\n",
       "      <td>Replace single glazed windows with low-E doubl...</td>\n",
       "    </tr>\n",
       "    <tr>\n",
       "      <th>9.000</th>\n",
       "      <td>738</td>\n",
       "      <td>0.204</td>\n",
       "      <td>Secondary glazing to single glazed windows</td>\n",
       "    </tr>\n",
       "    <tr>\n",
       "      <th>10.000</th>\n",
       "      <td>18275</td>\n",
       "      <td>5.055</td>\n",
       "      <td>Draughtproof single-glazed windows</td>\n",
       "    </tr>\n",
       "    <tr>\n",
       "      <th>11.000</th>\n",
       "      <td>87049</td>\n",
       "      <td>24.079</td>\n",
       "      <td>Upgrade heating controls</td>\n",
       "    </tr>\n",
       "    <tr>\n",
       "      <th>16.000</th>\n",
       "      <td>1687</td>\n",
       "      <td>0.467</td>\n",
       "      <td>Time and temperature zone control</td>\n",
       "    </tr>\n",
       "    <tr>\n",
       "      <th>19.000</th>\n",
       "      <td>262161</td>\n",
       "      <td>72.518</td>\n",
       "      <td>Solar water heating</td>\n",
       "    </tr>\n",
       "    <tr>\n",
       "      <th>20.000</th>\n",
       "      <td>119433</td>\n",
       "      <td>33.037</td>\n",
       "      <td>Replace boiler with new condensing boiler</td>\n",
       "    </tr>\n",
       "    <tr>\n",
       "      <th>22.000</th>\n",
       "      <td>104</td>\n",
       "      <td>0.029</td>\n",
       "      <td>Replace boiler with biomass boiler</td>\n",
       "    </tr>\n",
       "    <tr>\n",
       "      <th>23.000</th>\n",
       "      <td>266</td>\n",
       "      <td>0.074</td>\n",
       "      <td>Wood pellet stove with boiler and radiators</td>\n",
       "    </tr>\n",
       "    <tr>\n",
       "      <th>24.000</th>\n",
       "      <td>4368</td>\n",
       "      <td>1.208</td>\n",
       "      <td>Fan assisted storage heaters and dual immersio...</td>\n",
       "    </tr>\n",
       "    <tr>\n",
       "      <th>25.000</th>\n",
       "      <td>4232</td>\n",
       "      <td>1.171</td>\n",
       "      <td>Fan assisted storage heaters</td>\n",
       "    </tr>\n",
       "    <tr>\n",
       "      <th>26.000</th>\n",
       "      <td>1010</td>\n",
       "      <td>0.279</td>\n",
       "      <td>Replacement warm air unit</td>\n",
       "    </tr>\n",
       "    <tr>\n",
       "      <th>27.000</th>\n",
       "      <td>4713</td>\n",
       "      <td>1.304</td>\n",
       "      <td>Change heating to gas condensing boiler</td>\n",
       "    </tr>\n",
       "    <tr>\n",
       "      <th>28.000</th>\n",
       "      <td>27</td>\n",
       "      <td>0.007</td>\n",
       "      <td>Condensing oil boiler with radiators</td>\n",
       "    </tr>\n",
       "    <tr>\n",
       "      <th>31.000</th>\n",
       "      <td>1125</td>\n",
       "      <td>0.311</td>\n",
       "      <td>Fan-assisted storage heaters</td>\n",
       "    </tr>\n",
       "    <tr>\n",
       "      <th>34.000</th>\n",
       "      <td>279731</td>\n",
       "      <td>77.378</td>\n",
       "      <td>Solar photovoltaic panels, 2.5 kWp</td>\n",
       "    </tr>\n",
       "    <tr>\n",
       "      <th>35.000</th>\n",
       "      <td>220487</td>\n",
       "      <td>60.990</td>\n",
       "      <td>Low energy lighting for all fixed outlets</td>\n",
       "    </tr>\n",
       "    <tr>\n",
       "      <th>36.000</th>\n",
       "      <td>484</td>\n",
       "      <td>0.134</td>\n",
       "      <td>Replace heating unit with condensing unit</td>\n",
       "    </tr>\n",
       "    <tr>\n",
       "      <th>37.000</th>\n",
       "      <td>917</td>\n",
       "      <td>0.254</td>\n",
       "      <td>Install condensing boiler</td>\n",
       "    </tr>\n",
       "    <tr>\n",
       "      <th>40.000</th>\n",
       "      <td>1713</td>\n",
       "      <td>0.474</td>\n",
       "      <td>Change room heaters to condensing boiler</td>\n",
       "    </tr>\n",
       "    <tr>\n",
       "      <th>44.000</th>\n",
       "      <td>33904</td>\n",
       "      <td>9.378</td>\n",
       "      <td>Wind turbine</td>\n",
       "    </tr>\n",
       "    <tr>\n",
       "      <th>45.000</th>\n",
       "      <td>12949</td>\n",
       "      <td>3.582</td>\n",
       "      <td>Flat roof insulation</td>\n",
       "    </tr>\n",
       "    <tr>\n",
       "      <th>46.000</th>\n",
       "      <td>9410</td>\n",
       "      <td>2.603</td>\n",
       "      <td>Room-in-roof insulation</td>\n",
       "    </tr>\n",
       "    <tr>\n",
       "      <th>47.000</th>\n",
       "      <td>66794</td>\n",
       "      <td>18.476</td>\n",
       "      <td>Floor insulation</td>\n",
       "    </tr>\n",
       "    <tr>\n",
       "      <th>48.000</th>\n",
       "      <td>7270</td>\n",
       "      <td>2.011</td>\n",
       "      <td>High performance external doors</td>\n",
       "    </tr>\n",
       "    <tr>\n",
       "      <th>49.000</th>\n",
       "      <td>4262</td>\n",
       "      <td>1.179</td>\n",
       "      <td>Heat recovery system for mixer showers</td>\n",
       "    </tr>\n",
       "    <tr>\n",
       "      <th>50.000</th>\n",
       "      <td>6882</td>\n",
       "      <td>1.904</td>\n",
       "      <td>Flue gas heat recovery device in conjunction w...</td>\n",
       "    </tr>\n",
       "    <tr>\n",
       "      <th>56.000</th>\n",
       "      <td>12759</td>\n",
       "      <td>3.529</td>\n",
       "      <td>Replacement glazing units</td>\n",
       "    </tr>\n",
       "    <tr>\n",
       "      <th>57.000</th>\n",
       "      <td>38068</td>\n",
       "      <td>10.530</td>\n",
       "      <td>Suspended floor insulation</td>\n",
       "    </tr>\n",
       "    <tr>\n",
       "      <th>58.000</th>\n",
       "      <td>93598</td>\n",
       "      <td>25.891</td>\n",
       "      <td>Solid floor insulation</td>\n",
       "    </tr>\n",
       "    <tr>\n",
       "      <th>59.000</th>\n",
       "      <td>7499</td>\n",
       "      <td>2.074</td>\n",
       "      <td>High heat retention storage heaters and dual i...</td>\n",
       "    </tr>\n",
       "    <tr>\n",
       "      <th>60.000</th>\n",
       "      <td>9049</td>\n",
       "      <td>2.503</td>\n",
       "      <td>High heat retention storage heaters</td>\n",
       "    </tr>\n",
       "    <tr>\n",
       "      <th>63.000</th>\n",
       "      <td>5414</td>\n",
       "      <td>1.498</td>\n",
       "      <td>Party wall insulation</td>\n",
       "    </tr>\n",
       "  </tbody>\n",
       "</table>\n",
       "</div>"
      ],
      "text/plain": [
       "                   vol   perc  \\\n",
       "improvement_id                  \n",
       "1.000             2424  0.671   \n",
       "2.000            22212  6.144   \n",
       "3.000            17008  4.705   \n",
       "4.000            16978  4.696   \n",
       "5.000            67938 18.793   \n",
       "6.000            87054 24.080   \n",
       "7.000            74887 20.715   \n",
       "8.000            33125  9.163   \n",
       "9.000              738  0.204   \n",
       "10.000           18275  5.055   \n",
       "11.000           87049 24.079   \n",
       "16.000            1687  0.467   \n",
       "19.000          262161 72.518   \n",
       "20.000          119433 33.037   \n",
       "22.000             104  0.029   \n",
       "23.000             266  0.074   \n",
       "24.000            4368  1.208   \n",
       "25.000            4232  1.171   \n",
       "26.000            1010  0.279   \n",
       "27.000            4713  1.304   \n",
       "28.000              27  0.007   \n",
       "31.000            1125  0.311   \n",
       "34.000          279731 77.378   \n",
       "35.000          220487 60.990   \n",
       "36.000             484  0.134   \n",
       "37.000             917  0.254   \n",
       "40.000            1713  0.474   \n",
       "44.000           33904  9.378   \n",
       "45.000           12949  3.582   \n",
       "46.000            9410  2.603   \n",
       "47.000           66794 18.476   \n",
       "48.000            7270  2.011   \n",
       "49.000            4262  1.179   \n",
       "50.000            6882  1.904   \n",
       "56.000           12759  3.529   \n",
       "57.000           38068 10.530   \n",
       "58.000           93598 25.891   \n",
       "59.000            7499  2.074   \n",
       "60.000            9049  2.503   \n",
       "63.000            5414  1.498   \n",
       "\n",
       "                                                             text  \n",
       "improvement_id                                                     \n",
       "1.000               Insulate hot water cylinder with 80 mm jacket  \n",
       "2.000                      Increase hot water cylinder insulation  \n",
       "3.000           Add additional 80 mm jacket to hot water cylinder  \n",
       "4.000                               Hot water cylinder thermostat  \n",
       "5.000                          Increase loft insulation to 270 mm  \n",
       "6.000                                      Cavity wall insulation  \n",
       "7.000                  50 mm internal or external wall insulation  \n",
       "8.000           Replace single glazed windows with low-E doubl...  \n",
       "9.000                  Secondary glazing to single glazed windows  \n",
       "10.000                         Draughtproof single-glazed windows  \n",
       "11.000                                   Upgrade heating controls  \n",
       "16.000                          Time and temperature zone control  \n",
       "19.000                                        Solar water heating  \n",
       "20.000                  Replace boiler with new condensing boiler  \n",
       "22.000                         Replace boiler with biomass boiler  \n",
       "23.000                Wood pellet stove with boiler and radiators  \n",
       "24.000          Fan assisted storage heaters and dual immersio...  \n",
       "25.000                               Fan assisted storage heaters  \n",
       "26.000                                  Replacement warm air unit  \n",
       "27.000                    Change heating to gas condensing boiler  \n",
       "28.000                       Condensing oil boiler with radiators  \n",
       "31.000                               Fan-assisted storage heaters  \n",
       "34.000                         Solar photovoltaic panels, 2.5 kWp  \n",
       "35.000                  Low energy lighting for all fixed outlets  \n",
       "36.000                  Replace heating unit with condensing unit  \n",
       "37.000                                  Install condensing boiler  \n",
       "40.000                   Change room heaters to condensing boiler  \n",
       "44.000                                               Wind turbine  \n",
       "45.000                                       Flat roof insulation  \n",
       "46.000                                    Room-in-roof insulation  \n",
       "47.000                                           Floor insulation  \n",
       "48.000                            High performance external doors  \n",
       "49.000                     Heat recovery system for mixer showers  \n",
       "50.000          Flue gas heat recovery device in conjunction w...  \n",
       "56.000                                  Replacement glazing units  \n",
       "57.000                                 Suspended floor insulation  \n",
       "58.000                                     Solid floor insulation  \n",
       "59.000          High heat retention storage heaters and dual i...  \n",
       "60.000                        High heat retention storage heaters  \n",
       "63.000                                      Party wall insulation  "
      ]
     },
     "execution_count": 477,
     "metadata": {},
     "output_type": "execute_result"
    }
   ],
   "source": [
    "# get counts of how many times each recommendation is used \n",
    "id_counts = pd.concat([rec.groupby('improvement_id')['lmk_key'].count(), \n",
    "           100*rec.groupby('improvement_id')['lmk_key'].count()/len(cert)],axis=1).merge(id_to_text_mapper,\n",
    "                                                                                        left_on='improvement_id',\n",
    "                                                                                        right_index=True)\n",
    "id_counts.columns = ['vol','perc','text']\n",
    "id_counts"
   ]
  },
  {
   "cell_type": "markdown",
   "id": "e4049fb8-c086-4647-96dc-6ecc523c1e63",
   "metadata": {},
   "source": [
    "Some classes are too under-represented for the algo to learn anything significant (also run the risk of all samples ending up in train or test).\n",
    "\n",
    "Will get rid of any under-represented class.\n",
    "\n",
    "TODO: review threshold later on full dataset"
   ]
  },
  {
   "cell_type": "code",
   "execution_count": 478,
   "id": "8a4386b1-3044-425b-a76b-a3e34f87c55b",
   "metadata": {},
   "outputs": [],
   "source": [
    "min_count_class = 20\n",
    "\n",
    "ids_to_delete = id_counts[id_counts.vol <= min_count_class].index\n",
    "\n",
    "rec.drop(rec[rec.improvement_id.isin(ids_to_delete)].index,inplace=True)"
   ]
  },
  {
   "cell_type": "code",
   "execution_count": 479,
   "id": "e5913e95-80b0-4d20-beb9-82e7fb1a8edd",
   "metadata": {},
   "outputs": [
    {
     "data": {
      "text/plain": [
       "0"
      ]
     },
     "execution_count": 479,
     "metadata": {},
     "output_type": "execute_result"
    }
   ],
   "source": [
    "# if this means there are certificates without at least one recommendation, then we should implement code to delete those too\n",
    "# RUN THIS CHECK\n",
    "len(cert) - cert.lmk_key.isin(rec.lmk_key).sum()"
   ]
  },
  {
   "cell_type": "markdown",
   "id": "8410a0f6-510d-4564-b927-6e3b4c16f630",
   "metadata": {},
   "source": [
    "## Prepare train and test sets"
   ]
  },
  {
   "cell_type": "markdown",
   "id": "edcd4511-963c-4781-b8d5-874f34ea385c",
   "metadata": {},
   "source": [
    "#### X\n",
    "Narrow down the set of variables, one-hot encode categoricals etc."
   ]
  },
  {
   "cell_type": "code",
   "execution_count": 480,
   "id": "b801202d-fefb-4235-8f2a-1945b277e5d9",
   "metadata": {},
   "outputs": [],
   "source": [
    "# take a copy of certificates\n",
    "x = cert.copy()"
   ]
  },
  {
   "cell_type": "code",
   "execution_count": 481,
   "id": "3bf1f659-95f0-4c24-9d00-99738461a7f3",
   "metadata": {},
   "outputs": [],
   "source": [
    "# set the lmk key as the index\n",
    "x.set_index('lmk_key',inplace=True)\n",
    "x.sort_index(inplace=True)"
   ]
  },
  {
   "cell_type": "code",
   "execution_count": 482,
   "id": "19cc321c-bb96-44ff-a96c-95c4b000f557",
   "metadata": {},
   "outputs": [],
   "source": [
    "# narrow down set of explanatory variables (see notes)\n",
    "selected_vars = [\n",
    "    'property_type', \n",
    "    'built_form', \n",
    "    'total_floor_area', \n",
    "    'energy_tariff', \n",
    "    'mains_gas_flag',\n",
    "    'floor_level_numeric',\n",
    "    'floor_level_classes',\n",
    "    'flat_top_storey',\n",
    "    'flat_storey_count',\n",
    "    'multi_glaze_proportion', #doubt we will be able to get this from user!\n",
    "    'glazed_type',\n",
    "    'glazed_area', #doubt we will be able to get this from user!\n",
    "    'extension_count',\n",
    "    'number_habitable_rooms', #A! check this and the following - likely to be highly correlated\n",
    "    'number_heated_rooms',\n",
    "    'low_energy_lighting', #A! check this and the following - likely to be highly correlated\n",
    "    'low_energy_lighting_perc', #this is a derived var\n",
    "    'number_open_fireplaces', #doubt we will be able to get this from user!\n",
    "    'hotwater_mains', #derived from the hotwater description - domain driven \n",
    "    'hotwater_immersion',\n",
    "    'hotwater_commmunity',\n",
    "    'hotwater_solar',\n",
    "    'hotwater_gas',\n",
    "    'hotwater_recovery',\n",
    "    'hot_water_energy_eff', #doubt we will be able to get this from user!\n",
    "    'hot_water_env_eff', #consider dropping - highly correlated\n",
    "    'windows_description',\n",
    "    'pitched_roof',\n",
    "    'flat_roof',\n",
    "    'mainheat_description',\n",
    "    'mainheatcont_description', #doubt they will be able to provide this!\n",
    "    'main_fuel', #doubt they will know \n",
    "    'wind_turbine_flag',\n",
    "    'heat_loss_corridor', # need to see if they know \n",
    "    'floor_height',\n",
    "    'solar_water_heating_flag',\n",
    "    'mechanical_ventilation', # ?\n",
    "    'construction_age_band',\n",
    "    'tenure'\n",
    "]\n",
    "\n",
    "x = x[selected_vars]"
   ]
  },
  {
   "cell_type": "code",
   "execution_count": 483,
   "id": "407f9927-9ebd-4eb0-aae3-c42e5d32caa8",
   "metadata": {},
   "outputs": [],
   "source": [
    "# check the categoricals\n",
    "cat_vars = [c for c in x.columns if x[c].dtype=='object']\n",
    "\n",
    "# for c in cat_vars:\n",
    "#     print(c)\n",
    "#     print(x[c].nunique())"
   ]
  },
  {
   "cell_type": "code",
   "execution_count": 484,
   "id": "772b6290-6759-48a7-ae9c-f6df0db81bb4",
   "metadata": {},
   "outputs": [],
   "source": [
    "# check numeric vars\n",
    "num_vars = [c for c in x.columns if x[c].dtype!='object']\n",
    "# x[num_vars].describe()"
   ]
  },
  {
   "cell_type": "code",
   "execution_count": 485,
   "id": "88bcce7f-1f06-4fa9-afda-51ae25958e00",
   "metadata": {},
   "outputs": [],
   "source": [
    "# One-hot encode cat features\n",
    "x = pd.get_dummies(x)"
   ]
  },
  {
   "cell_type": "code",
   "execution_count": 486,
   "id": "8bd26285-c84f-4f87-8981-aba134d54ff1",
   "metadata": {},
   "outputs": [],
   "source": [
    "# save column names\n",
    "all_vars = x.columns"
   ]
  },
  {
   "cell_type": "markdown",
   "id": "0f554925-1072-4186-9e52-53711359f4e8",
   "metadata": {},
   "source": [
    "#### y\n",
    "Will need to create an input array of dims (n_samples, n_classes) to go into the multi-label classification. "
   ]
  },
  {
   "cell_type": "code",
   "execution_count": 487,
   "id": "db751f73-e62d-4955-9977-67d7fbdc61a7",
   "metadata": {},
   "outputs": [],
   "source": [
    "# Now prepare y\n",
    "\n",
    "y = rec.copy()"
   ]
  },
  {
   "cell_type": "code",
   "execution_count": 488,
   "id": "e87357b8-efe6-43ab-b5d8-d1b054e526aa",
   "metadata": {},
   "outputs": [],
   "source": [
    "tuples_improvements = y.groupby('lmk_key')['improvement_id'].apply(lambda x: tuple(x.values))\n",
    "\n",
    "tuples_improvements = pd.DataFrame(tuples_improvements)\n",
    "\n",
    "# A! turns out some sets of recommendations are duplicated within the same certificate. We only need to \n",
    "# retain one set for each certificate. The binarizer below already does that."
   ]
  },
  {
   "cell_type": "code",
   "execution_count": 489,
   "id": "7eb29630-82ad-40b0-b2a1-d6f6df072ef8",
   "metadata": {},
   "outputs": [
    {
     "data": {
      "text/plain": [
       "True"
      ]
     },
     "execution_count": 489,
     "metadata": {},
     "output_type": "execute_result"
    }
   ],
   "source": [
    "# sort y\n",
    "tuples_improvements.sort_index(inplace=True)\n",
    "\n",
    "\n",
    "(x.index == tuples_improvements.index).all()"
   ]
  },
  {
   "cell_type": "code",
   "execution_count": 490,
   "id": "6fc9491d-02d7-4a9d-b80f-746f090c3be8",
   "metadata": {},
   "outputs": [
    {
     "data": {
      "text/plain": [
       "(361514, 40)"
      ]
     },
     "execution_count": 490,
     "metadata": {},
     "output_type": "execute_result"
    }
   ],
   "source": [
    "# Initialize binarizer\n",
    "mlb = MultiLabelBinarizer(classes=id_to_text_mapper.index)\n",
    "y = mlb.fit_transform(tuples_improvements.values[:,0])\n",
    "y.shape"
   ]
  },
  {
   "cell_type": "markdown",
   "id": "91b6129e-92da-4d24-821a-eeb8b24b2a11",
   "metadata": {},
   "source": [
    "#### Scaling X"
   ]
  },
  {
   "cell_type": "code",
   "execution_count": 491,
   "id": "087f8088-1fc6-47ab-a92a-7e32dbc2114f",
   "metadata": {},
   "outputs": [],
   "source": [
    "scaler = MinMaxScaler(feature_range=(0, 1))\n",
    "x = scaler.fit_transform(x.values)"
   ]
  },
  {
   "cell_type": "markdown",
   "id": "b03f77c1-bde0-46b2-bfa7-664c435aac20",
   "metadata": {},
   "source": [
    "#### Train/test split"
   ]
  },
  {
   "cell_type": "code",
   "execution_count": 492,
   "id": "e5193f21-dcf7-4426-b115-d9deda663d31",
   "metadata": {},
   "outputs": [],
   "source": [
    "x_train, x_test, y_train, y_test = train_test_split(x, y, test_size=0.1, random_state=42)"
   ]
  },
  {
   "cell_type": "code",
   "execution_count": null,
   "id": "a9568fb2-beb8-4984-921b-1dbce0de4950",
   "metadata": {},
   "outputs": [],
   "source": []
  },
  {
   "cell_type": "markdown",
   "id": "a22eb630-5539-451d-a666-630d4114400d",
   "metadata": {},
   "source": [
    "## Training\n",
    "### Single-class model"
   ]
  },
  {
   "cell_type": "code",
   "execution_count": 124,
   "id": "d2f48d80-234b-46a2-9570-17e033bbdf29",
   "metadata": {},
   "outputs": [
    {
     "data": {
      "text/plain": [
       "(10388, 192376)"
      ]
     },
     "execution_count": 124,
     "metadata": {},
     "output_type": "execute_result"
    }
   ],
   "source": [
    "class_number = 1\n",
    "\n",
    "y_train[:,class_number].sum(), len(y_train) #choose improvement in position 23"
   ]
  },
  {
   "cell_type": "code",
   "execution_count": 125,
   "id": "1af7e271-7ae7-4265-82fc-a32141a96b70",
   "metadata": {},
   "outputs": [
    {
     "data": {
      "text/plain": [
       "'Increase hot water cylinder insulation'"
      ]
     },
     "execution_count": 125,
     "metadata": {},
     "output_type": "execute_result"
    }
   ],
   "source": [
    "id_to_text_mapper.iloc[class_number]"
   ]
  },
  {
   "cell_type": "code",
   "execution_count": 126,
   "id": "ff42dcbd-a0a5-42fd-a552-6e1cd1e3f291",
   "metadata": {},
   "outputs": [
    {
     "data": {
      "text/html": [
       "<style>#sk-container-id-6 {color: black;background-color: white;}#sk-container-id-6 pre{padding: 0;}#sk-container-id-6 div.sk-toggleable {background-color: white;}#sk-container-id-6 label.sk-toggleable__label {cursor: pointer;display: block;width: 100%;margin-bottom: 0;padding: 0.3em;box-sizing: border-box;text-align: center;}#sk-container-id-6 label.sk-toggleable__label-arrow:before {content: \"▸\";float: left;margin-right: 0.25em;color: #696969;}#sk-container-id-6 label.sk-toggleable__label-arrow:hover:before {color: black;}#sk-container-id-6 div.sk-estimator:hover label.sk-toggleable__label-arrow:before {color: black;}#sk-container-id-6 div.sk-toggleable__content {max-height: 0;max-width: 0;overflow: hidden;text-align: left;background-color: #f0f8ff;}#sk-container-id-6 div.sk-toggleable__content pre {margin: 0.2em;color: black;border-radius: 0.25em;background-color: #f0f8ff;}#sk-container-id-6 input.sk-toggleable__control:checked~div.sk-toggleable__content {max-height: 200px;max-width: 100%;overflow: auto;}#sk-container-id-6 input.sk-toggleable__control:checked~label.sk-toggleable__label-arrow:before {content: \"▾\";}#sk-container-id-6 div.sk-estimator input.sk-toggleable__control:checked~label.sk-toggleable__label {background-color: #d4ebff;}#sk-container-id-6 div.sk-label input.sk-toggleable__control:checked~label.sk-toggleable__label {background-color: #d4ebff;}#sk-container-id-6 input.sk-hidden--visually {border: 0;clip: rect(1px 1px 1px 1px);clip: rect(1px, 1px, 1px, 1px);height: 1px;margin: -1px;overflow: hidden;padding: 0;position: absolute;width: 1px;}#sk-container-id-6 div.sk-estimator {font-family: monospace;background-color: #f0f8ff;border: 1px dotted black;border-radius: 0.25em;box-sizing: border-box;margin-bottom: 0.5em;}#sk-container-id-6 div.sk-estimator:hover {background-color: #d4ebff;}#sk-container-id-6 div.sk-parallel-item::after {content: \"\";width: 100%;border-bottom: 1px solid gray;flex-grow: 1;}#sk-container-id-6 div.sk-label:hover label.sk-toggleable__label {background-color: #d4ebff;}#sk-container-id-6 div.sk-serial::before {content: \"\";position: absolute;border-left: 1px solid gray;box-sizing: border-box;top: 0;bottom: 0;left: 50%;z-index: 0;}#sk-container-id-6 div.sk-serial {display: flex;flex-direction: column;align-items: center;background-color: white;padding-right: 0.2em;padding-left: 0.2em;position: relative;}#sk-container-id-6 div.sk-item {position: relative;z-index: 1;}#sk-container-id-6 div.sk-parallel {display: flex;align-items: stretch;justify-content: center;background-color: white;position: relative;}#sk-container-id-6 div.sk-item::before, #sk-container-id-6 div.sk-parallel-item::before {content: \"\";position: absolute;border-left: 1px solid gray;box-sizing: border-box;top: 0;bottom: 0;left: 50%;z-index: -1;}#sk-container-id-6 div.sk-parallel-item {display: flex;flex-direction: column;z-index: 1;position: relative;background-color: white;}#sk-container-id-6 div.sk-parallel-item:first-child::after {align-self: flex-end;width: 50%;}#sk-container-id-6 div.sk-parallel-item:last-child::after {align-self: flex-start;width: 50%;}#sk-container-id-6 div.sk-parallel-item:only-child::after {width: 0;}#sk-container-id-6 div.sk-dashed-wrapped {border: 1px dashed gray;margin: 0 0.4em 0.5em 0.4em;box-sizing: border-box;padding-bottom: 0.4em;background-color: white;}#sk-container-id-6 div.sk-label label {font-family: monospace;font-weight: bold;display: inline-block;line-height: 1.2em;}#sk-container-id-6 div.sk-label-container {text-align: center;}#sk-container-id-6 div.sk-container {/* jupyter's `normalize.less` sets `[hidden] { display: none; }` but bootstrap.min.css set `[hidden] { display: none !important; }` so we also need the `!important` here to be able to override the default hidden behavior on the sphinx rendered scikit-learn.org. See: https://github.com/scikit-learn/scikit-learn/issues/21755 */display: inline-block !important;position: relative;}#sk-container-id-6 div.sk-text-repr-fallback {display: none;}</style><div id=\"sk-container-id-6\" class=\"sk-top-container\"><div class=\"sk-text-repr-fallback\"><pre>XGBRFClassifier(base_score=0.5, booster=&#x27;gbtree&#x27;, callbacks=None,\n",
       "                colsample_bylevel=1, colsample_bytree=1,\n",
       "                early_stopping_rounds=None, enable_categorical=False,\n",
       "                eval_metric=None, feature_types=None, gamma=0, gpu_id=-1,\n",
       "                grow_policy=&#x27;depthwise&#x27;, importance_type=None,\n",
       "                interaction_constraints=&#x27;&#x27;, max_bin=256, max_cat_threshold=64,\n",
       "                max_cat_to_onehot=4, max_delta_step=0, max_depth=6,\n",
       "                max_leaves=0, min_child_weight=1, missing=nan,\n",
       "                monotone_constraints=&#x27;()&#x27;, n_estimators=50, n_jobs=0,\n",
       "                num_parallel_tree=50, objective=&#x27;binary:logistic&#x27;,\n",
       "                predictor=&#x27;auto&#x27;, random_state=0, reg_alpha=0, ...)</pre><b>In a Jupyter environment, please rerun this cell to show the HTML representation or trust the notebook. <br />On GitHub, the HTML representation is unable to render, please try loading this page with nbviewer.org.</b></div><div class=\"sk-container\" hidden><div class=\"sk-item\"><div class=\"sk-estimator sk-toggleable\"><input class=\"sk-toggleable__control sk-hidden--visually\" id=\"sk-estimator-id-6\" type=\"checkbox\" checked><label for=\"sk-estimator-id-6\" class=\"sk-toggleable__label sk-toggleable__label-arrow\">XGBRFClassifier</label><div class=\"sk-toggleable__content\"><pre>XGBRFClassifier(base_score=0.5, booster=&#x27;gbtree&#x27;, callbacks=None,\n",
       "                colsample_bylevel=1, colsample_bytree=1,\n",
       "                early_stopping_rounds=None, enable_categorical=False,\n",
       "                eval_metric=None, feature_types=None, gamma=0, gpu_id=-1,\n",
       "                grow_policy=&#x27;depthwise&#x27;, importance_type=None,\n",
       "                interaction_constraints=&#x27;&#x27;, max_bin=256, max_cat_threshold=64,\n",
       "                max_cat_to_onehot=4, max_delta_step=0, max_depth=6,\n",
       "                max_leaves=0, min_child_weight=1, missing=nan,\n",
       "                monotone_constraints=&#x27;()&#x27;, n_estimators=50, n_jobs=0,\n",
       "                num_parallel_tree=50, objective=&#x27;binary:logistic&#x27;,\n",
       "                predictor=&#x27;auto&#x27;, random_state=0, reg_alpha=0, ...)</pre></div></div></div></div></div>"
      ],
      "text/plain": [
       "XGBRFClassifier(base_score=0.5, booster='gbtree', callbacks=None,\n",
       "                colsample_bylevel=1, colsample_bytree=1,\n",
       "                early_stopping_rounds=None, enable_categorical=False,\n",
       "                eval_metric=None, feature_types=None, gamma=0, gpu_id=-1,\n",
       "                grow_policy='depthwise', importance_type=None,\n",
       "                interaction_constraints='', max_bin=256, max_cat_threshold=64,\n",
       "                max_cat_to_onehot=4, max_delta_step=0, max_depth=6,\n",
       "                max_leaves=0, min_child_weight=1, missing=nan,\n",
       "                monotone_constraints='()', n_estimators=50, n_jobs=0,\n",
       "                num_parallel_tree=50, objective='binary:logistic',\n",
       "                predictor='auto', random_state=0, reg_alpha=0, ...)"
      ]
     },
     "execution_count": 126,
     "metadata": {},
     "output_type": "execute_result"
    }
   ],
   "source": [
    "xgb_cl = xgb.XGBRFClassifier(n_estimators=50)\n",
    "\n",
    "xgb_cl.fit(x_train, y_train[:,class_number])#, eval_metrix='logloss')"
   ]
  },
  {
   "cell_type": "code",
   "execution_count": 293,
   "id": "9c7785ff-dc1f-4072-849e-42f3b12ae813",
   "metadata": {},
   "outputs": [
    {
     "data": {
      "text/html": [
       "<div>\n",
       "<style scoped>\n",
       "    .dataframe tbody tr th:only-of-type {\n",
       "        vertical-align: middle;\n",
       "    }\n",
       "\n",
       "    .dataframe tbody tr th {\n",
       "        vertical-align: top;\n",
       "    }\n",
       "\n",
       "    .dataframe thead th {\n",
       "        text-align: right;\n",
       "    }\n",
       "</style>\n",
       "<table border=\"1\" class=\"dataframe\">\n",
       "  <thead>\n",
       "    <tr style=\"text-align: right;\">\n",
       "      <th></th>\n",
       "      <th>name</th>\n",
       "      <th>weight</th>\n",
       "    </tr>\n",
       "  </thead>\n",
       "  <tbody>\n",
       "    <tr>\n",
       "      <th>56</th>\n",
       "      <td>hot_water_energy_eff_Poor</td>\n",
       "      <td>25.153</td>\n",
       "    </tr>\n",
       "    <tr>\n",
       "      <th>60</th>\n",
       "      <td>hot_water_env_eff_Good</td>\n",
       "      <td>20.649</td>\n",
       "    </tr>\n",
       "    <tr>\n",
       "      <th>11</th>\n",
       "      <td>hotwater_immersion</td>\n",
       "      <td>8.286</td>\n",
       "    </tr>\n",
       "    <tr>\n",
       "      <th>55</th>\n",
       "      <td>hot_water_energy_eff_Good</td>\n",
       "      <td>7.602</td>\n",
       "    </tr>\n",
       "    <tr>\n",
       "      <th>2</th>\n",
       "      <td>flat_storey_count</td>\n",
       "      <td>4.452</td>\n",
       "    </tr>\n",
       "  </tbody>\n",
       "</table>\n",
       "</div>"
      ],
      "text/plain": [
       "                         name  weight\n",
       "56  hot_water_energy_eff_Poor  25.153\n",
       "60     hot_water_env_eff_Good  20.649\n",
       "11         hotwater_immersion   8.286\n",
       "55  hot_water_energy_eff_Good   7.602\n",
       "2           flat_storey_count   4.452"
      ]
     },
     "execution_count": 293,
     "metadata": {},
     "output_type": "execute_result"
    }
   ],
   "source": [
    "tmp = pd.concat([pd.Series(all_vars),pd.Series(100*xgb_cl.feature_importances_/xgb_cl.feature_importances_.sum())],axis=1\n",
    "         )\n",
    "tmp.columns = ['name','weight']\n",
    "tmp.sort_values('weight',ascending=False).head(5)"
   ]
  },
  {
   "cell_type": "code",
   "execution_count": 294,
   "id": "3c980ab2-4ada-4996-8936-d1161de90c6b",
   "metadata": {},
   "outputs": [],
   "source": [
    "# xgb_cl.predict_proba(x_test)"
   ]
  },
  {
   "cell_type": "code",
   "execution_count": 295,
   "id": "1baa3998-4bfd-4b4e-be20-b6b8e907368b",
   "metadata": {},
   "outputs": [],
   "source": [
    "# xgb_cl.predict(x_test)"
   ]
  },
  {
   "cell_type": "markdown",
   "id": "c71dd28e-c6bb-47c9-bbf3-d919ae6c3426",
   "metadata": {},
   "source": [
    "### Multi-label"
   ]
  },
  {
   "cell_type": "code",
   "execution_count": 497,
   "id": "e93c3e21-274c-4bdd-8d57-96cb9ccb4cb9",
   "metadata": {},
   "outputs": [
    {
     "data": {
      "text/html": [
       "<style>#sk-container-id-11 {color: black;background-color: white;}#sk-container-id-11 pre{padding: 0;}#sk-container-id-11 div.sk-toggleable {background-color: white;}#sk-container-id-11 label.sk-toggleable__label {cursor: pointer;display: block;width: 100%;margin-bottom: 0;padding: 0.3em;box-sizing: border-box;text-align: center;}#sk-container-id-11 label.sk-toggleable__label-arrow:before {content: \"▸\";float: left;margin-right: 0.25em;color: #696969;}#sk-container-id-11 label.sk-toggleable__label-arrow:hover:before {color: black;}#sk-container-id-11 div.sk-estimator:hover label.sk-toggleable__label-arrow:before {color: black;}#sk-container-id-11 div.sk-toggleable__content {max-height: 0;max-width: 0;overflow: hidden;text-align: left;background-color: #f0f8ff;}#sk-container-id-11 div.sk-toggleable__content pre {margin: 0.2em;color: black;border-radius: 0.25em;background-color: #f0f8ff;}#sk-container-id-11 input.sk-toggleable__control:checked~div.sk-toggleable__content {max-height: 200px;max-width: 100%;overflow: auto;}#sk-container-id-11 input.sk-toggleable__control:checked~label.sk-toggleable__label-arrow:before {content: \"▾\";}#sk-container-id-11 div.sk-estimator input.sk-toggleable__control:checked~label.sk-toggleable__label {background-color: #d4ebff;}#sk-container-id-11 div.sk-label input.sk-toggleable__control:checked~label.sk-toggleable__label {background-color: #d4ebff;}#sk-container-id-11 input.sk-hidden--visually {border: 0;clip: rect(1px 1px 1px 1px);clip: rect(1px, 1px, 1px, 1px);height: 1px;margin: -1px;overflow: hidden;padding: 0;position: absolute;width: 1px;}#sk-container-id-11 div.sk-estimator {font-family: monospace;background-color: #f0f8ff;border: 1px dotted black;border-radius: 0.25em;box-sizing: border-box;margin-bottom: 0.5em;}#sk-container-id-11 div.sk-estimator:hover {background-color: #d4ebff;}#sk-container-id-11 div.sk-parallel-item::after {content: \"\";width: 100%;border-bottom: 1px solid gray;flex-grow: 1;}#sk-container-id-11 div.sk-label:hover label.sk-toggleable__label {background-color: #d4ebff;}#sk-container-id-11 div.sk-serial::before {content: \"\";position: absolute;border-left: 1px solid gray;box-sizing: border-box;top: 0;bottom: 0;left: 50%;z-index: 0;}#sk-container-id-11 div.sk-serial {display: flex;flex-direction: column;align-items: center;background-color: white;padding-right: 0.2em;padding-left: 0.2em;position: relative;}#sk-container-id-11 div.sk-item {position: relative;z-index: 1;}#sk-container-id-11 div.sk-parallel {display: flex;align-items: stretch;justify-content: center;background-color: white;position: relative;}#sk-container-id-11 div.sk-item::before, #sk-container-id-11 div.sk-parallel-item::before {content: \"\";position: absolute;border-left: 1px solid gray;box-sizing: border-box;top: 0;bottom: 0;left: 50%;z-index: -1;}#sk-container-id-11 div.sk-parallel-item {display: flex;flex-direction: column;z-index: 1;position: relative;background-color: white;}#sk-container-id-11 div.sk-parallel-item:first-child::after {align-self: flex-end;width: 50%;}#sk-container-id-11 div.sk-parallel-item:last-child::after {align-self: flex-start;width: 50%;}#sk-container-id-11 div.sk-parallel-item:only-child::after {width: 0;}#sk-container-id-11 div.sk-dashed-wrapped {border: 1px dashed gray;margin: 0 0.4em 0.5em 0.4em;box-sizing: border-box;padding-bottom: 0.4em;background-color: white;}#sk-container-id-11 div.sk-label label {font-family: monospace;font-weight: bold;display: inline-block;line-height: 1.2em;}#sk-container-id-11 div.sk-label-container {text-align: center;}#sk-container-id-11 div.sk-container {/* jupyter's `normalize.less` sets `[hidden] { display: none; }` but bootstrap.min.css set `[hidden] { display: none !important; }` so we also need the `!important` here to be able to override the default hidden behavior on the sphinx rendered scikit-learn.org. See: https://github.com/scikit-learn/scikit-learn/issues/21755 */display: inline-block !important;position: relative;}#sk-container-id-11 div.sk-text-repr-fallback {display: none;}</style><div id=\"sk-container-id-11\" class=\"sk-top-container\"><div class=\"sk-text-repr-fallback\"><pre>MultiOutputClassifier(estimator=XGBRFClassifier(base_score=None, booster=None,\n",
       "                                                callbacks=None,\n",
       "                                                colsample_bylevel=None,\n",
       "                                                colsample_bytree=None,\n",
       "                                                early_stopping_rounds=None,\n",
       "                                                enable_categorical=False,\n",
       "                                                eval_metric=&#x27;logloss&#x27;,\n",
       "                                                feature_types=None, gamma=None,\n",
       "                                                gpu_id=None, grow_policy=None,\n",
       "                                                importance_type=None,\n",
       "                                                interaction_constraints=None,\n",
       "                                                max_bin=None,\n",
       "                                                max_cat_threshold=None,\n",
       "                                                max_cat_to_onehot=None,\n",
       "                                                max_delta_step=None,\n",
       "                                                max_depth=None, max_leaves=None,\n",
       "                                                min_child_weight=None,\n",
       "                                                missing=nan,\n",
       "                                                monotone_constraints=None,\n",
       "                                                n_estimators=50, n_jobs=None,\n",
       "                                                num_parallel_tree=None,\n",
       "                                                objective=&#x27;binary:logistic&#x27;,\n",
       "                                                predictor=None,\n",
       "                                                random_state=None,\n",
       "                                                reg_alpha=None, ...))</pre><b>In a Jupyter environment, please rerun this cell to show the HTML representation or trust the notebook. <br />On GitHub, the HTML representation is unable to render, please try loading this page with nbviewer.org.</b></div><div class=\"sk-container\" hidden><div class=\"sk-item sk-dashed-wrapped\"><div class=\"sk-label-container\"><div class=\"sk-label sk-toggleable\"><input class=\"sk-toggleable__control sk-hidden--visually\" id=\"sk-estimator-id-13\" type=\"checkbox\" ><label for=\"sk-estimator-id-13\" class=\"sk-toggleable__label sk-toggleable__label-arrow\">MultiOutputClassifier</label><div class=\"sk-toggleable__content\"><pre>MultiOutputClassifier(estimator=XGBRFClassifier(base_score=None, booster=None,\n",
       "                                                callbacks=None,\n",
       "                                                colsample_bylevel=None,\n",
       "                                                colsample_bytree=None,\n",
       "                                                early_stopping_rounds=None,\n",
       "                                                enable_categorical=False,\n",
       "                                                eval_metric=&#x27;logloss&#x27;,\n",
       "                                                feature_types=None, gamma=None,\n",
       "                                                gpu_id=None, grow_policy=None,\n",
       "                                                importance_type=None,\n",
       "                                                interaction_constraints=None,\n",
       "                                                max_bin=None,\n",
       "                                                max_cat_threshold=None,\n",
       "                                                max_cat_to_onehot=None,\n",
       "                                                max_delta_step=None,\n",
       "                                                max_depth=None, max_leaves=None,\n",
       "                                                min_child_weight=None,\n",
       "                                                missing=nan,\n",
       "                                                monotone_constraints=None,\n",
       "                                                n_estimators=50, n_jobs=None,\n",
       "                                                num_parallel_tree=None,\n",
       "                                                objective=&#x27;binary:logistic&#x27;,\n",
       "                                                predictor=None,\n",
       "                                                random_state=None,\n",
       "                                                reg_alpha=None, ...))</pre></div></div></div><div class=\"sk-parallel\"><div class=\"sk-parallel-item\"><div class=\"sk-item\"><div class=\"sk-label-container\"><div class=\"sk-label sk-toggleable\"><input class=\"sk-toggleable__control sk-hidden--visually\" id=\"sk-estimator-id-14\" type=\"checkbox\" ><label for=\"sk-estimator-id-14\" class=\"sk-toggleable__label sk-toggleable__label-arrow\">estimator: XGBRFClassifier</label><div class=\"sk-toggleable__content\"><pre>XGBRFClassifier(base_score=None, booster=None, callbacks=None,\n",
       "                colsample_bylevel=None, colsample_bytree=None,\n",
       "                early_stopping_rounds=None, enable_categorical=False,\n",
       "                eval_metric=&#x27;logloss&#x27;, feature_types=None, gamma=None,\n",
       "                gpu_id=None, grow_policy=None, importance_type=None,\n",
       "                interaction_constraints=None, max_bin=None,\n",
       "                max_cat_threshold=None, max_cat_to_onehot=None,\n",
       "                max_delta_step=None, max_depth=None, max_leaves=None,\n",
       "                min_child_weight=None, missing=nan, monotone_constraints=None,\n",
       "                n_estimators=50, n_jobs=None, num_parallel_tree=None,\n",
       "                objective=&#x27;binary:logistic&#x27;, predictor=None, random_state=None,\n",
       "                reg_alpha=None, ...)</pre></div></div></div><div class=\"sk-serial\"><div class=\"sk-item\"><div class=\"sk-estimator sk-toggleable\"><input class=\"sk-toggleable__control sk-hidden--visually\" id=\"sk-estimator-id-15\" type=\"checkbox\" ><label for=\"sk-estimator-id-15\" class=\"sk-toggleable__label sk-toggleable__label-arrow\">XGBRFClassifier</label><div class=\"sk-toggleable__content\"><pre>XGBRFClassifier(base_score=None, booster=None, callbacks=None,\n",
       "                colsample_bylevel=None, colsample_bytree=None,\n",
       "                early_stopping_rounds=None, enable_categorical=False,\n",
       "                eval_metric=&#x27;logloss&#x27;, feature_types=None, gamma=None,\n",
       "                gpu_id=None, grow_policy=None, importance_type=None,\n",
       "                interaction_constraints=None, max_bin=None,\n",
       "                max_cat_threshold=None, max_cat_to_onehot=None,\n",
       "                max_delta_step=None, max_depth=None, max_leaves=None,\n",
       "                min_child_weight=None, missing=nan, monotone_constraints=None,\n",
       "                n_estimators=50, n_jobs=None, num_parallel_tree=None,\n",
       "                objective=&#x27;binary:logistic&#x27;, predictor=None, random_state=None,\n",
       "                reg_alpha=None, ...)</pre></div></div></div></div></div></div></div></div></div></div>"
      ],
      "text/plain": [
       "MultiOutputClassifier(estimator=XGBRFClassifier(base_score=None, booster=None,\n",
       "                                                callbacks=None,\n",
       "                                                colsample_bylevel=None,\n",
       "                                                colsample_bytree=None,\n",
       "                                                early_stopping_rounds=None,\n",
       "                                                enable_categorical=False,\n",
       "                                                eval_metric='logloss',\n",
       "                                                feature_types=None, gamma=None,\n",
       "                                                gpu_id=None, grow_policy=None,\n",
       "                                                importance_type=None,\n",
       "                                                interaction_constraints=None,\n",
       "                                                max_bin=None,\n",
       "                                                max_cat_threshold=None,\n",
       "                                                max_cat_to_onehot=None,\n",
       "                                                max_delta_step=None,\n",
       "                                                max_depth=None, max_leaves=None,\n",
       "                                                min_child_weight=None,\n",
       "                                                missing=nan,\n",
       "                                                monotone_constraints=None,\n",
       "                                                n_estimators=50, n_jobs=None,\n",
       "                                                num_parallel_tree=None,\n",
       "                                                objective='binary:logistic',\n",
       "                                                predictor=None,\n",
       "                                                random_state=None,\n",
       "                                                reg_alpha=None, ...))"
      ]
     },
     "execution_count": 497,
     "metadata": {},
     "output_type": "execute_result"
    }
   ],
   "source": [
    "# use the RF classifier from xgb (deals with NAs)\n",
    "clf = xgb.XGBRFClassifier(\n",
    "    verbosity=1,\n",
    "    n_estimators = 50,\n",
    "    eval_metric='logloss')\n",
    "\n",
    "# multi-label wrapper from sklearn\n",
    "multilabel_clf = MultiOutputClassifier(clf)\n",
    "\n",
    "# fit the model\n",
    "multilabel_clf.fit(x_train, y_train)\n"
   ]
  },
  {
   "cell_type": "markdown",
   "id": "8b2e74d4-6808-4dc4-9787-6a63424b1ca3",
   "metadata": {},
   "source": [
    "#### Feature importance"
   ]
  },
  {
   "cell_type": "code",
   "execution_count": 499,
   "id": "9d73a3d4-31a9-4209-8251-83fa4f39c03a",
   "metadata": {},
   "outputs": [
    {
     "data": {
      "text/html": [
       "<div>\n",
       "<style scoped>\n",
       "    .dataframe tbody tr th:only-of-type {\n",
       "        vertical-align: middle;\n",
       "    }\n",
       "\n",
       "    .dataframe tbody tr th {\n",
       "        vertical-align: top;\n",
       "    }\n",
       "\n",
       "    .dataframe thead th {\n",
       "        text-align: right;\n",
       "    }\n",
       "</style>\n",
       "<table border=\"1\" class=\"dataframe\">\n",
       "  <thead>\n",
       "    <tr style=\"text-align: right;\">\n",
       "      <th>improvement_id_text</th>\n",
       "      <th>Insulate hot water cylinder with 80 mm jacket</th>\n",
       "      <th>Increase hot water cylinder insulation</th>\n",
       "      <th>Add additional 80 mm jacket to hot water cylinder</th>\n",
       "      <th>Hot water cylinder thermostat</th>\n",
       "      <th>Increase loft insulation to 270 mm</th>\n",
       "      <th>Cavity wall insulation</th>\n",
       "      <th>50 mm internal or external wall insulation</th>\n",
       "      <th>Replace single glazed windows with low-E double glazing</th>\n",
       "      <th>Secondary glazing to single glazed windows</th>\n",
       "      <th>Draughtproof single-glazed windows</th>\n",
       "      <th>Upgrade heating controls</th>\n",
       "      <th>Time and temperature zone control</th>\n",
       "      <th>Solar water heating</th>\n",
       "      <th>Replace boiler with new condensing boiler</th>\n",
       "      <th>Replace boiler with biomass boiler</th>\n",
       "      <th>Wood pellet stove with boiler and radiators</th>\n",
       "      <th>Fan assisted storage heaters and dual immersion cylinder</th>\n",
       "      <th>Fan assisted storage heaters</th>\n",
       "      <th>Replacement warm air unit</th>\n",
       "      <th>Change heating to gas condensing boiler</th>\n",
       "      <th>Condensing oil boiler with radiators</th>\n",
       "      <th>Fan-assisted storage heaters</th>\n",
       "      <th>Solar photovoltaic panels, 2.5 kWp</th>\n",
       "      <th>Low energy lighting for all fixed outlets</th>\n",
       "      <th>Replace heating unit with condensing unit</th>\n",
       "      <th>Install condensing boiler</th>\n",
       "      <th>Change room heaters to condensing boiler</th>\n",
       "      <th>Wind turbine</th>\n",
       "      <th>Flat roof insulation</th>\n",
       "      <th>Room-in-roof insulation</th>\n",
       "      <th>Floor insulation</th>\n",
       "      <th>High performance external doors</th>\n",
       "      <th>Heat recovery system for mixer showers</th>\n",
       "      <th>Flue gas heat recovery device in conjunction with boiler</th>\n",
       "      <th>Replacement glazing units</th>\n",
       "      <th>Suspended floor insulation</th>\n",
       "      <th>Solid floor insulation</th>\n",
       "      <th>High heat retention storage heaters and dual immersion cylinder</th>\n",
       "      <th>High heat retention storage heaters</th>\n",
       "      <th>Party wall insulation</th>\n",
       "    </tr>\n",
       "  </thead>\n",
       "  <tbody>\n",
       "    <tr>\n",
       "      <th>total_floor_area</th>\n",
       "      <td>0.004</td>\n",
       "      <td>0.002</td>\n",
       "      <td>0.000</td>\n",
       "      <td>0.000</td>\n",
       "      <td>0.002</td>\n",
       "      <td>0.001</td>\n",
       "      <td>0.014</td>\n",
       "      <td>0.005</td>\n",
       "      <td>0.011</td>\n",
       "      <td>0.000</td>\n",
       "      <td>0.048</td>\n",
       "      <td>0.001</td>\n",
       "      <td>0.013</td>\n",
       "      <td>0.000</td>\n",
       "      <td>0.005</td>\n",
       "      <td>0.022</td>\n",
       "      <td>0.004</td>\n",
       "      <td>0.000</td>\n",
       "      <td>0.002</td>\n",
       "      <td>0.008</td>\n",
       "      <td>0.000</td>\n",
       "      <td>0.001</td>\n",
       "      <td>0.001</td>\n",
       "      <td>0.003</td>\n",
       "      <td>0.003</td>\n",
       "      <td>0.011</td>\n",
       "      <td>0.000</td>\n",
       "      <td>0.009</td>\n",
       "      <td>0.002</td>\n",
       "      <td>0.001</td>\n",
       "      <td>0.005</td>\n",
       "      <td>0.007</td>\n",
       "      <td>0.000</td>\n",
       "      <td>0.001</td>\n",
       "      <td>0.001</td>\n",
       "      <td>0.001</td>\n",
       "      <td>0.002</td>\n",
       "      <td>0.011</td>\n",
       "      <td>0.003</td>\n",
       "      <td>0.003</td>\n",
       "    </tr>\n",
       "    <tr>\n",
       "      <th>floor_level_numeric</th>\n",
       "      <td>0.014</td>\n",
       "      <td>0.001</td>\n",
       "      <td>0.000</td>\n",
       "      <td>0.149</td>\n",
       "      <td>0.050</td>\n",
       "      <td>0.004</td>\n",
       "      <td>0.002</td>\n",
       "      <td>0.031</td>\n",
       "      <td>0.020</td>\n",
       "      <td>0.042</td>\n",
       "      <td>0.021</td>\n",
       "      <td>0.017</td>\n",
       "      <td>0.032</td>\n",
       "      <td>0.000</td>\n",
       "      <td>0.000</td>\n",
       "      <td>0.010</td>\n",
       "      <td>0.002</td>\n",
       "      <td>0.742</td>\n",
       "      <td>0.004</td>\n",
       "      <td>0.000</td>\n",
       "      <td>0.000</td>\n",
       "      <td>0.001</td>\n",
       "      <td>0.004</td>\n",
       "      <td>0.004</td>\n",
       "      <td>0.001</td>\n",
       "      <td>0.000</td>\n",
       "      <td>0.000</td>\n",
       "      <td>0.482</td>\n",
       "      <td>0.002</td>\n",
       "      <td>0.003</td>\n",
       "      <td>0.013</td>\n",
       "      <td>0.010</td>\n",
       "      <td>0.001</td>\n",
       "      <td>0.001</td>\n",
       "      <td>0.007</td>\n",
       "      <td>0.003</td>\n",
       "      <td>0.000</td>\n",
       "      <td>0.000</td>\n",
       "      <td>0.010</td>\n",
       "      <td>0.004</td>\n",
       "    </tr>\n",
       "    <tr>\n",
       "      <th>flat_storey_count</th>\n",
       "      <td>0.000</td>\n",
       "      <td>0.048</td>\n",
       "      <td>0.067</td>\n",
       "      <td>0.000</td>\n",
       "      <td>0.000</td>\n",
       "      <td>0.041</td>\n",
       "      <td>0.005</td>\n",
       "      <td>0.022</td>\n",
       "      <td>0.004</td>\n",
       "      <td>0.000</td>\n",
       "      <td>0.000</td>\n",
       "      <td>0.028</td>\n",
       "      <td>0.001</td>\n",
       "      <td>0.001</td>\n",
       "      <td>0.000</td>\n",
       "      <td>0.002</td>\n",
       "      <td>0.001</td>\n",
       "      <td>0.000</td>\n",
       "      <td>0.035</td>\n",
       "      <td>0.000</td>\n",
       "      <td>0.001</td>\n",
       "      <td>0.002</td>\n",
       "      <td>0.057</td>\n",
       "      <td>0.040</td>\n",
       "      <td>0.000</td>\n",
       "      <td>0.000</td>\n",
       "      <td>0.002</td>\n",
       "      <td>0.000</td>\n",
       "      <td>0.002</td>\n",
       "      <td>0.002</td>\n",
       "      <td>0.019</td>\n",
       "      <td>0.014</td>\n",
       "      <td>0.001</td>\n",
       "      <td>0.000</td>\n",
       "      <td>0.000</td>\n",
       "      <td>0.001</td>\n",
       "      <td>0.001</td>\n",
       "      <td>0.005</td>\n",
       "      <td>0.002</td>\n",
       "      <td>0.007</td>\n",
       "    </tr>\n",
       "    <tr>\n",
       "      <th>multi_glaze_proportion</th>\n",
       "      <td>0.000</td>\n",
       "      <td>0.001</td>\n",
       "      <td>0.000</td>\n",
       "      <td>0.001</td>\n",
       "      <td>0.003</td>\n",
       "      <td>0.032</td>\n",
       "      <td>0.015</td>\n",
       "      <td>0.002</td>\n",
       "      <td>0.001</td>\n",
       "      <td>0.014</td>\n",
       "      <td>0.010</td>\n",
       "      <td>0.003</td>\n",
       "      <td>0.000</td>\n",
       "      <td>0.000</td>\n",
       "      <td>0.006</td>\n",
       "      <td>0.000</td>\n",
       "      <td>0.004</td>\n",
       "      <td>0.000</td>\n",
       "      <td>0.004</td>\n",
       "      <td>0.018</td>\n",
       "      <td>0.000</td>\n",
       "      <td>0.002</td>\n",
       "      <td>0.009</td>\n",
       "      <td>0.009</td>\n",
       "      <td>0.009</td>\n",
       "      <td>0.011</td>\n",
       "      <td>0.000</td>\n",
       "      <td>0.000</td>\n",
       "      <td>0.002</td>\n",
       "      <td>0.000</td>\n",
       "      <td>0.141</td>\n",
       "      <td>0.040</td>\n",
       "      <td>0.429</td>\n",
       "      <td>0.004</td>\n",
       "      <td>0.001</td>\n",
       "      <td>0.000</td>\n",
       "      <td>0.000</td>\n",
       "      <td>0.004</td>\n",
       "      <td>0.030</td>\n",
       "      <td>0.003</td>\n",
       "    </tr>\n",
       "    <tr>\n",
       "      <th>extension_count</th>\n",
       "      <td>0.001</td>\n",
       "      <td>0.000</td>\n",
       "      <td>0.000</td>\n",
       "      <td>0.001</td>\n",
       "      <td>0.006</td>\n",
       "      <td>0.000</td>\n",
       "      <td>0.002</td>\n",
       "      <td>0.001</td>\n",
       "      <td>0.001</td>\n",
       "      <td>0.042</td>\n",
       "      <td>0.012</td>\n",
       "      <td>0.127</td>\n",
       "      <td>0.024</td>\n",
       "      <td>0.000</td>\n",
       "      <td>0.004</td>\n",
       "      <td>0.006</td>\n",
       "      <td>0.015</td>\n",
       "      <td>0.000</td>\n",
       "      <td>0.013</td>\n",
       "      <td>0.011</td>\n",
       "      <td>0.014</td>\n",
       "      <td>0.002</td>\n",
       "      <td>0.004</td>\n",
       "      <td>0.002</td>\n",
       "      <td>0.007</td>\n",
       "      <td>0.017</td>\n",
       "      <td>0.002</td>\n",
       "      <td>0.000</td>\n",
       "      <td>0.007</td>\n",
       "      <td>0.004</td>\n",
       "      <td>0.002</td>\n",
       "      <td>0.009</td>\n",
       "      <td>0.004</td>\n",
       "      <td>0.001</td>\n",
       "      <td>0.037</td>\n",
       "      <td>0.003</td>\n",
       "      <td>0.001</td>\n",
       "      <td>0.001</td>\n",
       "      <td>0.000</td>\n",
       "      <td>0.002</td>\n",
       "    </tr>\n",
       "  </tbody>\n",
       "</table>\n",
       "</div>"
      ],
      "text/plain": [
       "improvement_id_text     Insulate hot water cylinder with 80 mm jacket  \\\n",
       "total_floor_area                                                0.004   \n",
       "floor_level_numeric                                             0.014   \n",
       "flat_storey_count                                               0.000   \n",
       "multi_glaze_proportion                                          0.000   \n",
       "extension_count                                                 0.001   \n",
       "\n",
       "improvement_id_text     Increase hot water cylinder insulation  \\\n",
       "total_floor_area                                         0.002   \n",
       "floor_level_numeric                                      0.001   \n",
       "flat_storey_count                                        0.048   \n",
       "multi_glaze_proportion                                   0.001   \n",
       "extension_count                                          0.000   \n",
       "\n",
       "improvement_id_text     Add additional 80 mm jacket to hot water cylinder  \\\n",
       "total_floor_area                                                    0.000   \n",
       "floor_level_numeric                                                 0.000   \n",
       "flat_storey_count                                                   0.067   \n",
       "multi_glaze_proportion                                              0.000   \n",
       "extension_count                                                     0.000   \n",
       "\n",
       "improvement_id_text     Hot water cylinder thermostat  \\\n",
       "total_floor_area                                0.000   \n",
       "floor_level_numeric                             0.149   \n",
       "flat_storey_count                               0.000   \n",
       "multi_glaze_proportion                          0.001   \n",
       "extension_count                                 0.001   \n",
       "\n",
       "improvement_id_text     Increase loft insulation to 270 mm  \\\n",
       "total_floor_area                                     0.002   \n",
       "floor_level_numeric                                  0.050   \n",
       "flat_storey_count                                    0.000   \n",
       "multi_glaze_proportion                               0.003   \n",
       "extension_count                                      0.006   \n",
       "\n",
       "improvement_id_text     Cavity wall insulation  \\\n",
       "total_floor_area                         0.001   \n",
       "floor_level_numeric                      0.004   \n",
       "flat_storey_count                        0.041   \n",
       "multi_glaze_proportion                   0.032   \n",
       "extension_count                          0.000   \n",
       "\n",
       "improvement_id_text     50 mm internal or external wall insulation  \\\n",
       "total_floor_area                                             0.014   \n",
       "floor_level_numeric                                          0.002   \n",
       "flat_storey_count                                            0.005   \n",
       "multi_glaze_proportion                                       0.015   \n",
       "extension_count                                              0.002   \n",
       "\n",
       "improvement_id_text     Replace single glazed windows with low-E double glazing  \\\n",
       "total_floor_area                                                    0.005         \n",
       "floor_level_numeric                                                 0.031         \n",
       "flat_storey_count                                                   0.022         \n",
       "multi_glaze_proportion                                              0.002         \n",
       "extension_count                                                     0.001         \n",
       "\n",
       "improvement_id_text     Secondary glazing to single glazed windows  \\\n",
       "total_floor_area                                             0.011   \n",
       "floor_level_numeric                                          0.020   \n",
       "flat_storey_count                                            0.004   \n",
       "multi_glaze_proportion                                       0.001   \n",
       "extension_count                                              0.001   \n",
       "\n",
       "improvement_id_text     Draughtproof single-glazed windows  \\\n",
       "total_floor_area                                     0.000   \n",
       "floor_level_numeric                                  0.042   \n",
       "flat_storey_count                                    0.000   \n",
       "multi_glaze_proportion                               0.014   \n",
       "extension_count                                      0.042   \n",
       "\n",
       "improvement_id_text     Upgrade heating controls  \\\n",
       "total_floor_area                           0.048   \n",
       "floor_level_numeric                        0.021   \n",
       "flat_storey_count                          0.000   \n",
       "multi_glaze_proportion                     0.010   \n",
       "extension_count                            0.012   \n",
       "\n",
       "improvement_id_text     Time and temperature zone control  \\\n",
       "total_floor_area                                    0.001   \n",
       "floor_level_numeric                                 0.017   \n",
       "flat_storey_count                                   0.028   \n",
       "multi_glaze_proportion                              0.003   \n",
       "extension_count                                     0.127   \n",
       "\n",
       "improvement_id_text     Solar water heating  \\\n",
       "total_floor_area                      0.013   \n",
       "floor_level_numeric                   0.032   \n",
       "flat_storey_count                     0.001   \n",
       "multi_glaze_proportion                0.000   \n",
       "extension_count                       0.024   \n",
       "\n",
       "improvement_id_text     Replace boiler with new condensing boiler  \\\n",
       "total_floor_area                                            0.000   \n",
       "floor_level_numeric                                         0.000   \n",
       "flat_storey_count                                           0.001   \n",
       "multi_glaze_proportion                                      0.000   \n",
       "extension_count                                             0.000   \n",
       "\n",
       "improvement_id_text     Replace boiler with biomass boiler  \\\n",
       "total_floor_area                                     0.005   \n",
       "floor_level_numeric                                  0.000   \n",
       "flat_storey_count                                    0.000   \n",
       "multi_glaze_proportion                               0.006   \n",
       "extension_count                                      0.004   \n",
       "\n",
       "improvement_id_text     Wood pellet stove with boiler and radiators  \\\n",
       "total_floor_area                                              0.022   \n",
       "floor_level_numeric                                           0.010   \n",
       "flat_storey_count                                             0.002   \n",
       "multi_glaze_proportion                                        0.000   \n",
       "extension_count                                               0.006   \n",
       "\n",
       "improvement_id_text     Fan assisted storage heaters and dual immersion cylinder  \\\n",
       "total_floor_area                                                    0.004          \n",
       "floor_level_numeric                                                 0.002          \n",
       "flat_storey_count                                                   0.001          \n",
       "multi_glaze_proportion                                              0.004          \n",
       "extension_count                                                     0.015          \n",
       "\n",
       "improvement_id_text     Fan assisted storage heaters  \\\n",
       "total_floor_area                               0.000   \n",
       "floor_level_numeric                            0.742   \n",
       "flat_storey_count                              0.000   \n",
       "multi_glaze_proportion                         0.000   \n",
       "extension_count                                0.000   \n",
       "\n",
       "improvement_id_text     Replacement warm air unit  \\\n",
       "total_floor_area                            0.002   \n",
       "floor_level_numeric                         0.004   \n",
       "flat_storey_count                           0.035   \n",
       "multi_glaze_proportion                      0.004   \n",
       "extension_count                             0.013   \n",
       "\n",
       "improvement_id_text     Change heating to gas condensing boiler  \\\n",
       "total_floor_area                                          0.008   \n",
       "floor_level_numeric                                       0.000   \n",
       "flat_storey_count                                         0.000   \n",
       "multi_glaze_proportion                                    0.018   \n",
       "extension_count                                           0.011   \n",
       "\n",
       "improvement_id_text     Condensing oil boiler with radiators  \\\n",
       "total_floor_area                                       0.000   \n",
       "floor_level_numeric                                    0.000   \n",
       "flat_storey_count                                      0.001   \n",
       "multi_glaze_proportion                                 0.000   \n",
       "extension_count                                        0.014   \n",
       "\n",
       "improvement_id_text     Fan-assisted storage heaters  \\\n",
       "total_floor_area                               0.001   \n",
       "floor_level_numeric                            0.001   \n",
       "flat_storey_count                              0.002   \n",
       "multi_glaze_proportion                         0.002   \n",
       "extension_count                                0.002   \n",
       "\n",
       "improvement_id_text     Solar photovoltaic panels, 2.5 kWp  \\\n",
       "total_floor_area                                     0.001   \n",
       "floor_level_numeric                                  0.004   \n",
       "flat_storey_count                                    0.057   \n",
       "multi_glaze_proportion                               0.009   \n",
       "extension_count                                      0.004   \n",
       "\n",
       "improvement_id_text     Low energy lighting for all fixed outlets  \\\n",
       "total_floor_area                                            0.003   \n",
       "floor_level_numeric                                         0.004   \n",
       "flat_storey_count                                           0.040   \n",
       "multi_glaze_proportion                                      0.009   \n",
       "extension_count                                             0.002   \n",
       "\n",
       "improvement_id_text     Replace heating unit with condensing unit  \\\n",
       "total_floor_area                                            0.003   \n",
       "floor_level_numeric                                         0.001   \n",
       "flat_storey_count                                           0.000   \n",
       "multi_glaze_proportion                                      0.009   \n",
       "extension_count                                             0.007   \n",
       "\n",
       "improvement_id_text     Install condensing boiler  \\\n",
       "total_floor_area                            0.011   \n",
       "floor_level_numeric                         0.000   \n",
       "flat_storey_count                           0.000   \n",
       "multi_glaze_proportion                      0.011   \n",
       "extension_count                             0.017   \n",
       "\n",
       "improvement_id_text     Change room heaters to condensing boiler  \\\n",
       "total_floor_area                                           0.000   \n",
       "floor_level_numeric                                        0.000   \n",
       "flat_storey_count                                          0.002   \n",
       "multi_glaze_proportion                                     0.000   \n",
       "extension_count                                            0.002   \n",
       "\n",
       "improvement_id_text     Wind turbine  Flat roof insulation  \\\n",
       "total_floor_area               0.009                 0.002   \n",
       "floor_level_numeric            0.482                 0.002   \n",
       "flat_storey_count              0.000                 0.002   \n",
       "multi_glaze_proportion         0.000                 0.002   \n",
       "extension_count                0.000                 0.007   \n",
       "\n",
       "improvement_id_text     Room-in-roof insulation  Floor insulation  \\\n",
       "total_floor_area                          0.001             0.005   \n",
       "floor_level_numeric                       0.003             0.013   \n",
       "flat_storey_count                         0.002             0.019   \n",
       "multi_glaze_proportion                    0.000             0.141   \n",
       "extension_count                           0.004             0.002   \n",
       "\n",
       "improvement_id_text     High performance external doors  \\\n",
       "total_floor_area                                  0.007   \n",
       "floor_level_numeric                               0.010   \n",
       "flat_storey_count                                 0.014   \n",
       "multi_glaze_proportion                            0.040   \n",
       "extension_count                                   0.009   \n",
       "\n",
       "improvement_id_text     Heat recovery system for mixer showers  \\\n",
       "total_floor_area                                         0.000   \n",
       "floor_level_numeric                                      0.001   \n",
       "flat_storey_count                                        0.001   \n",
       "multi_glaze_proportion                                   0.429   \n",
       "extension_count                                          0.004   \n",
       "\n",
       "improvement_id_text     Flue gas heat recovery device in conjunction with boiler  \\\n",
       "total_floor_area                                                    0.001          \n",
       "floor_level_numeric                                                 0.001          \n",
       "flat_storey_count                                                   0.000          \n",
       "multi_glaze_proportion                                              0.004          \n",
       "extension_count                                                     0.001          \n",
       "\n",
       "improvement_id_text     Replacement glazing units  Suspended floor insulation  \\\n",
       "total_floor_area                            0.001                       0.001   \n",
       "floor_level_numeric                         0.007                       0.003   \n",
       "flat_storey_count                           0.000                       0.001   \n",
       "multi_glaze_proportion                      0.001                       0.000   \n",
       "extension_count                             0.037                       0.003   \n",
       "\n",
       "improvement_id_text     Solid floor insulation  \\\n",
       "total_floor_area                         0.002   \n",
       "floor_level_numeric                      0.000   \n",
       "flat_storey_count                        0.001   \n",
       "multi_glaze_proportion                   0.000   \n",
       "extension_count                          0.001   \n",
       "\n",
       "improvement_id_text     High heat retention storage heaters and dual immersion cylinder  \\\n",
       "total_floor_area                                                    0.011                 \n",
       "floor_level_numeric                                                 0.000                 \n",
       "flat_storey_count                                                   0.005                 \n",
       "multi_glaze_proportion                                              0.004                 \n",
       "extension_count                                                     0.001                 \n",
       "\n",
       "improvement_id_text     High heat retention storage heaters  \\\n",
       "total_floor_area                                      0.003   \n",
       "floor_level_numeric                                   0.010   \n",
       "flat_storey_count                                     0.002   \n",
       "multi_glaze_proportion                                0.030   \n",
       "extension_count                                       0.000   \n",
       "\n",
       "improvement_id_text     Party wall insulation  \n",
       "total_floor_area                        0.003  \n",
       "floor_level_numeric                     0.004  \n",
       "flat_storey_count                       0.007  \n",
       "multi_glaze_proportion                  0.003  \n",
       "extension_count                         0.002  "
      ]
     },
     "execution_count": 499,
     "metadata": {},
     "output_type": "execute_result"
    }
   ],
   "source": [
    "# pull out feature importance for each estimator\n",
    "try:\n",
    "    del fis\n",
    "except:\n",
    "    pass\n",
    "    \n",
    "for i in range(len(multilabel_clf.estimators_)):\n",
    "    fi = multilabel_clf.estimators_[i].feature_importances_\n",
    "    try:\n",
    "        fis = np.vstack((fi,fis))\n",
    "    except:\n",
    "        fis = fi\n",
    "\n",
    "fis = fis.T\n",
    "fis = pd.DataFrame(fis)\n",
    "fis.set_index(all_vars,inplace=True)\n",
    "fis.columns = id_to_text_mapper\n",
    "fis.to_csv('feature_importances_all_models_2.csv')\n",
    "fis.head()"
   ]
  },
  {
   "cell_type": "code",
   "execution_count": 500,
   "id": "fac49eba-7272-4b78-a579-a496d0009922",
   "metadata": {},
   "outputs": [
    {
     "data": {
      "text/html": [
       "<div>\n",
       "<style scoped>\n",
       "    .dataframe tbody tr th:only-of-type {\n",
       "        vertical-align: middle;\n",
       "    }\n",
       "\n",
       "    .dataframe tbody tr th {\n",
       "        vertical-align: top;\n",
       "    }\n",
       "\n",
       "    .dataframe thead th {\n",
       "        text-align: right;\n",
       "    }\n",
       "</style>\n",
       "<table border=\"1\" class=\"dataframe\">\n",
       "  <thead>\n",
       "    <tr style=\"text-align: right;\">\n",
       "      <th></th>\n",
       "      <th>weight</th>\n",
       "    </tr>\n",
       "  </thead>\n",
       "  <tbody>\n",
       "    <tr>\n",
       "      <th>solar_water_heating_flag_N</th>\n",
       "      <td>0.054</td>\n",
       "    </tr>\n",
       "    <tr>\n",
       "      <th>floor_level_numeric</th>\n",
       "      <td>0.042</td>\n",
       "    </tr>\n",
       "    <tr>\n",
       "      <th>windows_description_single glazing</th>\n",
       "      <td>0.026</td>\n",
       "    </tr>\n",
       "    <tr>\n",
       "      <th>construction_age_band_England and Wales: before 1900</th>\n",
       "      <td>0.023</td>\n",
       "    </tr>\n",
       "    <tr>\n",
       "      <th>main_fuel_electricity</th>\n",
       "      <td>0.022</td>\n",
       "    </tr>\n",
       "  </tbody>\n",
       "</table>\n",
       "</div>"
      ],
      "text/plain": [
       "                                                    weight\n",
       "solar_water_heating_flag_N                           0.054\n",
       "floor_level_numeric                                  0.042\n",
       "windows_description_single glazing                   0.026\n",
       "construction_age_band_England and Wales: before...   0.023\n",
       "main_fuel_electricity                                0.022"
      ]
     },
     "execution_count": 500,
     "metadata": {},
     "output_type": "execute_result"
    }
   ],
   "source": [
    "# get most important features (overall, mean importance)\n",
    "mean_importance = pd.DataFrame(fis.mean(axis=1))\n",
    "mean_importance.columns = ['weight']\n",
    "mean_importance.sort_values('weight',ascending=False).head()"
   ]
  },
  {
   "cell_type": "markdown",
   "id": "ba5f39b2-b19e-4a0d-a2b0-9bda70e2824e",
   "metadata": {},
   "source": [
    "#### Evaluation\n",
    "Will calculate one Average-Precision score per class (i.e. area under precision-recall curve)"
   ]
  },
  {
   "cell_type": "code",
   "execution_count": 501,
   "id": "48cfd2b3-d7f1-44bc-b31c-214411b2b23c",
   "metadata": {},
   "outputs": [
    {
     "data": {
      "text/plain": [
       "[0.4047395883375899,\n",
       " 0.3054058901907796,\n",
       " 0.24686061669739193,\n",
       " 0.7827249454834256,\n",
       " 0.3673491506712462]"
      ]
     },
     "execution_count": 501,
     "metadata": {},
     "output_type": "execute_result"
    }
   ],
   "source": [
    "avg_prec_scores = []\n",
    "\n",
    "for cn in range(y_test.shape[1]):\n",
    "    ap = average_precision_score(y_test[:,cn],\n",
    "                        multilabel_clf.estimators_[cn].predict_proba(x_test)[:,1])\n",
    "    avg_prec_scores.append(ap)\n",
    "    \n",
    "avg_prec_scores[:5]"
   ]
  },
  {
   "cell_type": "code",
   "execution_count": 526,
   "id": "c03b0922-2800-42fd-8cda-bb1af92b6db6",
   "metadata": {},
   "outputs": [
    {
     "name": "stdout",
     "output_type": "stream",
     "text": [
      "0.09114295198052666\n"
     ]
    },
    {
     "data": {
      "image/png": "[encoded data removed]",
      "text/plain": [
       "<Figure size 640x480 with 1 Axes>"
      ]
     },
     "metadata": {},
     "output_type": "display_data"
    }
   ],
   "source": [
    "# plot individual precision-recall curve\n",
    "class_number = 27\n",
    "\n",
    "display = PrecisionRecallDisplay.from_estimator(\n",
    "    multilabel_clf.estimators_[class_number], x_test, y_test[:,class_number], name=\"\"\n",
    ")\n",
    "_ = display.ax_.set_title(id_to_text_mapper.iloc[class_number])\n",
    "\n",
    "print(y_test[:,class_number].mean())\n",
    "# print(id_to_text_mapper.iloc[0])\n"
   ]
  },
  {
   "cell_type": "markdown",
   "id": "f50d4ecb-f5fe-4a38-8283-463a4d198754",
   "metadata": {},
   "source": [
    "#### Performance tracker"
   ]
  },
  {
   "cell_type": "code",
   "execution_count": 387,
   "id": "6d1c5064-b1b3-44b9-9ce1-8f274fd60175",
   "metadata": {},
   "outputs": [],
   "source": [
    "# tracker = pd.DataFrame(index=id_to_text_mapper)"
   ]
  },
  {
   "cell_type": "code",
   "execution_count": 507,
   "id": "8606e4bc-00eb-4bd9-b1fd-773e29e5082d",
   "metadata": {},
   "outputs": [],
   "source": [
    "set_name = '1'"
   ]
  },
  {
   "cell_type": "code",
   "execution_count": 508,
   "id": "2ebe7a94-d32b-4656-8eba-278579bbd8c3",
   "metadata": {},
   "outputs": [
    {
     "data": {
      "text/html": [
       "<div>\n",
       "<style scoped>\n",
       "    .dataframe tbody tr th:only-of-type {\n",
       "        vertical-align: middle;\n",
       "    }\n",
       "\n",
       "    .dataframe tbody tr th {\n",
       "        vertical-align: top;\n",
       "    }\n",
       "\n",
       "    .dataframe thead th {\n",
       "        text-align: right;\n",
       "    }\n",
       "</style>\n",
       "<table border=\"1\" class=\"dataframe\">\n",
       "  <thead>\n",
       "    <tr style=\"text-align: right;\">\n",
       "      <th></th>\n",
       "      <th>0</th>\n",
       "      <th>1</th>\n",
       "    </tr>\n",
       "    <tr>\n",
       "      <th>improvement_id_text</th>\n",
       "      <th></th>\n",
       "      <th></th>\n",
       "    </tr>\n",
       "  </thead>\n",
       "  <tbody>\n",
       "    <tr>\n",
       "      <th>Insulate hot water cylinder with 80 mm jacket</th>\n",
       "      <td>0.475</td>\n",
       "      <td>0.405</td>\n",
       "    </tr>\n",
       "    <tr>\n",
       "      <th>Increase hot water cylinder insulation</th>\n",
       "      <td>0.430</td>\n",
       "      <td>0.305</td>\n",
       "    </tr>\n",
       "    <tr>\n",
       "      <th>Add additional 80 mm jacket to hot water cylinder</th>\n",
       "      <td>0.233</td>\n",
       "      <td>0.247</td>\n",
       "    </tr>\n",
       "    <tr>\n",
       "      <th>Hot water cylinder thermostat</th>\n",
       "      <td>0.827</td>\n",
       "      <td>0.783</td>\n",
       "    </tr>\n",
       "    <tr>\n",
       "      <th>Increase loft insulation to 270 mm</th>\n",
       "      <td>0.300</td>\n",
       "      <td>0.367</td>\n",
       "    </tr>\n",
       "    <tr>\n",
       "      <th>Cavity wall insulation</th>\n",
       "      <td>0.351</td>\n",
       "      <td>0.492</td>\n",
       "    </tr>\n",
       "    <tr>\n",
       "      <th>50 mm internal or external wall insulation</th>\n",
       "      <td>0.827</td>\n",
       "      <td>0.847</td>\n",
       "    </tr>\n",
       "    <tr>\n",
       "      <th>Replace single glazed windows with low-E double glazing</th>\n",
       "      <td>0.990</td>\n",
       "      <td>0.984</td>\n",
       "    </tr>\n",
       "    <tr>\n",
       "      <th>Secondary glazing to single glazed windows</th>\n",
       "      <td>0.041</td>\n",
       "      <td>0.106</td>\n",
       "    </tr>\n",
       "    <tr>\n",
       "      <th>Draughtproof single-glazed windows</th>\n",
       "      <td>0.468</td>\n",
       "      <td>0.606</td>\n",
       "    </tr>\n",
       "    <tr>\n",
       "      <th>Upgrade heating controls</th>\n",
       "      <td>0.964</td>\n",
       "      <td>0.915</td>\n",
       "    </tr>\n",
       "    <tr>\n",
       "      <th>Time and temperature zone control</th>\n",
       "      <td>0.780</td>\n",
       "      <td>0.822</td>\n",
       "    </tr>\n",
       "    <tr>\n",
       "      <th>Solar water heating</th>\n",
       "      <td>0.977</td>\n",
       "      <td>0.976</td>\n",
       "    </tr>\n",
       "    <tr>\n",
       "      <th>Replace boiler with new condensing boiler</th>\n",
       "      <td>0.736</td>\n",
       "      <td>0.789</td>\n",
       "    </tr>\n",
       "    <tr>\n",
       "      <th>Replace boiler with biomass boiler</th>\n",
       "      <td>0.333</td>\n",
       "      <td>0.301</td>\n",
       "    </tr>\n",
       "    <tr>\n",
       "      <th>Wood pellet stove with boiler and radiators</th>\n",
       "      <td>0.987</td>\n",
       "      <td>0.835</td>\n",
       "    </tr>\n",
       "    <tr>\n",
       "      <th>Fan assisted storage heaters and dual immersion cylinder</th>\n",
       "      <td>0.893</td>\n",
       "      <td>0.799</td>\n",
       "    </tr>\n",
       "    <tr>\n",
       "      <th>Fan assisted storage heaters</th>\n",
       "      <td>0.950</td>\n",
       "      <td>0.703</td>\n",
       "    </tr>\n",
       "    <tr>\n",
       "      <th>Replacement warm air unit</th>\n",
       "      <td>0.963</td>\n",
       "      <td>0.938</td>\n",
       "    </tr>\n",
       "    <tr>\n",
       "      <th>Change heating to gas condensing boiler</th>\n",
       "      <td>0.985</td>\n",
       "      <td>0.972</td>\n",
       "    </tr>\n",
       "    <tr>\n",
       "      <th>Condensing oil boiler with radiators</th>\n",
       "      <td>-0.000</td>\n",
       "      <td>0.501</td>\n",
       "    </tr>\n",
       "    <tr>\n",
       "      <th>Fan-assisted storage heaters</th>\n",
       "      <td>0.878</td>\n",
       "      <td>0.815</td>\n",
       "    </tr>\n",
       "    <tr>\n",
       "      <th>Solar photovoltaic panels, 2.5 kWp</th>\n",
       "      <td>0.988</td>\n",
       "      <td>0.978</td>\n",
       "    </tr>\n",
       "    <tr>\n",
       "      <th>Low energy lighting for all fixed outlets</th>\n",
       "      <td>0.997</td>\n",
       "      <td>0.998</td>\n",
       "    </tr>\n",
       "    <tr>\n",
       "      <th>Replace heating unit with condensing unit</th>\n",
       "      <td>0.011</td>\n",
       "      <td>0.098</td>\n",
       "    </tr>\n",
       "    <tr>\n",
       "      <th>Install condensing boiler</th>\n",
       "      <td>0.009</td>\n",
       "      <td>0.322</td>\n",
       "    </tr>\n",
       "    <tr>\n",
       "      <th>Change room heaters to condensing boiler</th>\n",
       "      <td>0.987</td>\n",
       "      <td>0.988</td>\n",
       "    </tr>\n",
       "    <tr>\n",
       "      <th>Wind turbine</th>\n",
       "      <td>0.846</td>\n",
       "      <td>0.721</td>\n",
       "    </tr>\n",
       "    <tr>\n",
       "      <th>Flat roof insulation</th>\n",
       "      <td>0.253</td>\n",
       "      <td>0.337</td>\n",
       "    </tr>\n",
       "    <tr>\n",
       "      <th>Room-in-roof insulation</th>\n",
       "      <td>0.450</td>\n",
       "      <td>0.240</td>\n",
       "    </tr>\n",
       "    <tr>\n",
       "      <th>Floor insulation</th>\n",
       "      <td>0.925</td>\n",
       "      <td>0.920</td>\n",
       "    </tr>\n",
       "    <tr>\n",
       "      <th>High performance external doors</th>\n",
       "      <td>0.246</td>\n",
       "      <td>0.261</td>\n",
       "    </tr>\n",
       "    <tr>\n",
       "      <th>Heat recovery system for mixer showers</th>\n",
       "      <td>0.380</td>\n",
       "      <td>0.274</td>\n",
       "    </tr>\n",
       "    <tr>\n",
       "      <th>Flue gas heat recovery device in conjunction with boiler</th>\n",
       "      <td>0.197</td>\n",
       "      <td>0.151</td>\n",
       "    </tr>\n",
       "    <tr>\n",
       "      <th>Replacement glazing units</th>\n",
       "      <td>0.310</td>\n",
       "      <td>0.322</td>\n",
       "    </tr>\n",
       "    <tr>\n",
       "      <th>Suspended floor insulation</th>\n",
       "      <td>0.556</td>\n",
       "      <td>0.410</td>\n",
       "    </tr>\n",
       "    <tr>\n",
       "      <th>Solid floor insulation</th>\n",
       "      <td>0.566</td>\n",
       "      <td>0.690</td>\n",
       "    </tr>\n",
       "    <tr>\n",
       "      <th>High heat retention storage heaters and dual immersion cylinder</th>\n",
       "      <td>0.789</td>\n",
       "      <td>0.834</td>\n",
       "    </tr>\n",
       "    <tr>\n",
       "      <th>High heat retention storage heaters</th>\n",
       "      <td>0.841</td>\n",
       "      <td>0.832</td>\n",
       "    </tr>\n",
       "    <tr>\n",
       "      <th>Party wall insulation</th>\n",
       "      <td>0.117</td>\n",
       "      <td>0.193</td>\n",
       "    </tr>\n",
       "  </tbody>\n",
       "</table>\n",
       "</div>"
      ],
      "text/plain": [
       "                                                        0     1\n",
       "improvement_id_text                                            \n",
       "Insulate hot water cylinder with 80 mm jacket       0.475 0.405\n",
       "Increase hot water cylinder insulation              0.430 0.305\n",
       "Add additional 80 mm jacket to hot water cylinder   0.233 0.247\n",
       "Hot water cylinder thermostat                       0.827 0.783\n",
       "Increase loft insulation to 270 mm                  0.300 0.367\n",
       "Cavity wall insulation                              0.351 0.492\n",
       "50 mm internal or external wall insulation          0.827 0.847\n",
       "Replace single glazed windows with low-E double...  0.990 0.984\n",
       "Secondary glazing to single glazed windows          0.041 0.106\n",
       "Draughtproof single-glazed windows                  0.468 0.606\n",
       "Upgrade heating controls                            0.964 0.915\n",
       "Time and temperature zone control                   0.780 0.822\n",
       "Solar water heating                                 0.977 0.976\n",
       "Replace boiler with new condensing boiler           0.736 0.789\n",
       "Replace boiler with biomass boiler                  0.333 0.301\n",
       "Wood pellet stove with boiler and radiators         0.987 0.835\n",
       "Fan assisted storage heaters and dual immersion...  0.893 0.799\n",
       "Fan assisted storage heaters                        0.950 0.703\n",
       "Replacement warm air unit                           0.963 0.938\n",
       "Change heating to gas condensing boiler             0.985 0.972\n",
       "Condensing oil boiler with radiators               -0.000 0.501\n",
       "Fan-assisted storage heaters                        0.878 0.815\n",
       "Solar photovoltaic panels, 2.5 kWp                  0.988 0.978\n",
       "Low energy lighting for all fixed outlets           0.997 0.998\n",
       "Replace heating unit with condensing unit           0.011 0.098\n",
       "Install condensing boiler                           0.009 0.322\n",
       "Change room heaters to condensing boiler            0.987 0.988\n",
       "Wind turbine                                        0.846 0.721\n",
       "Flat roof insulation                                0.253 0.337\n",
       "Room-in-roof insulation                             0.450 0.240\n",
       "Floor insulation                                    0.925 0.920\n",
       "High performance external doors                     0.246 0.261\n",
       "Heat recovery system for mixer showers              0.380 0.274\n",
       "Flue gas heat recovery device in conjunction wi...  0.197 0.151\n",
       "Replacement glazing units                           0.310 0.322\n",
       "Suspended floor insulation                          0.556 0.410\n",
       "Solid floor insulation                              0.566 0.690\n",
       "High heat retention storage heaters and dual im...  0.789 0.834\n",
       "High heat retention storage heaters                 0.841 0.832\n",
       "Party wall insulation                               0.117 0.193"
      ]
     },
     "execution_count": 508,
     "metadata": {},
     "output_type": "execute_result"
    }
   ],
   "source": [
    "tracker[set_name] = avg_prec_scores\n",
    "tracker"
   ]
  },
  {
   "cell_type": "code",
   "execution_count": null,
   "id": "99db9017-1a88-40e8-a864-96df97cfa6fb",
   "metadata": {},
   "outputs": [],
   "source": []
  },
  {
   "cell_type": "code",
   "execution_count": null,
   "id": "32d579cb-7ae2-46cf-930b-8315d3917764",
   "metadata": {},
   "outputs": [],
   "source": []
  },
  {
   "cell_type": "code",
   "execution_count": 533,
   "id": "9a251d78-0e4b-4c53-8228-005306178917",
   "metadata": {},
   "outputs": [
    {
     "data": {
      "image/png": "[encoded data removed]",
      "text/plain": [
       "<Figure size 640x480 with 1 Axes>"
      ]
     },
     "metadata": {},
     "output_type": "display_data"
    },
    {
     "data": {
      "image/png": "[encoded data removed]",
      "text/plain": [
       "<Figure size 640x480 with 1 Axes>"
      ]
     },
     "metadata": {},
     "output_type": "display_data"
    },
    {
     "data": {
      "image/png": "[encoded data removed]",
      "text/plain": [
       "<Figure size 640x480 with 1 Axes>"
      ]
     },
     "metadata": {},
     "output_type": "display_data"
    },
    {
     "data": {
      "image/png": "[encoded data removed]",
      "text/plain": [
       "<Figure size 640x480 with 1 Axes>"
      ]
     },
     "metadata": {},
     "output_type": "display_data"
    },
    {
     "data": {
      "image/png": "[encoded data removed]",
      "text/plain": [
       "<Figure size 640x480 with 1 Axes>"
      ]
     },
     "metadata": {},
     "output_type": "display_data"
    },
    {
     "data": {
      "image/png": "[encoded data removed]",
      "text/plain": [
       "<Figure size 640x480 with 1 Axes>"
      ]
     },
     "metadata": {},
     "output_type": "display_data"
    },
    {
     "data": {
      "image/png": "[encoded data removed]",
      "text/plain": [
       "<Figure size 640x480 with 1 Axes>"
      ]
     },
     "metadata": {},
     "output_type": "display_data"
    },
    {
     "data": {
      "image/png": "[encoded data removed]",
      "text/plain": [
       "<Figure size 640x480 with 1 Axes>"
      ]
     },
     "metadata": {},
     "output_type": "display_data"
    },
    {
     "data": {
      "image/png": "[encoded data removed]",
      "text/plain": [
       "<Figure size 640x480 with 1 Axes>"
      ]
     },
     "metadata": {},
     "output_type": "display_data"
    },
    {
     "data": {
      "image/png": "[encoded data removed]",
      "text/plain": [
       "<Figure size 640x480 with 1 Axes>"
      ]
     },
     "metadata": {},
     "output_type": "display_data"
    },
    {
     "data": {
      "image/png": "[encoded data removed]",
      "text/plain": [
       "<Figure size 640x480 with 1 Axes>"
      ]
     },
     "metadata": {},
     "output_type": "display_data"
    },
    {
     "data": {
      "image/png": "[encoded data removed]",
      "text/plain": [
       "<Figure size 640x480 with 1 Axes>"
      ]
     },
     "metadata": {},
     "output_type": "display_data"
    },
    {
     "data": {
      "image/png": "[encoded data removed]",
      "text/plain": [
       "<Figure size 640x480 with 1 Axes>"
      ]
     },
     "metadata": {},
     "output_type": "display_data"
    },
    {
     "data": {
      "image/png": "[encoded data removed]",
      "text/plain": [
       "<Figure size 640x480 with 1 Axes>"
      ]
     },
     "metadata": {},
     "output_type": "display_data"
    }
   ],
   "source": [
    "for class_number in range(len(id_to_text_mapper)):\n",
    "    \n",
    "    if y_test[:,class_number].mean() >= .05:\n",
    "        \n",
    "        \n",
    "        # print(print(y_test[:,class_number].mean()))\n",
    "        \n",
    "        display = PrecisionRecallDisplay.from_estimator(\n",
    "            multilabel_clf.estimators_[class_number], x_test, y_test[:,class_number], name=\"\"\n",
    "        )\n",
    "        _ = display.ax_.set_title(id_to_text_mapper.iloc[class_number])\n",
    "\n",
    "        # print()\n",
    "        # print()\n",
    "        # print(y_test[:,class_number].mean())\n",
    "        # print(id_to_text_mapper.iloc[0])\n"
   ]
  },
  {
   "cell_type": "code",
   "execution_count": null,
   "id": "f9652ef9-dd5b-4224-934b-ea7e58513fb5",
   "metadata": {},
   "outputs": [],
   "source": []
  }
 ],
 "metadata": {
  "kernelspec": {
   "display_name": "Python 3 (ipykernel)",
   "language": "python",
   "name": "python3"
  },
  "language_info": {
   "codemirror_mode": {
    "name": "ipython",
    "version": 3
   },
   "file_extension": ".py",
   "mimetype": "text/x-python",
   "name": "python",
   "nbconvert_exporter": "python",
   "pygments_lexer": "ipython3",
   "version": "3.10.6"
  }
 },
 "nbformat": 4,
 "nbformat_minor": 5
}
