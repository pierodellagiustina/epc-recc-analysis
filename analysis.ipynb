{
 "cells": [
  {
   "cell_type": "markdown",
   "id": "1280090c-a99e-4cbd-bd96-a33fc0ed5e79",
   "metadata": {},
   "source": [
    "## Setup"
   ]
  },
  {
   "cell_type": "code",
   "execution_count": 4,
   "id": "6f35c1b1-41f1-4af5-ac43-b938fe7d03ca",
   "metadata": {},
   "outputs": [],
   "source": [
    "import pandas as pd\n",
    "pd.set_option('display.max_columns', None)\n",
    "pd.set_option('display.float_format', lambda x: '%.3f' % x)\n",
    "import os\n",
    "import numpy as np\n",
    "import matplotlib.pyplot as plt\n",
    "import math\n",
    "from sklearn.preprocessing import MinMaxScaler, MultiLabelBinarizer\n",
    "from sklearn.model_selection import train_test_split\n",
    "from sklearn.multioutput import MultiOutputClassifier\n",
    "from sklearn.ensemble import RandomForestClassifier\n",
    "import xgboost as xgb\n"
   ]
  },
  {
   "cell_type": "code",
   "execution_count": 5,
   "id": "46f596e1-fbd0-4624-9965-797293a58b3f",
   "metadata": {
    "tags": []
   },
   "outputs": [],
   "source": [
    "# %conda install sklearn"
   ]
  },
  {
   "cell_type": "markdown",
   "id": "b77be99a-809c-4860-b59f-45dec875e41c",
   "metadata": {},
   "source": [
    "## Data import"
   ]
  },
  {
   "cell_type": "code",
   "execution_count": 6,
   "id": "35001889-2d1f-4513-8fa8-315e93614733",
   "metadata": {},
   "outputs": [],
   "source": [
    "how_many_files = 4 #set maximum number of files when doing dev work "
   ]
  },
  {
   "cell_type": "code",
   "execution_count": 7,
   "id": "ec45f998-f04e-42a6-ac36-de2d4462a000",
   "metadata": {},
   "outputs": [
    {
     "name": "stdout",
     "output_type": "stream",
     "text": [
      "Processing domestic-E06000001-Hartlepool\n",
      "Length certificates: 42173, Length recommendations: 177258\n",
      "Processing domestic-E06000002-Middlesbrough\n",
      "Length certificates: 105113, Length recommendations: 443706\n",
      "Processing domestic-E06000003-Redcar-and-Cleveland\n",
      "Length certificates: 159295, Length recommendations: 693122\n",
      "Processing domestic-E06000004-Stockton-on-Tees\n",
      "Length certificates: 243123, Length recommendations: 1041647\n"
     ]
    }
   ],
   "source": [
    "#RUN\n",
    "# read all sample files into memory\n",
    "try: \n",
    "    del(df_cert)\n",
    "    del(df_rec)\n",
    "except:\n",
    "    pass\n",
    "\n",
    "files_counter = 0\n",
    "for f in os.listdir('data_samples'):\n",
    "    \n",
    "    print(f'Processing {f}')\n",
    "    \n",
    "    # Certificates files\n",
    "    df_cert_temp = pd.read_csv(\n",
    "        f'data_samples/{f}/certificates.csv', \n",
    "        dtype = {'INSPECTION_DATE':'str','LODGEMENT_DATE':'str'},\n",
    "        parse_dates=['INSPECTION_DATE','LODGEMENT_DATE'],\n",
    "        low_memory=False\n",
    "    )\n",
    "    try:\n",
    "        df_cert = pd.concat([df_cert, df_cert_temp])\n",
    "    except:\n",
    "         df_cert = df_cert_temp.copy()\n",
    "        \n",
    "    # Recommendations files\n",
    "    df_rec_temp = pd.read_csv(f'data_samples/{f}/recommendations.csv', low_memory=False)\n",
    "    try:\n",
    "        df_rec = pd.concat([df_rec, df_rec_temp])\n",
    "    except:\n",
    "        df_rec = df_rec_temp.copy()\n",
    "        \n",
    "    print(f'Length certificates: {len(df_cert)}, Length recommendations: {len(df_rec)}')\n",
    "    \n",
    "    files_counter += 1\n",
    "    if files_counter == how_many_files:\n",
    "        break\n",
    "    \n",
    "df_cert.reset_index(inplace=True)\n",
    "df_rec.reset_index(inplace=True)"
   ]
  },
  {
   "cell_type": "markdown",
   "id": "c07514f3-4669-4b50-a0dd-e0e52c1fa720",
   "metadata": {},
   "source": [
    "## Cleansing NaNs\n",
    "\n",
    "Quick cleanse to replace dubious labels with Nan.\n",
    "Will do proper categories cleanse later."
   ]
  },
  {
   "cell_type": "code",
   "execution_count": 8,
   "id": "75090220-dbd1-44a8-93a4-2b89ad383b4c",
   "metadata": {},
   "outputs": [
    {
     "name": "stdout",
     "output_type": "stream",
     "text": [
      "Done 1\n",
      "Done 2\n",
      "Done 3\n",
      "Done 4\n"
     ]
    }
   ],
   "source": [
    "#RUN\n",
    "# create copy\n",
    "cert = df_cert.copy() \n",
    "\n",
    "#lower case all col headers to speed up typing\n",
    "cert.columns = [col.lower() for col in cert.columns]\n",
    "\n",
    "# pd.Series(cert.columns).to_csv('columns.csv',index=False)\n",
    "\n",
    "# replace 'NO DATA!', 'not defined' and 'not recored' with null\n",
    "cert = cert.replace(['NO DATA!','NODATA!','not recorded','not defined','unknown',\n",
    "                     'Unknown','Not defined','Not recorded','N/A','n/a','INVALID!'],np.nan)\n",
    "print('Done 1')\n",
    "\n",
    "# replace any values starting sap as these are the column headers not real data\n",
    "cert = cert.replace([r'^SAP.*',r'^sap.*'],np.nan,regex=True)\n",
    "print('Done 2')\n",
    "\n",
    "# replace '+ Chr(13) +' as it's meaningless\n",
    "cert = cert.replace([r\"\\+ Chr\\(13\\) \\+\",r\"\\+ chr\\(13\\) \\+\"],'+', regex=True)\n",
    "print('Done 3')\n",
    "\n",
    "# replacing values in columns which are actually just the column header\n",
    "replacement_dict = {\n",
    "    'hotwater_description':{r'^Hot-Water$':np.nan},\n",
    "    'floor_description':{r'^Floor$':np.nan},\n",
    "    'walls_description':{r'^Wall$':np.nan},\n",
    "    'windows_description':{r'^Window$':np.nan},\n",
    "    'roof_description':{r'^Roof$':np.nan},\n",
    "    'main_heating_controls':{r'^Main-Heating-Controls$':np.nan},\n",
    "    'secondheat_description':{r'^Secondary-Heating$':np.nan},\n",
    "    'lighting_description':{r'^Lighting$':np.nan},\n",
    "    'mainheatcont_description':{r'^Main-Heating-Controls$':np.nan}}\n",
    "\n",
    "cert = cert.replace(replacement_dict,regex=True)\n",
    "print('Done 4')"
   ]
  },
  {
   "cell_type": "markdown",
   "id": "0c3be5e3-6cc7-4153-b84f-bf1240360844",
   "metadata": {},
   "source": [
    "## Initial clean up of categorical variables\n",
    "\n",
    "Quick clean up - will do a more thorough job further down "
   ]
  },
  {
   "cell_type": "markdown",
   "id": "375499e4-ff9c-46da-9bab-fa0c9a026e0b",
   "metadata": {},
   "source": [
    "#### PROPERTY_TYPE"
   ]
  },
  {
   "cell_type": "code",
   "execution_count": 9,
   "id": "5b26825d-b1ae-409c-9864-b56bdf366c00",
   "metadata": {},
   "outputs": [
    {
     "data": {
      "text/plain": [
       "0"
      ]
     },
     "execution_count": 9,
     "metadata": {},
     "output_type": "execute_result"
    }
   ],
   "source": [
    "#RUN\n",
    "#just drop the Park Homes\n",
    "cert = cert.drop(cert[cert.property_type=='Park home'].index)\n",
    "cert.property_type.isna().sum()"
   ]
  },
  {
   "cell_type": "markdown",
   "id": "102d44ea-be98-4e31-b479-0d6a7bc39c75",
   "metadata": {},
   "source": [
    "#### BUILT_FORM"
   ]
  },
  {
   "cell_type": "code",
   "execution_count": 10,
   "id": "79d3f00f-7ee4-47ea-9d08-c55e0da47099",
   "metadata": {},
   "outputs": [
    {
     "data": {
      "text/plain": [
       "Semi-Detached    79242\n",
       "Mid-Terrace      76134\n",
       "Detached         46729\n",
       "End-Terrace      37760\n",
       "Name: built_form, dtype: int64"
      ]
     },
     "execution_count": 10,
     "metadata": {},
     "output_type": "execute_result"
    }
   ],
   "source": [
    "#RUN\n",
    "#remove 'enclosed' from the terraced properties \n",
    "\n",
    "cert.built_form = cert.built_form.map({\n",
    "    'Enclosed End-Terrace':'End-Terrace',\n",
    "    'Enclosed Mid-Terrace':'Mid-Terrace',\n",
    "    'Mid-Terrace':'Mid-Terrace',\n",
    "    'Semi-Detached':'Semi-Detached',\n",
    "    'End-Terrace':'End-Terrace',\n",
    "    'Detached':'Detached'\n",
    "})\n",
    "\n",
    "cert.built_form.value_counts()"
   ]
  },
  {
   "cell_type": "markdown",
   "id": "dfa58b60-f2d7-4dd0-a3de-e53a92f1770e",
   "metadata": {},
   "source": [
    "#### ENERGY_TARIFF"
   ]
  },
  {
   "cell_type": "code",
   "execution_count": 11,
   "id": "19acbfa1-3dd5-4306-bd67-c1d24fcf7f78",
   "metadata": {},
   "outputs": [
    {
     "data": {
      "text/plain": [
       "Single              189152\n",
       "standard tariff      23848\n",
       "dual                 13484\n",
       "off-peak 7 hour       9337\n",
       "off-peak 10 hour       433\n",
       "24 hour                161\n",
       "dual (24 hour)          78\n",
       "off-peak 18 hour         7\n",
       "Name: energy_tariff, dtype: int64"
      ]
     },
     "execution_count": 11,
     "metadata": {},
     "output_type": "execute_result"
    }
   ],
   "source": [
    "#RUN\n",
    "#replace the unknowns with actual NAs\n",
    "\n",
    "cert['energy_tariff'] = cert.energy_tariff.replace('Unknown',np.nan)\n",
    "\n",
    "cert.energy_tariff.value_counts()"
   ]
  },
  {
   "cell_type": "markdown",
   "id": "00c29e26-dca2-4fcf-acef-fd71782a6fe1",
   "metadata": {},
   "source": [
    "#### GLAZED_TYPE"
   ]
  },
  {
   "cell_type": "code",
   "execution_count": 12,
   "id": "b5b42a30-0a8f-4cbc-bba2-3e6613d645fc",
   "metadata": {},
   "outputs": [
    {
     "data": {
      "text/plain": [
       "double glazing installed before 2002             75725\n",
       "double glazing installed during or after 2002    69250\n",
       "double glazing, unknown install date             63349\n",
       "single glazing                                    1166\n",
       "triple glazing                                     146\n",
       "Name: glazed_type, dtype: int64"
      ]
     },
     "execution_count": 12,
     "metadata": {},
     "output_type": "execute_result"
    }
   ],
   "source": [
    "#RUN\n",
    "#remap these messy categories \n",
    "cert.glazed_type = cert.glazed_type.replace(['double, known data','secondary glazing'],'double glazing, unknown install date')\n",
    "cert.glazed_type = cert.glazed_type.replace('triple, known data','triple glazing')\n",
    "\n",
    "cert.glazed_type = cert.glazed_type.replace(['INVALID!','not defined'],np.nan)\n",
    "\n",
    "cert.glazed_type.value_counts()"
   ]
  },
  {
   "cell_type": "markdown",
   "id": "ae9f5ade-0c3a-4a9e-b1b0-e9b5c13e207f",
   "metadata": {},
   "source": [
    "#### TENURE"
   ]
  },
  {
   "cell_type": "code",
   "execution_count": 13,
   "id": "a275be9b-457a-4b36-b2f7-4d19600cb67d",
   "metadata": {},
   "outputs": [
    {
     "data": {
      "text/plain": [
       "owner-occupied      117977\n",
       "rental (social)      60370\n",
       "rental (private)     40388\n",
       "Name: tenure, dtype: int64"
      ]
     },
     "execution_count": 13,
     "metadata": {},
     "output_type": "execute_result"
    }
   ],
   "source": [
    "#RUN\n",
    "cert.tenure = cert.tenure.replace('unknown',np.nan)\n",
    "cert.tenure = cert.tenure.replace('Not defined.*',np.nan,regex=True)\n",
    "cert.tenure = cert.tenure.replace('Rented (social)','rental (social)')\n",
    "cert.tenure = cert.tenure.replace('Rented (private)','rental (private)')\n",
    "cert.tenure = cert.tenure.replace('Owner-occupied','owner-occupied')\n",
    "\n",
    "cert.tenure.value_counts()"
   ]
  },
  {
   "cell_type": "markdown",
   "id": "09a547cb-a4bd-49d1-bcde-86897730db63",
   "metadata": {},
   "source": [
    "## Impute w/in same building \n",
    "Fill in NaNs if there is more than one certificate w/in the same building, where the attribute was populated at least once. Assumes attribute is time-invariant.\n",
    "\n",
    "TODO: add flag for inputation to be used in the model?"
   ]
  },
  {
   "cell_type": "code",
   "execution_count": 14,
   "id": "2eb7b082-ab90-4a85-b663-5cc9ceaaa350",
   "metadata": {},
   "outputs": [],
   "source": [
    "fill_columns = ['built_form',\n",
    " 'mains_gas_flag',\n",
    " 'floor_level',\n",
    " 'number_habitable_rooms',\n",
    " 'roof_description',\n",
    " 'heat_loss_corridor',\n",
    " 'floor_height']"
   ]
  },
  {
   "cell_type": "code",
   "execution_count": 15,
   "id": "2b9b29cc-459a-4af3-a2c6-509beb8d455c",
   "metadata": {},
   "outputs": [
    {
     "name": "stdout",
     "output_type": "stream",
     "text": [
      "Filling built_form\n",
      "Filling in missing values for 743 properties\n",
      "Filling mains_gas_flag\n",
      "Filling in missing values for 1588 properties\n",
      "Filling floor_level\n",
      "Filling in missing values for 321 properties\n",
      "Filling number_habitable_rooms\n",
      "Filling in missing values for 1487 properties\n",
      "Filling roof_description\n",
      "Filling in missing values for 80 properties\n",
      "Filling heat_loss_corridor\n",
      "Filling in missing values for 649 properties\n",
      "Filling floor_height\n",
      "Filling in missing values for 21282 properties\n"
     ]
    }
   ],
   "source": [
    "for col in fill_columns:\n",
    "    \n",
    "    print(f'Filling {col}')\n",
    "    \n",
    "    temp = cert[['building_reference_number','lmk_key',col]].groupby('building_reference_number').count()\n",
    "    temp = temp[\n",
    "        (temp.lmk_key>1)& #more than one certificate on the same building\n",
    "        (temp[col]>0)& #at least one certificate with attribute populated\n",
    "        (temp[col]<temp.lmk_key) #at least one certificate where attribute missing  \n",
    "    ]\n",
    "    \n",
    "    print(f'Filling in missing values for {len(temp)} properties')\n",
    "    if len(temp)==0: continue\n",
    "    \n",
    "    # Get filler values\n",
    "    temp_lookup = cert[cert.building_reference_number.isin(temp.index)].groupby('building_reference_number')[col].agg(\n",
    "        lambda x: pd.Series.mode(x)[0]) #just get the most frequent\n",
    "    \n",
    "    #join original table to the lookup table to get the filler values\n",
    "    temp_filler = cert.loc[cert.building_reference_number.isin(temp.index) & cert[col].isna()].merge(\n",
    "        temp_lookup, how='left',left_on='building_reference_number',right_index=True)[col+'_y']\n",
    "\n",
    "    # fill in original table \n",
    "    cert.loc[cert.building_reference_number.isin(temp.index) & cert[col].isna(),col\n",
    "            ] = temp_filler\n",
    "    "
   ]
  },
  {
   "cell_type": "markdown",
   "id": "08ad5935-d8db-4455-bbbd-288bc23e97c5",
   "metadata": {},
   "source": [
    "## Dedupe on same date\n",
    "TODO: didn't do anything with this for now. Consider later.\n",
    "Quite high % of duplicates (but they could be different apartments? we do not get the apartment number)."
   ]
  },
  {
   "cell_type": "code",
   "execution_count": 16,
   "id": "2499d1bc-cb06-4d1d-8663-bb7710f76ccc",
   "metadata": {},
   "outputs": [
    {
     "data": {
      "text/plain": [
       "0.023371751523976407"
      ]
     },
     "execution_count": 16,
     "metadata": {},
     "output_type": "execute_result"
    }
   ],
   "source": [
    "len(cert[cert.duplicated(subset=['building_reference_number','inspection_date'])]) / len(cert)"
   ]
  },
  {
   "cell_type": "code",
   "execution_count": 17,
   "id": "a344062c-c3e9-4361-9b45-c41acdd2e509",
   "metadata": {},
   "outputs": [
    {
     "data": {
      "text/plain": [
       "0.030524774385679146"
      ]
     },
     "execution_count": 17,
     "metadata": {},
     "output_type": "execute_result"
    }
   ],
   "source": [
    "len(cert[cert.duplicated(subset=['uprn','inspection_date'])]) / len(cert)"
   ]
  },
  {
   "cell_type": "markdown",
   "id": "0488366e-3650-484f-8e90-c6e547454dd3",
   "metadata": {},
   "source": [
    "## Dropping cols that are mostly empty\n",
    "\n",
    "TODO: Check if worth replicating this.\n",
    "\n",
    "Not doing it for now because will treat fields differently later on."
   ]
  },
  {
   "cell_type": "markdown",
   "id": "8e24ec83-c4af-4f86-a3b8-1244770557f2",
   "metadata": {},
   "source": [
    "## Clipping values\n",
    "\n",
    "TODO: review all of these thresholds - done using analysis from DSCampus"
   ]
  },
  {
   "cell_type": "code",
   "execution_count": 18,
   "id": "ff138d08-9d54-412d-a1c1-57bbda4490d5",
   "metadata": {},
   "outputs": [],
   "source": [
    "def call_clip(df):\n",
    "    \n",
    "    ''' \n",
    "    Clips the variables of the EPC data between 0 and a specified upper amount\n",
    "    '''\n",
    "    \n",
    "    df['current_energy_efficiency'].clip(lower = 0.0, upper = 100, inplace = True)\n",
    "    df['energy_consumption_current'].clip(lower = 0.0, upper = 600, inplace = True)\n",
    "    df['co2_emissions_current'].clip(lower = 0.0, upper = 20, inplace = True)\n",
    "    df['co2_emiss_curr_per_floor_area'].clip(lower = 0.0, upper = 100, inplace = True)\n",
    "    df['lighting_cost_current'].clip(lower = 0.0, upper = 150, inplace = True)\n",
    "    df['heating_cost_current'].clip(lower = 0.0, upper = 1750, inplace = True)\n",
    "    df['hot_water_cost_current'].clip(lower = 0.0, upper = 350, inplace = True)\n",
    "    df['total_floor_area'].clip(lower = 10.0, upper = 175, inplace = True)\n",
    "    df['multi_glaze_proportion'].clip(lower = 0.0, upper = 100, inplace = True)\n",
    "    df['extension_count'].clip(lower = 0.0, upper = 4, inplace = True)\n",
    "    df['number_habitable_rooms'].clip(lower = 0.0, upper = 10, inplace = True)\n",
    "    df['number_heated_rooms'].clip(lower = 0.0, upper = 9, inplace = True)\n",
    "    df['low_energy_lighting'].clip(lower = 0.0, upper = 100, inplace = True)\n",
    "    df['number_open_fireplaces'].clip(lower = 0.0, upper = 4, inplace = True)\n",
    "    df['floor_height'].clip(lower = 0.0, upper = 3, inplace = True)\n",
    "    return(df)\n",
    "\n",
    "call_clip = call_clip(cert)\n"
   ]
  },
  {
   "cell_type": "markdown",
   "id": "afe107b7-95c0-4eed-bf97-41c684958412",
   "metadata": {
    "tags": []
   },
   "source": [
    "## Strings cleanup \n",
    "\n",
    "A lot of string manipulation to clean up fields (taken mostly from DSCampus analysis).\n",
    "\n",
    "Might not be necessary if we do not end up using the relevant variables."
   ]
  },
  {
   "cell_type": "markdown",
   "id": "9a107b3c-3b4c-47bc-8674-0476ab117f1e",
   "metadata": {
    "tags": []
   },
   "source": [
    "#### Remove bi-lingual sentences"
   ]
  },
  {
   "cell_type": "code",
   "execution_count": 19,
   "id": "a924d231-1ee7-406a-b836-00ed8ae9caaa",
   "metadata": {},
   "outputs": [],
   "source": [
    "descriptive_columns = ['floor_description',\n",
    " 'lighting_description',\n",
    " 'roof_description',\n",
    " 'walls_description',\n",
    " 'windows_description',\n",
    " 'hotwater_description',\n",
    " 'main_heating_controls']\n",
    "\n",
    "for col in descriptive_columns:\n",
    "    cert[col] = cert[col].str.replace(r\"\\|(.*)\",\"\",regex=True)"
   ]
  },
  {
   "cell_type": "markdown",
   "id": "7e282a0b-eadb-45d0-8619-ab3d53960a6b",
   "metadata": {},
   "source": [
    "#### Cleaning up units for average thermal transmittance"
   ]
  },
  {
   "cell_type": "code",
   "execution_count": 20,
   "id": "993dbe0c-8532-4c59-ba98-109ab3223ec8",
   "metadata": {},
   "outputs": [],
   "source": [
    "def thermal_cleanup(df):\n",
    "    \n",
    "    ''' \n",
    "    standardising the wording in the variables containing average thermal transmittance. Specifically, \n",
    "    removing bi-lingual versions, removing =, translating welsh version, and standardising units\n",
    "    '''\n",
    "    \n",
    "    for c in ['floor_description','walls_description','roof_description']:\n",
    "        df[c] = df[c].str.replace('  ',' ')\n",
    "        df[c] = df[c].str.replace('Average thermal transmittance 1 ','Average thermal transmittance 1.00 ')\n",
    "        df[c] = df[c].str.replace('Average thermal transmittance =','Average thermal transmittance')\n",
    "        df[c] = df[c].str.replace('Trawsyriannedd thermol cyfartalog','Average thermal transmittance')\n",
    "        # standardising the unit used\n",
    "        df[c] = df[c].str.replace(r\"W(.*?)K\",'W/m²K',regex=True)\n",
    "        \n",
    "    return df\n",
    "\n",
    "cert = thermal_cleanup(cert)"
   ]
  },
  {
   "cell_type": "markdown",
   "id": "ce8443e9-dabf-42c7-a0d5-0f4ba47c4286",
   "metadata": {},
   "source": [
    "#### Floor description"
   ]
  },
  {
   "cell_type": "code",
   "execution_count": 21,
   "id": "75882c8b-ad53-4f37-9599-cd1ab0c4957a",
   "metadata": {},
   "outputs": [],
   "source": [
    "def thermal_floor(df):\n",
    "    \n",
    "    ''' \n",
    "    rounds the average thermal transmittance figure which is within a str field to 1 decimal place\n",
    "    '''\n",
    "    \n",
    "    # finds the decimal number\n",
    "    df['floors_average_thermal_transmittance'] = df['floor_description'].str.findall(r'\\d.\\d*')\n",
    "    # rounds the number to 1 decimal place\n",
    "    df['floors_average_thermal_transmittance'] = round(df['floors_average_thermal_transmittance'].str[0].astype(float),1)\n",
    "    # \n",
    "    df['floor_description'] = df.apply(lambda row: 'average thermal transmittance %.1f W/m²K' % (row['floors_average_thermal_transmittance']) if 'Average' in str(row['floor_description']) else row['floor_description'],axis=1)\n",
    "    \n",
    "    return df\n",
    "\n",
    "cert = thermal_floor(cert)"
   ]
  },
  {
   "cell_type": "code",
   "execution_count": 22,
   "id": "78b9ca20-f3ce-47ea-b1e7-b3d7f2741cd5",
   "metadata": {},
   "outputs": [
    {
     "name": "stderr",
     "output_type": "stream",
     "text": [
      "C:\\Users\\Joanna\\AppData\\Local\\Temp\\ipykernel_13112\\3060261636.py:11: FutureWarning: The default value of regex will change from True to False in a future version.\n",
      "  df['floor_description'] = df['floor_description'].str.replace(\"\\(eiddo arall islaw\\)\",'other premises below')\n",
      "C:\\Users\\Joanna\\AppData\\Local\\Temp\\ipykernel_13112\\3060261636.py:12: FutureWarning: The default value of regex will change from True to False in a future version.\n",
      "  df['floor_description'] = df['floor_description'].str.replace(r\"wedi(.*?)i inswleiddio\",\"insulated\")\n",
      "C:\\Users\\Joanna\\AppData\\Local\\Temp\\ipykernel_13112\\3060261636.py:14: FutureWarning: The default value of regex will change from True to False in a future version.\n",
      "  df['floor_description'] = df['floor_description'].str.replace(\"(rhagdybiaeth)\",\"assumed\")\n",
      "C:\\Users\\Joanna\\AppData\\Local\\Temp\\ipykernel_13112\\3060261636.py:22: FutureWarning: The default value of regex will change from True to False in a future version.\n",
      "  df['floor_description'] = df['floor_description'].str.replace(\"\\(assumed\\)\",\"\")\n",
      "C:\\Users\\Joanna\\AppData\\Local\\Temp\\ipykernel_13112\\3060261636.py:25: FutureWarning: The default value of regex will change from True to False in a future version.\n",
      "  df['floor_description'] = df['floor_description'].str.replace(\"\\(another dwelling below\\)\",'other premises below')\n",
      "C:\\Users\\Joanna\\AppData\\Local\\Temp\\ipykernel_13112\\3060261636.py:26: FutureWarning: The default value of regex will change from True to False in a future version.\n",
      "  df['floor_description'] = df['floor_description'].str.replace(\"\\(other premises below\\)\",'other premises below')\n",
      "C:\\Users\\Joanna\\AppData\\Local\\Temp\\ipykernel_13112\\3060261636.py:27: FutureWarning: The default value of regex will change from True to False in a future version.\n",
      "  df['floor_description'] = df['floor_description'].str.replace(\"solid.\",'solid,')\n",
      "C:\\Users\\Joanna\\AppData\\Local\\Temp\\ipykernel_13112\\3060261636.py:30: FutureWarning: The default value of regex will change from True to False in a future version.\n",
      "  df['floor_description'] = df['floor_description'].str.replace(\", \\(assumed\\)\",' (assumed)')\n",
      "C:\\Users\\Joanna\\AppData\\Local\\Temp\\ipykernel_13112\\3060261636.py:35: FutureWarning: The default value of regex will change from True to False in a future version.\n",
      "  df['floor_description'] = df['floor_description'].str.replace(\"[ \\t]+$\",\"\")\n",
      "C:\\Users\\Joanna\\AppData\\Local\\Temp\\ipykernel_13112\\3060261636.py:36: FutureWarning: The default value of regex will change from True to False in a future version.\n",
      "  df['floor_description'] = df['floor_description'].str.replace(r'\\,$','')\n",
      "C:\\Users\\Joanna\\AppData\\Local\\Temp\\ipykernel_13112\\3060261636.py:37: FutureWarning: The default value of regex will change from True to False in a future version.\n",
      "  df['floor_description'] = df['floor_description'].str.replace(r'^, ','')\n",
      "C:\\Users\\Joanna\\AppData\\Local\\Temp\\ipykernel_13112\\3060261636.py:38: FutureWarning: The default value of regex will change from True to False in a future version.\n",
      "  df['floor_description'] = df['floor_description'].str.replace(r'\\?','')\n"
     ]
    }
   ],
   "source": [
    "def floor_cleanup(df):\n",
    "    \n",
    "    ''' \n",
    "    cleans-up the floor_description feature from the EPC dataset\n",
    "    '''\n",
    "    \n",
    "    df['floor_description'] = df['floor_description'].str.lower()\n",
    "\n",
    "    # translating welsh sentences\n",
    "    df['floor_description'] = df['floor_description'].str.replace(r\"anheddiad arall islaw\",'another dwelling below') \n",
    "    df['floor_description'] = df['floor_description'].str.replace(\"\\(eiddo arall islaw\\)\",'other premises below') \n",
    "    df['floor_description'] = df['floor_description'].str.replace(r\"wedi(.*?)i inswleiddio\",\"insulated\")\n",
    "    df['floor_description'] = df['floor_description'].str.replace(\"dim inswleiddio\",\"no insulation\")\n",
    "    df['floor_description'] = df['floor_description'].str.replace(\"(rhagdybiaeth)\",\"assumed\")\n",
    "    df['floor_description'] = df['floor_description'].str.replace(\"crog\",\"suspended\")\n",
    "    df['floor_description'] = df['floor_description'].str.replace(\"heb ei inswleiddio\",\"no insulation\")\n",
    "    df['floor_description'] = df['floor_description'].str.replace(\"i ofod heb ei wresogi\",\"to unheated space\")\n",
    "    df['floor_description'] = df['floor_description'].str.replace(\"solet\",\"solid\")\n",
    "    df['floor_description'] = df['floor_description'].str.replace(\"inswleiddio cyfyngedig\",\"limited insulation\")\n",
    "\n",
    "    # removing assumed\n",
    "    df['floor_description'] = df['floor_description'].str.replace(\"\\(assumed\\)\",\"\")\n",
    "\n",
    "    # standardising language\n",
    "    df['floor_description'] = df['floor_description'].str.replace(\"\\(another dwelling below\\)\",'other premises below') \n",
    "    df['floor_description'] = df['floor_description'].str.replace(\"\\(other premises below\\)\",'other premises below')\n",
    "    df['floor_description'] = df['floor_description'].str.replace(\"solid.\",'solid,') \n",
    "    df['floor_description'] = df['floor_description'].str.replace(\"uninsulated\",'no insulation,') \n",
    "    df['floor_description'] = df['floor_description'].str.replace(\"insulation=100mm\",'100 mm insulation') \n",
    "    df['floor_description'] = df['floor_description'].str.replace(\", \\(assumed\\)\",' (assumed)')\n",
    "    df['floor_description'] = df['floor_description'].str.replace(\"insulation=25mm\",'25 mm insulation')\n",
    "    df['floor_description'] = df['floor_description'].str.replace(\"insulation=75mm\",'75 mm insulation')\n",
    "    df['floor_description'] = df['floor_description'].str.replace(\"limited insulated\",'limited insulation')\n",
    "    # cleanup\n",
    "    df['floor_description'] = df['floor_description'].str.replace(\"[ \\t]+$\",\"\")\n",
    "    df['floor_description'] = df['floor_description'].str.replace(r'\\,$','')\n",
    "    df['floor_description'] = df['floor_description'].str.replace(r'^, ','')\n",
    "    df['floor_description'] = df['floor_description'].str.replace(r'\\?','')\n",
    "    \n",
    "    return df\n",
    "\n",
    "cert = floor_cleanup(cert)"
   ]
  },
  {
   "cell_type": "markdown",
   "id": "e6665e27-729f-481e-8b56-29b2906286a7",
   "metadata": {},
   "source": [
    "#### Lighting description"
   ]
  },
  {
   "cell_type": "code",
   "execution_count": 23,
   "id": "dce0d6b8-ff9a-4403-b59d-67c5ac5beb27",
   "metadata": {},
   "outputs": [],
   "source": [
    "# lighting and second heat descriptions have some entries the wrong way around\n",
    "cert['secondheat_description1'] = cert.apply(\n",
    "    lambda row: row['lighting_description'] if 'lighting' in str(row['secondheat_description']) else row['secondheat_description'],axis = 1)\n",
    "cert['lighting_description1'] = cert.apply(\n",
    "    lambda row: row['secondheat_description'] if 'lighting' in str(row['secondheat_description']) else row['lighting_description'],axis = 1)\n",
    "\n",
    "cert.drop(columns= ['secondheat_description','lighting_description'],axis=1,inplace=True)\n",
    "cert.rename(columns={'secondheat_description1':'secondheat_description','lighting_description1':'lighting_description'},inplace=True)"
   ]
  },
  {
   "cell_type": "code",
   "execution_count": 24,
   "id": "0fbebe1b-063b-4c97-80ab-01f22d46be0f",
   "metadata": {},
   "outputs": [
    {
     "name": "stderr",
     "output_type": "stream",
     "text": [
      "C:\\Users\\Joanna\\AppData\\Local\\Temp\\ipykernel_13112\\3090609091.py:9: FutureWarning: The default value of regex will change from True to False in a future version.\n",
      "  df['lighting_description'] = df['lighting_description'].str.replace(r'goleuadau ynni-isel ym mhob un o.r mannau gosod','low energy lighting in all fixed outlets')\n",
      "C:\\Users\\Joanna\\AppData\\Local\\Temp\\ipykernel_13112\\3090609091.py:13: FutureWarning: The default value of regex will change from True to False in a future version.\n",
      "  df['lighting_description'] = df['lighting_description'].str.replace(r\"\\|goleuadau(.*)\",'')\n",
      "C:\\Users\\Joanna\\AppData\\Local\\Temp\\ipykernel_13112\\3090609091.py:14: FutureWarning: The default value of regex will change from True to False in a future version.\n",
      "  df['lighting_description'] = df['lighting_description'].str.replace(r\"o.r mannau gosod\",'of fixed outlets')\n",
      "C:\\Users\\Joanna\\AppData\\Local\\Temp\\ipykernel_13112\\3090609091.py:17: FutureWarning: The default value of regex will change from True to False in a future version.\n",
      "  df['lighting_description'] = df['lighting_description'].str.replace(r\"\\.\\d*\",'')\n"
     ]
    }
   ],
   "source": [
    "def lighting_cleanup(df):\n",
    "    \n",
    "    ''' \n",
    "    cleans-up the lighting_description feature from the EPC dataset\n",
    "    '''\n",
    "    \n",
    "    df['lighting_description'] = df['lighting_description'].str.lower()\n",
    "    # combining ways of saying all lights are low energy\n",
    "    df['lighting_description'] = df['lighting_description'].str.replace(r'goleuadau ynni-isel ym mhob un o.r mannau gosod','low energy lighting in all fixed outlets')\n",
    "    df['lighting_description'] = df['lighting_description'].str.replace(r'low energy lighting in 120% of fixed outlets','low energy lighting in all fixed outlets')\n",
    "    df['lighting_description'] = df['lighting_description'].str.replace(r'low energy lighting 100% of fixed outlets','low energy lighting in all fixed outlets')\n",
    "    # translating welsh sentences\n",
    "    df['lighting_description'] = df['lighting_description'].str.replace(r\"\\|goleuadau(.*)\",'') \n",
    "    df['lighting_description'] = df['lighting_description'].str.replace(r\"o.r mannau gosod\",'of fixed outlets')\n",
    "    df['lighting_description'] = df['lighting_description'].str.replace('% fixed','% of fixed')\n",
    "    df['lighting_description'] = df['lighting_description'].str.replace('goleuadau ynni-isel mewn','low energy lighting in')\n",
    "    df['lighting_description'] = df['lighting_description'].str.replace(r\"\\.\\d*\",'')\n",
    "    df['lighting_description'] = df['lighting_description'].str.replace(\"dim goleuadau ynni-isel\",'no low energy lighting')\n",
    "    # clean up\n",
    "    df['lighting_description'] = df['lighting_description'].str.replace(\"eneregy\",'energy')\n",
    "    \n",
    "    return df\n",
    "\n",
    "cert = lighting_cleanup(cert)\n",
    "\n"
   ]
  },
  {
   "cell_type": "code",
   "execution_count": 25,
   "id": "741fe761-36c9-4975-b36f-350848413165",
   "metadata": {},
   "outputs": [],
   "source": [
    "def lighting_perc_cleanup(df):\n",
    "    \n",
    "    ''' \n",
    "    rounds the low energy lighting percentage figure which is within a str field\n",
    "    '''\n",
    "    \n",
    "    df['low_energy_lighting_perc'] = df['lighting_description'].str.findall(r'(\\d*)\\%')\n",
    "    df['low_energy_lighting_perc'] = round(df['low_energy_lighting_perc'].str[0].astype(float),-1)\n",
    "    df['lighting_description'] = df.apply(lambda row: 'low energy lighting %d%% of fixed outlets' % (int(row['low_energy_lighting_perc'])) if '%' in str(row['lighting_description']) else row['lighting_description'],axis=1)\n",
    "\n",
    "    return df\n",
    "\n",
    "cert = lighting_perc_cleanup(cert)"
   ]
  },
  {
   "cell_type": "markdown",
   "id": "eb998170-e44a-4ca8-9892-2db3e1252fc0",
   "metadata": {},
   "source": [
    "#### Roof description"
   ]
  },
  {
   "cell_type": "code",
   "execution_count": 26,
   "id": "f0ce2f5c-0bbe-43cc-82c3-0525dd052bb1",
   "metadata": {},
   "outputs": [
    {
     "name": "stderr",
     "output_type": "stream",
     "text": [
      "C:\\Users\\Joanna\\AppData\\Local\\Temp\\ipykernel_13112\\3932964614.py:15: FutureWarning: The default value of regex will change from True to False in a future version.\n",
      "  df['roof_description'] = df['roof_description'].str.replace(\"\\|\\(eiddo arall uwchben\\)\",\"\")\n",
      "C:\\Users\\Joanna\\AppData\\Local\\Temp\\ipykernel_13112\\3932964614.py:18: FutureWarning: The default value of regex will change from True to False in a future version.\n",
      "  df['roof_description'] = df['roof_description'].str.replace(r\"wedi(.*?)i inswleiddio\",\"insulated\")\n",
      "C:\\Users\\Joanna\\AppData\\Local\\Temp\\ipykernel_13112\\3932964614.py:19: FutureWarning: The default value of regex will change from True to False in a future version.\n",
      "  df['roof_description'] = df['roof_description'].str.replace(\"(rhagdybiaeth)\",\"assumed\")\n",
      "C:\\Users\\Joanna\\AppData\\Local\\Temp\\ipykernel_13112\\3932964614.py:20: FutureWarning: The default value of regex will change from True to False in a future version.\n",
      "  df['roof_description'] = df['roof_description'].str.replace(r\"lo inswleiddio yn y llof.*\",\"loft insulation\")\n",
      "C:\\Users\\Joanna\\AppData\\Local\\Temp\\ipykernel_13112\\3932964614.py:21: FutureWarning: The default value of regex will change from True to False in a future version.\n",
      "  df['roof_description'] = df['roof_description'].str.replace(r\"o inswleiddio yn y llof.*\",\"loft insulation\")\n",
      "C:\\Users\\Joanna\\AppData\\Local\\Temp\\ipykernel_13112\\3932964614.py:22: FutureWarning: The default value of regex will change from True to False in a future version.\n",
      "  df['roof_description'] = df['roof_description'].str.replace(\"Ystafell\\(oedd\\) to\",\"Roof room(s)\")\n",
      "C:\\Users\\Joanna\\AppData\\Local\\Temp\\ipykernel_13112\\3932964614.py:23: FutureWarning: The default value of regex will change from True to False in a future version.\n",
      "  df['roof_description'] = df['roof_description'].str.replace(r\"wedi(.*?)i hinswleiddio\",\"insulated\")\n",
      "C:\\Users\\Joanna\\AppData\\Local\\Temp\\ipykernel_13112\\3932964614.py:25: FutureWarning: The default value of regex will change from True to False in a future version.\n",
      "  df['roof_description'] = df['roof_description'].str.replace(\"wrth y trawstia(.*?)\",\"at rafters\")\n",
      "C:\\Users\\Joanna\\AppData\\Local\\Temp\\ipykernel_13112\\3932964614.py:36: FutureWarning: The default value of regex will change from True to False in a future version.\n",
      "  df['roof_description'] = df['roof_description'].str.replace(\"Roof room\\(s\\), no insulation\\(assumed\\)\",\"Roof room(s), no insulation (assumed)\")\n",
      "C:\\Users\\Joanna\\AppData\\Local\\Temp\\ipykernel_13112\\3932964614.py:38: FutureWarning: The default value of regex will change from True to False in a future version.\n",
      "  df['roof_description'] = df['roof_description'].str.replace(\"\\(assumed\\)\",\"\")\n",
      "C:\\Users\\Joanna\\AppData\\Local\\Temp\\ipykernel_13112\\3932964614.py:40: FutureWarning: The default value of regex will change from True to False in a future version.\n",
      "  df['roof_description'] = df['roof_description'].str.replace(r'\\.$','')\n",
      "C:\\Users\\Joanna\\AppData\\Local\\Temp\\ipykernel_13112\\3932964614.py:41: FutureWarning: The default value of regex will change from True to False in a future version.\n",
      "  df['roof_description'] = df['roof_description'].str.replace(r'\\,$','')\n",
      "C:\\Users\\Joanna\\AppData\\Local\\Temp\\ipykernel_13112\\3932964614.py:42: FutureWarning: The default value of regex will change from True to False in a future version.\n",
      "  df['roof_description'] = df['roof_description'].str.replace(\"  \\+\",\" +\")\n",
      "C:\\Users\\Joanna\\AppData\\Local\\Temp\\ipykernel_13112\\3932964614.py:43: FutureWarning: The default value of regex will change from True to False in a future version.\n",
      "  df['roof_description'] = df['roof_description'].str.replace(\"[ \\t]+$\",\"\")\n",
      "C:\\Users\\Joanna\\AppData\\Local\\Temp\\ipykernel_13112\\3932964614.py:46: FutureWarning: The default value of regex will change from True to False in a future version.\n",
      "  df['roof_description'] = df['roof_description'].str.replace(\"\\*\\*\\* INVALID INPUT Code \\: 57 \\*\\*\\*\",\"\")\n"
     ]
    }
   ],
   "source": [
    "def roof_cleanup(df):\n",
    "    \n",
    "    ''' \n",
    "    cleans-up the roof_description feature from the EPC dataset\n",
    "    Parameters\n",
    "      df: a dataframe containing a variable called 'roof_description'\n",
    "    Returns a dataframe \n",
    "    '''\n",
    "    \n",
    "    # standardising units\n",
    "    df['roof_description'] = df['roof_description'].str.replace(\" mm\",'mm')\n",
    "    df['roof_description'] = df['roof_description'].str.replace(\">= 300mm\",\">=300mm\")\n",
    "    df['roof_description'] = df['roof_description'].str.replace(\">=300mm\",\"300+mm\")\n",
    "    # translating welsh sentences\n",
    "    df['roof_description'] = df['roof_description'].str.replace(\"\\|\\(eiddo arall uwchben\\)\",\"\")\n",
    "    df['roof_description'] = df['roof_description'].str.replace(\"Ar oleddf\",\"Pitched\")\n",
    "    df['roof_description'] = df['roof_description'].str.replace(\"dim inswleiddio\",\"no insulation\")\n",
    "    df['roof_description'] = df['roof_description'].str.replace(r\"wedi(.*?)i inswleiddio\",\"insulated\")\n",
    "    df['roof_description'] = df['roof_description'].str.replace(\"(rhagdybiaeth)\",\"assumed\")\n",
    "    df['roof_description'] = df['roof_description'].str.replace(r\"lo inswleiddio yn y llof.*\",\"loft insulation\")\n",
    "    df['roof_description'] = df['roof_description'].str.replace(r\"o inswleiddio yn y llof.*\",\"loft insulation\")\n",
    "    df['roof_description'] = df['roof_description'].str.replace(\"Ystafell\\(oedd\\) to\",\"Roof room(s)\")\n",
    "    df['roof_description'] = df['roof_description'].str.replace(r\"wedi(.*?)i hinswleiddio\",\"insulated\")\n",
    "    df['roof_description'] = df['roof_description'].str.replace(\"nenfwd\",\"ceiling\")\n",
    "    df['roof_description'] = df['roof_description'].str.replace(\"wrth y trawstia(.*?)\",\"at rafters\")\n",
    "    df['roof_description'] = df['roof_description'].str.replace(\"inswleiddio cyfyngedig\",\"limited insulation\")\n",
    "    df['roof_description'] = df['roof_description'].str.replace(\"To gwellt, gydag inswleiddio ychwanegol\",\"Thatched, with additional insulation\")\n",
    "    df['roof_description'] = df['roof_description'].str.replace(\"Yn wastad\",\"Always\")\n",
    "    # standardising descriptions\n",
    "    df['roof_description'] = df['roof_description'].str.replace(\"Roof room,\",\"Roof room(s),\")\n",
    "    df['roof_description'] = df['roof_description'].str.replace(\"annedd arall uwchben\",\"other premises above\")\n",
    "    df['roof_description'] = df['roof_description'].str.replace(\"another dwelling above\",\"other premises above\")\n",
    "    df['roof_description'] = df['roof_description'].str.replace(\"Dwelling Above\",\"(other premises above)\")\n",
    "    df['roof_description'] = df['roof_description'].str.replace(r\"0 W/m²K\",r\" W/m²K\")\n",
    "    df['roof_description'] = df['roof_description'].str.replace(\"  W/m²K\",\" 0.0 W/m²K\")\n",
    "    df['roof_description'] = df['roof_description'].str.replace(\"Roof room\\(s\\), no insulation\\(assumed\\)\",\"Roof room(s), no insulation (assumed)\")\n",
    "    df['roof_description'] = df['roof_description'].str.replace(\"Other premises above\",\"(other premises above)\")\n",
    "    df['roof_description'] = df['roof_description'].str.replace(\"\\(assumed\\)\",\"\")\n",
    "    # cleanup\n",
    "    df['roof_description'] = df['roof_description'].str.replace(r'\\.$','')\n",
    "    df['roof_description'] = df['roof_description'].str.replace(r'\\,$','')\n",
    "    df['roof_description'] = df['roof_description'].str.replace(\"  \\+\",\" +\")\n",
    "    df['roof_description'] = df['roof_description'].str.replace(\"[ \\t]+$\",\"\")\n",
    "    df['roof_description'] = df['roof_description'].str.replace(\"mmmm\",\"mm\")\n",
    "    df['roof_description'] = df['roof_description'].str.replace(\"Thatchedinsulated\",\"Thatched, insulated\")\n",
    "    df['roof_description'] = df['roof_description'].str.replace(\"\\*\\*\\* INVALID INPUT Code \\: 57 \\*\\*\\*\",\"\")\n",
    "    \n",
    "    return df\n",
    "\n",
    "cert = roof_cleanup(cert)"
   ]
  },
  {
   "cell_type": "code",
   "execution_count": 27,
   "id": "58bfcc39-b7a3-44d1-9b50-bc49c4b02f82",
   "metadata": {},
   "outputs": [],
   "source": [
    "def thermal_roof(df):\n",
    "    \n",
    "    ''' \n",
    "    rounds the average thermal transmittance figure which is within a str field\n",
    "    '''\n",
    "    \n",
    "    df['roof_average_thermal_transmittance'] = df['roof_description'].str.findall(r'(\\d.\\d*) W/m²K')\n",
    "    df['roof_average_thermal_transmittance'] = round(df['roof_average_thermal_transmittance'].str[0].astype(float),1)\n",
    "    df['roof_description'] = df.apply(lambda row: 'average thermal transmittance %.1f w/m²k' % (row['roof_average_thermal_transmittance']) if 'Average' in str(row['roof_description']) else row['roof_description'],axis=1)\n",
    "    \n",
    "    return df\n",
    "\n",
    "cert = thermal_roof(cert)"
   ]
  },
  {
   "cell_type": "markdown",
   "id": "7db2a37d-b236-42e5-8fdf-4c4c33caf0ca",
   "metadata": {},
   "source": [
    "#### Walls description"
   ]
  },
  {
   "cell_type": "code",
   "execution_count": 28,
   "id": "37b93993-604b-4a06-86be-32f28a70519b",
   "metadata": {},
   "outputs": [
    {
     "name": "stderr",
     "output_type": "stream",
     "text": [
      "C:\\Users\\Joanna\\AppData\\Local\\Temp\\ipykernel_13112\\2908878170.py:12: FutureWarning: The default value of regex will change from True to False in a future version.\n",
      "  df['walls_description'] = df['walls_description'].str.replace(r\"fel y(.*?)u hadeiladwyd, \",\"\")\n",
      "C:\\Users\\Joanna\\AppData\\Local\\Temp\\ipykernel_13112\\2908878170.py:14: FutureWarning: The default value of regex will change from True to False in a future version.\n",
      "  df['walls_description'] = df['walls_description'].str.replace(\"cavity\\.\",\"cavity wall,\")\n",
      "C:\\Users\\Joanna\\AppData\\Local\\Temp\\ipykernel_13112\\2908878170.py:15: FutureWarning: The default value of regex will change from True to False in a future version.\n",
      "  df['walls_description'] = df['walls_description'].str.replace(\"\\(rhagdybiaeth\\)\",\"(assumed)\")\n",
      "C:\\Users\\Joanna\\AppData\\Local\\Temp\\ipykernel_13112\\2908878170.py:16: FutureWarning: The default value of regex will change from True to False in a future version.\n",
      "  df['walls_description'] = df['walls_description'].str.replace(\"\\(assumed\\)\",\"\")\n",
      "C:\\Users\\Joanna\\AppData\\Local\\Temp\\ipykernel_13112\\2908878170.py:21: FutureWarning: The default value of regex will change from True to False in a future version.\n",
      "  df['walls_description'] = df['walls_description'].str.replace(\"ceudod wedi(.*?)i lenwi\",\"filled cavity\")\n",
      "C:\\Users\\Joanna\\AppData\\Local\\Temp\\ipykernel_13112\\2908878170.py:22: FutureWarning: The default value of regex will change from True to False in a future version.\n",
      "  df['walls_description'] = df['walls_description'].str.replace(r\"wedi(.*?)u hinswleiddio\",\"insulated\")\n",
      "C:\\Users\\Joanna\\AppData\\Local\\Temp\\ipykernel_13112\\2908878170.py:23: FutureWarning: The default value of regex will change from True to False in a future version.\n",
      "  df['walls_description'] = df['walls_description'].str.replace(r\"ffr(.*?)m bren\",\"timber frame\")\n",
      "C:\\Users\\Joanna\\AppData\\Local\\Temp\\ipykernel_13112\\2908878170.py:25: FutureWarning: The default value of regex will change from True to False in a future version.\n",
      "  df['walls_description'] = df['walls_description'].str.replace(\"wedi(.*?)u hadeiladu yn (.*?)l system\",\"system built\")\n",
      "C:\\Users\\Joanna\\AppData\\Local\\Temp\\ipykernel_13112\\2908878170.py:31: FutureWarning: The default value of regex will change from True to False in a future version.\n",
      "  df['walls_description'] = df['walls_description'].str.replace(\"solid brick\\.\",\"solid brick,\")\n",
      "C:\\Users\\Joanna\\AppData\\Local\\Temp\\ipykernel_13112\\2908878170.py:34: FutureWarning: The default value of regex will change from True to False in a future version.\n",
      "  df['walls_description'] = df['walls_description'].str.replace(\"stone \\(granite or whin\\)\\.\",\"granite or whinstone,\")\n",
      "C:\\Users\\Joanna\\AppData\\Local\\Temp\\ipykernel_13112\\2908878170.py:40: FutureWarning: The default value of regex will change from True to False in a future version.\n",
      "  df['walls_description'] = df['walls_description'].str.replace(r'\\.$','')\n",
      "C:\\Users\\Joanna\\AppData\\Local\\Temp\\ipykernel_13112\\2908878170.py:41: FutureWarning: The default value of regex will change from True to False in a future version.\n",
      "  df['walls_description'] = df['walls_description'].str.replace('\\+ chr\\(13\\) \\+','+')\n",
      "C:\\Users\\Joanna\\AppData\\Local\\Temp\\ipykernel_13112\\2908878170.py:42: FutureWarning: The default value of regex will change from True to False in a future version.\n",
      "  df['walls_description'] = df['walls_description'].str.replace(\"  \\+\",\" +\")\n",
      "C:\\Users\\Joanna\\AppData\\Local\\Temp\\ipykernel_13112\\2908878170.py:43: FutureWarning: The default value of regex will change from True to False in a future version.\n",
      "  df['walls_description'] = df['walls_description'].str.replace(\"[ \\t]+$\",\"\")\n",
      "C:\\Users\\Joanna\\AppData\\Local\\Temp\\ipykernel_13112\\2908878170.py:44: FutureWarning: The default value of regex will change from True to False in a future version.\n",
      "  df['walls_description'] = df['walls_description'].str.replace('timber frame\\.','timber frame,')\n",
      "C:\\Users\\Joanna\\AppData\\Local\\Temp\\ipykernel_13112\\2908878170.py:45: FutureWarning: The default value of regex will change from True to False in a future version.\n",
      "  df['walls_description'] = df['walls_description'].str.replace('\\?','')\n",
      "C:\\Users\\Joanna\\AppData\\Local\\Temp\\ipykernel_13112\\2908878170.py:46: FutureWarning: The default value of regex will change from True to False in a future version.\n",
      "  df['walls_description'] = df['walls_description'].str.replace('system built\\.','system built,')\n"
     ]
    }
   ],
   "source": [
    "def walls_cleanup(df): \n",
    "    \n",
    "    ''' \n",
    "    cleans-up the walls_description feature from the EPC dataset\n",
    "    Parameters\n",
    "      df: a dataframe containing a variable called 'walls_description'\n",
    "    Returns a dataframe \n",
    "    '''\n",
    "    \n",
    "    # removing phrases like as built which aren't adding anything\n",
    "    df['walls_description'] = df['walls_description'].str.lower()\n",
    "    df['walls_description'] = df['walls_description'].str.replace(r\"fel y(.*?)u hadeiladwyd, \",\"\")\n",
    "    df['walls_description'] = df['walls_description'].str.replace(\"as built, \",\"\")\n",
    "    df['walls_description'] = df['walls_description'].str.replace(\"cavity\\.\",\"cavity wall,\")\n",
    "    df['walls_description'] = df['walls_description'].str.replace(\"\\(rhagdybiaeth\\)\",\"(assumed)\")\n",
    "    df['walls_description'] = df['walls_description'].str.replace(\"\\(assumed\\)\",\"\")\n",
    "    # translating welsh sentences\n",
    "    df['walls_description'] = df['walls_description'].str.replace(\"waliau ceudod\",\"cavity wall\")\n",
    "    df['walls_description'] = df['walls_description'].str.replace(\"dim inswleiddio\",\"no insulation\")\n",
    "    df['walls_description'] = df['walls_description'].str.replace(\"tywodfaen\",\"sandstone\")\n",
    "    df['walls_description'] = df['walls_description'].str.replace(\"ceudod wedi(.*?)i lenwi\",\"filled cavity\")\n",
    "    df['walls_description'] = df['walls_description'].str.replace(r\"wedi(.*?)u hinswleiddio\",\"insulated\")\n",
    "    df['walls_description'] = df['walls_description'].str.replace(r\"ffr(.*?)m bren\",\"timber frame\")\n",
    "    df['walls_description'] = df['walls_description'].str.replace(\"briciau solet\",\"solid brick\")\n",
    "    df['walls_description'] = df['walls_description'].str.replace(\"wedi(.*?)u hadeiladu yn (.*?)l system\",\"system built\")\n",
    "    df['walls_description'] = df['walls_description'].str.replace(\"inswleiddio rhannol\",\"partial insulation\")\n",
    "    df['walls_description'] = df['walls_description'].str.replace(\"gydag inswleiddio allanol\",\"with external insulation\")\n",
    "    df['walls_description'] = df['walls_description'].str.replace(\"gwenithfaen neu risgraig\",\"granite or whinstone\")\n",
    "    df['walls_description'] = df['walls_description'].str.replace(\"gydag inswleiddio mewnol\",\"with internal insulation\")\n",
    "    # standardising punctuation\n",
    "    df['walls_description'] = df['walls_description'].str.replace(\"solid brick\\.\",\"solid brick,\")\n",
    "    # standardising language\n",
    "    df['walls_description'] = df['walls_description'].str.replace(\"granite or whin,\",\"granite or whinstone,\")\n",
    "    df['walls_description'] = df['walls_description'].str.replace(\"stone \\(granite or whin\\)\\.\",\"granite or whinstone,\")\n",
    "    df['walls_description'] = df['walls_description'].str.replace(\"with external insulation\",\"insulated\")\n",
    "    df['walls_description'] = df['walls_description'].str.replace(\"with internal insulation\",\"insulated\")\n",
    "    df['walls_description'] = df['walls_description'].str.replace(\"with additional insulation\",\"insulated\")\n",
    "    df['walls_description'] = df['walls_description'].str.replace(\"with insulation\",\"insulated\")\n",
    "    # clean up\n",
    "    df['walls_description'] = df['walls_description'].str.replace(r'\\.$','')\n",
    "    df['walls_description'] = df['walls_description'].str.replace('\\+ chr\\(13\\) \\+','+')\n",
    "    df['walls_description'] = df['walls_description'].str.replace(\"  \\+\",\" +\")\n",
    "    df['walls_description'] = df['walls_description'].str.replace(\"[ \\t]+$\",\"\")\n",
    "    df['walls_description'] = df['walls_description'].str.replace('timber frame\\.','timber frame,')\n",
    "    df['walls_description'] = df['walls_description'].str.replace('\\?','')\n",
    "    df['walls_description'] = df['walls_description'].str.replace('system built\\.','system built,')\n",
    "    \n",
    "    return df\n",
    "\n",
    "cert = walls_cleanup(cert)"
   ]
  },
  {
   "cell_type": "code",
   "execution_count": 29,
   "id": "46e967d5-bc6b-4eb8-a6f1-9772f43d941e",
   "metadata": {},
   "outputs": [],
   "source": [
    "def thermal_walls(df):\n",
    "    \n",
    "    ''' \n",
    "    rounds the average thermal transmittance figure which is within a str field\n",
    "    '''\n",
    "    \n",
    "    df['walls_average_thermal_transmittance'] = df['walls_description'].str.findall(r'\\d.\\d\\d')\n",
    "    df['walls_average_thermal_transmittance'] = round(df['walls_average_thermal_transmittance'].str[0].astype(float),1)\n",
    "    df['walls_description'] = df.apply(lambda row: 'average thermal transmittance %.1f w/m²k' % (row['walls_average_thermal_transmittance']) if 'average' in str(row['walls_description']) else row['walls_description'],axis=1)\n",
    "    \n",
    "    return df\n",
    "\n",
    "cert = thermal_walls(cert)"
   ]
  },
  {
   "cell_type": "markdown",
   "id": "f2fff934-28e8-4d71-81ef-ffbb813a3d84",
   "metadata": {},
   "source": [
    "#### Windows description"
   ]
  },
  {
   "cell_type": "code",
   "execution_count": 30,
   "id": "f067408a-dfcd-4752-955c-ed6128c9d878",
   "metadata": {},
   "outputs": [
    {
     "name": "stderr",
     "output_type": "stream",
     "text": [
      "C:\\Users\\Joanna\\AppData\\Local\\Temp\\ipykernel_13112\\3119369361.py:28: FutureWarning: The default value of regex will change from True to False in a future version.\n",
      "  df['windows_description'] = df['windows_description'].str.replace(\"[ \\t]+$\",\"\")\n"
     ]
    }
   ],
   "source": [
    "def windows_cleanup(df): \n",
    "    \n",
    "    ''' \n",
    "    cleans-up the windows_description feature from the EPC dataset\n",
    "    Parameters\n",
    "      df: a dataframe containing a variable called 'windows_description'\n",
    "    Returns a dataframe \n",
    "    '''\n",
    "    \n",
    "    df['windows_description'] = df['windows_description'].str.lower()\n",
    "    # translating welsh sentences\n",
    "    df['windows_description'] = df['windows_description'].str.replace(\"ffenestri perfformiad uchel\",\"high performance glazing\")\n",
    "    df['windows_description'] = df['windows_description'].str.replace(\"gwydrau dwbl gan mwyaf\",\"mostly double glazing\")\n",
    "    df['windows_description'] = df['windows_description'].str.replace(\"rhai gwydrau dwbl\",\"partial double glazing\")\n",
    "    df['windows_description'] = df['windows_description'].str.replace(\"gwydrau sengl\",\"single glazing\")\n",
    "    df['windows_description'] = df['windows_description'].str.replace(\"gwydrau dwbl rhannol\",\"partial double glazing\")\n",
    "    df['windows_description'] = df['windows_description'].str.replace(\"gwydrau dwbl llawn\",\"fully double glazing\")\n",
    "    df['windows_description'] = df['windows_description'].str.replace(\"gwydrau lluosog ym mhobman\",\"multiple glazing throughout\")\n",
    "    df['windows_description'] = df['windows_description'].str.replace(\"gwydrau eilaidd llawn\",\"full secondary glazing\")\n",
    "    # standardising language\n",
    "    df['windows_description'] = df['windows_description'].str.replace(\"glazed\",\"glazing\")\n",
    "    df['windows_description'] = df['windows_description'].str.replace(\"fully\",\"full\")\n",
    "    df['windows_description'] = df['windows_description'].str.replace(\"fully\",\"full\")\n",
    "    # cleanup\n",
    "    df['windows_description'] = df['windows_description'].str.replace(\"single glazingsingle glazing\",\"single glazing\")\n",
    "    df['windows_description'] = df['windows_description'].str.replace(\"single glazingdouble glazing\",\"single glazing and double glazing\")\n",
    "    df['windows_description'] = df['windows_description'].str.replace(\"single glazingsecondary glazing\",\"single glazing and secondary glazing\")\n",
    "    df['windows_description'] = df['windows_description'].str.replace(\"[ \\t]+$\",\"\")\n",
    "    df['windows_description'] = df['windows_description'].str.replace(\"  \",\" \")\n",
    "    \n",
    "    return df\n",
    "\n",
    "cert = windows_cleanup(cert)"
   ]
  },
  {
   "cell_type": "markdown",
   "id": "17f863b0-efce-4fe8-9ed1-c74c1e5cf4a3",
   "metadata": {},
   "source": [
    "#### Hotwater description"
   ]
  },
  {
   "cell_type": "code",
   "execution_count": 31,
   "id": "16d2eeed-7c02-469e-833e-d5b50b786d5e",
   "metadata": {},
   "outputs": [
    {
     "name": "stderr",
     "output_type": "stream",
     "text": [
      "C:\\Users\\Joanna\\AppData\\Local\\Temp\\ipykernel_13112\\3908772556.py:11: FutureWarning: The default value of regex will change from True to False in a future version.\n",
      "  df['hotwater_description'] = df['hotwater_description'].str.replace(\"[ \\t]+$\",\"\")\n",
      "C:\\Users\\Joanna\\AppData\\Local\\Temp\\ipykernel_13112\\3908772556.py:14: FutureWarning: The default value of regex will change from True to False in a future version.\n",
      "  df['hotwater_description'] = df['hotwater_description'].str.replace(r\"O(.*?)r brif system\",\"From main system\")\n",
      "C:\\Users\\Joanna\\AppData\\Local\\Temp\\ipykernel_13112\\3908772556.py:23: FutureWarning: The default value of regex will change from True to False in a future version.\n",
      "  df['hotwater_description'] = df['hotwater_description'].str.replace(r\"gydag ynni(.*?)r haul\",\"plus solar\")\n",
      "C:\\Users\\Joanna\\AppData\\Local\\Temp\\ipykernel_13112\\3908772556.py:45: FutureWarning: The default value of regex will change from True to False in a future version.\n",
      "  df['hotwater_description'] = df['hotwater_description'].str.replace(\"No system present\\?electric immersion assumed\",\"No system present: electric immersion assumed\")\n"
     ]
    }
   ],
   "source": [
    "def hotwater_cleanup(df):\n",
    "    \n",
    "    ''' \n",
    "    cleans-up the hotwater_description feature from the EPC dataset\n",
    "    Parameters\n",
    "      df: a dataframe containing a variable called 'hotwater_description'\n",
    "    Returns a dataframe \n",
    "    '''\n",
    "    \n",
    "    # removing spaces at the end\n",
    "    df['hotwater_description'] = df['hotwater_description'].str.replace(\"[ \\t]+$\",\"\")\n",
    "\n",
    "    # translating welsh sentences\n",
    "    df['hotwater_description'] = df['hotwater_description'].str.replace(r\"O(.*?)r brif system\",\"From main system\")\n",
    "    df['hotwater_description'] = df['hotwater_description'].str.replace(r\"Trochi trydan\",\"Electric immersion\")\n",
    "    df['hotwater_description'] = df['hotwater_description'].str.replace(r\"an-frig\",\"off-peak\")\n",
    "    df['hotwater_description'] = df['hotwater_description'].str.replace(r\"O system eilaidd\",\"From secondary system\")\n",
    "    df['hotwater_description'] = df['hotwater_description'].str.replace(r\"Nwy wrth fwy nag un pwynt\",\"Gas multipoint\")\n",
    "    df['hotwater_description'] = df['hotwater_description'].str.replace(r\"Popty estynedig olew\",\"Oil range cooker\")\n",
    "    df['hotwater_description'] = df['hotwater_description'].str.replace(r\"tarriff safonol\",\"standard tariff\")\n",
    "    df['hotwater_description'] = df['hotwater_description'].str.replace(r\"Dim system ar gael\",\"No system present\")\n",
    "    df['hotwater_description'] = df['hotwater_description'].str.replace(r\"adfer gwres nwyon ffliw\",\"flue gas heat recovery\")\n",
    "    df['hotwater_description'] = df['hotwater_description'].str.replace(r\"gydag ynni(.*?)r haul\",\"plus solar\")\n",
    "    df['hotwater_description'] = df['hotwater_description'].str.replace(r\"dim thermostat ar y silindr\",\"no cylinderstat\")\n",
    "    df['hotwater_description'] = df['hotwater_description'].str.replace(r\"rhagdybir bod twymwr tanddwr trydan\",\"electric immersion assumed\")\n",
    "    df['hotwater_description'] = df['hotwater_description'].str.replace(r\"an-frig\",\"off peak\")\n",
    "    df['hotwater_description'] = df['hotwater_description'].str.replace(r\"Twymwr tanddwr\",\"underfloor heating\")\n",
    "\n",
    "    # standardising language\n",
    "    df['hotwater_description'] = df['hotwater_description'].str.replace(\"cylinder thermostat\",\"cylinderstat\")\n",
    "    df['hotwater_description'] = df['hotwater_description'].str.replace(\"No system present :\",\"No system present:\")\n",
    "    df['hotwater_description'] = df['hotwater_description'].str.replace(\"No hot water system present -\",\"No system present:\")\n",
    "    df['hotwater_description'] = df['hotwater_description'].str.replace(\"From community scheme\",\"Community scheme\")\n",
    "    df['hotwater_description'] = df['hotwater_description'].str.replace(\"Community heat pump\",\"Community scheme with CHP\")\n",
    "    df['hotwater_description'] = df['hotwater_description'].str.replace(\"From secondary heater\",\"From secondary system\")\n",
    "    df['hotwater_description'] = df['hotwater_description'].str.replace(\"SAP05:Hot-Water\",\"SAP:Hot-Water\")\n",
    "    df['hotwater_description'] = df['hotwater_description'].str.replace(\"community scheme\",\"Community scheme\")\n",
    "    df['hotwater_description'] = df['hotwater_description'].str.replace(\"plus solar, no cylinderstat\",\"no cylinderstat, plus solar\")\n",
    "    df['hotwater_description'] = df['hotwater_description'].str.replace(\"From second main heating system\",\"From secondary system\")\n",
    "    df['hotwater_description'] = df['hotwater_description'].str.replace(\"none\",\"No system present: electric immersion assumed\")\n",
    "    df['hotwater_description'] = df['hotwater_description'].str.replace(\"plus solar, flue gas heat recovery\",\"flue gas heat recovery, plus solar\")\n",
    "    df['hotwater_description'] = df['hotwater_description'].str.replace(\"no cylinderstat, no cylinderstat\",\"no cylinderstat\")\n",
    "\n",
    "    # cleanup\n",
    "    df['hotwater_description'] = df['hotwater_description'].str.replace(\"No system present\\?electric immersion assumed\",\"No system present: electric immersion assumed\")\n",
    "    df['hotwater_description'] = df['hotwater_description'].replace(\"***SAMPLE***\",np.nan)\n",
    "\n",
    "    return df\n",
    "\n",
    "cert = hotwater_cleanup(cert)"
   ]
  },
  {
   "cell_type": "markdown",
   "id": "71f9af96-a246-433c-962c-c223667978bf",
   "metadata": {},
   "source": [
    "#### Main heating controls"
   ]
  },
  {
   "cell_type": "code",
   "execution_count": 32,
   "id": "ba41e273-3f6e-4bed-8ecd-7e783530cf96",
   "metadata": {},
   "outputs": [
    {
     "name": "stderr",
     "output_type": "stream",
     "text": [
      "C:\\Users\\Joanna\\AppData\\Local\\Temp\\ipykernel_13112\\2782498958.py:13: FutureWarning: The default value of regex will change from True to False in a future version.\n",
      "  df['main_heating_controls'] = df['main_heating_controls'].str.replace(r\"rheoli.r t.l . llaw\",\"manual charge control\")\n",
      "C:\\Users\\Joanna\\AppData\\Local\\Temp\\ipykernel_13112\\2782498958.py:27: FutureWarning: The default value of regex will change from True to False in a future version.\n",
      "  df['main_heating_controls'] = df['main_heating_controls'].str.replace(\"t(.*?)l un gyfradd\",\"flat rate charging\")\n",
      "C:\\Users\\Joanna\\AppData\\Local\\Temp\\ipykernel_13112\\2782498958.py:33: FutureWarning: The default value of regex will change from True to False in a future version.\n",
      "  df['main_heating_controls'] = df['main_heating_controls'].str.replace(\"flat rate charging\\*\",\"flat rate charging\")\n",
      "C:\\Users\\Joanna\\AppData\\Local\\Temp\\ipykernel_13112\\2782498958.py:34: FutureWarning: The default value of regex will change from True to False in a future version.\n",
      "  df['main_heating_controls'] = df['main_heating_controls'].str.replace(\"\\+\",\"and\")\n",
      "C:\\Users\\Joanna\\AppData\\Local\\Temp\\ipykernel_13112\\2782498958.py:35: FutureWarning: The default value of regex will change from True to False in a future version.\n",
      "  df['main_heating_controls'] = df['main_heating_controls'].str.replace(\"\\&\",\"and\")\n",
      "C:\\Users\\Joanna\\AppData\\Local\\Temp\\ipykernel_13112\\2782498958.py:36: FutureWarning: The default value of regex will change from True to False in a future version.\n",
      "  df['main_heating_controls'] = df['main_heating_controls'].str.replace(\"trv.s\",\"trvs\")\n",
      "C:\\Users\\Joanna\\AppData\\Local\\Temp\\ipykernel_13112\\2782498958.py:54: FutureWarning: The default value of regex will change from True to False in a future version.\n",
      "  df['main_heating_controls'] = df['main_heating_controls'].str.replace(\"temp+$\",\"temperature\")\n",
      "C:\\Users\\Joanna\\AppData\\Local\\Temp\\ipykernel_13112\\2782498958.py:59: FutureWarning: The default value of regex will change from True to False in a future version.\n",
      "  df['main_heating_controls'] = df['main_heating_controls'].str.replace(\"programmer\\?and\",\"programmer and\")\n"
     ]
    }
   ],
   "source": [
    "def heat_control_cleanup(df):\n",
    "    \n",
    "    ''' \n",
    "    cleans-up the main_heating_controls feature from the EPC dataset\n",
    "    Parameters\n",
    "      df: a dataframe containing a variable called 'main_heating_controls'\n",
    "    Returns a dataframe \n",
    "    '''\n",
    "    \n",
    "    df['main_heating_controls'] = df['main_heating_controls'].str.lower()\n",
    "\n",
    "    # translating welsh sentences\n",
    "    df['main_heating_controls'] = df['main_heating_controls'].str.replace(r\"rheoli.r t.l . llaw\",\"manual charge control\")\n",
    "    df['main_heating_controls'] = df['main_heating_controls'].str.replace(\"rhaglennydd, dim thermostat ystafell\",\"programmer, no room thermostat\")\n",
    "    df['main_heating_controls'] = df['main_heating_controls'].str.replace(\"rheolaeth amser a rheolaeth parthau tymheredd\",\"time and temperature zone control\")\n",
    "    df['main_heating_controls'] = df['main_heating_controls'].str.replace(\"rhaglennydd a thermostat ystafell\",\"programmer and room thermostat\")\n",
    "    df['main_heating_controls'] = df['main_heating_controls'].str.replace(\"rhaglennydd a thermostatau ar y cyfarpar\",\"programmer and appliance thermostats\")\n",
    "    df['main_heating_controls'] = df['main_heating_controls'].str.replace(\"rhaglennydd ac o leiaf ddau thermostat ystafell\",\"programmer and at least two room thermostats\")\n",
    "    df['main_heating_controls'] = df['main_heating_controls'].str.replace(\"thermostat ystafell yn unig\",\"room thermostat only\")\n",
    "    df['main_heating_controls'] = df['main_heating_controls'].str.replace(\"dim rheolaeth thermostatig ar dymheredd yr ystafell\",\"no thermostatic control of room temperature\")\n",
    "    df['main_heating_controls'] = df['main_heating_controls'].str.replace(\"rheoli gwefr drydanol yn awtomatig\",\"automatic charge control\")\n",
    "    df['main_heating_controls'] = df['main_heating_controls'].str.replace(\"dim rheolaeth amser na rheolaeth thermostatig ar dymheredd yr ystafell\",\"no time or thermostatic control of room temperature\")\n",
    "    df['main_heating_controls'] = df['main_heating_controls'].str.replace(\"trvs a falf osgoi\",\"trvs and bypass\")\n",
    "    df['main_heating_controls'] = df['main_heating_controls'].str.replace(\"rhaglennydd\",\"programmer\")\n",
    "    df['main_heating_controls'] = df['main_heating_controls'].str.replace(\"tal un gyfradd, thermostat ystafell yn unig\",\"flat rate charging, room thermostat only\")\n",
    "    df['main_heating_controls'] = df['main_heating_controls'].str.replace(\"thermostat ystafell a trvs\",\"room thermostat and trvs\")\n",
    "    df['main_heating_controls'] = df['main_heating_controls'].str.replace(\"t(.*?)l un gyfradd\",\"flat rate charging\")\n",
    "    df['main_heating_controls'] = df['main_heating_controls'].str.replace(\"thermostatau ar y cyfarpar\",\"appliance thermostat\")\n",
    "    df['main_heating_controls'] = df['main_heating_controls'].str.replace(\"dim\",\"none\")\n",
    "\n",
    "    # standardising language\n",
    "    df['main_heating_controls'] = df['main_heating_controls'].str.replace(\"programmer, no thermostat\",\"programmer, no room thermostat\")\n",
    "    df['main_heating_controls'] = df['main_heating_controls'].str.replace(\"flat rate charging\\*\",\"flat rate charging\")\n",
    "    df['main_heating_controls'] = df['main_heating_controls'].str.replace(\"\\+\",\"and\")\n",
    "    df['main_heating_controls'] = df['main_heating_controls'].str.replace(\"\\&\",\"and\")\n",
    "    df['main_heating_controls'] = df['main_heating_controls'].str.replace(\"trv.s\",\"trvs\")\n",
    "    df['main_heating_controls'] = df['main_heating_controls'].str.replace(\"thermostats\",\"thermostat\")\n",
    "    df['main_heating_controls'] = df['main_heating_controls'].str.replace(\"communit \",\"community \")\n",
    "    df['main_heating_controls'] = df['main_heating_controls'].str.replace(\"to the use of community heating\",\"to use of community heating\")\n",
    "    df['main_heating_controls'] = df['main_heating_controls'].str.replace(\" stat\",\" thermostat\")\n",
    "    df['main_heating_controls'] = df['main_heating_controls'].str.replace(\"controls\",\"control\")\n",
    "    df['main_heating_controls'] = df['main_heating_controls'].str.replace(\"prog \",\"programmer \")\n",
    "    df['main_heating_controls'] = df['main_heating_controls'].str.replace(\"program \",\"programmer \")\n",
    "    df['main_heating_controls'] = df['main_heating_controls'].str.replace(\"programmerand\",\"programmer and\")\n",
    "    df['main_heating_controls'] = df['main_heating_controls'].str.replace(\"delayed start thermostat and program and trvs\",\"delayed start thermostat, program and trvs\")\n",
    "    df['main_heating_controls'] = df['main_heating_controls'].str.replace(\"thermostatic\",\"thermostat\")\n",
    "    df['main_heating_controls'] = df['main_heating_controls'].str.replace(\"flat rate charging, programmer no room thermostat\",\"flat rate charging, programmer, no room thermostat\")\n",
    "    df['main_heating_controls'] = df['main_heating_controls'].str.replace(\" 2 \",\" two \")\n",
    "    df['main_heating_controls'] = df['main_heating_controls'].str.replace(\"roomstat\",\"room thermostat\")\n",
    "    df['main_heating_controls'] = df['main_heating_controls'].str.replace(\"programmer and room thermostat and trvs\",\"programmer, room thermostat and trvs\")\n",
    "    df['main_heating_controls'] = df['main_heating_controls'].str.replace(\"programmer and trvs and boiler energy manager\",\"programmer, trvs and boiler energy manager\")\n",
    "    df['main_heating_controls'] = df['main_heating_controls'].str.replace(\"programmer and trvs and bypass\",\"programmer, trvs and bypass\")\n",
    "    df['main_heating_controls'] = df['main_heating_controls'].str.replace(\"programmer and trvs and flow switch\",\"programmer, trvs and flow switch\")\n",
    "    df['main_heating_controls'] = df['main_heating_controls'].str.replace(\"temp+$\",\"temperature\")\n",
    "    df['main_heating_controls'] = df['main_heating_controls'].str.replace(\"no thermostat control of room temperature\",\"no thermostat control\")\n",
    "    df['main_heating_controls'] = df['main_heating_controls'].str.replace(\"appliance thermostat and programmer\",\"programmer and appliance thermostat\")\n",
    "    df['main_heating_controls'] = df['main_heating_controls'].str.replace(\"delayed start thermostat and programmer and trvs\",\"delayed start thermostat, programmer and trvs\")\n",
    "    df['main_heating_controls'] = df['main_heating_controls'].str.replace(\"no time or thermostat control of temperature\",\"no time or thermostat control of room temperature\")\n",
    "    df['main_heating_controls'] = df['main_heating_controls'].str.replace(\"programmer\\?and\",\"programmer and\")\n",
    "  \n",
    "    \n",
    "    return df\n",
    "\n",
    "cert = heat_control_cleanup(cert)"
   ]
  },
  {
   "cell_type": "code",
   "execution_count": 33,
   "id": "ed94b195-ff87-4382-acb6-2332813e194f",
   "metadata": {},
   "outputs": [],
   "source": [
    "# this might have been dealt with already \n",
    "cert['transaction_type'] = cert['transaction_type'].str.replace(\" - this is for backwards compatibility only and should not be used\",\"\")\n",
    "cert['glazed_type'] = cert['glazed_type'].replace('INVALID!',np.nan)"
   ]
  },
  {
   "cell_type": "markdown",
   "id": "15579f1e-b352-4ca4-ad3b-04eab4255def",
   "metadata": {},
   "source": [
    "## Proper clean up on categorical and numeric variables\n",
    "\n",
    "This is still largely incomplete - only focussed on variables that are likely to be known by a user."
   ]
  },
  {
   "cell_type": "markdown",
   "id": "a238fd87-e799-45f0-9560-dee311ff7a81",
   "metadata": {},
   "source": [
    "#### Floor level\n",
    "Will create 2 variables - a variable with the floor number (where available), and another one with some rough classes (bottom, mid, top floors)"
   ]
  },
  {
   "cell_type": "code",
   "execution_count": 34,
   "id": "32149b95-8fd5-4e1a-8015-3bbc77676e51",
   "metadata": {},
   "outputs": [],
   "source": [
    "#TODO: check these\n",
    "# cert.floor_level.value_counts()"
   ]
  },
  {
   "cell_type": "code",
   "execution_count": 35,
   "id": "ac0d568d-b4b7-4e7e-9ed7-bba50537c036",
   "metadata": {},
   "outputs": [],
   "source": [
    "# np.savetxt(\"floor_level_mapper.csv\", cert.floor_level.unique(), delimiter=\",\", fmt='%s')"
   ]
  },
  {
   "cell_type": "code",
   "execution_count": 36,
   "id": "4854f9c7-8e21-477e-b51a-58dbfd1dc868",
   "metadata": {},
   "outputs": [],
   "source": [
    "#prepare the mapper\n",
    "floor_level_mapper = pd.read_csv('floor_level_mapper.csv')\n",
    "\n",
    "keys = floor_level_mapper.iloc[:,0].values.tolist()\n",
    "values1 = floor_level_mapper.iloc[:,1].values.tolist()\n",
    "# values2 = floor_level_mapper.iloc[:,2].values.tolist()\n",
    "\n",
    "floor_level_numeric_mapper = {k:v for (k,v) in zip(keys,values1)}\n",
    "# floor_level_classes_mapper = {k:v for (k,v) in zip(keys,values2)}"
   ]
  },
  {
   "cell_type": "code",
   "execution_count": 37,
   "id": "f4f8bcba-774b-4bbf-a68b-f39044484fdd",
   "metadata": {},
   "outputs": [
    {
     "name": "stdout",
     "output_type": "stream",
     "text": [
      "201765 200108\n"
     ]
    },
    {
     "data": {
      "text/plain": [
       "1.000     16781\n",
       "0.000     14890\n",
       "2.000      5369\n",
       "3.000      1656\n",
       "4.000       596\n",
       "5.000       486\n",
       "6.000       383\n",
       "8.000       209\n",
       "10.000      187\n",
       "7.000       187\n",
       "9.000       177\n",
       "11.000       89\n",
       "15.000       73\n",
       "-1.000       63\n",
       "12.000       56\n",
       "14.000       54\n",
       "13.000       51\n",
       "16.000       39\n",
       "21.000        2\n",
       "17.000        1\n",
       "Name: floor_level_numeric, dtype: int64"
      ]
     },
     "execution_count": 37,
     "metadata": {},
     "output_type": "execute_result"
    }
   ],
   "source": [
    "# Map numeric\n",
    "cert['floor_level_numeric'] = cert.floor_level.map(floor_level_numeric_mapper)\n",
    "print(cert.floor_level_numeric.isna().sum(), cert.floor_level.isna().sum())\n",
    "cert.floor_level_numeric.value_counts()"
   ]
  },
  {
   "cell_type": "code",
   "execution_count": 38,
   "id": "1e11ea0e-cc83-4d1a-954c-f62dd3de6c4d",
   "metadata": {},
   "outputs": [
    {
     "name": "stdout",
     "output_type": "stream",
     "text": [
      "200342\n"
     ]
    },
    {
     "data": {
      "text/plain": [
       "low floors      24341\n",
       "ground floor    14953\n",
       "mid floors       2378\n",
       "top floors       1100\n",
       "Name: floor_level_classes, dtype: int64"
      ]
     },
     "execution_count": 38,
     "metadata": {},
     "output_type": "execute_result"
    }
   ],
   "source": [
    "# review these when dataset is complete\n",
    "floor_level_dict = dict.fromkeys(['Ground','ground floor','Basement',],'ground floor')\n",
    "floor_level_dict1 = dict.fromkeys(['1st','2nd','3rd','4th'],'low floors')\n",
    "floor_level_dict2 = dict.fromkeys(['mid floor','5th','6th','7th','8th','9th','10th','11th'],'mid floors')\n",
    "floor_level_dict3 = dict.fromkeys(['top floor','12th','13th','14th','15th','16th','17th','18th','19th','20th',\n",
    "                                   '21st or above'],'top floors')\n",
    "floor_level_dict4 = {\n",
    "    '1st':'low floors',\n",
    "    'Ground':'ground floor',\n",
    "    '2nd':'low floors',\n",
    "    '01':'low floors',\n",
    "    '00':'ground floor',\n",
    "    '3rd':'low floors',\n",
    "    '02':'low floors',\n",
    "    'ground floor':'ground floor',\n",
    "    '1.0':'low floors',\n",
    "    '0.0':'ground floor',\n",
    "    '2.0':'low floors',\n",
    "    '4th':'low floors',\n",
    "    '03':'low floors',\n",
    "    '3':'low floors',\n",
    "    '1':'low floors',\n",
    "    '2':'low floors',\n",
    "    '0':'ground floor',\n",
    "    '-1':'ground floor',\n",
    "    'Basement':'ground floor'\n",
    "}\n",
    "\n",
    "floor_level_dict.update(floor_level_dict1)\n",
    "floor_level_dict.update(floor_level_dict2)\n",
    "floor_level_dict.update(floor_level_dict3)\n",
    "floor_level_dict.update(floor_level_dict4)\n",
    "\n",
    "cert['floor_level_classes'] = cert.floor_level.map(floor_level_dict)\n",
    "\n",
    "print(cert.floor_level_classes.isna().sum())\n",
    "cert.floor_level_classes.value_counts()\n",
    "\n"
   ]
  },
  {
   "cell_type": "markdown",
   "id": "e4458752-a891-43c2-aaca-912659cf74b1",
   "metadata": {},
   "source": [
    "#### Main Heating Controls\n",
    "\n",
    "TODO: check this - the DSCampus analysis does use this, but does not seem to be the same field"
   ]
  },
  {
   "cell_type": "code",
   "execution_count": 39,
   "id": "34a263c8-94c8-47d8-ae9e-d0331e44474a",
   "metadata": {},
   "outputs": [
    {
     "data": {
      "text/plain": [
       "2106    31842\n",
       "2104    17185\n",
       "2102    10897\n",
       "2107     6255\n",
       "2401     3075\n",
       "2101     1690\n",
       "2103      874\n",
       "2601      857\n",
       "2402      631\n",
       "2602      624\n",
       "2699      604\n",
       "2111      493\n",
       "2603      382\n",
       "2307      359\n",
       "2306      286\n",
       "2504      247\n",
       "2105      244\n",
       "2301      205\n",
       "2110      202\n",
       "2303      141\n",
       "Name: main_heating_controls, dtype: int64"
      ]
     },
     "execution_count": 39,
     "metadata": {},
     "output_type": "execute_result"
    }
   ],
   "source": [
    "cert.main_heating_controls.value_counts()[:20]"
   ]
  },
  {
   "cell_type": "markdown",
   "id": "46a91115-dea5-4085-b590-283eeeb28be5",
   "metadata": {},
   "source": [
    "#### Hot Water Description\n",
    "\n",
    "Taken from DSCampus analysis"
   ]
  },
  {
   "cell_type": "code",
   "execution_count": 40,
   "id": "26e8f019-62e6-4919-a0c4-635a2977587f",
   "metadata": {},
   "outputs": [],
   "source": [
    "def hotwater_types(df):\n",
    "\n",
    "    df['hotwater_mains'] = df.apply(lambda row: 1 if 'from main system' in str(row['hotwater_description']).lower() else 0,axis = 1)\n",
    "    df['hotwater_immersion'] = df.apply(lambda row: 1 if 'immersion' in str(row['hotwater_description']).lower() else 0,axis = 1)\n",
    "    df['hotwater_commmunity'] = df.apply(lambda row: 1 if 'community' in str(row['hotwater_description']).lower() else 0,axis = 1)\n",
    "    df['hotwater_solar'] = df.apply(lambda row: 1 if 'solar' in str(row['hotwater_description']).lower() else 0,axis = 1)\n",
    "    df['hotwater_gas'] = df.apply(lambda row: 1 if 'gas' in str(row['hotwater_description']).lower() else 0,axis = 1)\n",
    "    df['hotwater_recovery'] = df.apply(lambda row: 1 if 'recovery' in str(row['hotwater_description']).lower() else 0,axis = 1)\n",
    "\n",
    "    return df\n",
    "\n",
    "cert = hotwater_types(cert)"
   ]
  },
  {
   "cell_type": "markdown",
   "id": "53649bd5-9d14-41ed-be5e-69bc7986f91f",
   "metadata": {},
   "source": [
    "#### Windows description\n",
    "\n",
    "3 fields: 'windows_description', 'windows_energy_eff', 'windows_env_eff'\n",
    "\n",
    "Will only use the description for now - and it seems pretty much the same as 'glazed_type'"
   ]
  },
  {
   "cell_type": "code",
   "execution_count": 41,
   "id": "a20b8cad-9fff-4227-b6b0-0ce5c70d5a1d",
   "metadata": {},
   "outputs": [
    {
     "data": {
      "text/plain": [
       "full double glazing         202058\n",
       "high performance glazing     17931\n",
       "single glazing                8654\n",
       "partial double glazing        6105\n",
       "mostly double glazing         5398\n",
       "some double glazing           1516\n",
       "other                         1116\n",
       "Name: windows_description, dtype: int64"
      ]
     },
     "execution_count": 41,
     "metadata": {},
     "output_type": "execute_result"
    }
   ],
   "source": [
    "# Mark rare labels as 'other'\n",
    "# todo: review this on the overall file\n",
    "wd_counts = cert.windows_description.value_counts()\n",
    "wd_rare = wd_counts[wd_counts<=500].index\n",
    "cert['windows_description'] = cert.windows_description.replace(wd_rare,'other')\n",
    "cert.windows_description.value_counts()"
   ]
  },
  {
   "cell_type": "markdown",
   "id": "d9bc7a0e-b7b1-4383-b0de-d1199d84be76",
   "metadata": {},
   "source": [
    "#### Roof type\n",
    "\n",
    "Will derive 2 0-1 features capturing if roof is pitched or flat"
   ]
  },
  {
   "cell_type": "code",
   "execution_count": 42,
   "id": "43827512-33c1-48eb-b9e3-3e78acc06464",
   "metadata": {},
   "outputs": [],
   "source": [
    "def roof_types(df):\n",
    "\n",
    "    df['pitched_roof'] = df.apply(lambda row: 1 if 'pitched' in str(row['roof_description']).lower() else 0,axis = 1)\n",
    "    df['flat_roof'] = df.apply(lambda row: 1 if 'flat' in str(row['roof_description']).lower() else 0,axis = 1)\n",
    "\n",
    "    return df\n",
    "\n",
    "cert = roof_types(cert)"
   ]
  },
  {
   "cell_type": "markdown",
   "id": "80b1820d-6af7-48ef-b097-89b6ecf6f71f",
   "metadata": {},
   "source": [
    "#### Main heat\n",
    "\n",
    "Will get rid of rare labels and use the rest as categories"
   ]
  },
  {
   "cell_type": "code",
   "execution_count": 43,
   "id": "5c800240-05aa-4946-b81f-a99a2e102fb3",
   "metadata": {},
   "outputs": [
    {
     "data": {
      "text/plain": [
       "Boiler and radiators, mains gas                       212621\n",
       "Electric storage heaters                               10480\n",
       "Community scheme                                        5495\n",
       "Room heaters, electric                                  4831\n",
       "No system present: electric heaters assumed             1464\n",
       "other                                                   1246\n",
       "Boiler and radiators, oil                               1142\n",
       "Room heaters, mains gas                                 1070\n",
       "Warm air, mains gas                                      785\n",
       "Boiler and underfloor heating, mains gas                 665\n",
       "Air source heat pump, radiators, electric                663\n",
       "Boiler and radiators, electric                           567\n",
       "Boiler and radiators, LPG                                416\n",
       "Community scheme with CHP                                388\n",
       "Portable electric heaters assumed for most rooms         292\n",
       "Boiler and radiators, dual fuel (mineral and wood)       169\n",
       "Boiler and radiators, coal                               154\n",
       "Air source heat pump, underfloor, electric               142\n",
       "Name: mainheat_description, dtype: int64"
      ]
     },
     "execution_count": 43,
     "metadata": {},
     "output_type": "execute_result"
    }
   ],
   "source": [
    "# Mark rare labels as 'other'\n",
    "# todo: review this on the overall file\n",
    "mh_counts = cert.mainheat_description.value_counts()\n",
    "mh_rare = mh_counts[mh_counts<=100].index\n",
    "cert['mainheat_description'] = cert.mainheat_description.replace(mh_rare,'other')\n",
    "cert.mainheat_description.value_counts()"
   ]
  },
  {
   "cell_type": "markdown",
   "id": "ad27d89f-5e8b-4a17-b284-5e6d86bd7aa0",
   "metadata": {},
   "source": [
    "#### Main heating controls\n",
    "\n",
    "Replace rare labels"
   ]
  },
  {
   "cell_type": "code",
   "execution_count": 44,
   "id": "455b8cd5-457d-4a5f-a815-a862c35fcc51",
   "metadata": {},
   "outputs": [
    {
     "data": {
      "text/plain": [
       "Programmer, room thermostat and TRVs                                                  109295\n",
       "Programmer and room thermostat                                                         44661\n",
       "Programmer, no room thermostat                                                         25523\n",
       "Programmer, TRVs and bypass                                                            16080\n",
       "Time and temperature zone control                                                      13497\n",
       "Manual charge control                                                                   8540\n",
       "No time or thermostatic control of room temperature                                     3678\n",
       "Room thermostat only                                                                    2594\n",
       "Appliance thermostats                                                                   2115\n",
       "No thermostatic control of room temperature                                             2113\n",
       "Programmer and appliance thermostats                                                    1850\n",
       "Automatic charge control                                                                1759\n",
       "None                                                                                    1470\n",
       "TRVs and bypass                                                                         1399\n",
       "Flat rate charging, TRVs                                                                1263\n",
       "Programmer and at least two room thermostats                                             915\n",
       "Flat rate charging, no thermostatic control                                              744\n",
       "Flat rate charging, programmer and TRVs                                                  681\n",
       "Flat rate charging, programmer and room stat                                             569\n",
       "other                                                                                    545\n",
       "Flat rate charging, room thermostat only                                                 472\n",
       "Flat rate charging, programmer and room thermostat                                       435\n",
       "Flat rate charging, no thermostatic control of room temperature                          429\n",
       "Charging system linked to use of community heating, programmer and TRVs                  411\n",
       "Programmer, TRVs and boiler energy manager                                               311\n",
       "Unit charging, programmer and TRVs                                                       273\n",
       "Charging system linked to use of community heating, programmer and room thermostat       222\n",
       "Controls for high heat retention storage heaters                                         213\n",
       "Programmer and room thermostats                                                          192\n",
       "Charging system linked to use of community heating, TRVs                                 119\n",
       "Flat rate charging, no stat control of room temperature                                  117\n",
       "Flat rate charging, programmer no room thermostat                                        105\n",
       "Name: mainheatcont_description, dtype: int64"
      ]
     },
     "execution_count": 44,
     "metadata": {},
     "output_type": "execute_result"
    }
   ],
   "source": [
    "# todo: review this on the overall file\n",
    "mhc_counts = cert.mainheatcont_description.value_counts()\n",
    "mhc_rare = mhc_counts[mhc_counts<=100].index\n",
    "cert['mainheatcont_description'] = cert.mainheatcont_description.replace(mhc_rare,'other')\n",
    "cert.mainheatcont_description.value_counts()"
   ]
  },
  {
   "cell_type": "markdown",
   "id": "88af6eff-d65f-4bcb-a96d-2bb67a8a45d1",
   "metadata": {},
   "source": [
    "#### Main fuel\n",
    "\n",
    "Created a manual mapper. TODO: review this when we have the full dataset"
   ]
  },
  {
   "cell_type": "code",
   "execution_count": 45,
   "id": "ba5f84eb-cebc-4d99-84ab-ed1910d555cd",
   "metadata": {},
   "outputs": [],
   "source": [
    "main_fuel_mapper = {\n",
    "    'mains gas (not community)':'mains gas',\n",
    "    'mains gas - this is for backwards compatibility only and should not be used':'mains gas',\n",
    "    'electricity (not community)':'electricity',\n",
    "    'electricity - this is for backwards compatibility only and should not be used':'electricity',\n",
    "    'mains gas (community)':'mains gas (community)',\n",
    "    'Gas: mains gas':'mains gas',\n",
    "    'To be used only when there is no heating/hot-water system':'no heating/hot-water system',\n",
    "    'oil (not community)':'oil', \n",
    "    'Electricity: electricity, unspecified tariff':'electricity',\n",
    "    'LPG (not community)':'LPG', \n",
    "    'dual fuel - mineral + wood':'dual fuel - mineral + wood',\n",
    "    'oil - this is for backwards compatibility only and should not be used':'oil',\n",
    "    'house coal (not community)':'coal',\n",
    "    'To be used only when there is no heating/hot-water system or data is from a community network':'no heating/hot-water system',\n",
    "    'smokeless coal':'coal', \n",
    "    'wood logs':'wood',\n",
    "    'LPG - this is for backwards compatibility only and should not be used':'LPG',\n",
    "    'bottled LPG':'LPG', \n",
    "    'INVALID!':np.nan, \n",
    "    'bulk wood pellets':'pellets', \n",
    "    'electricity (community)':'electricity (community)'\n",
    "}\n",
    "\n",
    "cert['main_fuel'] = cert.main_fuel.map(main_fuel_mapper)\n"
   ]
  },
  {
   "cell_type": "markdown",
   "id": "9cd56ac4-2ce5-4cf8-b431-55408ff29f4d",
   "metadata": {},
   "source": [
    "#### Wind turbine flag"
   ]
  },
  {
   "cell_type": "code",
   "execution_count": 46,
   "id": "e0c9e58f-c3a4-4951-b547-593d99c464a0",
   "metadata": {},
   "outputs": [],
   "source": [
    "cert['wind_turbine_flag'] = (cert.wind_turbine_count >= 1).astype(int)"
   ]
  },
  {
   "cell_type": "markdown",
   "id": "f9aa10b4-0763-4ae5-924b-562de07e1d51",
   "metadata": {},
   "source": [
    "#### Construction age band\n",
    "\n",
    "This could be very important. Make sure it is properly mapped."
   ]
  },
  {
   "cell_type": "code",
   "execution_count": 47,
   "id": "6bb398e6-a1f1-44db-bd3b-5320cb7a8478",
   "metadata": {},
   "outputs": [
    {
     "data": {
      "text/plain": [
       "England and Wales: 1950-1966       49140\n",
       "England and Wales: 1900-1929       34528\n",
       "England and Wales: 1967-1975       32933\n",
       "England and Wales: 1930-1949       28441\n",
       "England and Wales: 1976-1982       16134\n",
       "England and Wales: 1983-1990       13227\n",
       "England and Wales: before 1900     11557\n",
       "England and Wales: 1996-2002       10980\n",
       "England and Wales: 1991-1995        8857\n",
       "England and Wales: 2003-2006        5781\n",
       "England and Wales: 2007 onwards     5165\n",
       "England and Wales: 2007-2011        1156\n",
       "2021                                1105\n",
       "2020                                 490\n",
       "2022                                 477\n",
       "2019                                 255\n",
       "England and Wales: 2012 onwards      225\n",
       "2018                                 163\n",
       "2016                                 111\n",
       "2017                                  91\n",
       "2015                                   6\n",
       "2014                                   4\n",
       "2013                                   1\n",
       "1970                                   1\n",
       "Name: construction_age_band, dtype: int64"
      ]
     },
     "execution_count": 47,
     "metadata": {},
     "output_type": "execute_result"
    }
   ],
   "source": [
    "cert['construction_age_band'] = cert.construction_age_band.replace('INVALID!',np.nan)\n",
    "cert.construction_age_band.value_counts()"
   ]
  },
  {
   "cell_type": "markdown",
   "id": "7897e424-cbf1-49da-be88-e0c39d4c72ad",
   "metadata": {},
   "source": [
    "## Notes\n",
    "\n",
    "#### Vars to include\n",
    "'property_type', \n",
    "'built_form', \n",
    "'total_floor_area', \n",
    "'energy_tariff', \n",
    "'mains_gas_flag',\n",
    "'floor_level_numeric',\n",
    "'floor_level_classes',\n",
    "'flat_top_storey',\n",
    "'flat_storey_count',\n",
    "'multi_glaze_proportion', #doubt we will be able to get this from user!\n",
    "'glazed_type',\n",
    "'glazed_area', #doubt we will be able to get this from user!\n",
    "'extension_count',\n",
    "'number_habitable_rooms', #A! check this and the following - likely to be highly correlated\n",
    "'number_heated_rooms',\n",
    "'low_energy_lighting', #A! check this and the following - likely to be highly correlated\n",
    "'low_energy_lighting_perc', #this is a derived var\n",
    "'number_open_fireplaces', #doubt we will be able to get this from user!\n",
    "'hotwater_mains', #derived from the hotwater description - domain driven \n",
    "'hotwater_immersion',\n",
    "'hotwater_commmunity',\n",
    "'hotwater_solar',\n",
    "'hotwater_gas',\n",
    "'hotwater_recovery',\n",
    "'hot_water_energy_eff', #doubt we will be able to get this from user!\n",
    "'hot_water_env_eff', #consider dropping - highly correlated\n",
    "'windows_description',\n",
    "'pitched_roof',\n",
    "'flat_roof',\n",
    "'mainheat_description',\n",
    "'mainheatcont_description', #doubt they will be able to provide this!\n",
    "'main_fuel', #doubt they will know \n",
    "'wind_turbine_flag',\n",
    "'heat_loss_corridor', # need to see if they know \n",
    "'floor_height',\n",
    "'solar_water_heating_flag',\n",
    "'mechanical_ventilation', # ?\n",
    "'construction_age_band',\n",
    "'tenure'\n",
    "\n",
    "\n",
    "#### Left out - to reconsider\n",
    "- All costs variables (lighting, heting, hot water etc.). Try to understand how they are calculated and if they can be derived from bills - if so they can be input by user\n",
    "- 'main_heating_controls'\n",
    "- 'floor_desctiption','floor_energy_eff','floor_env_eff'\n",
    "- 'windows_energy_eff', 'windows_env_eff'\n",
    "- 'walls_description', 'walls_energy_eff', 'walls_env_eff'\n",
    "- 'sheating_energy_eff', 'sheating_env_eff'\n",
    "- roof_description','roof_energy_eff', 'roof_env_eff'\n",
    "For all the above maybe possible to ask IF user knows\n",
    "- 'mainheat_energy_eff', 'mainheat_env_eff'\n",
    "- 'mainheatc_energy_eff', 'mainheatc_env_eff'\n",
    "- 'lighting_energy_eff','lighting_env_eff'\n",
    "- 'unheated_corridor_length'\n",
    "- 'fixed_lighting_outlets_count', 'low_energy_fixed_light_count'\n",
    "- 'floors_average_thermal_transmittance'\n",
    "- 'secondheat_description' #this could actually be known\n",
    "- 'lighting_description' #too detailed\n",
    "- 'roof_average_thermal_transmittance'\n",
    "- 'walls_average_thermal_transmittance'\n",
    "- 'main_heating_controls' #leaving it out for now because do not know how to treat the many levels\n",
    "\n",
    "- ANY INFORMATION TO DO WITH GEOGRAPHY HAS BEEN LEFT OUT FOR NOW!!!!\n"
   ]
  },
  {
   "cell_type": "code",
   "execution_count": null,
   "id": "054eaf51-1d83-4dd6-a445-8abbcb64c040",
   "metadata": {},
   "outputs": [],
   "source": []
  },
  {
   "cell_type": "markdown",
   "id": "c8213897-b972-4157-a3f8-47df7b739715",
   "metadata": {
    "tags": []
   },
   "source": [
    "## Recommendations file clean-up\n",
    "\n",
    "Easier to cleanse, only a couple of steps"
   ]
  },
  {
   "cell_type": "code",
   "execution_count": 48,
   "id": "1e2e41ab-46dd-49f4-b869-5d426472ad6a",
   "metadata": {},
   "outputs": [],
   "source": [
    "#copy\n",
    "rec = df_rec.copy()"
   ]
  },
  {
   "cell_type": "code",
   "execution_count": 49,
   "id": "8126c877-c19b-45f6-ac48-107c626b10c6",
   "metadata": {},
   "outputs": [],
   "source": [
    "# lower case headers\n",
    "rec.columns = [c.lower() for c in rec.columns]"
   ]
  },
  {
   "cell_type": "code",
   "execution_count": 50,
   "id": "ef7cbc23-3290-4a16-9ff1-dfce040a8259",
   "metadata": {},
   "outputs": [
    {
     "data": {
      "text/plain": [
       "(1041647, 88997, 88997)"
      ]
     },
     "execution_count": 50,
     "metadata": {},
     "output_type": "execute_result"
    }
   ],
   "source": [
    "len(df_rec), df_rec.IMPROVEMENT_ID.isna().sum(), df_rec.IMPROVEMENT_ID_TEXT.isna().sum()"
   ]
  },
  {
   "cell_type": "markdown",
   "id": "fafc96e7-ef21-4fd7-a6e4-90ce9d6a2d43",
   "metadata": {},
   "source": [
    "#### Improvement id text\n",
    "\n",
    "`improvement_summary_text` sometimes contains the label that should go into `improvement_id_text`, therefore will copy it over and assign the corresponding `improvement_id`"
   ]
  },
  {
   "cell_type": "code",
   "execution_count": 51,
   "id": "3669e390-6309-4a77-a4a4-be4f7aa4f5b1",
   "metadata": {},
   "outputs": [
    {
     "data": {
      "text/plain": [
       "190        Low energy lighting for all fixed outlets\n",
       "191                              Solar water heating\n",
       "192               Solar photovoltaic panels, 2.5 kWp\n",
       "13516              Solar photovoltaic panels, 2.5kWp\n",
       "16344      Low energy lighting for all fixed outlets\n",
       "                             ...                    \n",
       "1002601                          Solar water heating\n",
       "1002602           Solar photovoltaic panels, 2.5 kWp\n",
       "1003515    Low energy lighting for all fixed outlets\n",
       "1003516                          Solar water heating\n",
       "1003517           Solar photovoltaic panels, 2.5 kWp\n",
       "Name: improvement_summary_text, Length: 544, dtype: object"
      ]
     },
     "execution_count": 51,
     "metadata": {},
     "output_type": "execute_result"
    }
   ],
   "source": [
    "improv_descr_toreplace = rec.improvement_summary_text.loc[~rec.improvement_summary_text.isna()]\n",
    "improv_descr_toreplace"
   ]
  },
  {
   "cell_type": "code",
   "execution_count": 52,
   "id": "4611b4ff-c4c6-4556-a4ec-9555182d9f46",
   "metadata": {},
   "outputs": [],
   "source": [
    "# run assignment\n",
    "rec.loc[~rec.improvement_summary_text.isna(),'improvement_id_text'] = improv_descr_toreplace"
   ]
  },
  {
   "cell_type": "code",
   "execution_count": 53,
   "id": "a22225b6-3026-4938-9f9c-6c58b18417cf",
   "metadata": {},
   "outputs": [],
   "source": [
    "# fix some spelling issue\n",
    "rec.improvement_id_text = rec.improvement_id_text.replace(\n",
    "    'Solar photovoltaic panels, 2.5kWp','Solar photovoltaic panels, 2.5 kWp',regex=False)"
   ]
  },
  {
   "cell_type": "code",
   "execution_count": 54,
   "id": "bdbf3766-7f20-4694-bfc6-4d5908387f2e",
   "metadata": {},
   "outputs": [],
   "source": [
    "# now these cols will have taxt but not corresponding id\n",
    "# fix that\n",
    "text_to_assign = rec.loc[rec.improvement_id.isna() & ~rec.improvement_id_text.isna()].improvement_id_text.unique()\n",
    "text_reassignment_mapper = rec.loc[\n",
    "    rec.improvement_id_text.isin(text_to_assign)].groupby('improvement_id_text')['improvement_id'].max()\n",
    "\n",
    "text_reassignment_mapper = pd.DataFrame(text_reassignment_mapper)\n",
    "\n",
    "ids_to_replace = rec.loc[rec.improvement_id.isna() & ~rec.improvement_id_text.isna()].merge(\n",
    "    text_reassignment_mapper,left_on='improvement_id_text',right_index=True).improvement_id_y\n",
    "\n",
    "rec.loc[rec.improvement_id.isna() & ~rec.improvement_id_text.isna(), 'improvement_id'] = ids_to_replace"
   ]
  },
  {
   "cell_type": "code",
   "execution_count": 55,
   "id": "91b630d6-5038-473e-8d5c-9af65675ba2e",
   "metadata": {},
   "outputs": [],
   "source": [
    "#fix some more spelling issues\n",
    "rec.improvement_id_text = rec.improvement_id_text.replace({\n",
    "    'Upgrading heating controls':'Upgrade heating controls',\n",
    "    'Replace heating unit with mains gas condensing unit':'Replace heating unit with condensing unit'},\n",
    "    regex=False)\n"
   ]
  },
  {
   "cell_type": "markdown",
   "id": "84c2a7ff-9f60-4074-9ceb-56112e2565cd",
   "metadata": {},
   "source": [
    "#### Improvement ids\n",
    "\n",
    "Some ids have the same text. That means they represent the same type of improvement. As such they should be treated as the same class.\n",
    "\n",
    "TODO: more work can be done to infer improvement id from `improvement_descr_text`"
   ]
  },
  {
   "cell_type": "code",
   "execution_count": 56,
   "id": "148b028e-fb52-4bd2-aab1-78291f6f84f8",
   "metadata": {},
   "outputs": [
    {
     "data": {
      "text/plain": [
       "improvement_id_text                                              improvement_id\n",
       "50 mm internal or external wall insulation                       7.000              41737\n",
       "Add additional 80 mm jacket to hot water cylinder                3.000               5896\n",
       "Cavity wall insulation                                           6.000              35536\n",
       "Change heating to gas condensing boiler                          27.000               824\n",
       "                                                                 29.000              2055\n",
       "                                                                 32.000                34\n",
       "Change room heaters to condensing boiler                         40.000              1127\n",
       "                                                                 41.000                52\n",
       "Condensing oil boiler with radiators                             28.000                 1\n",
       "Draughtproof single-glazed windows                               10.000              8056\n",
       "Fan assisted storage heaters                                     25.000              2402\n",
       "Fan assisted storage heaters and dual immersion cylinder         24.000              1313\n",
       "                                                                 30.000               557\n",
       "Fan-assisted storage heaters                                     31.000               434\n",
       "Flat roof insulation                                             45.000              5935\n",
       "Floor insulation                                                 47.000             51210\n",
       "Flue gas heat recovery device in conjunction with boiler         50.000              8065\n",
       "Heat recovery system for mixer showers                           49.000               954\n",
       "High heat retention storage heaters                              60.000              1706\n",
       "                                                                 62.000              1579\n",
       "High heat retention storage heaters and dual immersion cylinder  59.000              1274\n",
       "                                                                 61.000              1125\n",
       "High performance external doors                                  48.000              2842\n",
       "Hot water cylinder thermostat                                    4.000              12135\n",
       "Increase hot water cylinder insulation                           2.000              11653\n",
       "Increase loft insulation to 270 mm                               5.000              29965\n",
       "Install condensing boiler                                        37.000                39\n",
       "Insulate hot water cylinder with 80 mm jacket                    1.000               1241\n",
       "Low energy lighting for all fixed outlets                        35.000            128120\n",
       "Party wall insulation                                            63.000              2082\n",
       "Replace boiler with biomass boiler                               22.000                21\n",
       "Replace boiler with new condensing boiler                        20.000             61694\n",
       "                                                                 21.000              7191\n",
       "Replace heating unit with condensing unit                        36.000                28\n",
       "                                                                 42.000                 1\n",
       "Replace single glazed windows with low-E double glazing          8.000              11196\n",
       "Replacement glazing units                                        56.000              6433\n",
       "Replacement warm air unit                                        26.000               499\n",
       "Room-in-roof insulation                                          46.000              5786\n",
       "Secondary glazing to single glazed windows                       9.000                 48\n",
       "Solar photovoltaic panels, 2.5 kWp                               34.000            180969\n",
       "Solar water heating                                              19.000            166056\n",
       "Solid floor insulation                                           58.000             37169\n",
       "Suspended floor insulation                                       57.000             32664\n",
       "Time and temperature zone control                                16.000               737\n",
       "Upgrade heating controls                                         11.000              3583\n",
       "                                                                 12.000             22624\n",
       "                                                                 13.000             26362\n",
       "                                                                 14.000             12502\n",
       "                                                                 15.000              1690\n",
       "                                                                 17.000                 2\n",
       "                                                                 18.000                22\n",
       "Wind turbine                                                     44.000             15868\n",
       "Wood pellet stove with boiler and radiators                      23.000                54\n",
       "                                                                 39.000                46\n",
       "Name: lmk_key, dtype: int64"
      ]
     },
     "execution_count": 56,
     "metadata": {},
     "output_type": "execute_result"
    }
   ],
   "source": [
    "rec.groupby(['improvement_id_text','improvement_id'])['lmk_key'].count()"
   ]
  },
  {
   "cell_type": "code",
   "execution_count": 57,
   "id": "65d45b06-3067-4912-ae4c-c10614f75d97",
   "metadata": {},
   "outputs": [],
   "source": [
    "#when multiple IDs are assigned to the same text description, just choose one of them \n",
    "#for all (so we reduce the number of classes)\n",
    "\n",
    "text_to_id_mapper = rec.groupby('improvement_id_text')['improvement_id'].min()\n",
    "text_to_id_mapper = pd.DataFrame(text_to_id_mapper)\n",
    "\n",
    "improvement_id_toreplace = rec.merge(\n",
    "    text_to_id_mapper,how='left',left_on='improvement_id_text', right_index=True).improvement_id_y\n",
    "\n",
    "rec.improvement_id = improvement_id_toreplace"
   ]
  },
  {
   "cell_type": "code",
   "execution_count": 58,
   "id": "0d4a7570-27f2-4269-9089-d82b5cdee2ca",
   "metadata": {},
   "outputs": [],
   "source": [
    "# still many cases where id is null, for now will just drop those\n",
    "\n",
    "rec.drop(rec.loc[rec.improvement_id.isna()].index,inplace=True)"
   ]
  },
  {
   "cell_type": "markdown",
   "id": "05830b15-b85d-41e1-83a6-d037a2ac88f3",
   "metadata": {},
   "source": [
    "## Final checks on cert and rec sets"
   ]
  },
  {
   "cell_type": "code",
   "execution_count": 59,
   "id": "bd4be427-fdb4-47bd-97bf-192eca14ff90",
   "metadata": {},
   "outputs": [
    {
     "data": {
      "text/plain": [
       "True"
      ]
     },
     "execution_count": 59,
     "metadata": {},
     "output_type": "execute_result"
    }
   ],
   "source": [
    "# check that lmk key is unique \n",
    "cert.lmk_key.nunique() == len(cert)"
   ]
  },
  {
   "cell_type": "code",
   "execution_count": 60,
   "id": "763c138a-0288-4ac8-a397-4259bd363f46",
   "metadata": {},
   "outputs": [
    {
     "data": {
      "text/plain": [
       "(243114, 213752)"
      ]
     },
     "execution_count": 60,
     "metadata": {},
     "output_type": "execute_result"
    }
   ],
   "source": [
    "# there are some certificates in cert that do not have any corresponding records in rec\n",
    "len(cert), cert.lmk_key.isin(rec.lmk_key).sum()"
   ]
  },
  {
   "cell_type": "code",
   "execution_count": 61,
   "id": "9d131660-5a31-40df-9e38-3f9fd3b4add3",
   "metadata": {},
   "outputs": [],
   "source": [
    "# get rid of certificates that do not have corresponding recommendations\n",
    "cert.drop(cert[~cert.lmk_key.isin(rec.lmk_key)].index, inplace=True)\n"
   ]
  },
  {
   "cell_type": "code",
   "execution_count": 62,
   "id": "5e7ec2d0-dddc-4252-88ec-f03c977c71fc",
   "metadata": {},
   "outputs": [
    {
     "data": {
      "text/plain": [
       "(953194, 953165)"
      ]
     },
     "execution_count": 62,
     "metadata": {},
     "output_type": "execute_result"
    }
   ],
   "source": [
    "# also get rid of recommendations that do not have a corresponding certificate\n",
    "len(rec), rec.lmk_key.isin(cert.lmk_key).sum()"
   ]
  },
  {
   "cell_type": "code",
   "execution_count": 63,
   "id": "2706a089-2047-4dbf-830d-6a2690424809",
   "metadata": {},
   "outputs": [],
   "source": [
    "rec.drop(rec[~rec.lmk_key.isin(cert.lmk_key)].index, inplace=True)"
   ]
  },
  {
   "cell_type": "code",
   "execution_count": 64,
   "id": "8afb2bbb-4a07-488f-92e1-230980bf574d",
   "metadata": {},
   "outputs": [],
   "source": [
    "# merge the sets\n",
    "merged = cert.merge(rec, how='left', left_on='lmk_key', right_on='lmk_key')\n"
   ]
  },
  {
   "cell_type": "code",
   "execution_count": 65,
   "id": "d99e3e57-597a-49b9-b526-450d357a0de8",
   "metadata": {},
   "outputs": [
    {
     "data": {
      "text/plain": [
       "4    0.176\n",
       "5    0.160\n",
       "3    0.153\n",
       "2    0.144\n",
       "6    0.132\n",
       "7    0.084\n",
       "1    0.064\n",
       "8    0.049\n",
       "9    0.022\n",
       "10   0.011\n",
       "11   0.003\n",
       "12   0.002\n",
       "14   0.001\n",
       "16   0.000\n",
       "13   0.000\n",
       "18   0.000\n",
       "20   0.000\n",
       "22   0.000\n",
       "Name: improvement_id, dtype: float64"
      ]
     },
     "execution_count": 65,
     "metadata": {},
     "output_type": "execute_result"
    }
   ],
   "source": [
    "# get an idea of how many recommendations per certificate\n",
    "merged.groupby('lmk_key')['improvement_id'].count().value_counts() / len(cert)"
   ]
  },
  {
   "cell_type": "code",
   "execution_count": 66,
   "id": "ec110a60-99c1-4b14-bfa9-957be8e4c5b4",
   "metadata": {},
   "outputs": [
    {
     "data": {
      "text/plain": [
       "(953165, 953165, 213752, 213752, 213752)"
      ]
     },
     "execution_count": 66,
     "metadata": {},
     "output_type": "execute_result"
    }
   ],
   "source": [
    "# final check\n",
    "len(merged), len(rec), merged.lmk_key.nunique(), cert.lmk_key.nunique(), rec.lmk_key.nunique()"
   ]
  },
  {
   "cell_type": "code",
   "execution_count": 67,
   "id": "f6a3332b-d2a7-42cd-bb60-f0decc393a87",
   "metadata": {},
   "outputs": [
    {
     "data": {
      "text/plain": [
       "improvement_id\n",
       "1.000        Insulate hot water cylinder with 80 mm jacket\n",
       "2.000               Increase hot water cylinder insulation\n",
       "3.000    Add additional 80 mm jacket to hot water cylinder\n",
       "4.000                        Hot water cylinder thermostat\n",
       "5.000                   Increase loft insulation to 270 mm\n",
       "Name: improvement_id_text, dtype: object"
      ]
     },
     "execution_count": 67,
     "metadata": {},
     "output_type": "execute_result"
    }
   ],
   "source": [
    "# get id to text mapper\n",
    "id_to_text_mapper = rec.groupby('improvement_id').improvement_id_text.max()\n",
    "id_to_text_mapper.head(5)"
   ]
  },
  {
   "cell_type": "code",
   "execution_count": 68,
   "id": "3fcc17fe-3479-4561-bc79-5e92f2059622",
   "metadata": {},
   "outputs": [
    {
     "data": {
      "text/html": [
       "<div>\n",
       "<style scoped>\n",
       "    .dataframe tbody tr th:only-of-type {\n",
       "        vertical-align: middle;\n",
       "    }\n",
       "\n",
       "    .dataframe tbody tr th {\n",
       "        vertical-align: top;\n",
       "    }\n",
       "\n",
       "    .dataframe thead th {\n",
       "        text-align: right;\n",
       "    }\n",
       "</style>\n",
       "<table border=\"1\" class=\"dataframe\">\n",
       "  <thead>\n",
       "    <tr style=\"text-align: right;\">\n",
       "      <th></th>\n",
       "      <th>vol</th>\n",
       "      <th>perc</th>\n",
       "      <th>text</th>\n",
       "    </tr>\n",
       "    <tr>\n",
       "      <th>improvement_id</th>\n",
       "      <th></th>\n",
       "      <th></th>\n",
       "      <th></th>\n",
       "    </tr>\n",
       "  </thead>\n",
       "  <tbody>\n",
       "    <tr>\n",
       "      <th>1.000</th>\n",
       "      <td>1241</td>\n",
       "      <td>0.581</td>\n",
       "      <td>Insulate hot water cylinder with 80 mm jacket</td>\n",
       "    </tr>\n",
       "    <tr>\n",
       "      <th>2.000</th>\n",
       "      <td>11653</td>\n",
       "      <td>5.452</td>\n",
       "      <td>Increase hot water cylinder insulation</td>\n",
       "    </tr>\n",
       "    <tr>\n",
       "      <th>3.000</th>\n",
       "      <td>5896</td>\n",
       "      <td>2.758</td>\n",
       "      <td>Add additional 80 mm jacket to hot water cylinder</td>\n",
       "    </tr>\n",
       "    <tr>\n",
       "      <th>4.000</th>\n",
       "      <td>12134</td>\n",
       "      <td>5.677</td>\n",
       "      <td>Hot water cylinder thermostat</td>\n",
       "    </tr>\n",
       "    <tr>\n",
       "      <th>5.000</th>\n",
       "      <td>29965</td>\n",
       "      <td>14.019</td>\n",
       "      <td>Increase loft insulation to 270 mm</td>\n",
       "    </tr>\n",
       "    <tr>\n",
       "      <th>6.000</th>\n",
       "      <td>35536</td>\n",
       "      <td>16.625</td>\n",
       "      <td>Cavity wall insulation</td>\n",
       "    </tr>\n",
       "    <tr>\n",
       "      <th>7.000</th>\n",
       "      <td>41731</td>\n",
       "      <td>19.523</td>\n",
       "      <td>50 mm internal or external wall insulation</td>\n",
       "    </tr>\n",
       "    <tr>\n",
       "      <th>8.000</th>\n",
       "      <td>11196</td>\n",
       "      <td>5.238</td>\n",
       "      <td>Replace single glazed windows with low-E doubl...</td>\n",
       "    </tr>\n",
       "    <tr>\n",
       "      <th>9.000</th>\n",
       "      <td>48</td>\n",
       "      <td>0.022</td>\n",
       "      <td>Secondary glazing to single glazed windows</td>\n",
       "    </tr>\n",
       "    <tr>\n",
       "      <th>10.000</th>\n",
       "      <td>8056</td>\n",
       "      <td>3.769</td>\n",
       "      <td>Draughtproof single-glazed windows</td>\n",
       "    </tr>\n",
       "    <tr>\n",
       "      <th>11.000</th>\n",
       "      <td>66780</td>\n",
       "      <td>31.242</td>\n",
       "      <td>Upgrade heating controls</td>\n",
       "    </tr>\n",
       "    <tr>\n",
       "      <th>16.000</th>\n",
       "      <td>736</td>\n",
       "      <td>0.344</td>\n",
       "      <td>Time and temperature zone control</td>\n",
       "    </tr>\n",
       "    <tr>\n",
       "      <th>19.000</th>\n",
       "      <td>166056</td>\n",
       "      <td>77.686</td>\n",
       "      <td>Solar water heating</td>\n",
       "    </tr>\n",
       "    <tr>\n",
       "      <th>20.000</th>\n",
       "      <td>68883</td>\n",
       "      <td>32.226</td>\n",
       "      <td>Replace boiler with new condensing boiler</td>\n",
       "    </tr>\n",
       "    <tr>\n",
       "      <th>22.000</th>\n",
       "      <td>21</td>\n",
       "      <td>0.010</td>\n",
       "      <td>Replace boiler with biomass boiler</td>\n",
       "    </tr>\n",
       "    <tr>\n",
       "      <th>23.000</th>\n",
       "      <td>100</td>\n",
       "      <td>0.047</td>\n",
       "      <td>Wood pellet stove with boiler and radiators</td>\n",
       "    </tr>\n",
       "    <tr>\n",
       "      <th>24.000</th>\n",
       "      <td>1870</td>\n",
       "      <td>0.875</td>\n",
       "      <td>Fan assisted storage heaters and dual immersio...</td>\n",
       "    </tr>\n",
       "    <tr>\n",
       "      <th>25.000</th>\n",
       "      <td>2402</td>\n",
       "      <td>1.124</td>\n",
       "      <td>Fan assisted storage heaters</td>\n",
       "    </tr>\n",
       "    <tr>\n",
       "      <th>26.000</th>\n",
       "      <td>499</td>\n",
       "      <td>0.233</td>\n",
       "      <td>Replacement warm air unit</td>\n",
       "    </tr>\n",
       "    <tr>\n",
       "      <th>27.000</th>\n",
       "      <td>2913</td>\n",
       "      <td>1.363</td>\n",
       "      <td>Change heating to gas condensing boiler</td>\n",
       "    </tr>\n",
       "    <tr>\n",
       "      <th>28.000</th>\n",
       "      <td>1</td>\n",
       "      <td>0.000</td>\n",
       "      <td>Condensing oil boiler with radiators</td>\n",
       "    </tr>\n",
       "    <tr>\n",
       "      <th>31.000</th>\n",
       "      <td>434</td>\n",
       "      <td>0.203</td>\n",
       "      <td>Fan-assisted storage heaters</td>\n",
       "    </tr>\n",
       "    <tr>\n",
       "      <th>34.000</th>\n",
       "      <td>180969</td>\n",
       "      <td>84.663</td>\n",
       "      <td>Solar photovoltaic panels, 2.5 kWp</td>\n",
       "    </tr>\n",
       "    <tr>\n",
       "      <th>35.000</th>\n",
       "      <td>128114</td>\n",
       "      <td>59.936</td>\n",
       "      <td>Low energy lighting for all fixed outlets</td>\n",
       "    </tr>\n",
       "    <tr>\n",
       "      <th>36.000</th>\n",
       "      <td>29</td>\n",
       "      <td>0.014</td>\n",
       "      <td>Replace heating unit with condensing unit</td>\n",
       "    </tr>\n",
       "    <tr>\n",
       "      <th>37.000</th>\n",
       "      <td>39</td>\n",
       "      <td>0.018</td>\n",
       "      <td>Install condensing boiler</td>\n",
       "    </tr>\n",
       "    <tr>\n",
       "      <th>40.000</th>\n",
       "      <td>1179</td>\n",
       "      <td>0.552</td>\n",
       "      <td>Change room heaters to condensing boiler</td>\n",
       "    </tr>\n",
       "    <tr>\n",
       "      <th>44.000</th>\n",
       "      <td>15868</td>\n",
       "      <td>7.424</td>\n",
       "      <td>Wind turbine</td>\n",
       "    </tr>\n",
       "    <tr>\n",
       "      <th>45.000</th>\n",
       "      <td>5934</td>\n",
       "      <td>2.776</td>\n",
       "      <td>Flat roof insulation</td>\n",
       "    </tr>\n",
       "    <tr>\n",
       "      <th>46.000</th>\n",
       "      <td>5786</td>\n",
       "      <td>2.707</td>\n",
       "      <td>Room-in-roof insulation</td>\n",
       "    </tr>\n",
       "    <tr>\n",
       "      <th>47.000</th>\n",
       "      <td>51210</td>\n",
       "      <td>23.958</td>\n",
       "      <td>Floor insulation</td>\n",
       "    </tr>\n",
       "    <tr>\n",
       "      <th>48.000</th>\n",
       "      <td>2841</td>\n",
       "      <td>1.329</td>\n",
       "      <td>High performance external doors</td>\n",
       "    </tr>\n",
       "    <tr>\n",
       "      <th>49.000</th>\n",
       "      <td>953</td>\n",
       "      <td>0.446</td>\n",
       "      <td>Heat recovery system for mixer showers</td>\n",
       "    </tr>\n",
       "    <tr>\n",
       "      <th>50.000</th>\n",
       "      <td>8065</td>\n",
       "      <td>3.773</td>\n",
       "      <td>Flue gas heat recovery device in conjunction w...</td>\n",
       "    </tr>\n",
       "    <tr>\n",
       "      <th>56.000</th>\n",
       "      <td>6433</td>\n",
       "      <td>3.010</td>\n",
       "      <td>Replacement glazing units</td>\n",
       "    </tr>\n",
       "    <tr>\n",
       "      <th>57.000</th>\n",
       "      <td>32659</td>\n",
       "      <td>15.279</td>\n",
       "      <td>Suspended floor insulation</td>\n",
       "    </tr>\n",
       "    <tr>\n",
       "      <th>58.000</th>\n",
       "      <td>37169</td>\n",
       "      <td>17.389</td>\n",
       "      <td>Solid floor insulation</td>\n",
       "    </tr>\n",
       "    <tr>\n",
       "      <th>59.000</th>\n",
       "      <td>2399</td>\n",
       "      <td>1.122</td>\n",
       "      <td>High heat retention storage heaters and dual i...</td>\n",
       "    </tr>\n",
       "    <tr>\n",
       "      <th>60.000</th>\n",
       "      <td>3285</td>\n",
       "      <td>1.537</td>\n",
       "      <td>High heat retention storage heaters</td>\n",
       "    </tr>\n",
       "    <tr>\n",
       "      <th>63.000</th>\n",
       "      <td>2082</td>\n",
       "      <td>0.974</td>\n",
       "      <td>Party wall insulation</td>\n",
       "    </tr>\n",
       "  </tbody>\n",
       "</table>\n",
       "</div>"
      ],
      "text/plain": [
       "                   vol   perc  \\\n",
       "improvement_id                  \n",
       "1.000             1241  0.581   \n",
       "2.000            11653  5.452   \n",
       "3.000             5896  2.758   \n",
       "4.000            12134  5.677   \n",
       "5.000            29965 14.019   \n",
       "6.000            35536 16.625   \n",
       "7.000            41731 19.523   \n",
       "8.000            11196  5.238   \n",
       "9.000               48  0.022   \n",
       "10.000            8056  3.769   \n",
       "11.000           66780 31.242   \n",
       "16.000             736  0.344   \n",
       "19.000          166056 77.686   \n",
       "20.000           68883 32.226   \n",
       "22.000              21  0.010   \n",
       "23.000             100  0.047   \n",
       "24.000            1870  0.875   \n",
       "25.000            2402  1.124   \n",
       "26.000             499  0.233   \n",
       "27.000            2913  1.363   \n",
       "28.000               1  0.000   \n",
       "31.000             434  0.203   \n",
       "34.000          180969 84.663   \n",
       "35.000          128114 59.936   \n",
       "36.000              29  0.014   \n",
       "37.000              39  0.018   \n",
       "40.000            1179  0.552   \n",
       "44.000           15868  7.424   \n",
       "45.000            5934  2.776   \n",
       "46.000            5786  2.707   \n",
       "47.000           51210 23.958   \n",
       "48.000            2841  1.329   \n",
       "49.000             953  0.446   \n",
       "50.000            8065  3.773   \n",
       "56.000            6433  3.010   \n",
       "57.000           32659 15.279   \n",
       "58.000           37169 17.389   \n",
       "59.000            2399  1.122   \n",
       "60.000            3285  1.537   \n",
       "63.000            2082  0.974   \n",
       "\n",
       "                                                             text  \n",
       "improvement_id                                                     \n",
       "1.000               Insulate hot water cylinder with 80 mm jacket  \n",
       "2.000                      Increase hot water cylinder insulation  \n",
       "3.000           Add additional 80 mm jacket to hot water cylinder  \n",
       "4.000                               Hot water cylinder thermostat  \n",
       "5.000                          Increase loft insulation to 270 mm  \n",
       "6.000                                      Cavity wall insulation  \n",
       "7.000                  50 mm internal or external wall insulation  \n",
       "8.000           Replace single glazed windows with low-E doubl...  \n",
       "9.000                  Secondary glazing to single glazed windows  \n",
       "10.000                         Draughtproof single-glazed windows  \n",
       "11.000                                   Upgrade heating controls  \n",
       "16.000                          Time and temperature zone control  \n",
       "19.000                                        Solar water heating  \n",
       "20.000                  Replace boiler with new condensing boiler  \n",
       "22.000                         Replace boiler with biomass boiler  \n",
       "23.000                Wood pellet stove with boiler and radiators  \n",
       "24.000          Fan assisted storage heaters and dual immersio...  \n",
       "25.000                               Fan assisted storage heaters  \n",
       "26.000                                  Replacement warm air unit  \n",
       "27.000                    Change heating to gas condensing boiler  \n",
       "28.000                       Condensing oil boiler with radiators  \n",
       "31.000                               Fan-assisted storage heaters  \n",
       "34.000                         Solar photovoltaic panels, 2.5 kWp  \n",
       "35.000                  Low energy lighting for all fixed outlets  \n",
       "36.000                  Replace heating unit with condensing unit  \n",
       "37.000                                  Install condensing boiler  \n",
       "40.000                   Change room heaters to condensing boiler  \n",
       "44.000                                               Wind turbine  \n",
       "45.000                                       Flat roof insulation  \n",
       "46.000                                    Room-in-roof insulation  \n",
       "47.000                                           Floor insulation  \n",
       "48.000                            High performance external doors  \n",
       "49.000                     Heat recovery system for mixer showers  \n",
       "50.000          Flue gas heat recovery device in conjunction w...  \n",
       "56.000                                  Replacement glazing units  \n",
       "57.000                                 Suspended floor insulation  \n",
       "58.000                                     Solid floor insulation  \n",
       "59.000          High heat retention storage heaters and dual i...  \n",
       "60.000                        High heat retention storage heaters  \n",
       "63.000                                      Party wall insulation  "
      ]
     },
     "execution_count": 68,
     "metadata": {},
     "output_type": "execute_result"
    }
   ],
   "source": [
    "# get counts of how many times each recommendation is used \n",
    "id_counts = pd.concat([rec.groupby('improvement_id')['lmk_key'].count(), \n",
    "           100*rec.groupby('improvement_id')['lmk_key'].count()/len(cert)],axis=1).merge(id_to_text_mapper,\n",
    "                                                                                        left_on='improvement_id',\n",
    "                                                                                        right_index=True)\n",
    "id_counts.columns = ['vol','perc','text']\n",
    "id_counts"
   ]
  },
  {
   "cell_type": "markdown",
   "id": "e4049fb8-c086-4647-96dc-6ecc523c1e63",
   "metadata": {},
   "source": [
    "Some classes are too under-represented for the algo to learn anything significant (also run the risk of all samples ending up in train or test).\n",
    "\n",
    "Will get rid of any under-represented class.\n",
    "\n",
    "TODO: review threshold later on full dataset"
   ]
  },
  {
   "cell_type": "code",
   "execution_count": 69,
   "id": "8a4386b1-3044-425b-a76b-a3e34f87c55b",
   "metadata": {},
   "outputs": [],
   "source": [
    "min_count_class = 20\n",
    "\n",
    "ids_to_delete = id_counts[id_counts.vol <= min_count_class].index\n",
    "\n",
    "rec.drop(rec[rec.improvement_id.isin(ids_to_delete)].index,inplace=True)"
   ]
  },
  {
   "cell_type": "code",
   "execution_count": 70,
   "id": "e5913e95-80b0-4d20-beb9-82e7fb1a8edd",
   "metadata": {},
   "outputs": [
    {
     "data": {
      "text/plain": [
       "0"
      ]
     },
     "execution_count": 70,
     "metadata": {},
     "output_type": "execute_result"
    }
   ],
   "source": [
    "# if this means there are certificates without at least one recommendation, then we should implement code to delete those too\n",
    "# RUN THIS CHECK\n",
    "len(cert) - cert.lmk_key.isin(rec.lmk_key).sum()"
   ]
  },
  {
   "cell_type": "markdown",
   "id": "8410a0f6-510d-4564-b927-6e3b4c16f630",
   "metadata": {},
   "source": [
    "## Prepare train and test sets"
   ]
  },
  {
   "cell_type": "markdown",
   "id": "edcd4511-963c-4781-b8d5-874f34ea385c",
   "metadata": {},
   "source": [
    "#### X\n",
    "Narrow down the set of variables, one-hot encode categoricals etc."
   ]
  },
  {
   "cell_type": "code",
   "execution_count": 71,
   "id": "b801202d-fefb-4235-8f2a-1945b277e5d9",
   "metadata": {},
   "outputs": [],
   "source": [
    "# take a copy of certificates\n",
    "x = cert.copy()"
   ]
  },
  {
   "cell_type": "code",
   "execution_count": 72,
   "id": "3bf1f659-95f0-4c24-9d00-99738461a7f3",
   "metadata": {},
   "outputs": [],
   "source": [
    "# set the lmk key as the index\n",
    "x.set_index('lmk_key',inplace=True)\n",
    "x.sort_index(inplace=True)"
   ]
  },
  {
   "cell_type": "code",
   "execution_count": 73,
   "id": "19cc321c-bb96-44ff-a96c-95c4b000f557",
   "metadata": {},
   "outputs": [],
   "source": [
    "# narrow down set of explanatory variables (see notes above)\n",
    "selected_vars = [\n",
    "    'property_type', \n",
    "    'built_form', \n",
    "    'total_floor_area', \n",
    "    'energy_tariff', \n",
    "    'mains_gas_flag',\n",
    "    'floor_level_numeric',\n",
    "    'floor_level_classes',\n",
    "    'flat_top_storey',\n",
    "    'flat_storey_count',\n",
    "    'multi_glaze_proportion', #doubt we will be able to get this from user!\n",
    "    'glazed_type',\n",
    "    'glazed_area', #doubt we will be able to get this from user!\n",
    "    'extension_count',\n",
    "    'number_habitable_rooms', #A! check this and the following - likely to be highly correlated\n",
    "    'number_heated_rooms',\n",
    "    'low_energy_lighting', #A! check this and the following - likely to be highly correlated\n",
    "    'low_energy_lighting_perc', #this is a derived var\n",
    "    'number_open_fireplaces', #doubt we will be able to get this from user!\n",
    "    'hotwater_mains', #derived from the hotwater description - domain driven \n",
    "    'hotwater_immersion',\n",
    "    'hotwater_commmunity',\n",
    "    'hotwater_solar',\n",
    "    'hotwater_gas',\n",
    "    'hotwater_recovery',\n",
    "    'hot_water_energy_eff', #doubt we will be able to get this from user!\n",
    "    'hot_water_env_eff', #consider dropping - highly correlated\n",
    "    'windows_description',\n",
    "    'pitched_roof',\n",
    "    'flat_roof',\n",
    "    'mainheat_description',\n",
    "    'mainheatcont_description', #doubt they will be able to provide this!\n",
    "    'main_fuel', #doubt they will know \n",
    "    'wind_turbine_flag',\n",
    "    'heat_loss_corridor', # need to see if they know \n",
    "    'floor_height',\n",
    "    'solar_water_heating_flag',\n",
    "    'mechanical_ventilation', # ?\n",
    "    'construction_age_band',\n",
    "    'tenure'\n",
    "]\n",
    "\n",
    "x = x[selected_vars]"
   ]
  },
  {
   "cell_type": "code",
   "execution_count": 74,
   "id": "407f9927-9ebd-4eb0-aae3-c42e5d32caa8",
   "metadata": {},
   "outputs": [],
   "source": [
    "# check the categoricals\n",
    "cat_vars = [c for c in x.columns if x[c].dtype=='object']\n",
    "\n",
    "# for c in cat_vars:\n",
    "#     print(c)\n",
    "#     print(x[c].nunique())"
   ]
  },
  {
   "cell_type": "code",
   "execution_count": 75,
   "id": "772b6290-6759-48a7-ae9c-f6df0db81bb4",
   "metadata": {},
   "outputs": [],
   "source": [
    "# check numeric vars\n",
    "num_vars = [c for c in x.columns if x[c].dtype!='object']\n",
    "# x[num_vars].describe()"
   ]
  },
  {
   "cell_type": "code",
   "execution_count": 76,
   "id": "88bcce7f-1f06-4fa9-afda-51ae25958e00",
   "metadata": {},
   "outputs": [],
   "source": [
    "# One-hot encode cat features\n",
    "x = pd.get_dummies(x)"
   ]
  },
  {
   "cell_type": "code",
   "execution_count": 77,
   "id": "8bd26285-c84f-4f87-8981-aba134d54ff1",
   "metadata": {},
   "outputs": [],
   "source": [
    "# save column names\n",
    "all_vars = x.columns"
   ]
  },
  {
   "cell_type": "markdown",
   "id": "0f554925-1072-4186-9e52-53711359f4e8",
   "metadata": {},
   "source": [
    "#### y\n",
    "Will need to create an input array of dims (n_samples, n_classes) to go into the multi-label classification. "
   ]
  },
  {
   "cell_type": "code",
   "execution_count": 78,
   "id": "db751f73-e62d-4955-9977-67d7fbdc61a7",
   "metadata": {},
   "outputs": [],
   "source": [
    "# Now prepare y\n",
    "\n",
    "y = rec.copy()"
   ]
  },
  {
   "cell_type": "code",
   "execution_count": 79,
   "id": "e87357b8-efe6-43ab-b5d8-d1b054e526aa",
   "metadata": {},
   "outputs": [],
   "source": [
    "tuples_improvements = y.groupby('lmk_key')['improvement_id'].apply(lambda x: tuple(x.values))\n",
    "\n",
    "tuples_improvements = pd.DataFrame(tuples_improvements)\n",
    "\n",
    "# A! turns out some sets of recommendations are duplicated within the same certificate. We only need to \n",
    "# retain one set for each certificate. The binarizer below already does that."
   ]
  },
  {
   "cell_type": "code",
   "execution_count": 80,
   "id": "7eb29630-82ad-40b0-b2a1-d6f6df072ef8",
   "metadata": {},
   "outputs": [
    {
     "data": {
      "text/plain": [
       "True"
      ]
     },
     "execution_count": 80,
     "metadata": {},
     "output_type": "execute_result"
    }
   ],
   "source": [
    "# sort y\n",
    "tuples_improvements.sort_index(inplace=True)\n",
    "\n",
    "\n",
    "(x.index == tuples_improvements.index).all()"
   ]
  },
  {
   "cell_type": "code",
   "execution_count": 81,
   "id": "6fc9491d-02d7-4a9d-b80f-746f090c3be8",
   "metadata": {},
   "outputs": [
    {
     "data": {
      "text/plain": [
       "(213752, 40)"
      ]
     },
     "execution_count": 81,
     "metadata": {},
     "output_type": "execute_result"
    }
   ],
   "source": [
    "# Initialize binarizer\n",
    "mlb = MultiLabelBinarizer(classes=id_to_text_mapper.index)\n",
    "y = mlb.fit_transform(tuples_improvements.values[:,0])\n",
    "y.shape"
   ]
  },
  {
   "cell_type": "markdown",
   "id": "91b6129e-92da-4d24-821a-eeb8b24b2a11",
   "metadata": {},
   "source": [
    "#### Scaling X"
   ]
  },
  {
   "cell_type": "code",
   "execution_count": 82,
   "id": "087f8088-1fc6-47ab-a92a-7e32dbc2114f",
   "metadata": {},
   "outputs": [],
   "source": [
    "scaler = MinMaxScaler(feature_range=(0, 1))\n",
    "x = scaler.fit_transform(x.values)"
   ]
  },
  {
   "cell_type": "markdown",
   "id": "b03f77c1-bde0-46b2-bfa7-664c435aac20",
   "metadata": {},
   "source": [
    "#### Train/test split"
   ]
  },
  {
   "cell_type": "code",
   "execution_count": 83,
   "id": "e5193f21-dcf7-4426-b115-d9deda663d31",
   "metadata": {},
   "outputs": [],
   "source": [
    "x_train, x_test, y_train, y_test = train_test_split(x, y, test_size=0.1, random_state=42)"
   ]
  },
  {
   "cell_type": "code",
   "execution_count": null,
   "id": "17c4a728-0357-4f9a-96c4-8cb3f70a3d15",
   "metadata": {},
   "outputs": [],
   "source": []
  },
  {
   "cell_type": "code",
   "execution_count": null,
   "id": "619eeba0-1093-4288-a54e-9b0042fe89d9",
   "metadata": {},
   "outputs": [],
   "source": []
  },
  {
   "cell_type": "code",
   "execution_count": 124,
   "id": "d2f48d80-234b-46a2-9570-17e033bbdf29",
   "metadata": {},
   "outputs": [
    {
     "data": {
      "text/plain": [
       "(10388, 192376)"
      ]
     },
     "execution_count": 124,
     "metadata": {},
     "output_type": "execute_result"
    }
   ],
   "source": [
    "# try with a single-class model\n",
    "class_number = 1\n",
    "\n",
    "y_train[:,class_number].sum(), len(y_train) #choose improvement in position 23"
   ]
  },
  {
   "cell_type": "code",
   "execution_count": 125,
   "id": "1af7e271-7ae7-4265-82fc-a32141a96b70",
   "metadata": {},
   "outputs": [
    {
     "data": {
      "text/plain": [
       "'Increase hot water cylinder insulation'"
      ]
     },
     "execution_count": 125,
     "metadata": {},
     "output_type": "execute_result"
    }
   ],
   "source": [
    "id_to_text_mapper.iloc[class_number]"
   ]
  },
  {
   "cell_type": "code",
   "execution_count": 126,
   "id": "ff42dcbd-a0a5-42fd-a552-6e1cd1e3f291",
   "metadata": {},
   "outputs": [
    {
     "data": {
      "text/html": [
       "<style>#sk-container-id-6 {color: black;background-color: white;}#sk-container-id-6 pre{padding: 0;}#sk-container-id-6 div.sk-toggleable {background-color: white;}#sk-container-id-6 label.sk-toggleable__label {cursor: pointer;display: block;width: 100%;margin-bottom: 0;padding: 0.3em;box-sizing: border-box;text-align: center;}#sk-container-id-6 label.sk-toggleable__label-arrow:before {content: \"▸\";float: left;margin-right: 0.25em;color: #696969;}#sk-container-id-6 label.sk-toggleable__label-arrow:hover:before {color: black;}#sk-container-id-6 div.sk-estimator:hover label.sk-toggleable__label-arrow:before {color: black;}#sk-container-id-6 div.sk-toggleable__content {max-height: 0;max-width: 0;overflow: hidden;text-align: left;background-color: #f0f8ff;}#sk-container-id-6 div.sk-toggleable__content pre {margin: 0.2em;color: black;border-radius: 0.25em;background-color: #f0f8ff;}#sk-container-id-6 input.sk-toggleable__control:checked~div.sk-toggleable__content {max-height: 200px;max-width: 100%;overflow: auto;}#sk-container-id-6 input.sk-toggleable__control:checked~label.sk-toggleable__label-arrow:before {content: \"▾\";}#sk-container-id-6 div.sk-estimator input.sk-toggleable__control:checked~label.sk-toggleable__label {background-color: #d4ebff;}#sk-container-id-6 div.sk-label input.sk-toggleable__control:checked~label.sk-toggleable__label {background-color: #d4ebff;}#sk-container-id-6 input.sk-hidden--visually {border: 0;clip: rect(1px 1px 1px 1px);clip: rect(1px, 1px, 1px, 1px);height: 1px;margin: -1px;overflow: hidden;padding: 0;position: absolute;width: 1px;}#sk-container-id-6 div.sk-estimator {font-family: monospace;background-color: #f0f8ff;border: 1px dotted black;border-radius: 0.25em;box-sizing: border-box;margin-bottom: 0.5em;}#sk-container-id-6 div.sk-estimator:hover {background-color: #d4ebff;}#sk-container-id-6 div.sk-parallel-item::after {content: \"\";width: 100%;border-bottom: 1px solid gray;flex-grow: 1;}#sk-container-id-6 div.sk-label:hover label.sk-toggleable__label {background-color: #d4ebff;}#sk-container-id-6 div.sk-serial::before {content: \"\";position: absolute;border-left: 1px solid gray;box-sizing: border-box;top: 0;bottom: 0;left: 50%;z-index: 0;}#sk-container-id-6 div.sk-serial {display: flex;flex-direction: column;align-items: center;background-color: white;padding-right: 0.2em;padding-left: 0.2em;position: relative;}#sk-container-id-6 div.sk-item {position: relative;z-index: 1;}#sk-container-id-6 div.sk-parallel {display: flex;align-items: stretch;justify-content: center;background-color: white;position: relative;}#sk-container-id-6 div.sk-item::before, #sk-container-id-6 div.sk-parallel-item::before {content: \"\";position: absolute;border-left: 1px solid gray;box-sizing: border-box;top: 0;bottom: 0;left: 50%;z-index: -1;}#sk-container-id-6 div.sk-parallel-item {display: flex;flex-direction: column;z-index: 1;position: relative;background-color: white;}#sk-container-id-6 div.sk-parallel-item:first-child::after {align-self: flex-end;width: 50%;}#sk-container-id-6 div.sk-parallel-item:last-child::after {align-self: flex-start;width: 50%;}#sk-container-id-6 div.sk-parallel-item:only-child::after {width: 0;}#sk-container-id-6 div.sk-dashed-wrapped {border: 1px dashed gray;margin: 0 0.4em 0.5em 0.4em;box-sizing: border-box;padding-bottom: 0.4em;background-color: white;}#sk-container-id-6 div.sk-label label {font-family: monospace;font-weight: bold;display: inline-block;line-height: 1.2em;}#sk-container-id-6 div.sk-label-container {text-align: center;}#sk-container-id-6 div.sk-container {/* jupyter's `normalize.less` sets `[hidden] { display: none; }` but bootstrap.min.css set `[hidden] { display: none !important; }` so we also need the `!important` here to be able to override the default hidden behavior on the sphinx rendered scikit-learn.org. See: https://github.com/scikit-learn/scikit-learn/issues/21755 */display: inline-block !important;position: relative;}#sk-container-id-6 div.sk-text-repr-fallback {display: none;}</style><div id=\"sk-container-id-6\" class=\"sk-top-container\"><div class=\"sk-text-repr-fallback\"><pre>XGBRFClassifier(base_score=0.5, booster=&#x27;gbtree&#x27;, callbacks=None,\n",
       "                colsample_bylevel=1, colsample_bytree=1,\n",
       "                early_stopping_rounds=None, enable_categorical=False,\n",
       "                eval_metric=None, feature_types=None, gamma=0, gpu_id=-1,\n",
       "                grow_policy=&#x27;depthwise&#x27;, importance_type=None,\n",
       "                interaction_constraints=&#x27;&#x27;, max_bin=256, max_cat_threshold=64,\n",
       "                max_cat_to_onehot=4, max_delta_step=0, max_depth=6,\n",
       "                max_leaves=0, min_child_weight=1, missing=nan,\n",
       "                monotone_constraints=&#x27;()&#x27;, n_estimators=50, n_jobs=0,\n",
       "                num_parallel_tree=50, objective=&#x27;binary:logistic&#x27;,\n",
       "                predictor=&#x27;auto&#x27;, random_state=0, reg_alpha=0, ...)</pre><b>In a Jupyter environment, please rerun this cell to show the HTML representation or trust the notebook. <br />On GitHub, the HTML representation is unable to render, please try loading this page with nbviewer.org.</b></div><div class=\"sk-container\" hidden><div class=\"sk-item\"><div class=\"sk-estimator sk-toggleable\"><input class=\"sk-toggleable__control sk-hidden--visually\" id=\"sk-estimator-id-6\" type=\"checkbox\" checked><label for=\"sk-estimator-id-6\" class=\"sk-toggleable__label sk-toggleable__label-arrow\">XGBRFClassifier</label><div class=\"sk-toggleable__content\"><pre>XGBRFClassifier(base_score=0.5, booster=&#x27;gbtree&#x27;, callbacks=None,\n",
       "                colsample_bylevel=1, colsample_bytree=1,\n",
       "                early_stopping_rounds=None, enable_categorical=False,\n",
       "                eval_metric=None, feature_types=None, gamma=0, gpu_id=-1,\n",
       "                grow_policy=&#x27;depthwise&#x27;, importance_type=None,\n",
       "                interaction_constraints=&#x27;&#x27;, max_bin=256, max_cat_threshold=64,\n",
       "                max_cat_to_onehot=4, max_delta_step=0, max_depth=6,\n",
       "                max_leaves=0, min_child_weight=1, missing=nan,\n",
       "                monotone_constraints=&#x27;()&#x27;, n_estimators=50, n_jobs=0,\n",
       "                num_parallel_tree=50, objective=&#x27;binary:logistic&#x27;,\n",
       "                predictor=&#x27;auto&#x27;, random_state=0, reg_alpha=0, ...)</pre></div></div></div></div></div>"
      ],
      "text/plain": [
       "XGBRFClassifier(base_score=0.5, booster='gbtree', callbacks=None,\n",
       "                colsample_bylevel=1, colsample_bytree=1,\n",
       "                early_stopping_rounds=None, enable_categorical=False,\n",
       "                eval_metric=None, feature_types=None, gamma=0, gpu_id=-1,\n",
       "                grow_policy='depthwise', importance_type=None,\n",
       "                interaction_constraints='', max_bin=256, max_cat_threshold=64,\n",
       "                max_cat_to_onehot=4, max_delta_step=0, max_depth=6,\n",
       "                max_leaves=0, min_child_weight=1, missing=nan,\n",
       "                monotone_constraints='()', n_estimators=50, n_jobs=0,\n",
       "                num_parallel_tree=50, objective='binary:logistic',\n",
       "                predictor='auto', random_state=0, reg_alpha=0, ...)"
      ]
     },
     "execution_count": 126,
     "metadata": {},
     "output_type": "execute_result"
    }
   ],
   "source": [
    "xgb_cl = xgb.XGBRFClassifier(n_estimators=50)\n",
    "\n",
    "xgb_cl.fit(x_train, y_train[:,class_number])#, eval_metrix='logloss')"
   ]
  },
  {
   "cell_type": "code",
   "execution_count": 127,
   "id": "9c7785ff-dc1f-4072-849e-42f3b12ae813",
   "metadata": {},
   "outputs": [
    {
     "data": {
      "text/html": [
       "<div>\n",
       "<style scoped>\n",
       "    .dataframe tbody tr th:only-of-type {\n",
       "        vertical-align: middle;\n",
       "    }\n",
       "\n",
       "    .dataframe tbody tr th {\n",
       "        vertical-align: top;\n",
       "    }\n",
       "\n",
       "    .dataframe thead th {\n",
       "        text-align: right;\n",
       "    }\n",
       "</style>\n",
       "<table border=\"1\" class=\"dataframe\">\n",
       "  <thead>\n",
       "    <tr style=\"text-align: right;\">\n",
       "      <th></th>\n",
       "      <th>name</th>\n",
       "      <th>weight</th>\n",
       "    </tr>\n",
       "  </thead>\n",
       "  <tbody>\n",
       "    <tr>\n",
       "      <th>56</th>\n",
       "      <td>hot_water_energy_eff_Poor</td>\n",
       "      <td>25.153</td>\n",
       "    </tr>\n",
       "    <tr>\n",
       "      <th>60</th>\n",
       "      <td>hot_water_env_eff_Good</td>\n",
       "      <td>20.649</td>\n",
       "    </tr>\n",
       "    <tr>\n",
       "      <th>11</th>\n",
       "      <td>hotwater_immersion</td>\n",
       "      <td>8.286</td>\n",
       "    </tr>\n",
       "    <tr>\n",
       "      <th>55</th>\n",
       "      <td>hot_water_energy_eff_Good</td>\n",
       "      <td>7.602</td>\n",
       "    </tr>\n",
       "    <tr>\n",
       "      <th>2</th>\n",
       "      <td>flat_storey_count</td>\n",
       "      <td>4.452</td>\n",
       "    </tr>\n",
       "    <tr>\n",
       "      <th>62</th>\n",
       "      <td>hot_water_env_eff_Very Good</td>\n",
       "      <td>2.715</td>\n",
       "    </tr>\n",
       "    <tr>\n",
       "      <th>126</th>\n",
       "      <td>main_fuel_mains gas</td>\n",
       "      <td>2.463</td>\n",
       "    </tr>\n",
       "    <tr>\n",
       "      <th>54</th>\n",
       "      <td>hot_water_energy_eff_Average</td>\n",
       "      <td>2.189</td>\n",
       "    </tr>\n",
       "    <tr>\n",
       "      <th>100</th>\n",
       "      <td>mainheatcont_description_Flat rate charging, p...</td>\n",
       "      <td>1.867</td>\n",
       "    </tr>\n",
       "    <tr>\n",
       "      <th>59</th>\n",
       "      <td>hot_water_env_eff_Average</td>\n",
       "      <td>1.707</td>\n",
       "    </tr>\n",
       "    <tr>\n",
       "      <th>101</th>\n",
       "      <td>mainheatcont_description_Flat rate charging, p...</td>\n",
       "      <td>1.562</td>\n",
       "    </tr>\n",
       "    <tr>\n",
       "      <th>57</th>\n",
       "      <td>hot_water_energy_eff_Very Good</td>\n",
       "      <td>1.430</td>\n",
       "    </tr>\n",
       "    <tr>\n",
       "      <th>37</th>\n",
       "      <td>mains_gas_flag_Y</td>\n",
       "      <td>1.159</td>\n",
       "    </tr>\n",
       "    <tr>\n",
       "      <th>61</th>\n",
       "      <td>hot_water_env_eff_Poor</td>\n",
       "      <td>1.151</td>\n",
       "    </tr>\n",
       "    <tr>\n",
       "      <th>166</th>\n",
       "      <td>tenure_rental (social)</td>\n",
       "      <td>1.074</td>\n",
       "    </tr>\n",
       "    <tr>\n",
       "      <th>77</th>\n",
       "      <td>mainheat_description_Boiler and radiators, mai...</td>\n",
       "      <td>1.051</td>\n",
       "    </tr>\n",
       "    <tr>\n",
       "      <th>86</th>\n",
       "      <td>mainheat_description_Room heaters, mains gas</td>\n",
       "      <td>0.807</td>\n",
       "    </tr>\n",
       "    <tr>\n",
       "      <th>83</th>\n",
       "      <td>mainheat_description_No system present: electr...</td>\n",
       "      <td>0.749</td>\n",
       "    </tr>\n",
       "    <tr>\n",
       "      <th>164</th>\n",
       "      <td>tenure_owner-occupied</td>\n",
       "      <td>0.709</td>\n",
       "    </tr>\n",
       "    <tr>\n",
       "      <th>107</th>\n",
       "      <td>mainheatcont_description_None</td>\n",
       "      <td>0.629</td>\n",
       "    </tr>\n",
       "    <tr>\n",
       "      <th>46</th>\n",
       "      <td>glazed_type_double glazing, unknown install date</td>\n",
       "      <td>0.529</td>\n",
       "    </tr>\n",
       "    <tr>\n",
       "      <th>63</th>\n",
       "      <td>hot_water_env_eff_Very Poor</td>\n",
       "      <td>0.518</td>\n",
       "    </tr>\n",
       "    <tr>\n",
       "      <th>14</th>\n",
       "      <td>hotwater_gas</td>\n",
       "      <td>0.427</td>\n",
       "    </tr>\n",
       "    <tr>\n",
       "      <th>6</th>\n",
       "      <td>number_heated_rooms</td>\n",
       "      <td>0.422</td>\n",
       "    </tr>\n",
       "    <tr>\n",
       "      <th>58</th>\n",
       "      <td>hot_water_energy_eff_Very Poor</td>\n",
       "      <td>0.397</td>\n",
       "    </tr>\n",
       "    <tr>\n",
       "      <th>165</th>\n",
       "      <td>tenure_rental (private)</td>\n",
       "      <td>0.328</td>\n",
       "    </tr>\n",
       "    <tr>\n",
       "      <th>10</th>\n",
       "      <td>hotwater_mains</td>\n",
       "      <td>0.316</td>\n",
       "    </tr>\n",
       "    <tr>\n",
       "      <th>36</th>\n",
       "      <td>mains_gas_flag_N</td>\n",
       "      <td>0.315</td>\n",
       "    </tr>\n",
       "    <tr>\n",
       "      <th>80</th>\n",
       "      <td>mainheat_description_Community scheme</td>\n",
       "      <td>0.304</td>\n",
       "    </tr>\n",
       "    <tr>\n",
       "      <th>139</th>\n",
       "      <td>mechanical_ventilation_natural</td>\n",
       "      <td>0.273</td>\n",
       "    </tr>\n",
       "  </tbody>\n",
       "</table>\n",
       "</div>"
      ],
      "text/plain": [
       "                                                  name  weight\n",
       "56                           hot_water_energy_eff_Poor  25.153\n",
       "60                              hot_water_env_eff_Good  20.649\n",
       "11                                  hotwater_immersion   8.286\n",
       "55                           hot_water_energy_eff_Good   7.602\n",
       "2                                    flat_storey_count   4.452\n",
       "62                         hot_water_env_eff_Very Good   2.715\n",
       "126                                main_fuel_mains gas   2.463\n",
       "54                        hot_water_energy_eff_Average   2.189\n",
       "100  mainheatcont_description_Flat rate charging, p...   1.867\n",
       "59                           hot_water_env_eff_Average   1.707\n",
       "101  mainheatcont_description_Flat rate charging, p...   1.562\n",
       "57                      hot_water_energy_eff_Very Good   1.430\n",
       "37                                    mains_gas_flag_Y   1.159\n",
       "61                              hot_water_env_eff_Poor   1.151\n",
       "166                             tenure_rental (social)   1.074\n",
       "77   mainheat_description_Boiler and radiators, mai...   1.051\n",
       "86        mainheat_description_Room heaters, mains gas   0.807\n",
       "83   mainheat_description_No system present: electr...   0.749\n",
       "164                              tenure_owner-occupied   0.709\n",
       "107                      mainheatcont_description_None   0.629\n",
       "46    glazed_type_double glazing, unknown install date   0.529\n",
       "63                         hot_water_env_eff_Very Poor   0.518\n",
       "14                                        hotwater_gas   0.427\n",
       "6                                  number_heated_rooms   0.422\n",
       "58                      hot_water_energy_eff_Very Poor   0.397\n",
       "165                            tenure_rental (private)   0.328\n",
       "10                                      hotwater_mains   0.316\n",
       "36                                    mains_gas_flag_N   0.315\n",
       "80               mainheat_description_Community scheme   0.304\n",
       "139                     mechanical_ventilation_natural   0.273"
      ]
     },
     "execution_count": 127,
     "metadata": {},
     "output_type": "execute_result"
    }
   ],
   "source": [
    "tmp = pd.concat([pd.Series(all_vars),pd.Series(100*xgb_cl.feature_importances_/xgb_cl.feature_importances_.sum())],axis=1\n",
    "         )\n",
    "tmp.columns = ['name','weight']\n",
    "tmp.sort_values('weight',ascending=False).head(30)"
   ]
  },
  {
   "cell_type": "code",
   "execution_count": 128,
   "id": "3c980ab2-4ada-4996-8936-d1161de90c6b",
   "metadata": {},
   "outputs": [
    {
     "data": {
      "text/plain": [
       "array([[0.8773283 , 0.1226717 ],\n",
       "       [0.8730763 , 0.12692367],\n",
       "       [0.8773283 , 0.1226717 ],\n",
       "       ...,\n",
       "       [0.8773283 , 0.1226717 ],\n",
       "       [0.8773283 , 0.1226717 ],\n",
       "       [0.8773283 , 0.1226717 ]], dtype=float32)"
      ]
     },
     "execution_count": 128,
     "metadata": {},
     "output_type": "execute_result"
    }
   ],
   "source": [
    "xgb_cl.predict_proba(x_test)"
   ]
  },
  {
   "cell_type": "code",
   "execution_count": 129,
   "id": "1baa3998-4bfd-4b4e-be20-b6b8e907368b",
   "metadata": {},
   "outputs": [
    {
     "data": {
      "text/plain": [
       "array([0, 0, 0, ..., 0, 0, 0])"
      ]
     },
     "execution_count": 129,
     "metadata": {},
     "output_type": "execute_result"
    }
   ],
   "source": [
    "xgb_cl.predict(x_test)"
   ]
  },
  {
   "cell_type": "code",
   "execution_count": null,
   "id": "07b72bff-abdd-4c29-a938-8e26371da4ae",
   "metadata": {},
   "outputs": [],
   "source": []
  },
  {
   "cell_type": "code",
   "execution_count": null,
   "id": "35fe7b48-ea59-412a-847b-6937fde164d9",
   "metadata": {},
   "outputs": [],
   "source": []
  },
  {
   "cell_type": "code",
   "execution_count": null,
   "id": "07361ac9-7b0a-48fb-b23a-099c6dba4f78",
   "metadata": {},
   "outputs": [],
   "source": []
  },
  {
   "cell_type": "code",
   "execution_count": 131,
   "id": "e93c3e21-274c-4bdd-8d57-96cb9ccb4cb9",
   "metadata": {},
   "outputs": [
    {
     "data": {
      "text/html": [
       "<style>#sk-container-id-7 {color: black;background-color: white;}#sk-container-id-7 pre{padding: 0;}#sk-container-id-7 div.sk-toggleable {background-color: white;}#sk-container-id-7 label.sk-toggleable__label {cursor: pointer;display: block;width: 100%;margin-bottom: 0;padding: 0.3em;box-sizing: border-box;text-align: center;}#sk-container-id-7 label.sk-toggleable__label-arrow:before {content: \"▸\";float: left;margin-right: 0.25em;color: #696969;}#sk-container-id-7 label.sk-toggleable__label-arrow:hover:before {color: black;}#sk-container-id-7 div.sk-estimator:hover label.sk-toggleable__label-arrow:before {color: black;}#sk-container-id-7 div.sk-toggleable__content {max-height: 0;max-width: 0;overflow: hidden;text-align: left;background-color: #f0f8ff;}#sk-container-id-7 div.sk-toggleable__content pre {margin: 0.2em;color: black;border-radius: 0.25em;background-color: #f0f8ff;}#sk-container-id-7 input.sk-toggleable__control:checked~div.sk-toggleable__content {max-height: 200px;max-width: 100%;overflow: auto;}#sk-container-id-7 input.sk-toggleable__control:checked~label.sk-toggleable__label-arrow:before {content: \"▾\";}#sk-container-id-7 div.sk-estimator input.sk-toggleable__control:checked~label.sk-toggleable__label {background-color: #d4ebff;}#sk-container-id-7 div.sk-label input.sk-toggleable__control:checked~label.sk-toggleable__label {background-color: #d4ebff;}#sk-container-id-7 input.sk-hidden--visually {border: 0;clip: rect(1px 1px 1px 1px);clip: rect(1px, 1px, 1px, 1px);height: 1px;margin: -1px;overflow: hidden;padding: 0;position: absolute;width: 1px;}#sk-container-id-7 div.sk-estimator {font-family: monospace;background-color: #f0f8ff;border: 1px dotted black;border-radius: 0.25em;box-sizing: border-box;margin-bottom: 0.5em;}#sk-container-id-7 div.sk-estimator:hover {background-color: #d4ebff;}#sk-container-id-7 div.sk-parallel-item::after {content: \"\";width: 100%;border-bottom: 1px solid gray;flex-grow: 1;}#sk-container-id-7 div.sk-label:hover label.sk-toggleable__label {background-color: #d4ebff;}#sk-container-id-7 div.sk-serial::before {content: \"\";position: absolute;border-left: 1px solid gray;box-sizing: border-box;top: 0;bottom: 0;left: 50%;z-index: 0;}#sk-container-id-7 div.sk-serial {display: flex;flex-direction: column;align-items: center;background-color: white;padding-right: 0.2em;padding-left: 0.2em;position: relative;}#sk-container-id-7 div.sk-item {position: relative;z-index: 1;}#sk-container-id-7 div.sk-parallel {display: flex;align-items: stretch;justify-content: center;background-color: white;position: relative;}#sk-container-id-7 div.sk-item::before, #sk-container-id-7 div.sk-parallel-item::before {content: \"\";position: absolute;border-left: 1px solid gray;box-sizing: border-box;top: 0;bottom: 0;left: 50%;z-index: -1;}#sk-container-id-7 div.sk-parallel-item {display: flex;flex-direction: column;z-index: 1;position: relative;background-color: white;}#sk-container-id-7 div.sk-parallel-item:first-child::after {align-self: flex-end;width: 50%;}#sk-container-id-7 div.sk-parallel-item:last-child::after {align-self: flex-start;width: 50%;}#sk-container-id-7 div.sk-parallel-item:only-child::after {width: 0;}#sk-container-id-7 div.sk-dashed-wrapped {border: 1px dashed gray;margin: 0 0.4em 0.5em 0.4em;box-sizing: border-box;padding-bottom: 0.4em;background-color: white;}#sk-container-id-7 div.sk-label label {font-family: monospace;font-weight: bold;display: inline-block;line-height: 1.2em;}#sk-container-id-7 div.sk-label-container {text-align: center;}#sk-container-id-7 div.sk-container {/* jupyter's `normalize.less` sets `[hidden] { display: none; }` but bootstrap.min.css set `[hidden] { display: none !important; }` so we also need the `!important` here to be able to override the default hidden behavior on the sphinx rendered scikit-learn.org. See: https://github.com/scikit-learn/scikit-learn/issues/21755 */display: inline-block !important;position: relative;}#sk-container-id-7 div.sk-text-repr-fallback {display: none;}</style><div id=\"sk-container-id-7\" class=\"sk-top-container\"><div class=\"sk-text-repr-fallback\"><pre>MultiOutputClassifier(estimator=XGBRFClassifier(base_score=None, booster=None,\n",
       "                                                callbacks=None,\n",
       "                                                colsample_bylevel=None,\n",
       "                                                colsample_bytree=None,\n",
       "                                                early_stopping_rounds=None,\n",
       "                                                enable_categorical=False,\n",
       "                                                eval_metric=&#x27;logloss&#x27;,\n",
       "                                                feature_types=None, gamma=None,\n",
       "                                                gpu_id=None, grow_policy=None,\n",
       "                                                importance_type=None,\n",
       "                                                interaction_constraints=None,\n",
       "                                                max_bin=None,\n",
       "                                                max_cat_threshold=None,\n",
       "                                                max_cat_to_onehot=None,\n",
       "                                                max_delta_step=None,\n",
       "                                                max_depth=None, max_leaves=None,\n",
       "                                                min_child_weight=None,\n",
       "                                                missing=nan,\n",
       "                                                monotone_constraints=None,\n",
       "                                                n_estimators=50, n_jobs=None,\n",
       "                                                num_parallel_tree=None,\n",
       "                                                objective=&#x27;binary:logistic&#x27;,\n",
       "                                                predictor=None,\n",
       "                                                random_state=None,\n",
       "                                                reg_alpha=None, ...))</pre><b>In a Jupyter environment, please rerun this cell to show the HTML representation or trust the notebook. <br />On GitHub, the HTML representation is unable to render, please try loading this page with nbviewer.org.</b></div><div class=\"sk-container\" hidden><div class=\"sk-item sk-dashed-wrapped\"><div class=\"sk-label-container\"><div class=\"sk-label sk-toggleable\"><input class=\"sk-toggleable__control sk-hidden--visually\" id=\"sk-estimator-id-7\" type=\"checkbox\" ><label for=\"sk-estimator-id-7\" class=\"sk-toggleable__label sk-toggleable__label-arrow\">MultiOutputClassifier</label><div class=\"sk-toggleable__content\"><pre>MultiOutputClassifier(estimator=XGBRFClassifier(base_score=None, booster=None,\n",
       "                                                callbacks=None,\n",
       "                                                colsample_bylevel=None,\n",
       "                                                colsample_bytree=None,\n",
       "                                                early_stopping_rounds=None,\n",
       "                                                enable_categorical=False,\n",
       "                                                eval_metric=&#x27;logloss&#x27;,\n",
       "                                                feature_types=None, gamma=None,\n",
       "                                                gpu_id=None, grow_policy=None,\n",
       "                                                importance_type=None,\n",
       "                                                interaction_constraints=None,\n",
       "                                                max_bin=None,\n",
       "                                                max_cat_threshold=None,\n",
       "                                                max_cat_to_onehot=None,\n",
       "                                                max_delta_step=None,\n",
       "                                                max_depth=None, max_leaves=None,\n",
       "                                                min_child_weight=None,\n",
       "                                                missing=nan,\n",
       "                                                monotone_constraints=None,\n",
       "                                                n_estimators=50, n_jobs=None,\n",
       "                                                num_parallel_tree=None,\n",
       "                                                objective=&#x27;binary:logistic&#x27;,\n",
       "                                                predictor=None,\n",
       "                                                random_state=None,\n",
       "                                                reg_alpha=None, ...))</pre></div></div></div><div class=\"sk-parallel\"><div class=\"sk-parallel-item\"><div class=\"sk-item\"><div class=\"sk-label-container\"><div class=\"sk-label sk-toggleable\"><input class=\"sk-toggleable__control sk-hidden--visually\" id=\"sk-estimator-id-8\" type=\"checkbox\" ><label for=\"sk-estimator-id-8\" class=\"sk-toggleable__label sk-toggleable__label-arrow\">estimator: XGBRFClassifier</label><div class=\"sk-toggleable__content\"><pre>XGBRFClassifier(base_score=None, booster=None, callbacks=None,\n",
       "                colsample_bylevel=None, colsample_bytree=None,\n",
       "                early_stopping_rounds=None, enable_categorical=False,\n",
       "                eval_metric=&#x27;logloss&#x27;, feature_types=None, gamma=None,\n",
       "                gpu_id=None, grow_policy=None, importance_type=None,\n",
       "                interaction_constraints=None, max_bin=None,\n",
       "                max_cat_threshold=None, max_cat_to_onehot=None,\n",
       "                max_delta_step=None, max_depth=None, max_leaves=None,\n",
       "                min_child_weight=None, missing=nan, monotone_constraints=None,\n",
       "                n_estimators=50, n_jobs=None, num_parallel_tree=None,\n",
       "                objective=&#x27;binary:logistic&#x27;, predictor=None, random_state=None,\n",
       "                reg_alpha=None, ...)</pre></div></div></div><div class=\"sk-serial\"><div class=\"sk-item\"><div class=\"sk-estimator sk-toggleable\"><input class=\"sk-toggleable__control sk-hidden--visually\" id=\"sk-estimator-id-9\" type=\"checkbox\" ><label for=\"sk-estimator-id-9\" class=\"sk-toggleable__label sk-toggleable__label-arrow\">XGBRFClassifier</label><div class=\"sk-toggleable__content\"><pre>XGBRFClassifier(base_score=None, booster=None, callbacks=None,\n",
       "                colsample_bylevel=None, colsample_bytree=None,\n",
       "                early_stopping_rounds=None, enable_categorical=False,\n",
       "                eval_metric=&#x27;logloss&#x27;, feature_types=None, gamma=None,\n",
       "                gpu_id=None, grow_policy=None, importance_type=None,\n",
       "                interaction_constraints=None, max_bin=None,\n",
       "                max_cat_threshold=None, max_cat_to_onehot=None,\n",
       "                max_delta_step=None, max_depth=None, max_leaves=None,\n",
       "                min_child_weight=None, missing=nan, monotone_constraints=None,\n",
       "                n_estimators=50, n_jobs=None, num_parallel_tree=None,\n",
       "                objective=&#x27;binary:logistic&#x27;, predictor=None, random_state=None,\n",
       "                reg_alpha=None, ...)</pre></div></div></div></div></div></div></div></div></div></div>"
      ],
      "text/plain": [
       "MultiOutputClassifier(estimator=XGBRFClassifier(base_score=None, booster=None,\n",
       "                                                callbacks=None,\n",
       "                                                colsample_bylevel=None,\n",
       "                                                colsample_bytree=None,\n",
       "                                                early_stopping_rounds=None,\n",
       "                                                enable_categorical=False,\n",
       "                                                eval_metric='logloss',\n",
       "                                                feature_types=None, gamma=None,\n",
       "                                                gpu_id=None, grow_policy=None,\n",
       "                                                importance_type=None,\n",
       "                                                interaction_constraints=None,\n",
       "                                                max_bin=None,\n",
       "                                                max_cat_threshold=None,\n",
       "                                                max_cat_to_onehot=None,\n",
       "                                                max_delta_step=None,\n",
       "                                                max_depth=None, max_leaves=None,\n",
       "                                                min_child_weight=None,\n",
       "                                                missing=nan,\n",
       "                                                monotone_constraints=None,\n",
       "                                                n_estimators=50, n_jobs=None,\n",
       "                                                num_parallel_tree=None,\n",
       "                                                objective='binary:logistic',\n",
       "                                                predictor=None,\n",
       "                                                random_state=None,\n",
       "                                                reg_alpha=None, ...))"
      ]
     },
     "execution_count": 131,
     "metadata": {},
     "output_type": "execute_result"
    }
   ],
   "source": [
    "# use the RF classifier from xgb (deals with NAs)\n",
    "clf = xgb.XGBRFClassifier(\n",
    "    # objective='binary:logistic',\n",
    "    verbosity=1,\n",
    "    n_estimators = 50,\n",
    "    eval_metric='logloss')\n",
    "\n",
    "# multi-label wrapper from sklearn\n",
    "multilabel_clf = MultiOutputClassifier(clf)\n",
    "\n",
    "# fit the model\n",
    "multilabel_clf.fit(x_train, y_train)#, eval_metric='logloss')\n",
    "\n",
    "# evaluate on test data\n",
    "# print('Accuracy on test data: {:.1f}%'.format(accuracy_score(y_test, multilabel_model.predict(X_test))*100))"
   ]
  },
  {
   "cell_type": "code",
   "execution_count": 143,
   "id": "5ab94570-3100-4060-9c64-c3e663ef16ed",
   "metadata": {},
   "outputs": [
    {
     "data": {
      "text/plain": [
       "(1, 167)"
      ]
     },
     "execution_count": 143,
     "metadata": {},
     "output_type": "execute_result"
    }
   ],
   "source": [
    "np.vstack((multilabel_clf.estimators_[0].feature_importances_,)).shape"
   ]
  },
  {
   "cell_type": "code",
   "execution_count": 169,
   "id": "16c88b9b-c09d-4654-908d-9eae32f37720",
   "metadata": {},
   "outputs": [],
   "source": [
    "try:\n",
    "    del fis\n",
    "except:\n",
    "    pass\n",
    "    \n",
    "for i in range(len(multilabel_clf.estimators_)):\n",
    "    fi = multilabel_clf.estimators_[i].feature_importances_\n",
    "    try:\n",
    "        fis\n",
    "    except:\n",
    "        fis = fi\n",
    "    else:\n",
    "        fis = np.vstack((fi,fis))\n",
    "        \n",
    "fis = fis.T"
   ]
  },
  {
   "cell_type": "code",
   "execution_count": 175,
   "id": "3a066d25-16b6-4cc0-b2d3-c200f735a1d9",
   "metadata": {},
   "outputs": [],
   "source": [
    "mean_importance = fis.mean(axis=1)"
   ]
  },
  {
   "cell_type": "code",
   "execution_count": 176,
   "id": "fac49eba-7272-4b78-a579-a496d0009922",
   "metadata": {},
   "outputs": [
    {
     "data": {
      "text/html": [
       "<div>\n",
       "<style scoped>\n",
       "    .dataframe tbody tr th:only-of-type {\n",
       "        vertical-align: middle;\n",
       "    }\n",
       "\n",
       "    .dataframe tbody tr th {\n",
       "        vertical-align: top;\n",
       "    }\n",
       "\n",
       "    .dataframe thead th {\n",
       "        text-align: right;\n",
       "    }\n",
       "</style>\n",
       "<table border=\"1\" class=\"dataframe\">\n",
       "  <thead>\n",
       "    <tr style=\"text-align: right;\">\n",
       "      <th></th>\n",
       "      <th>name</th>\n",
       "      <th>weight</th>\n",
       "    </tr>\n",
       "  </thead>\n",
       "  <tbody>\n",
       "    <tr>\n",
       "      <th>135</th>\n",
       "      <td>solar_water_heating_flag_N</td>\n",
       "      <td>6.123</td>\n",
       "    </tr>\n",
       "    <tr>\n",
       "      <th>1</th>\n",
       "      <td>floor_level_numeric</td>\n",
       "      <td>3.528</td>\n",
       "    </tr>\n",
       "    <tr>\n",
       "      <th>3</th>\n",
       "      <td>multi_glaze_proportion</td>\n",
       "      <td>3.131</td>\n",
       "    </tr>\n",
       "    <tr>\n",
       "      <th>56</th>\n",
       "      <td>hot_water_energy_eff_Poor</td>\n",
       "      <td>3.094</td>\n",
       "    </tr>\n",
       "    <tr>\n",
       "      <th>39</th>\n",
       "      <td>floor_level_classes_low floors</td>\n",
       "      <td>2.542</td>\n",
       "    </tr>\n",
       "    <tr>\n",
       "      <th>60</th>\n",
       "      <td>hot_water_env_eff_Good</td>\n",
       "      <td>2.388</td>\n",
       "    </tr>\n",
       "    <tr>\n",
       "      <th>7</th>\n",
       "      <td>low_energy_lighting</td>\n",
       "      <td>2.231</td>\n",
       "    </tr>\n",
       "    <tr>\n",
       "      <th>115</th>\n",
       "      <td>mainheatcont_description_Programmer, room ther...</td>\n",
       "      <td>2.182</td>\n",
       "    </tr>\n",
       "    <tr>\n",
       "      <th>151</th>\n",
       "      <td>construction_age_band_England and Wales: 1900-...</td>\n",
       "      <td>2.152</td>\n",
       "    </tr>\n",
       "    <tr>\n",
       "      <th>4</th>\n",
       "      <td>extension_count</td>\n",
       "      <td>1.974</td>\n",
       "    </tr>\n",
       "    <tr>\n",
       "      <th>37</th>\n",
       "      <td>mains_gas_flag_Y</td>\n",
       "      <td>1.861</td>\n",
       "    </tr>\n",
       "    <tr>\n",
       "      <th>44</th>\n",
       "      <td>glazed_type_double glazing installed before 2002</td>\n",
       "      <td>1.856</td>\n",
       "    </tr>\n",
       "    <tr>\n",
       "      <th>61</th>\n",
       "      <td>hot_water_env_eff_Poor</td>\n",
       "      <td>1.832</td>\n",
       "    </tr>\n",
       "    <tr>\n",
       "      <th>63</th>\n",
       "      <td>hot_water_env_eff_Very Poor</td>\n",
       "      <td>1.778</td>\n",
       "    </tr>\n",
       "    <tr>\n",
       "      <th>36</th>\n",
       "      <td>mains_gas_flag_N</td>\n",
       "      <td>1.778</td>\n",
       "    </tr>\n",
       "    <tr>\n",
       "      <th>16</th>\n",
       "      <td>pitched_roof</td>\n",
       "      <td>1.759</td>\n",
       "    </tr>\n",
       "    <tr>\n",
       "      <th>55</th>\n",
       "      <td>hot_water_energy_eff_Good</td>\n",
       "      <td>1.737</td>\n",
       "    </tr>\n",
       "    <tr>\n",
       "      <th>86</th>\n",
       "      <td>mainheat_description_Room heaters, mains gas</td>\n",
       "      <td>1.726</td>\n",
       "    </tr>\n",
       "    <tr>\n",
       "      <th>19</th>\n",
       "      <td>floor_height</td>\n",
       "      <td>1.701</td>\n",
       "    </tr>\n",
       "    <tr>\n",
       "      <th>87</th>\n",
       "      <td>mainheat_description_Warm air, mains gas</td>\n",
       "      <td>1.685</td>\n",
       "    </tr>\n",
       "    <tr>\n",
       "      <th>21</th>\n",
       "      <td>property_type_Flat</td>\n",
       "      <td>1.678</td>\n",
       "    </tr>\n",
       "    <tr>\n",
       "      <th>124</th>\n",
       "      <td>main_fuel_electricity</td>\n",
       "      <td>1.600</td>\n",
       "    </tr>\n",
       "    <tr>\n",
       "      <th>11</th>\n",
       "      <td>hotwater_immersion</td>\n",
       "      <td>1.557</td>\n",
       "    </tr>\n",
       "    <tr>\n",
       "      <th>58</th>\n",
       "      <td>hot_water_energy_eff_Very Poor</td>\n",
       "      <td>1.486</td>\n",
       "    </tr>\n",
       "    <tr>\n",
       "      <th>10</th>\n",
       "      <td>hotwater_mains</td>\n",
       "      <td>1.364</td>\n",
       "    </tr>\n",
       "    <tr>\n",
       "      <th>29</th>\n",
       "      <td>energy_tariff_Single</td>\n",
       "      <td>1.302</td>\n",
       "    </tr>\n",
       "    <tr>\n",
       "      <th>126</th>\n",
       "      <td>main_fuel_mains gas</td>\n",
       "      <td>1.264</td>\n",
       "    </tr>\n",
       "    <tr>\n",
       "      <th>5</th>\n",
       "      <td>number_habitable_rooms</td>\n",
       "      <td>1.255</td>\n",
       "    </tr>\n",
       "    <tr>\n",
       "      <th>77</th>\n",
       "      <td>mainheat_description_Boiler and radiators, mai...</td>\n",
       "      <td>1.246</td>\n",
       "    </tr>\n",
       "    <tr>\n",
       "      <th>0</th>\n",
       "      <td>total_floor_area</td>\n",
       "      <td>1.241</td>\n",
       "    </tr>\n",
       "  </tbody>\n",
       "</table>\n",
       "</div>"
      ],
      "text/plain": [
       "                                                  name  weight\n",
       "135                         solar_water_heating_flag_N   6.123\n",
       "1                                  floor_level_numeric   3.528\n",
       "3                               multi_glaze_proportion   3.131\n",
       "56                           hot_water_energy_eff_Poor   3.094\n",
       "39                      floor_level_classes_low floors   2.542\n",
       "60                              hot_water_env_eff_Good   2.388\n",
       "7                                  low_energy_lighting   2.231\n",
       "115  mainheatcont_description_Programmer, room ther...   2.182\n",
       "151  construction_age_band_England and Wales: 1900-...   2.152\n",
       "4                                      extension_count   1.974\n",
       "37                                    mains_gas_flag_Y   1.861\n",
       "44    glazed_type_double glazing installed before 2002   1.856\n",
       "61                              hot_water_env_eff_Poor   1.832\n",
       "63                         hot_water_env_eff_Very Poor   1.778\n",
       "36                                    mains_gas_flag_N   1.778\n",
       "16                                        pitched_roof   1.759\n",
       "55                           hot_water_energy_eff_Good   1.737\n",
       "86        mainheat_description_Room heaters, mains gas   1.726\n",
       "19                                        floor_height   1.701\n",
       "87            mainheat_description_Warm air, mains gas   1.685\n",
       "21                                  property_type_Flat   1.678\n",
       "124                              main_fuel_electricity   1.600\n",
       "11                                  hotwater_immersion   1.557\n",
       "58                      hot_water_energy_eff_Very Poor   1.486\n",
       "10                                      hotwater_mains   1.364\n",
       "29                                energy_tariff_Single   1.302\n",
       "126                                main_fuel_mains gas   1.264\n",
       "5                               number_habitable_rooms   1.255\n",
       "77   mainheat_description_Boiler and radiators, mai...   1.246\n",
       "0                                     total_floor_area   1.241"
      ]
     },
     "execution_count": 176,
     "metadata": {},
     "output_type": "execute_result"
    }
   ],
   "source": [
    "tmp = pd.concat([pd.Series(all_vars),pd.Series(100*mean_importance)],axis=1\n",
    "         )\n",
    "tmp.columns = ['name','weight']\n",
    "tmp.sort_values('weight',ascending=False).head(30)"
   ]
  },
  {
   "cell_type": "code",
   "execution_count": 177,
   "id": "47b745e4-bfda-46d4-ad8e-2e3e72910a9c",
   "metadata": {},
   "outputs": [
    {
     "data": {
      "text/plain": [
       "0        100.000\n",
       "1        100.000\n",
       "2        100.000\n",
       "3        100.000\n",
       "4        100.000\n",
       "           ...  \n",
       "243118   100.000\n",
       "243119   100.000\n",
       "243120   100.000\n",
       "243121   100.000\n",
       "243122   100.000\n",
       "Name: multi_glaze_proportion, Length: 213752, dtype: float64"
      ]
     },
     "execution_count": 177,
     "metadata": {},
     "output_type": "execute_result"
    }
   ],
   "source": [
    "cert.multi_glaze_proportion"
   ]
  },
  {
   "cell_type": "code",
   "execution_count": null,
   "id": "ff398249-3b4f-4c8b-9fbb-12b76837ed95",
   "metadata": {},
   "outputs": [],
   "source": []
  },
  {
   "cell_type": "code",
   "execution_count": null,
   "id": "27590b17-2d14-4a97-a5a9-21998b79192b",
   "metadata": {},
   "outputs": [],
   "source": []
  },
  {
   "cell_type": "code",
   "execution_count": 504,
   "id": "99126af3-7e16-4d1e-8ef0-5c5133ce5d5d",
   "metadata": {},
   "outputs": [
    {
     "data": {
      "text/plain": [
       "array([1, 6, 2, ..., 2, 5, 3])"
      ]
     },
     "execution_count": 504,
     "metadata": {},
     "output_type": "execute_result"
    }
   ],
   "source": [
    "multilabel_clf.predict(x_test).sum(axis=1)"
   ]
  },
  {
   "cell_type": "code",
   "execution_count": null,
   "id": "9c0ff309-585d-495b-96fe-fcad37c6b4c7",
   "metadata": {},
   "outputs": [],
   "source": []
  },
  {
   "cell_type": "code",
   "execution_count": null,
   "id": "7f8c3837-41e9-44ca-87ee-5427c8c0215a",
   "metadata": {},
   "outputs": [],
   "source": []
  },
  {
   "cell_type": "code",
   "execution_count": 180,
   "id": "5578e61d-f71b-4619-86b8-806e2489ad03",
   "metadata": {},
   "outputs": [
    {
     "data": {
      "text/plain": [
       "(21376, 40)"
      ]
     },
     "execution_count": 180,
     "metadata": {},
     "output_type": "execute_result"
    }
   ],
   "source": [
    "y_test.shape"
   ]
  },
  {
   "cell_type": "code",
   "execution_count": 178,
   "id": "4e9756e2-4ceb-47db-a405-898257b6c090",
   "metadata": {},
   "outputs": [],
   "source": [
    "preds = multilabel_clf.predict(x_test)\n"
   ]
  },
  {
   "cell_type": "code",
   "execution_count": null,
   "id": "5f66de1d-5866-4811-b7e7-e8b31e0d26de",
   "metadata": {},
   "outputs": [],
   "source": []
  },
  {
   "cell_type": "code",
   "execution_count": 181,
   "id": "c0ed2c55-2e0e-4977-8d4c-a768025bc431",
   "metadata": {},
   "outputs": [
    {
     "data": {
      "text/plain": [
       "0.9644519554640718"
      ]
     },
     "execution_count": 181,
     "metadata": {},
     "output_type": "execute_result"
    }
   ],
   "source": [
    "def get_accuracy(pred, actual): return ((actual==pred).mean(axis=1)).mean()\n",
    "get_accuracy(preds,y_test)"
   ]
  },
  {
   "cell_type": "code",
   "execution_count": 514,
   "id": "12660e71-8bff-4db4-96d4-1fcbc612394c",
   "metadata": {},
   "outputs": [
    {
     "data": {
      "text/plain": [
       "0.9358392589820359"
      ]
     },
     "execution_count": 514,
     "metadata": {},
     "output_type": "execute_result"
    }
   ],
   "source": [
    "get_accuracy(preds,y_test)"
   ]
  },
  {
   "cell_type": "code",
   "execution_count": 510,
   "id": "95a412d7-9bd9-44aa-9ab5-a9b4e4f44502",
   "metadata": {},
   "outputs": [
    {
     "data": {
      "text/plain": [
       "0.8898718188622754"
      ]
     },
     "execution_count": 510,
     "metadata": {},
     "output_type": "execute_result"
    }
   ],
   "source": [
    "dummy_preds = np.zeros((y_test.shape))\n",
    "get_accuracy(dummy_preds,y_test)"
   ]
  },
  {
   "cell_type": "code",
   "execution_count": 494,
   "id": "37990915-0e65-4ca4-9787-b819ad9227ff",
   "metadata": {},
   "outputs": [
    {
     "ename": "AttributeError",
     "evalue": "'MultiOutputClassifier' object has no attribute 'feature_importances_'",
     "output_type": "error",
     "traceback": [
      "\u001b[1;31m---------------------------------------------------------------------------\u001b[0m",
      "\u001b[1;31mAttributeError\u001b[0m                            Traceback (most recent call last)",
      "Cell \u001b[1;32mIn [494], line 1\u001b[0m\n\u001b[1;32m----> 1\u001b[0m \u001b[43mmultilabel_clf\u001b[49m\u001b[38;5;241;43m.\u001b[39;49m\u001b[43mfeature_importances_\u001b[49m\n",
      "\u001b[1;31mAttributeError\u001b[0m: 'MultiOutputClassifier' object has no attribute 'feature_importances_'"
     ]
    }
   ],
   "source": [
    "multilabel_clf.feature_importances_"
   ]
  },
  {
   "cell_type": "code",
   "execution_count": 517,
   "id": "763541ef-cd7e-48d1-bb2a-81696edefde9",
   "metadata": {},
   "outputs": [
    {
     "ename": "ValueError",
     "evalue": "Input X contains NaN.\nRandomForestClassifier does not accept missing values encoded as NaN natively. For supervised learning, you might want to consider sklearn.ensemble.HistGradientBoostingClassifier and Regressor which accept missing values encoded as NaNs natively. Alternatively, it is possible to preprocess the data, for instance by using an imputer transformer in a pipeline or drop samples with missing values. See https://scikit-learn.org/stable/modules/impute.html You can find a list of all estimators that handle NaN values at the following page: https://scikit-learn.org/stable/modules/impute.html#estimators-that-handle-nan-values",
     "output_type": "error",
     "traceback": [
      "\u001b[1;31m---------------------------------------------------------------------------\u001b[0m",
      "\u001b[1;31mValueError\u001b[0m                                Traceback (most recent call last)",
      "Cell \u001b[1;32mIn [517], line 9\u001b[0m\n\u001b[0;32m      6\u001b[0m multilabel_clf \u001b[38;5;241m=\u001b[39m MultiOutputClassifier(clf)\n\u001b[0;32m      8\u001b[0m \u001b[38;5;66;03m# fit the model\u001b[39;00m\n\u001b[1;32m----> 9\u001b[0m \u001b[43mmultilabel_clf\u001b[49m\u001b[38;5;241;43m.\u001b[39;49m\u001b[43mfit\u001b[49m\u001b[43m(\u001b[49m\u001b[43mx_train\u001b[49m\u001b[43m[\u001b[49m\u001b[43m:\u001b[49m\u001b[38;5;241;43m50\u001b[39;49m\u001b[43m]\u001b[49m\u001b[43m,\u001b[49m\u001b[43m \u001b[49m\u001b[43my_train\u001b[49m\u001b[43m[\u001b[49m\u001b[43m:\u001b[49m\u001b[38;5;241;43m50\u001b[39;49m\u001b[43m]\u001b[49m\u001b[43m)\u001b[49m\n",
      "File \u001b[1;32m~\\anaconda3\\envs\\epc_analysis\\lib\\site-packages\\sklearn\\multioutput.py:435\u001b[0m, in \u001b[0;36mMultiOutputClassifier.fit\u001b[1;34m(self, X, Y, sample_weight, **fit_params)\u001b[0m\n\u001b[0;32m    409\u001b[0m \u001b[38;5;28;01mdef\u001b[39;00m \u001b[38;5;21mfit\u001b[39m(\u001b[38;5;28mself\u001b[39m, X, Y, sample_weight\u001b[38;5;241m=\u001b[39m\u001b[38;5;28;01mNone\u001b[39;00m, \u001b[38;5;241m*\u001b[39m\u001b[38;5;241m*\u001b[39mfit_params):\n\u001b[0;32m    410\u001b[0m     \u001b[38;5;124;03m\"\"\"Fit the model to data matrix X and targets Y.\u001b[39;00m\n\u001b[0;32m    411\u001b[0m \n\u001b[0;32m    412\u001b[0m \u001b[38;5;124;03m    Parameters\u001b[39;00m\n\u001b[1;32m   (...)\u001b[0m\n\u001b[0;32m    433\u001b[0m \u001b[38;5;124;03m        Returns a fitted instance.\u001b[39;00m\n\u001b[0;32m    434\u001b[0m \u001b[38;5;124;03m    \"\"\"\u001b[39;00m\n\u001b[1;32m--> 435\u001b[0m     \u001b[38;5;28;43msuper\u001b[39;49m\u001b[43m(\u001b[49m\u001b[43m)\u001b[49m\u001b[38;5;241;43m.\u001b[39;49m\u001b[43mfit\u001b[49m\u001b[43m(\u001b[49m\u001b[43mX\u001b[49m\u001b[43m,\u001b[49m\u001b[43m \u001b[49m\u001b[43mY\u001b[49m\u001b[43m,\u001b[49m\u001b[43m \u001b[49m\u001b[43msample_weight\u001b[49m\u001b[43m,\u001b[49m\u001b[43m \u001b[49m\u001b[38;5;241;43m*\u001b[39;49m\u001b[38;5;241;43m*\u001b[39;49m\u001b[43mfit_params\u001b[49m\u001b[43m)\u001b[49m\n\u001b[0;32m    436\u001b[0m     \u001b[38;5;28mself\u001b[39m\u001b[38;5;241m.\u001b[39mclasses_ \u001b[38;5;241m=\u001b[39m [estimator\u001b[38;5;241m.\u001b[39mclasses_ \u001b[38;5;28;01mfor\u001b[39;00m estimator \u001b[38;5;129;01min\u001b[39;00m \u001b[38;5;28mself\u001b[39m\u001b[38;5;241m.\u001b[39mestimators_]\n\u001b[0;32m    437\u001b[0m     \u001b[38;5;28;01mreturn\u001b[39;00m \u001b[38;5;28mself\u001b[39m\n",
      "File \u001b[1;32m~\\anaconda3\\envs\\epc_analysis\\lib\\site-packages\\sklearn\\multioutput.py:202\u001b[0m, in \u001b[0;36m_MultiOutputEstimator.fit\u001b[1;34m(self, X, y, sample_weight, **fit_params)\u001b[0m\n\u001b[0;32m    198\u001b[0m     \u001b[38;5;28;01mraise\u001b[39;00m \u001b[38;5;167;01mValueError\u001b[39;00m(\u001b[38;5;124m\"\u001b[39m\u001b[38;5;124mUnderlying estimator does not support sample weights.\u001b[39m\u001b[38;5;124m\"\u001b[39m)\n\u001b[0;32m    200\u001b[0m fit_params_validated \u001b[38;5;241m=\u001b[39m _check_fit_params(X, fit_params)\n\u001b[1;32m--> 202\u001b[0m \u001b[38;5;28mself\u001b[39m\u001b[38;5;241m.\u001b[39mestimators_ \u001b[38;5;241m=\u001b[39m \u001b[43mParallel\u001b[49m\u001b[43m(\u001b[49m\u001b[43mn_jobs\u001b[49m\u001b[38;5;241;43m=\u001b[39;49m\u001b[38;5;28;43mself\u001b[39;49m\u001b[38;5;241;43m.\u001b[39;49m\u001b[43mn_jobs\u001b[49m\u001b[43m)\u001b[49m\u001b[43m(\u001b[49m\n\u001b[0;32m    203\u001b[0m \u001b[43m    \u001b[49m\u001b[43mdelayed\u001b[49m\u001b[43m(\u001b[49m\u001b[43m_fit_estimator\u001b[49m\u001b[43m)\u001b[49m\u001b[43m(\u001b[49m\n\u001b[0;32m    204\u001b[0m \u001b[43m        \u001b[49m\u001b[38;5;28;43mself\u001b[39;49m\u001b[38;5;241;43m.\u001b[39;49m\u001b[43mestimator\u001b[49m\u001b[43m,\u001b[49m\u001b[43m \u001b[49m\u001b[43mX\u001b[49m\u001b[43m,\u001b[49m\u001b[43m \u001b[49m\u001b[43my\u001b[49m\u001b[43m[\u001b[49m\u001b[43m:\u001b[49m\u001b[43m,\u001b[49m\u001b[43m \u001b[49m\u001b[43mi\u001b[49m\u001b[43m]\u001b[49m\u001b[43m,\u001b[49m\u001b[43m \u001b[49m\u001b[43msample_weight\u001b[49m\u001b[43m,\u001b[49m\u001b[43m \u001b[49m\u001b[38;5;241;43m*\u001b[39;49m\u001b[38;5;241;43m*\u001b[39;49m\u001b[43mfit_params_validated\u001b[49m\n\u001b[0;32m    205\u001b[0m \u001b[43m    \u001b[49m\u001b[43m)\u001b[49m\n\u001b[0;32m    206\u001b[0m \u001b[43m    \u001b[49m\u001b[38;5;28;43;01mfor\u001b[39;49;00m\u001b[43m \u001b[49m\u001b[43mi\u001b[49m\u001b[43m \u001b[49m\u001b[38;5;129;43;01min\u001b[39;49;00m\u001b[43m \u001b[49m\u001b[38;5;28;43mrange\u001b[39;49m\u001b[43m(\u001b[49m\u001b[43my\u001b[49m\u001b[38;5;241;43m.\u001b[39;49m\u001b[43mshape\u001b[49m\u001b[43m[\u001b[49m\u001b[38;5;241;43m1\u001b[39;49m\u001b[43m]\u001b[49m\u001b[43m)\u001b[49m\n\u001b[0;32m    207\u001b[0m \u001b[43m\u001b[49m\u001b[43m)\u001b[49m\n\u001b[0;32m    209\u001b[0m \u001b[38;5;28;01mif\u001b[39;00m \u001b[38;5;28mhasattr\u001b[39m(\u001b[38;5;28mself\u001b[39m\u001b[38;5;241m.\u001b[39mestimators_[\u001b[38;5;241m0\u001b[39m], \u001b[38;5;124m\"\u001b[39m\u001b[38;5;124mn_features_in_\u001b[39m\u001b[38;5;124m\"\u001b[39m):\n\u001b[0;32m    210\u001b[0m     \u001b[38;5;28mself\u001b[39m\u001b[38;5;241m.\u001b[39mn_features_in_ \u001b[38;5;241m=\u001b[39m \u001b[38;5;28mself\u001b[39m\u001b[38;5;241m.\u001b[39mestimators_[\u001b[38;5;241m0\u001b[39m]\u001b[38;5;241m.\u001b[39mn_features_in_\n",
      "File \u001b[1;32m~\\anaconda3\\envs\\epc_analysis\\lib\\site-packages\\joblib\\parallel.py:1048\u001b[0m, in \u001b[0;36mParallel.__call__\u001b[1;34m(self, iterable)\u001b[0m\n\u001b[0;32m   1039\u001b[0m \u001b[38;5;28;01mtry\u001b[39;00m:\n\u001b[0;32m   1040\u001b[0m     \u001b[38;5;66;03m# Only set self._iterating to True if at least a batch\u001b[39;00m\n\u001b[0;32m   1041\u001b[0m     \u001b[38;5;66;03m# was dispatched. In particular this covers the edge\u001b[39;00m\n\u001b[1;32m   (...)\u001b[0m\n\u001b[0;32m   1045\u001b[0m     \u001b[38;5;66;03m# was very quick and its callback already dispatched all the\u001b[39;00m\n\u001b[0;32m   1046\u001b[0m     \u001b[38;5;66;03m# remaining jobs.\u001b[39;00m\n\u001b[0;32m   1047\u001b[0m     \u001b[38;5;28mself\u001b[39m\u001b[38;5;241m.\u001b[39m_iterating \u001b[38;5;241m=\u001b[39m \u001b[38;5;28;01mFalse\u001b[39;00m\n\u001b[1;32m-> 1048\u001b[0m     \u001b[38;5;28;01mif\u001b[39;00m \u001b[38;5;28;43mself\u001b[39;49m\u001b[38;5;241;43m.\u001b[39;49m\u001b[43mdispatch_one_batch\u001b[49m\u001b[43m(\u001b[49m\u001b[43miterator\u001b[49m\u001b[43m)\u001b[49m:\n\u001b[0;32m   1049\u001b[0m         \u001b[38;5;28mself\u001b[39m\u001b[38;5;241m.\u001b[39m_iterating \u001b[38;5;241m=\u001b[39m \u001b[38;5;28mself\u001b[39m\u001b[38;5;241m.\u001b[39m_original_iterator \u001b[38;5;129;01mis\u001b[39;00m \u001b[38;5;129;01mnot\u001b[39;00m \u001b[38;5;28;01mNone\u001b[39;00m\n\u001b[0;32m   1051\u001b[0m     \u001b[38;5;28;01mwhile\u001b[39;00m \u001b[38;5;28mself\u001b[39m\u001b[38;5;241m.\u001b[39mdispatch_one_batch(iterator):\n",
      "File \u001b[1;32m~\\anaconda3\\envs\\epc_analysis\\lib\\site-packages\\joblib\\parallel.py:864\u001b[0m, in \u001b[0;36mParallel.dispatch_one_batch\u001b[1;34m(self, iterator)\u001b[0m\n\u001b[0;32m    862\u001b[0m     \u001b[38;5;28;01mreturn\u001b[39;00m \u001b[38;5;28;01mFalse\u001b[39;00m\n\u001b[0;32m    863\u001b[0m \u001b[38;5;28;01melse\u001b[39;00m:\n\u001b[1;32m--> 864\u001b[0m     \u001b[38;5;28;43mself\u001b[39;49m\u001b[38;5;241;43m.\u001b[39;49m\u001b[43m_dispatch\u001b[49m\u001b[43m(\u001b[49m\u001b[43mtasks\u001b[49m\u001b[43m)\u001b[49m\n\u001b[0;32m    865\u001b[0m     \u001b[38;5;28;01mreturn\u001b[39;00m \u001b[38;5;28;01mTrue\u001b[39;00m\n",
      "File \u001b[1;32m~\\anaconda3\\envs\\epc_analysis\\lib\\site-packages\\joblib\\parallel.py:782\u001b[0m, in \u001b[0;36mParallel._dispatch\u001b[1;34m(self, batch)\u001b[0m\n\u001b[0;32m    780\u001b[0m \u001b[38;5;28;01mwith\u001b[39;00m \u001b[38;5;28mself\u001b[39m\u001b[38;5;241m.\u001b[39m_lock:\n\u001b[0;32m    781\u001b[0m     job_idx \u001b[38;5;241m=\u001b[39m \u001b[38;5;28mlen\u001b[39m(\u001b[38;5;28mself\u001b[39m\u001b[38;5;241m.\u001b[39m_jobs)\n\u001b[1;32m--> 782\u001b[0m     job \u001b[38;5;241m=\u001b[39m \u001b[38;5;28;43mself\u001b[39;49m\u001b[38;5;241;43m.\u001b[39;49m\u001b[43m_backend\u001b[49m\u001b[38;5;241;43m.\u001b[39;49m\u001b[43mapply_async\u001b[49m\u001b[43m(\u001b[49m\u001b[43mbatch\u001b[49m\u001b[43m,\u001b[49m\u001b[43m \u001b[49m\u001b[43mcallback\u001b[49m\u001b[38;5;241;43m=\u001b[39;49m\u001b[43mcb\u001b[49m\u001b[43m)\u001b[49m\n\u001b[0;32m    783\u001b[0m     \u001b[38;5;66;03m# A job can complete so quickly than its callback is\u001b[39;00m\n\u001b[0;32m    784\u001b[0m     \u001b[38;5;66;03m# called before we get here, causing self._jobs to\u001b[39;00m\n\u001b[0;32m    785\u001b[0m     \u001b[38;5;66;03m# grow. To ensure correct results ordering, .insert is\u001b[39;00m\n\u001b[0;32m    786\u001b[0m     \u001b[38;5;66;03m# used (rather than .append) in the following line\u001b[39;00m\n\u001b[0;32m    787\u001b[0m     \u001b[38;5;28mself\u001b[39m\u001b[38;5;241m.\u001b[39m_jobs\u001b[38;5;241m.\u001b[39minsert(job_idx, job)\n",
      "File \u001b[1;32m~\\anaconda3\\envs\\epc_analysis\\lib\\site-packages\\joblib\\_parallel_backends.py:208\u001b[0m, in \u001b[0;36mSequentialBackend.apply_async\u001b[1;34m(self, func, callback)\u001b[0m\n\u001b[0;32m    206\u001b[0m \u001b[38;5;28;01mdef\u001b[39;00m \u001b[38;5;21mapply_async\u001b[39m(\u001b[38;5;28mself\u001b[39m, func, callback\u001b[38;5;241m=\u001b[39m\u001b[38;5;28;01mNone\u001b[39;00m):\n\u001b[0;32m    207\u001b[0m     \u001b[38;5;124;03m\"\"\"Schedule a func to be run\"\"\"\u001b[39;00m\n\u001b[1;32m--> 208\u001b[0m     result \u001b[38;5;241m=\u001b[39m \u001b[43mImmediateResult\u001b[49m\u001b[43m(\u001b[49m\u001b[43mfunc\u001b[49m\u001b[43m)\u001b[49m\n\u001b[0;32m    209\u001b[0m     \u001b[38;5;28;01mif\u001b[39;00m callback:\n\u001b[0;32m    210\u001b[0m         callback(result)\n",
      "File \u001b[1;32m~\\anaconda3\\envs\\epc_analysis\\lib\\site-packages\\joblib\\_parallel_backends.py:572\u001b[0m, in \u001b[0;36mImmediateResult.__init__\u001b[1;34m(self, batch)\u001b[0m\n\u001b[0;32m    569\u001b[0m \u001b[38;5;28;01mdef\u001b[39;00m \u001b[38;5;21m__init__\u001b[39m(\u001b[38;5;28mself\u001b[39m, batch):\n\u001b[0;32m    570\u001b[0m     \u001b[38;5;66;03m# Don't delay the application, to avoid keeping the input\u001b[39;00m\n\u001b[0;32m    571\u001b[0m     \u001b[38;5;66;03m# arguments in memory\u001b[39;00m\n\u001b[1;32m--> 572\u001b[0m     \u001b[38;5;28mself\u001b[39m\u001b[38;5;241m.\u001b[39mresults \u001b[38;5;241m=\u001b[39m \u001b[43mbatch\u001b[49m\u001b[43m(\u001b[49m\u001b[43m)\u001b[49m\n",
      "File \u001b[1;32m~\\anaconda3\\envs\\epc_analysis\\lib\\site-packages\\joblib\\parallel.py:263\u001b[0m, in \u001b[0;36mBatchedCalls.__call__\u001b[1;34m(self)\u001b[0m\n\u001b[0;32m    259\u001b[0m \u001b[38;5;28;01mdef\u001b[39;00m \u001b[38;5;21m__call__\u001b[39m(\u001b[38;5;28mself\u001b[39m):\n\u001b[0;32m    260\u001b[0m     \u001b[38;5;66;03m# Set the default nested backend to self._backend but do not set the\u001b[39;00m\n\u001b[0;32m    261\u001b[0m     \u001b[38;5;66;03m# change the default number of processes to -1\u001b[39;00m\n\u001b[0;32m    262\u001b[0m     \u001b[38;5;28;01mwith\u001b[39;00m parallel_backend(\u001b[38;5;28mself\u001b[39m\u001b[38;5;241m.\u001b[39m_backend, n_jobs\u001b[38;5;241m=\u001b[39m\u001b[38;5;28mself\u001b[39m\u001b[38;5;241m.\u001b[39m_n_jobs):\n\u001b[1;32m--> 263\u001b[0m         \u001b[38;5;28;01mreturn\u001b[39;00m [func(\u001b[38;5;241m*\u001b[39margs, \u001b[38;5;241m*\u001b[39m\u001b[38;5;241m*\u001b[39mkwargs)\n\u001b[0;32m    264\u001b[0m                 \u001b[38;5;28;01mfor\u001b[39;00m func, args, kwargs \u001b[38;5;129;01min\u001b[39;00m \u001b[38;5;28mself\u001b[39m\u001b[38;5;241m.\u001b[39mitems]\n",
      "File \u001b[1;32m~\\anaconda3\\envs\\epc_analysis\\lib\\site-packages\\joblib\\parallel.py:263\u001b[0m, in \u001b[0;36m<listcomp>\u001b[1;34m(.0)\u001b[0m\n\u001b[0;32m    259\u001b[0m \u001b[38;5;28;01mdef\u001b[39;00m \u001b[38;5;21m__call__\u001b[39m(\u001b[38;5;28mself\u001b[39m):\n\u001b[0;32m    260\u001b[0m     \u001b[38;5;66;03m# Set the default nested backend to self._backend but do not set the\u001b[39;00m\n\u001b[0;32m    261\u001b[0m     \u001b[38;5;66;03m# change the default number of processes to -1\u001b[39;00m\n\u001b[0;32m    262\u001b[0m     \u001b[38;5;28;01mwith\u001b[39;00m parallel_backend(\u001b[38;5;28mself\u001b[39m\u001b[38;5;241m.\u001b[39m_backend, n_jobs\u001b[38;5;241m=\u001b[39m\u001b[38;5;28mself\u001b[39m\u001b[38;5;241m.\u001b[39m_n_jobs):\n\u001b[1;32m--> 263\u001b[0m         \u001b[38;5;28;01mreturn\u001b[39;00m [\u001b[43mfunc\u001b[49m\u001b[43m(\u001b[49m\u001b[38;5;241;43m*\u001b[39;49m\u001b[43margs\u001b[49m\u001b[43m,\u001b[49m\u001b[43m \u001b[49m\u001b[38;5;241;43m*\u001b[39;49m\u001b[38;5;241;43m*\u001b[39;49m\u001b[43mkwargs\u001b[49m\u001b[43m)\u001b[49m\n\u001b[0;32m    264\u001b[0m                 \u001b[38;5;28;01mfor\u001b[39;00m func, args, kwargs \u001b[38;5;129;01min\u001b[39;00m \u001b[38;5;28mself\u001b[39m\u001b[38;5;241m.\u001b[39mitems]\n",
      "File \u001b[1;32m~\\anaconda3\\envs\\epc_analysis\\lib\\site-packages\\sklearn\\utils\\fixes.py:117\u001b[0m, in \u001b[0;36m_FuncWrapper.__call__\u001b[1;34m(self, *args, **kwargs)\u001b[0m\n\u001b[0;32m    115\u001b[0m \u001b[38;5;28;01mdef\u001b[39;00m \u001b[38;5;21m__call__\u001b[39m(\u001b[38;5;28mself\u001b[39m, \u001b[38;5;241m*\u001b[39margs, \u001b[38;5;241m*\u001b[39m\u001b[38;5;241m*\u001b[39mkwargs):\n\u001b[0;32m    116\u001b[0m     \u001b[38;5;28;01mwith\u001b[39;00m config_context(\u001b[38;5;241m*\u001b[39m\u001b[38;5;241m*\u001b[39m\u001b[38;5;28mself\u001b[39m\u001b[38;5;241m.\u001b[39mconfig):\n\u001b[1;32m--> 117\u001b[0m         \u001b[38;5;28;01mreturn\u001b[39;00m \u001b[38;5;28;43mself\u001b[39;49m\u001b[38;5;241;43m.\u001b[39;49m\u001b[43mfunction\u001b[49m\u001b[43m(\u001b[49m\u001b[38;5;241;43m*\u001b[39;49m\u001b[43margs\u001b[49m\u001b[43m,\u001b[49m\u001b[43m \u001b[49m\u001b[38;5;241;43m*\u001b[39;49m\u001b[38;5;241;43m*\u001b[39;49m\u001b[43mkwargs\u001b[49m\u001b[43m)\u001b[49m\n",
      "File \u001b[1;32m~\\anaconda3\\envs\\epc_analysis\\lib\\site-packages\\sklearn\\multioutput.py:44\u001b[0m, in \u001b[0;36m_fit_estimator\u001b[1;34m(estimator, X, y, sample_weight, **fit_params)\u001b[0m\n\u001b[0;32m     42\u001b[0m     estimator\u001b[38;5;241m.\u001b[39mfit(X, y, sample_weight\u001b[38;5;241m=\u001b[39msample_weight, \u001b[38;5;241m*\u001b[39m\u001b[38;5;241m*\u001b[39mfit_params)\n\u001b[0;32m     43\u001b[0m \u001b[38;5;28;01melse\u001b[39;00m:\n\u001b[1;32m---> 44\u001b[0m     \u001b[43mestimator\u001b[49m\u001b[38;5;241;43m.\u001b[39;49m\u001b[43mfit\u001b[49m\u001b[43m(\u001b[49m\u001b[43mX\u001b[49m\u001b[43m,\u001b[49m\u001b[43m \u001b[49m\u001b[43my\u001b[49m\u001b[43m,\u001b[49m\u001b[43m \u001b[49m\u001b[38;5;241;43m*\u001b[39;49m\u001b[38;5;241;43m*\u001b[39;49m\u001b[43mfit_params\u001b[49m\u001b[43m)\u001b[49m\n\u001b[0;32m     45\u001b[0m \u001b[38;5;28;01mreturn\u001b[39;00m estimator\n",
      "File \u001b[1;32m~\\anaconda3\\envs\\epc_analysis\\lib\\site-packages\\sklearn\\ensemble\\_forest.py:331\u001b[0m, in \u001b[0;36mBaseForest.fit\u001b[1;34m(self, X, y, sample_weight)\u001b[0m\n\u001b[0;32m    329\u001b[0m \u001b[38;5;28;01mif\u001b[39;00m issparse(y):\n\u001b[0;32m    330\u001b[0m     \u001b[38;5;28;01mraise\u001b[39;00m \u001b[38;5;167;01mValueError\u001b[39;00m(\u001b[38;5;124m\"\u001b[39m\u001b[38;5;124msparse multilabel-indicator for y is not supported.\u001b[39m\u001b[38;5;124m\"\u001b[39m)\n\u001b[1;32m--> 331\u001b[0m X, y \u001b[38;5;241m=\u001b[39m \u001b[38;5;28;43mself\u001b[39;49m\u001b[38;5;241;43m.\u001b[39;49m\u001b[43m_validate_data\u001b[49m\u001b[43m(\u001b[49m\n\u001b[0;32m    332\u001b[0m \u001b[43m    \u001b[49m\u001b[43mX\u001b[49m\u001b[43m,\u001b[49m\u001b[43m \u001b[49m\u001b[43my\u001b[49m\u001b[43m,\u001b[49m\u001b[43m \u001b[49m\u001b[43mmulti_output\u001b[49m\u001b[38;5;241;43m=\u001b[39;49m\u001b[38;5;28;43;01mTrue\u001b[39;49;00m\u001b[43m,\u001b[49m\u001b[43m \u001b[49m\u001b[43maccept_sparse\u001b[49m\u001b[38;5;241;43m=\u001b[39;49m\u001b[38;5;124;43m\"\u001b[39;49m\u001b[38;5;124;43mcsc\u001b[39;49m\u001b[38;5;124;43m\"\u001b[39;49m\u001b[43m,\u001b[49m\u001b[43m \u001b[49m\u001b[43mdtype\u001b[49m\u001b[38;5;241;43m=\u001b[39;49m\u001b[43mDTYPE\u001b[49m\n\u001b[0;32m    333\u001b[0m \u001b[43m\u001b[49m\u001b[43m)\u001b[49m\n\u001b[0;32m    334\u001b[0m \u001b[38;5;28;01mif\u001b[39;00m sample_weight \u001b[38;5;129;01mis\u001b[39;00m \u001b[38;5;129;01mnot\u001b[39;00m \u001b[38;5;28;01mNone\u001b[39;00m:\n\u001b[0;32m    335\u001b[0m     sample_weight \u001b[38;5;241m=\u001b[39m _check_sample_weight(sample_weight, X)\n",
      "File \u001b[1;32m~\\anaconda3\\envs\\epc_analysis\\lib\\site-packages\\sklearn\\base.py:596\u001b[0m, in \u001b[0;36mBaseEstimator._validate_data\u001b[1;34m(self, X, y, reset, validate_separately, **check_params)\u001b[0m\n\u001b[0;32m    594\u001b[0m         y \u001b[38;5;241m=\u001b[39m check_array(y, input_name\u001b[38;5;241m=\u001b[39m\u001b[38;5;124m\"\u001b[39m\u001b[38;5;124my\u001b[39m\u001b[38;5;124m\"\u001b[39m, \u001b[38;5;241m*\u001b[39m\u001b[38;5;241m*\u001b[39mcheck_y_params)\n\u001b[0;32m    595\u001b[0m     \u001b[38;5;28;01melse\u001b[39;00m:\n\u001b[1;32m--> 596\u001b[0m         X, y \u001b[38;5;241m=\u001b[39m \u001b[43mcheck_X_y\u001b[49m\u001b[43m(\u001b[49m\u001b[43mX\u001b[49m\u001b[43m,\u001b[49m\u001b[43m \u001b[49m\u001b[43my\u001b[49m\u001b[43m,\u001b[49m\u001b[43m \u001b[49m\u001b[38;5;241;43m*\u001b[39;49m\u001b[38;5;241;43m*\u001b[39;49m\u001b[43mcheck_params\u001b[49m\u001b[43m)\u001b[49m\n\u001b[0;32m    597\u001b[0m     out \u001b[38;5;241m=\u001b[39m X, y\n\u001b[0;32m    599\u001b[0m \u001b[38;5;28;01mif\u001b[39;00m \u001b[38;5;129;01mnot\u001b[39;00m no_val_X \u001b[38;5;129;01mand\u001b[39;00m check_params\u001b[38;5;241m.\u001b[39mget(\u001b[38;5;124m\"\u001b[39m\u001b[38;5;124mensure_2d\u001b[39m\u001b[38;5;124m\"\u001b[39m, \u001b[38;5;28;01mTrue\u001b[39;00m):\n",
      "File \u001b[1;32m~\\anaconda3\\envs\\epc_analysis\\lib\\site-packages\\sklearn\\utils\\validation.py:1074\u001b[0m, in \u001b[0;36mcheck_X_y\u001b[1;34m(X, y, accept_sparse, accept_large_sparse, dtype, order, copy, force_all_finite, ensure_2d, allow_nd, multi_output, ensure_min_samples, ensure_min_features, y_numeric, estimator)\u001b[0m\n\u001b[0;32m   1069\u001b[0m         estimator_name \u001b[38;5;241m=\u001b[39m _check_estimator_name(estimator)\n\u001b[0;32m   1070\u001b[0m     \u001b[38;5;28;01mraise\u001b[39;00m \u001b[38;5;167;01mValueError\u001b[39;00m(\n\u001b[0;32m   1071\u001b[0m         \u001b[38;5;124mf\u001b[39m\u001b[38;5;124m\"\u001b[39m\u001b[38;5;132;01m{\u001b[39;00mestimator_name\u001b[38;5;132;01m}\u001b[39;00m\u001b[38;5;124m requires y to be passed, but the target y is None\u001b[39m\u001b[38;5;124m\"\u001b[39m\n\u001b[0;32m   1072\u001b[0m     )\n\u001b[1;32m-> 1074\u001b[0m X \u001b[38;5;241m=\u001b[39m \u001b[43mcheck_array\u001b[49m\u001b[43m(\u001b[49m\n\u001b[0;32m   1075\u001b[0m \u001b[43m    \u001b[49m\u001b[43mX\u001b[49m\u001b[43m,\u001b[49m\n\u001b[0;32m   1076\u001b[0m \u001b[43m    \u001b[49m\u001b[43maccept_sparse\u001b[49m\u001b[38;5;241;43m=\u001b[39;49m\u001b[43maccept_sparse\u001b[49m\u001b[43m,\u001b[49m\n\u001b[0;32m   1077\u001b[0m \u001b[43m    \u001b[49m\u001b[43maccept_large_sparse\u001b[49m\u001b[38;5;241;43m=\u001b[39;49m\u001b[43maccept_large_sparse\u001b[49m\u001b[43m,\u001b[49m\n\u001b[0;32m   1078\u001b[0m \u001b[43m    \u001b[49m\u001b[43mdtype\u001b[49m\u001b[38;5;241;43m=\u001b[39;49m\u001b[43mdtype\u001b[49m\u001b[43m,\u001b[49m\n\u001b[0;32m   1079\u001b[0m \u001b[43m    \u001b[49m\u001b[43morder\u001b[49m\u001b[38;5;241;43m=\u001b[39;49m\u001b[43morder\u001b[49m\u001b[43m,\u001b[49m\n\u001b[0;32m   1080\u001b[0m \u001b[43m    \u001b[49m\u001b[43mcopy\u001b[49m\u001b[38;5;241;43m=\u001b[39;49m\u001b[43mcopy\u001b[49m\u001b[43m,\u001b[49m\n\u001b[0;32m   1081\u001b[0m \u001b[43m    \u001b[49m\u001b[43mforce_all_finite\u001b[49m\u001b[38;5;241;43m=\u001b[39;49m\u001b[43mforce_all_finite\u001b[49m\u001b[43m,\u001b[49m\n\u001b[0;32m   1082\u001b[0m \u001b[43m    \u001b[49m\u001b[43mensure_2d\u001b[49m\u001b[38;5;241;43m=\u001b[39;49m\u001b[43mensure_2d\u001b[49m\u001b[43m,\u001b[49m\n\u001b[0;32m   1083\u001b[0m \u001b[43m    \u001b[49m\u001b[43mallow_nd\u001b[49m\u001b[38;5;241;43m=\u001b[39;49m\u001b[43mallow_nd\u001b[49m\u001b[43m,\u001b[49m\n\u001b[0;32m   1084\u001b[0m \u001b[43m    \u001b[49m\u001b[43mensure_min_samples\u001b[49m\u001b[38;5;241;43m=\u001b[39;49m\u001b[43mensure_min_samples\u001b[49m\u001b[43m,\u001b[49m\n\u001b[0;32m   1085\u001b[0m \u001b[43m    \u001b[49m\u001b[43mensure_min_features\u001b[49m\u001b[38;5;241;43m=\u001b[39;49m\u001b[43mensure_min_features\u001b[49m\u001b[43m,\u001b[49m\n\u001b[0;32m   1086\u001b[0m \u001b[43m    \u001b[49m\u001b[43mestimator\u001b[49m\u001b[38;5;241;43m=\u001b[39;49m\u001b[43mestimator\u001b[49m\u001b[43m,\u001b[49m\n\u001b[0;32m   1087\u001b[0m \u001b[43m    \u001b[49m\u001b[43minput_name\u001b[49m\u001b[38;5;241;43m=\u001b[39;49m\u001b[38;5;124;43m\"\u001b[39;49m\u001b[38;5;124;43mX\u001b[39;49m\u001b[38;5;124;43m\"\u001b[39;49m\u001b[43m,\u001b[49m\n\u001b[0;32m   1088\u001b[0m \u001b[43m\u001b[49m\u001b[43m)\u001b[49m\n\u001b[0;32m   1090\u001b[0m y \u001b[38;5;241m=\u001b[39m _check_y(y, multi_output\u001b[38;5;241m=\u001b[39mmulti_output, y_numeric\u001b[38;5;241m=\u001b[39my_numeric, estimator\u001b[38;5;241m=\u001b[39mestimator)\n\u001b[0;32m   1092\u001b[0m check_consistent_length(X, y)\n",
      "File \u001b[1;32m~\\anaconda3\\envs\\epc_analysis\\lib\\site-packages\\sklearn\\utils\\validation.py:899\u001b[0m, in \u001b[0;36mcheck_array\u001b[1;34m(array, accept_sparse, accept_large_sparse, dtype, order, copy, force_all_finite, ensure_2d, allow_nd, ensure_min_samples, ensure_min_features, estimator, input_name)\u001b[0m\n\u001b[0;32m    893\u001b[0m         \u001b[38;5;28;01mraise\u001b[39;00m \u001b[38;5;167;01mValueError\u001b[39;00m(\n\u001b[0;32m    894\u001b[0m             \u001b[38;5;124m\"\u001b[39m\u001b[38;5;124mFound array with dim \u001b[39m\u001b[38;5;132;01m%d\u001b[39;00m\u001b[38;5;124m. \u001b[39m\u001b[38;5;132;01m%s\u001b[39;00m\u001b[38;5;124m expected <= 2.\u001b[39m\u001b[38;5;124m\"\u001b[39m\n\u001b[0;32m    895\u001b[0m             \u001b[38;5;241m%\u001b[39m (array\u001b[38;5;241m.\u001b[39mndim, estimator_name)\n\u001b[0;32m    896\u001b[0m         )\n\u001b[0;32m    898\u001b[0m     \u001b[38;5;28;01mif\u001b[39;00m force_all_finite:\n\u001b[1;32m--> 899\u001b[0m         \u001b[43m_assert_all_finite\u001b[49m\u001b[43m(\u001b[49m\n\u001b[0;32m    900\u001b[0m \u001b[43m            \u001b[49m\u001b[43marray\u001b[49m\u001b[43m,\u001b[49m\n\u001b[0;32m    901\u001b[0m \u001b[43m            \u001b[49m\u001b[43minput_name\u001b[49m\u001b[38;5;241;43m=\u001b[39;49m\u001b[43minput_name\u001b[49m\u001b[43m,\u001b[49m\n\u001b[0;32m    902\u001b[0m \u001b[43m            \u001b[49m\u001b[43mestimator_name\u001b[49m\u001b[38;5;241;43m=\u001b[39;49m\u001b[43mestimator_name\u001b[49m\u001b[43m,\u001b[49m\n\u001b[0;32m    903\u001b[0m \u001b[43m            \u001b[49m\u001b[43mallow_nan\u001b[49m\u001b[38;5;241;43m=\u001b[39;49m\u001b[43mforce_all_finite\u001b[49m\u001b[43m \u001b[49m\u001b[38;5;241;43m==\u001b[39;49m\u001b[43m \u001b[49m\u001b[38;5;124;43m\"\u001b[39;49m\u001b[38;5;124;43mallow-nan\u001b[39;49m\u001b[38;5;124;43m\"\u001b[39;49m\u001b[43m,\u001b[49m\n\u001b[0;32m    904\u001b[0m \u001b[43m        \u001b[49m\u001b[43m)\u001b[49m\n\u001b[0;32m    906\u001b[0m \u001b[38;5;28;01mif\u001b[39;00m ensure_min_samples \u001b[38;5;241m>\u001b[39m \u001b[38;5;241m0\u001b[39m:\n\u001b[0;32m    907\u001b[0m     n_samples \u001b[38;5;241m=\u001b[39m _num_samples(array)\n",
      "File \u001b[1;32m~\\anaconda3\\envs\\epc_analysis\\lib\\site-packages\\sklearn\\utils\\validation.py:146\u001b[0m, in \u001b[0;36m_assert_all_finite\u001b[1;34m(X, allow_nan, msg_dtype, estimator_name, input_name)\u001b[0m\n\u001b[0;32m    124\u001b[0m         \u001b[38;5;28;01mif\u001b[39;00m (\n\u001b[0;32m    125\u001b[0m             \u001b[38;5;129;01mnot\u001b[39;00m allow_nan\n\u001b[0;32m    126\u001b[0m             \u001b[38;5;129;01mand\u001b[39;00m estimator_name\n\u001b[1;32m   (...)\u001b[0m\n\u001b[0;32m    130\u001b[0m             \u001b[38;5;66;03m# Improve the error message on how to handle missing values in\u001b[39;00m\n\u001b[0;32m    131\u001b[0m             \u001b[38;5;66;03m# scikit-learn.\u001b[39;00m\n\u001b[0;32m    132\u001b[0m             msg_err \u001b[38;5;241m+\u001b[39m\u001b[38;5;241m=\u001b[39m (\n\u001b[0;32m    133\u001b[0m                 \u001b[38;5;124mf\u001b[39m\u001b[38;5;124m\"\u001b[39m\u001b[38;5;130;01m\\n\u001b[39;00m\u001b[38;5;132;01m{\u001b[39;00mestimator_name\u001b[38;5;132;01m}\u001b[39;00m\u001b[38;5;124m does not accept missing values\u001b[39m\u001b[38;5;124m\"\u001b[39m\n\u001b[0;32m    134\u001b[0m                 \u001b[38;5;124m\"\u001b[39m\u001b[38;5;124m encoded as NaN natively. For supervised learning, you might want\u001b[39m\u001b[38;5;124m\"\u001b[39m\n\u001b[1;32m   (...)\u001b[0m\n\u001b[0;32m    144\u001b[0m                 \u001b[38;5;124m\"\u001b[39m\u001b[38;5;124m#estimators-that-handle-nan-values\u001b[39m\u001b[38;5;124m\"\u001b[39m\n\u001b[0;32m    145\u001b[0m             )\n\u001b[1;32m--> 146\u001b[0m         \u001b[38;5;28;01mraise\u001b[39;00m \u001b[38;5;167;01mValueError\u001b[39;00m(msg_err)\n\u001b[0;32m    148\u001b[0m \u001b[38;5;66;03m# for object dtype data, we only check for NaNs (GH-13254)\u001b[39;00m\n\u001b[0;32m    149\u001b[0m \u001b[38;5;28;01melif\u001b[39;00m X\u001b[38;5;241m.\u001b[39mdtype \u001b[38;5;241m==\u001b[39m np\u001b[38;5;241m.\u001b[39mdtype(\u001b[38;5;124m\"\u001b[39m\u001b[38;5;124mobject\u001b[39m\u001b[38;5;124m\"\u001b[39m) \u001b[38;5;129;01mand\u001b[39;00m \u001b[38;5;129;01mnot\u001b[39;00m allow_nan:\n",
      "\u001b[1;31mValueError\u001b[0m: Input X contains NaN.\nRandomForestClassifier does not accept missing values encoded as NaN natively. For supervised learning, you might want to consider sklearn.ensemble.HistGradientBoostingClassifier and Regressor which accept missing values encoded as NaNs natively. Alternatively, it is possible to preprocess the data, for instance by using an imputer transformer in a pipeline or drop samples with missing values. See https://scikit-learn.org/stable/modules/impute.html You can find a list of all estimators that handle NaN values at the following page: https://scikit-learn.org/stable/modules/impute.html#estimators-that-handle-nan-values"
     ]
    }
   ],
   "source": [
    "clf = RandomForestClassifier()\n",
    "    # objective='binary:logistic',\n",
    "    # verbosity=1,\n",
    "    # n_estimators = 1)\n",
    "\n",
    "multilabel_clf = MultiOutputClassifier(clf)\n",
    "\n",
    "# fit the model\n",
    "multilabel_clf.fit(x_train[:50], y_train[:50])\n",
    "\n",
    "# evaluate on test data\n",
    "# print('Accuracy on test data: {:.1f}%'.format(accuracy_score(y_test, multilabel_model.predict(X_test))*100))"
   ]
  },
  {
   "cell_type": "code",
   "execution_count": null,
   "id": "9a251d78-0e4b-4c53-8228-005306178917",
   "metadata": {},
   "outputs": [],
   "source": []
  }
 ],
 "metadata": {
  "kernelspec": {
   "display_name": "Python 3 (ipykernel)",
   "language": "python",
   "name": "python3"
  },
  "language_info": {
   "codemirror_mode": {
    "name": "ipython",
    "version": 3
   },
   "file_extension": ".py",
   "mimetype": "text/x-python",
   "name": "python",
   "nbconvert_exporter": "python",
   "pygments_lexer": "ipython3",
   "version": "3.10.6"
  }
 },
 "nbformat": 4,
 "nbformat_minor": 5
}
